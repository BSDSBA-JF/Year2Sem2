{
 "cells": [
  {
   "cell_type": "markdown",
   "metadata": {},
   "source": [
    "Notice that the directional derivative of $f$ at $x$ in the direcction $v$ is simply given by $f'(x)[v] = 2A(x .*v)$. one could also check numerically for some arbitary $A, x, V$ that $f(x + 10^{-8} v) - f(x) \\approx 10^{-8} (A(x.* v))$."
   ]
  },
  {
   "cell_type": "code",
   "execution_count": 11,
   "metadata": {},
   "outputs": [],
   "source": [
    "import numpy as np"
   ]
  },
  {
   "cell_type": "code",
   "execution_count": 14,
   "metadata": {},
   "outputs": [],
   "source": [
    "random_matrix = np.random.randint(0, 10, size=(3, 3)) \n",
    "\n",
    "random_vector = np.random.rand(3) \n",
    "\n",
    "direction = np.random.rand(3) \n"
   ]
  },
  {
   "cell_type": "code",
   "execution_count": 12,
   "metadata": {},
   "outputs": [],
   "source": [
    "def hadamard(x, y):\n",
    "    \"\"\"Returns the hadamard product\"\"\"\n",
    "    return x * y"
   ]
  },
  {
   "cell_type": "code",
   "execution_count": 23,
   "metadata": {},
   "outputs": [],
   "source": [
    "def f(A, x, v):\n",
    "    return np.dot(A, hadamard(x + 10**(-8) * v, x  + 10**(-8) * v))\n",
    "\n",
    "def derivative_f(A, x, v):\n",
    "    return 10**(-8) * 2 * np.dot(A, hadamard(x, v))"
   ]
  },
  {
   "cell_type": "markdown",
   "metadata": {},
   "source": [
    "We will now check $f(x + 10^{-8} v) - f(x) \\approx 10^{-8} (A(x.* v))$."
   ]
  },
  {
   "cell_type": "code",
   "execution_count": 31,
   "metadata": {},
   "outputs": [
    {
     "name": "stdout",
     "output_type": "stream",
     "text": [
      "[1.32736504e-07 1.19050760e-07 6.10086239e-08] [1.32736505e-07 1.19050761e-07 6.10086243e-08]\n"
     ]
    }
   ],
   "source": [
    "approx = f(random_matrix, random_vector, direction) - f(random_matrix, random_vector, np.zeros(3))\n",
    "exact = derivative_f(random_matrix, random_vector, direction)\n",
    "\n",
    "print(approx, exact)"
   ]
  },
  {
   "cell_type": "code",
   "execution_count": 30,
   "metadata": {},
   "outputs": [
    {
     "data": {
      "text/plain": [
       "5.6028064291548344e-09"
      ]
     },
     "execution_count": 30,
     "metadata": {},
     "output_type": "execute_result"
    }
   ],
   "source": [
    "error = approx - exact\n",
    "\n",
    "np.linalg.norm(error) / np.linalg.norm(exact)"
   ]
  },
  {
   "cell_type": "code",
   "execution_count": null,
   "metadata": {},
   "outputs": [],
   "source": []
  }
 ],
 "metadata": {
  "kernelspec": {
   "display_name": "Python 3",
   "language": "python",
   "name": "python3"
  },
  "language_info": {
   "codemirror_mode": {
    "name": "ipython",
    "version": 3
   },
   "file_extension": ".py",
   "mimetype": "text/x-python",
   "name": "python",
   "nbconvert_exporter": "python",
   "pygments_lexer": "ipython3",
   "version": "3.11.5"
  }
 },
 "nbformat": 4,
 "nbformat_minor": 2
}
