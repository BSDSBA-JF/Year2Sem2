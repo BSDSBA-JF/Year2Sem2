{
 "cells": [
  {
   "cell_type": "markdown",
   "metadata": {
    "id": "hpG55Uv6RJTi"
   },
   "source": [
    "# Notebook 1B: k-Nearest Neighbor (kNN) Regression\n",
    "Organized and prepared by Christopher Monterola, updated by Kenneth Co. and Gino Borja\n",
    "\n",
    "This notebook was conceptualized, organized, and primarily prepared for the **Machine Learning** course.\n",
    "\n",
    "### This notebook uses the following reference:\n",
    "- Introduction to Machine Learning with Python, A. Mueller and S. Guido, O'Reilly 2017"
   ]
  },
  {
   "cell_type": "markdown",
   "metadata": {
    "id": "Akhv28vSGtcU"
   },
   "source": [
    "## Introduction\n",
    "\n",
    "Unlike the previous notebook that entails **classifying** the data on various class labels, **kNN regression** is concerned in predicting a continuous number, or a floating-point number (term used by data scientists, computer scientist) or real number (term used by mathematicians).\n",
    "\n",
    "The notebook is accompanied by sample illustrations to elucidate the concept of kNN regression when it is used for periodic, aperiodic and/or sparse data. We also demonstrate here how to implement kNN to forecast Parkinson's disease and bike sharing counts, both examples are anchored on real world data."
   ]
  },
  {
   "cell_type": "code",
   "execution_count": null,
   "metadata": {
    "executionInfo": {
     "elapsed": 2555,
     "status": "ok",
     "timestamp": 1713863364506,
     "user": {
      "displayName": "kc-aim",
      "userId": "16968997735368758960"
     },
     "user_tz": -480
    },
    "id": "zZPdNvuRRJTm"
   },
   "outputs": [],
   "source": [
    "import warnings\n",
    "warnings.simplefilter(action='ignore', category=FutureWarning)\n",
    "\n",
    "from sklearn.neighbors import KNeighborsClassifier\n",
    "import mglearn #library provided by amueller\n",
    "import numpy as np\n",
    "%matplotlib inline\n",
    "import matplotlib.pyplot as plt\n",
    "import pandas as pd\n",
    "from sklearn.model_selection import train_test_split"
   ]
  },
  {
   "cell_type": "markdown",
   "metadata": {
    "id": "iOeoir_mRJTn"
   },
   "source": [
    "## Illustration 1: The wave dataset\n",
    "To illustrate regression algorithms, we will use the synthetic **wave dataset** shown\n",
    "below. The wave dataset only has a single input feature, and a continuous target\n",
    "variable (or response) that we want to model.\n",
    "The plot below is showing the single feature on the x-axis, with the data points as <font color = orange> orange </font> dots. For each data point, the target output is plotted in <font color = blue> blue </font> on the y-axis."
   ]
  },
  {
   "cell_type": "code",
   "execution_count": null,
   "metadata": {
    "colab": {
     "base_uri": "https://localhost:8080/",
     "height": 472
    },
    "executionInfo": {
     "elapsed": 800,
     "status": "ok",
     "timestamp": 1713863365297,
     "user": {
      "displayName": "kc-aim",
      "userId": "16968997735368758960"
     },
     "user_tz": -480
    },
    "id": "WeEEsvenRJTn",
    "outputId": "9098a26a-f079-4e6e-fdaa-2d1074ab204e"
   },
   "outputs": [],
   "source": [
    "X, y = mglearn.datasets.make_wave(n_samples=40)\n",
    "plt.plot(X, y, 'o')\n",
    "plt.plot(X, -3 * np.ones(len(X)), 'o')\n",
    "plt.ylim(-3, 3)\n",
    "plt.xlabel(\"Feature\")\n",
    "plt.ylabel(\"Target\")"
   ]
  },
  {
   "cell_type": "code",
   "execution_count": null,
   "metadata": {
    "colab": {
     "base_uri": "https://localhost:8080/"
    },
    "executionInfo": {
     "elapsed": 7,
     "status": "ok",
     "timestamp": 1713863365297,
     "user": {
      "displayName": "kc-aim",
      "userId": "16968997735368758960"
     },
     "user_tz": -480
    },
    "id": "GdwnwnI0RJTo",
    "outputId": "636d3d71-fff2-4561-cf21-ad8de11d47bc"
   },
   "outputs": [],
   "source": [
    "y"
   ]
  },
  {
   "cell_type": "markdown",
   "metadata": {
    "id": "Dp899h9oRJTo"
   },
   "source": [
    "Similar to kNN classification, we start by using a single nearest neighbor, this time using the wave dataset. Shown below are the predictions by one-nearest-neighbor regression on the wave data set, we added three test data points as <font color = green> green </font> crosses on the x axis."
   ]
  },
  {
   "cell_type": "code",
   "execution_count": null,
   "metadata": {
    "colab": {
     "base_uri": "https://localhost:8080/",
     "height": 578
    },
    "executionInfo": {
     "elapsed": 5,
     "status": "ok",
     "timestamp": 1713863365297,
     "user": {
      "displayName": "kc-aim",
      "userId": "16968997735368758960"
     },
     "user_tz": -480
    },
    "id": "g57UGj2yRJTo",
    "outputId": "f840d3a0-1cdf-4dc3-ad94-39058e881abf"
   },
   "outputs": [],
   "source": [
    "mglearn.plots.plot_knn_regression(n_neighbors=7)"
   ]
  },
  {
   "cell_type": "markdown",
   "metadata": {
    "id": "AtwJJzxaRJTo"
   },
   "source": [
    "Next we show the prediction using three-nearest-neighbor regression on the wave data set, again we have added three test data points as <font color = green> green </font> crosses on the x axis."
   ]
  },
  {
   "cell_type": "code",
   "execution_count": null,
   "metadata": {
    "colab": {
     "base_uri": "https://localhost:8080/",
     "height": 578
    },
    "executionInfo": {
     "elapsed": 697,
     "status": "ok",
     "timestamp": 1713863365990,
     "user": {
      "displayName": "kc-aim",
      "userId": "16968997735368758960"
     },
     "user_tz": -480
    },
    "id": "M_2tCoSpRJTp",
    "outputId": "fccabfd4-474a-4bba-d288-fad83115f9b6"
   },
   "outputs": [],
   "source": [
    "mglearn.plots.plot_knn_regression(n_neighbors=3)"
   ]
  },
  {
   "cell_type": "markdown",
   "metadata": {
    "id": "9NNH3oU-RJTp"
   },
   "source": [
    "The **kNN** algorithm for regression is implemented in the $Neighbors\n",
    "Regressor$ class in scikit-learn. It looks much like the $KNeighborsClassifier$ above:"
   ]
  },
  {
   "cell_type": "code",
   "execution_count": null,
   "metadata": {
    "colab": {
     "base_uri": "https://localhost:8080/",
     "height": 75
    },
    "executionInfo": {
     "elapsed": 12,
     "status": "ok",
     "timestamp": 1713863365990,
     "user": {
      "displayName": "kc-aim",
      "userId": "16968997735368758960"
     },
     "user_tz": -480
    },
    "id": "YjL9HLVoRJTp",
    "outputId": "de99ff12-6ce2-4b68-b08d-c32766e1a6eb"
   },
   "outputs": [],
   "source": [
    "from sklearn.neighbors import KNeighborsRegressor\n",
    "\n",
    "#Step 1: get the Data\n",
    "X, y = mglearn.datasets.make_wave(n_samples=40)\n",
    "\n",
    "#Step 2: split the data (wave dataset) into a training and a test set\n",
    "X_train, X_test, y_train, y_test = train_test_split(X, y, random_state=0)\n",
    "\n",
    "#Step 3: Instantiate the model, define the learning parameter, say number of neighbors = 3:\n",
    "reg = KNeighborsRegressor(n_neighbors=3)\n",
    "\n",
    "#Step 4: Fit the model using the training data and training targets:\n",
    "reg.fit(X_train, y_train)"
   ]
  },
  {
   "cell_type": "markdown",
   "metadata": {
    "id": "rrAcmkprRJTp"
   },
   "source": [
    "Let's look at the data X and y."
   ]
  },
  {
   "cell_type": "code",
   "execution_count": null,
   "metadata": {
    "colab": {
     "base_uri": "https://localhost:8080/"
    },
    "executionInfo": {
     "elapsed": 10,
     "status": "ok",
     "timestamp": 1713863365990,
     "user": {
      "displayName": "kc-aim",
      "userId": "16968997735368758960"
     },
     "user_tz": -480
    },
    "id": "p9gzlA9HRJTq",
    "outputId": "bb271b98-f9be-4473-f0ba-428fec8d327a"
   },
   "outputs": [],
   "source": [
    "X[0:5]"
   ]
  },
  {
   "cell_type": "code",
   "execution_count": null,
   "metadata": {
    "colab": {
     "base_uri": "https://localhost:8080/"
    },
    "executionInfo": {
     "elapsed": 8,
     "status": "ok",
     "timestamp": 1713863365990,
     "user": {
      "displayName": "kc-aim",
      "userId": "16968997735368758960"
     },
     "user_tz": -480
    },
    "id": "Bn5K3QuQRJTq",
    "outputId": "518bbee6-5bb7-403c-d2c7-b059442a1474"
   },
   "outputs": [],
   "source": [
    "y[0:5]"
   ]
  },
  {
   "cell_type": "markdown",
   "metadata": {
    "id": "W5qu7RgRRJTq"
   },
   "source": [
    "Now, we can make predictions on the test set:"
   ]
  },
  {
   "cell_type": "code",
   "execution_count": null,
   "metadata": {
    "colab": {
     "base_uri": "https://localhost:8080/"
    },
    "executionInfo": {
     "elapsed": 7,
     "status": "ok",
     "timestamp": 1713863365990,
     "user": {
      "displayName": "kc-aim",
      "userId": "16968997735368758960"
     },
     "user_tz": -480
    },
    "id": "tyEvJ8KyRJTq",
    "outputId": "39866d6c-ce45-4c41-c2d8-7db7281331d5"
   },
   "outputs": [],
   "source": [
    "#Step 5: Prediction\n",
    "reg.predict(X_test)"
   ]
  },
  {
   "cell_type": "markdown",
   "metadata": {
    "id": "a2p15pHLRJTq"
   },
   "source": [
    "We can also evaluate the model using the score method, which for regressors returns\n",
    "the $R^2$ score.\n",
    "The $R^2$ score, also known as coefficient of determination, is a measure of goodness\n",
    "of a prediction for a regression model, and yields a score up to 1. A value of 1\n",
    "corresponds to a perfect prediction, and a value of 0 corresponds to a constant model\n",
    "that just predicts the mean of the training set responses y_train. Note that $R^2$ can be negative.\n",
    "\n",
    "\\begin{equation}\n",
    "R^2=1 -\\sum_i\\frac{(y_i -f_i)^2}{(y_i - \\bar{y})^2}\n",
    "\\end{equation}\n",
    "\n",
    "where $y_i$ is the actual value, $f_i$ is the predicted value and $\\bar{y}$ is the mean of ${y_i}$."
   ]
  },
  {
   "cell_type": "code",
   "execution_count": null,
   "metadata": {
    "colab": {
     "base_uri": "https://localhost:8080/"
    },
    "executionInfo": {
     "elapsed": 7,
     "status": "ok",
     "timestamp": 1713863365991,
     "user": {
      "displayName": "kc-aim",
      "userId": "16968997735368758960"
     },
     "user_tz": -480
    },
    "id": "N1Uo08czRJTr",
    "outputId": "dae79b99-b459-4d17-e228-25081af6ecfc"
   },
   "outputs": [],
   "source": [
    "#Step 6: Evaluation the R2\n",
    "reg.score(X_test, y_test)"
   ]
  },
  {
   "cell_type": "markdown",
   "metadata": {
    "id": "fDI0Zn8zRJTr"
   },
   "source": [
    "Here, the score is 0.83 which indicates a relatively good model fit."
   ]
  },
  {
   "cell_type": "markdown",
   "metadata": {
    "id": "q13jZdS2RJTr"
   },
   "source": [
    "### Analyzing kNN Regression\n",
    "\n",
    "For our one-dimensional dataset, we can see what the predictions look like for all\n",
    "possible feature values. To do this, we create a test-dataset consisting of many points\n",
    "on the line."
   ]
  },
  {
   "cell_type": "code",
   "execution_count": null,
   "metadata": {
    "colab": {
     "base_uri": "https://localhost:8080/",
     "height": 297
    },
    "executionInfo": {
     "elapsed": 1411,
     "status": "ok",
     "timestamp": 1713863367395,
     "user": {
      "displayName": "kc-aim",
      "userId": "16968997735368758960"
     },
     "user_tz": -480
    },
    "id": "blOQy3eqRJTr",
    "outputId": "08adeaf7-8c39-4c7b-d824-7431d85f0eab"
   },
   "outputs": [],
   "source": [
    "fig, axes = plt.subplots(1, 3, figsize=(30, 6))\n",
    "line = np.linspace(-3, 3, 100).reshape(-1, 1) # create 100 data points, evenly spaced between -3 and 3\n",
    "for n_neighbors, ax in zip([1, 5, 20], axes): # make predictions using 1, 3 or 9 neighbors\n",
    "    reg = KNeighborsRegressor(n_neighbors=n_neighbors)\n",
    "    reg.fit(X_train, y_train)\n",
    "    #ax.plot(X, y, 'v',c=mglearn.cm2(1))\n",
    "    ax.plot(line, reg.predict(line), c='green') #plot the predicted value = boundary decision\n",
    "    ax.plot(X_train, y_train,'^',c='blue',markersize=11) #plot the training set as triangle, blue = mglearn.cm2(0)\n",
    "    ax.plot(X_test, y_test,'v',c='red',markersize=11) #plot the test set as inverted triangle, red =mglearn.cm2(1)\n",
    "    ax.set_title(\n",
    "        \"{} neighbor(s)\\n train score: {:.2f} test score: {:.2f}\".format(n_neighbors,reg.score(X_train, y_train),\n",
    "                                                                         reg.score(X_test,y_test)))\n",
    "    ax.set_xlabel(\"Feature\")\n",
    "    ax.set_ylabel(\"Target\")\n",
    "axes[0].legend([\"Model predictions\",\"Training data/target\",\"Test data/target\"],loc='best')\n",
    "pass"
   ]
  },
  {
   "cell_type": "markdown",
   "metadata": {
    "id": "ap-M6o1KRJTr"
   },
   "source": [
    "The <font color=green> green line </font>is the prediction made by the model for all points on the line.\n",
    "\n",
    "Using only a single neighbor, each point in the training set has an obvious influence\n",
    "on the predictions, and the predicted values go through all of the data points. This\n",
    "leads to a very unsteady prediction.\n",
    "\n",
    "Considering more neighbors leads to smoother predictions, but these do not fit the training data as well."
   ]
  },
  {
   "cell_type": "markdown",
   "metadata": {
    "id": "6H1jYD-aRJTs"
   },
   "source": [
    "Let's scan the accuracy as a function of *n_neighbor* for one instant of training:test combination."
   ]
  },
  {
   "cell_type": "code",
   "execution_count": null,
   "metadata": {
    "colab": {
     "base_uri": "https://localhost:8080/",
     "height": 520
    },
    "executionInfo": {
     "elapsed": 777,
     "status": "ok",
     "timestamp": 1713863368166,
     "user": {
      "displayName": "kc-aim",
      "userId": "16968997735368758960"
     },
     "user_tz": -480
    },
    "id": "3xLIByANRJTs",
    "outputId": "4e557380-2ade-4216-8999-67705af27d1a"
   },
   "outputs": [],
   "source": [
    "X, y = mglearn.datasets.make_wave(n_samples=40) # split the wave dataset into a training and a test set\n",
    "X_train, X_test, y_train, y_test = train_test_split(X, y, test_size=0.25, random_state=0)\n",
    "training_accuracy = []\n",
    "test_accuracy = []\n",
    "neighbors_settings = range(1, 15) # try n_neighbors from 1 to 10\n",
    "\n",
    "for n_neighbors in neighbors_settings:\n",
    "    reg = KNeighborsRegressor(n_neighbors=n_neighbors) # build the model\n",
    "    reg.fit(X_train, y_train) #clf = KNeighborsClassifier(n_neighbors=n_neighbors\n",
    "    training_accuracy.append(reg.score(X_train, y_train)) # record training set accuracy\n",
    "    test_accuracy.append(reg.score(X_test, y_test)) # record generalization accuracy\n",
    "fig = plt.figure(figsize=(15, 6))\n",
    "import pylab as plot\n",
    "params = {'legend.fontsize': 15, 'legend.handlelength': 2}\n",
    "\n",
    "plot.rcParams.update(params)\n",
    "\n",
    "plt.plot(neighbors_settings, training_accuracy, label=\"training accuracy\", color='blue', marker='o', linestyle='dashed', markersize=15)\n",
    "plt.plot(neighbors_settings, test_accuracy, label=\"test accuracy\",color='red', marker='^', linestyle='-', markersize=15)\n",
    "plt.ylabel(\"Accuracy, $R^2$\", fontsize=15)\n",
    "plt.xlabel(\"n_neighbors\",fontsize=15)\n",
    "plt.legend()\n",
    "pass"
   ]
  },
  {
   "cell_type": "markdown",
   "metadata": {
    "id": "yktC5rDKRJTs"
   },
   "source": [
    "Let's make the above example more robust by scanning the accuracy as a function of *n_neighbors* over 100 different training:test combinations."
   ]
  },
  {
   "cell_type": "code",
   "execution_count": null,
   "metadata": {
    "executionInfo": {
     "elapsed": 26991,
     "status": "ok",
     "timestamp": 1713863395153,
     "user": {
      "displayName": "kc-aim",
      "userId": "16968997735368758960"
     },
     "user_tz": -480
    },
    "id": "C6x2laj4RJTs"
   },
   "outputs": [],
   "source": [
    "all_training = pd.DataFrame()\n",
    "all_test = pd.DataFrame()\n",
    "for seedN in range(1,100,1):\n",
    "    X, y = mglearn.datasets.make_wave(n_samples=40) # split the wave dataset into a training and a test set\n",
    "    X_train, X_test, y_train, y_test = train_test_split(X, y, test_size=0.25, random_state=seedN)\n",
    "    training_accuracy = []\n",
    "    test_accuracy = []\n",
    "    neighbors_settings = range(1, 30) # try n_neighbors from 1 to 10\n",
    "\n",
    "    for n_neighbors in neighbors_settings:\n",
    "        reg = KNeighborsRegressor(n_neighbors=n_neighbors) # build the model\n",
    "        reg.fit(X_train, y_train) #clf = KNeighborsClassifier(n_neighbors=n_neighbors\n",
    "        training_accuracy.append(reg.score(X_train, y_train)) # record training set accuracy\n",
    "        test_accuracy.append(reg.score(X_test, y_test)) # record generalization accuracy\n",
    "    all_training[seedN]=training_accuracy\n",
    "    all_test[seedN] = test_accuracy"
   ]
  },
  {
   "cell_type": "code",
   "execution_count": null,
   "metadata": {
    "colab": {
     "base_uri": "https://localhost:8080/",
     "height": 536
    },
    "executionInfo": {
     "elapsed": 794,
     "status": "ok",
     "timestamp": 1713863395941,
     "user": {
      "displayName": "kc-aim",
      "userId": "16968997735368758960"
     },
     "user_tz": -480
    },
    "id": "9fxkJvV0RJTt",
    "outputId": "455fe104-7a61-4ead-eef7-0374714e5e56"
   },
   "outputs": [],
   "source": [
    "fig = plt.figure(figsize=(15, 6))\n",
    "import pylab as plot\n",
    "params = {'legend.fontsize': 15, 'legend.handlelength': 2}\n",
    "plot.rcParams.update(params)\n",
    "\n",
    "plt.errorbar(neighbors_settings, all_training.mean(axis=1),\n",
    "             yerr=all_training.std(axis=1), label=\"training accuracy\", color='blue', marker='o', linestyle='dashed', markersize=15)\n",
    "plt.errorbar(neighbors_settings, all_test.mean(axis=1),\n",
    "             yerr=all_test.std(axis=1), label=\"test accuracy\", color='red', marker='^', linestyle='-', markersize=15)\n",
    "plt.ylabel(\"Accuracy\", fontsize=15)\n",
    "plt.xlabel(\"n_neighbors\",fontsize=15)\n",
    "plt.legend()"
   ]
  },
  {
   "cell_type": "markdown",
   "metadata": {
    "id": "Z59pFcAlRJTt"
   },
   "source": [
    "1. Comment on the optimal *n_neighbors*.\n",
    "2. What will happen when *n_neighbors* will include most of the data."
   ]
  },
  {
   "cell_type": "markdown",
   "metadata": {
    "id": "19a5x4ovRJTt"
   },
   "source": [
    "## Illustration 2.  A periodic signal\n",
    "\n",
    "Consider a Cosine signal, what is the optimal `n_neighbors` to properly interpolate or extrapolate this time series."
   ]
  },
  {
   "cell_type": "code",
   "execution_count": null,
   "metadata": {
    "colab": {
     "base_uri": "https://localhost:8080/",
     "height": 466
    },
    "executionInfo": {
     "elapsed": 5,
     "status": "ok",
     "timestamp": 1713863395941,
     "user": {
      "displayName": "kc-aim",
      "userId": "16968997735368758960"
     },
     "user_tz": -480
    },
    "id": "igmXFOBmRJTt",
    "outputId": "83b6e226-b2fe-4037-fcba-36f3bdb0c95b"
   },
   "outputs": [],
   "source": [
    "X = np.linspace(0.0, 2.0, 50) # range of X is from 0 to 2 create 50 data points\n",
    "y = np.cos(2 * np.pi * X)  # Cos (2 pi X)\n",
    "\n",
    "\n",
    "plt.plot(X, y, 'o')\n",
    "plt.ylim(-1.1, 1.1)\n",
    "plt.xlabel(\"Feature\")\n",
    "plt.ylabel(\"Target\")"
   ]
  },
  {
   "cell_type": "code",
   "execution_count": null,
   "metadata": {
    "colab": {
     "base_uri": "https://localhost:8080/"
    },
    "executionInfo": {
     "elapsed": 4,
     "status": "ok",
     "timestamp": 1713863396285,
     "user": {
      "displayName": "kc-aim",
      "userId": "16968997735368758960"
     },
     "user_tz": -480
    },
    "id": "3vMTAfNLRJTt",
    "outputId": "0bd33d52-3216-4b3b-93d3-27a39c222486"
   },
   "outputs": [],
   "source": [
    "X.shape"
   ]
  },
  {
   "cell_type": "code",
   "execution_count": null,
   "metadata": {
    "executionInfo": {
     "elapsed": 3,
     "status": "ok",
     "timestamp": 1713863396285,
     "user": {
      "displayName": "kc-aim",
      "userId": "16968997735368758960"
     },
     "user_tz": -480
    },
    "id": "tqdfUl7GRJTu"
   },
   "outputs": [],
   "source": [
    "from numpy import array\n",
    "XX=np.reshape(X, (len(X),-1))  #Reshape the list to array"
   ]
  },
  {
   "cell_type": "code",
   "execution_count": null,
   "metadata": {
    "colab": {
     "base_uri": "https://localhost:8080/"
    },
    "executionInfo": {
     "elapsed": 2,
     "status": "ok",
     "timestamp": 1713863396285,
     "user": {
      "displayName": "kc-aim",
      "userId": "16968997735368758960"
     },
     "user_tz": -480
    },
    "id": "ArD5BIxpRJTu",
    "outputId": "8d8f3760-2edb-47c6-ed3e-c0e22d3efe9a"
   },
   "outputs": [],
   "source": [
    "XX.shape"
   ]
  },
  {
   "cell_type": "code",
   "execution_count": null,
   "metadata": {
    "colab": {
     "base_uri": "https://localhost:8080/",
     "height": 294
    },
    "executionInfo": {
     "elapsed": 1141,
     "status": "ok",
     "timestamp": 1713863397424,
     "user": {
      "displayName": "kc-aim",
      "userId": "16968997735368758960"
     },
     "user_tz": -480
    },
    "id": "nyAVYHC-RJTu",
    "outputId": "c3da2576-abd3-4867-c430-94227281eebc"
   },
   "outputs": [],
   "source": [
    "X_train, X_test, y_train, y_test = train_test_split(XX, y, random_state=0)\n",
    "fig, axes = plt.subplots(1, 3, figsize=(30, 6))\n",
    "line = np.linspace(0, 2, 50).reshape(50, -1) # create 50 data points, evenly spaced between 0 and 2\n",
    "\n",
    "#plt.suptitle(\"nearest_neighbor_regression\")\n",
    "import pylab as plot\n",
    "params = {'legend.fontsize': 10, 'legend.handlelength': 2}\n",
    "plot.rcParams.update(params)\n",
    "for n_neighbors, ax in zip([1, 3, 30], axes): # make predictions using 1, 3 or 9 neighbors\\\n",
    "    reg = KNeighborsRegressor(n_neighbors=n_neighbors)\n",
    "    reg.fit(X_train, y_train)\n",
    "    ax.plot(X, y, 'v',c=mglearn.cm2(1))\n",
    "    ax.plot(line, reg.predict(line))\n",
    "    ax.plot(X_train, y_train,'^',c=mglearn.cm2(0),markersize=11)\n",
    "    ax.plot(X_test, y_test,'v',c=mglearn.cm2(1),markersize=11)\n",
    "    ax.set_title(\n",
    "        \"{} neighbor(s)\\n train score: {:.2f} test score: {:.2f}\".format(n_neighbors,reg.score(X_train, y_train),\n",
    "                                                                         reg.score(X_test,y_test)))\n",
    "    ax.set_xlabel(\"Feature\")\n",
    "    ax.set_ylabel(\"Target\")\n",
    "axes[0].legend([\"Test data/target\",\"Model predictions\",\"Training data/target\"],loc='lower center')\n",
    "pass"
   ]
  },
  {
   "cell_type": "code",
   "execution_count": null,
   "metadata": {
    "executionInfo": {
     "elapsed": 5495,
     "status": "ok",
     "timestamp": 1713863402918,
     "user": {
      "displayName": "kc-aim",
      "userId": "16968997735368758960"
     },
     "user_tz": -480
    },
    "id": "YeJzb8imRJTu"
   },
   "outputs": [],
   "source": [
    "lahat_training = pd.DataFrame()\n",
    "lahat_test = pd.DataFrame()\n",
    "for seedN in range(1,100,1):\n",
    "    X_train, X_test, y_train, y_test = train_test_split(XX, y, test_size=0.25, random_state=seedN)\n",
    "    training_accuracy = []\n",
    "    test_accuracy = []\n",
    "    neighbors_settings = range(1, 30) # try n_neighbors from 1 to 10\n",
    "\n",
    "    for n_neighbors in neighbors_settings:\n",
    "        reg = KNeighborsRegressor(n_neighbors=n_neighbors) # build the model\n",
    "        reg.fit(X_train, y_train) #clf = KNeighborsClassifier(n_neighbors=n_neighbors\n",
    "        training_accuracy.append(reg.score(X_train, y_train)) # record training set accuracy\n",
    "        test_accuracy.append(reg.score(X_test, y_test)) # record generalization accuracy\n",
    "    lahat_training[seedN]=training_accuracy\n",
    "    lahat_test[seedN] = test_accuracy"
   ]
  },
  {
   "cell_type": "code",
   "execution_count": null,
   "metadata": {
    "colab": {
     "base_uri": "https://localhost:8080/",
     "height": 533
    },
    "executionInfo": {
     "elapsed": 940,
     "status": "ok",
     "timestamp": 1713863403855,
     "user": {
      "displayName": "kc-aim",
      "userId": "16968997735368758960"
     },
     "user_tz": -480
    },
    "id": "CUf55XXARJTu",
    "outputId": "9aeb217c-2b31-4911-dea7-fe9706858444"
   },
   "outputs": [],
   "source": [
    "fig = plt.figure(figsize=(15, 6))\n",
    "import pylab as plot\n",
    "params = {'legend.fontsize': 15, 'legend.handlelength': 2}\n",
    "plot.rcParams.update(params)\n",
    "\n",
    "plt.errorbar(neighbors_settings, lahat_training.mean(axis=1),\n",
    "             yerr=lahat_training.std(axis=1), label=\"training accuracy\", color='blue', marker='o', linestyle='dashed', markersize=15)\n",
    "plt.errorbar(neighbors_settings, lahat_test.mean(axis=1),\n",
    "             yerr=lahat_test.std(axis=1), label=\"test accuracy\", color='red', marker='^', linestyle='-', markersize=15)\n",
    "plt.ylabel(\"Accuracy\", fontsize=15)\n",
    "plt.xlabel(\"n_neighbors\",fontsize=15)\n",
    "plt.legend()"
   ]
  },
  {
   "cell_type": "markdown",
   "metadata": {
    "id": "5kxVM_BhRJTv"
   },
   "source": [
    "## Illustration 3.  A periodic but decaying signal\n",
    "\n",
    "Consider a Cosine signal, what is the optimal `n_neighbors` to properly interpolate or extrapolate this time series."
   ]
  },
  {
   "cell_type": "code",
   "execution_count": null,
   "metadata": {
    "colab": {
     "base_uri": "https://localhost:8080/",
     "height": 466
    },
    "executionInfo": {
     "elapsed": 10,
     "status": "ok",
     "timestamp": 1713863403855,
     "user": {
      "displayName": "kc-aim",
      "userId": "16968997735368758960"
     },
     "user_tz": -480
    },
    "id": "YTXlDRiqRJTv",
    "outputId": "99bfb564-4507-441f-a973-46255e70395a"
   },
   "outputs": [],
   "source": [
    "X = np.linspace(0.0, 2.0 , 50)\n",
    "extra=np.linspace(0.0, 5.0, 50)\n",
    "y = np.cos(2 * np.pi * X)* np.exp(-extra)\n",
    "\n",
    "\n",
    "plt.plot(X, y, 'o')\n",
    "plt.plot(X, -3 * np.ones(len(X)), 'o')\n",
    "plt.ylim(-1.1, 1.1)\n",
    "plt.xlabel(\"Feature\")\n",
    "plt.ylabel(\"Target\")"
   ]
  },
  {
   "cell_type": "code",
   "execution_count": null,
   "metadata": {
    "executionInfo": {
     "elapsed": 7,
     "status": "ok",
     "timestamp": 1713863403856,
     "user": {
      "displayName": "kc-aim",
      "userId": "16968997735368758960"
     },
     "user_tz": -480
    },
    "id": "XFNtIEI4RJTv"
   },
   "outputs": [],
   "source": [
    "from numpy import array\n",
    "XX=np.reshape(X, (len(X),-1))"
   ]
  },
  {
   "cell_type": "code",
   "execution_count": null,
   "metadata": {
    "colab": {
     "base_uri": "https://localhost:8080/",
     "height": 295
    },
    "executionInfo": {
     "elapsed": 794,
     "status": "ok",
     "timestamp": 1713863404644,
     "user": {
      "displayName": "kc-aim",
      "userId": "16968997735368758960"
     },
     "user_tz": -480
    },
    "id": "z90f1FmKRJTw",
    "outputId": "c25f0c7d-36ef-4171-bdac-8de264822169"
   },
   "outputs": [],
   "source": [
    "X_train, X_test, y_train, y_test = train_test_split(XX, y, random_state=0)\n",
    "fig, axes = plt.subplots(1, 3, figsize=(30, 6))\n",
    "line = np.linspace(0, 2, 50).reshape(50, -1)  # create 1000 data points, evenly spaced between -3 and 3\n",
    "import pylab as plot #plt.suptitle(\"nearest_neighbor_regression\")\n",
    "params = {'legend.fontsize': 10, 'legend.handlelength': 2}\n",
    "plot.rcParams.update(params)\n",
    "for n_neighbors, ax in zip([1, 3, 10], axes): # make predictions using 1, 3 or 9 neighbors\n",
    "    reg = KNeighborsRegressor(n_neighbors=n_neighbors)\n",
    "    reg.fit(X_train, y_train)\n",
    "    ax.plot(X, y, 'v',c=mglearn.cm2(1))\n",
    "    ax.plot(line, reg.predict(line))\n",
    "    ax.plot(X_train, y_train,'^',c=mglearn.cm2(0),markersize=11)\n",
    "    ax.plot(X_test, y_test,'v',c=mglearn.cm2(1),markersize=11)\n",
    "    ax.set_title(\n",
    "        \"{} neighbor(s)\\n train score: {:.2f} test score: {:.2f}\".format(n_neighbors,reg.score(X_train, y_train),\n",
    "                                                                         reg.score(X_test,y_test)))\n",
    "    ax.set_xlabel(\"Feature\")\n",
    "    ax.set_ylabel(\"Target\")\n",
    "axes[0].legend([\"Test data/target\",\"Model predictions\",\"Training data/target\"],loc='lower center')\n",
    "pass"
   ]
  },
  {
   "cell_type": "code",
   "execution_count": null,
   "metadata": {
    "executionInfo": {
     "elapsed": 7752,
     "status": "ok",
     "timestamp": 1713863412392,
     "user": {
      "displayName": "kc-aim",
      "userId": "16968997735368758960"
     },
     "user_tz": -480
    },
    "id": "AOMJnKLGRJTw"
   },
   "outputs": [],
   "source": [
    "lahat_training = pd.DataFrame()\n",
    "lahat_test = pd.DataFrame()\n",
    "for seedN in range(1,100,1):\n",
    "    X_train, X_test, y_train, y_test = train_test_split(XX, y, test_size=0.25, random_state=seedN)\n",
    "    training_accuracy = []\n",
    "    test_accuracy = []\n",
    "    neighbors_settings = range(1, 30) # try n_neighbors from 1 to 10\n",
    "\n",
    "    for n_neighbors in neighbors_settings:\n",
    "        reg = KNeighborsRegressor(n_neighbors=n_neighbors) # build the model\n",
    "        reg.fit(X_train, y_train) #clf = KNeighborsClassifier(n_neighbors=n_neighbors\n",
    "        training_accuracy.append(reg.score(X_train, y_train)) # record training set accuracy\n",
    "        test_accuracy.append(reg.score(X_test, y_test)) # record generalization accuracy\n",
    "    lahat_training[seedN]=training_accuracy\n",
    "    lahat_test[seedN] = test_accuracy"
   ]
  },
  {
   "cell_type": "code",
   "execution_count": null,
   "metadata": {
    "colab": {
     "base_uri": "https://localhost:8080/",
     "height": 536
    },
    "executionInfo": {
     "elapsed": 785,
     "status": "ok",
     "timestamp": 1713863413173,
     "user": {
      "displayName": "kc-aim",
      "userId": "16968997735368758960"
     },
     "user_tz": -480
    },
    "id": "0GNJ2QF2RJTw",
    "outputId": "4b61a564-cf4f-4a78-ba3f-80fe2f622264"
   },
   "outputs": [],
   "source": [
    "fig = plt.figure(figsize=(15, 6))\n",
    "import pylab as plot\n",
    "params = {'legend.fontsize': 15, 'legend.handlelength': 2}\n",
    "plot.rcParams.update(params)\n",
    "\n",
    "plt.errorbar(neighbors_settings, lahat_training.mean(axis=1),\n",
    "             yerr=lahat_training.std(axis=1), label=\"training accuracy\", color='blue', marker='o', linestyle='dashed', markersize=15)\n",
    "plt.errorbar(neighbors_settings, lahat_test.mean(axis=1),\n",
    "             yerr=lahat_test.std(axis=1), label=\"test accuracy\", color='red', marker='^', linestyle='-', markersize=15)\n",
    "plt.ylabel(\"Accuracy\", fontsize=15)\n",
    "plt.xlabel(\"n_neighbors\",fontsize=15)\n",
    "plt.legend()"
   ]
  },
  {
   "cell_type": "markdown",
   "metadata": {
    "id": "CKlHQaZzRJTw"
   },
   "source": [
    "## Illustration 4. Undersampled periodic signal\n",
    "\n",
    "Consider a Cosine signal, what is the optimal `n_neighbors` to properly interpolate or extrapolate this time series."
   ]
  },
  {
   "cell_type": "code",
   "execution_count": null,
   "metadata": {
    "colab": {
     "base_uri": "https://localhost:8080/",
     "height": 466
    },
    "executionInfo": {
     "elapsed": 5,
     "status": "ok",
     "timestamp": 1713863413173,
     "user": {
      "displayName": "kc-aim",
      "userId": "16968997735368758960"
     },
     "user_tz": -480
    },
    "id": "74-loXrRRJTw",
    "outputId": "7eaab3b6-f813-4f33-f9ec-15fdaf37db10"
   },
   "outputs": [],
   "source": [
    "X = np.linspace(0.0, 10.0,100)\n",
    "y = np.cos(2 * np.pi * X)\n",
    "plt.plot(X, y, 'o')\n",
    "plt.plot(X, -3 * np.ones(len(X)), 'o')\n",
    "plt.ylim(-1.1, 1.1)\n",
    "plt.xlabel(\"Feature\")\n",
    "plt.ylabel(\"Target\")"
   ]
  },
  {
   "cell_type": "code",
   "execution_count": null,
   "metadata": {
    "executionInfo": {
     "elapsed": 3,
     "status": "ok",
     "timestamp": 1713863413173,
     "user": {
      "displayName": "kc-aim",
      "userId": "16968997735368758960"
     },
     "user_tz": -480
    },
    "id": "7ExLm4krRJTw"
   },
   "outputs": [],
   "source": [
    "from numpy import array\n",
    "XX=np.reshape(X, (len(X),-1))"
   ]
  },
  {
   "cell_type": "code",
   "execution_count": null,
   "metadata": {
    "colab": {
     "base_uri": "https://localhost:8080/",
     "height": 294
    },
    "executionInfo": {
     "elapsed": 1119,
     "status": "ok",
     "timestamp": 1713863414289,
     "user": {
      "displayName": "kc-aim",
      "userId": "16968997735368758960"
     },
     "user_tz": -480
    },
    "id": "hWpFXj7ZRJTx",
    "outputId": "48ddaa21-47b7-40ec-c91e-e8f1d9417de6"
   },
   "outputs": [],
   "source": [
    "X_train, X_test, y_train, y_test = train_test_split(XX, y, random_state=0)\n",
    "fig, axes = plt.subplots(1, 3, figsize=(30, 6))\n",
    "line = np.linspace(0, 10, len(XX)).reshape(len(XX), -1)\n",
    "import pylab as plot #plt.suptitle(\"nearest_neighbor_regression\")\n",
    "params = {'legend.fontsize': 10, 'legend.handlelength': 2}\n",
    "plot.rcParams.update(params)\n",
    "for n_neighbors, ax in zip([1, 3, 9], axes):\n",
    "    # make predictions using 1, 3 or 9 neighbors\n",
    "    reg = KNeighborsRegressor(n_neighbors=n_neighbors)\n",
    "    reg.fit(X_train, y_train)\n",
    "    ax.plot(X, y, 'v',c=mglearn.cm2(1))\n",
    "    ax.plot(line, reg.predict(line))\n",
    "    ax.plot(X_train, y_train,'^',c=mglearn.cm2(0),markersize=11)\n",
    "    ax.plot(X_test, y_test,'v',c=mglearn.cm2(1),markersize=11)\n",
    "    ax.set_title(\n",
    "        \"{} neighbor(s)\\n train score: {:.2f} test score: {:.2f}\".format(n_neighbors,reg.score(X_train, y_train),\n",
    "                                                                         reg.score(X_test,y_test)))\n",
    "    ax.set_xlabel(\"Feature\")\n",
    "    ax.set_ylabel(\"Target\")\n",
    "axes[0].legend([\"Test data/target\",\"Model predictions\",\"Training data/target\"],loc='lower center')\n",
    "pass"
   ]
  },
  {
   "cell_type": "code",
   "execution_count": null,
   "metadata": {
    "executionInfo": {
     "elapsed": 16907,
     "status": "ok",
     "timestamp": 1713863431194,
     "user": {
      "displayName": "kc-aim",
      "userId": "16968997735368758960"
     },
     "user_tz": -480
    },
    "id": "JNuD5RTMRJTx"
   },
   "outputs": [],
   "source": [
    "lahat_training = pd.DataFrame()\n",
    "lahat_test = pd.DataFrame()\n",
    "for seedN in range(1,100,1):\n",
    "    X_train, X_test, y_train, y_test = train_test_split(XX, y, test_size=0.25, random_state=seedN)\n",
    "    training_accuracy = []\n",
    "    test_accuracy = []\n",
    "    neighbors_settings = range(1, 60) # try n_neighbors from 1 to 10\n",
    "\n",
    "    for n_neighbors in neighbors_settings:\n",
    "        reg = KNeighborsRegressor(n_neighbors=n_neighbors) # build the model\n",
    "        reg.fit(X_train, y_train) #clf = KNeighborsClassifier(n_neighbors=n_neighbors\n",
    "        training_accuracy.append(reg.score(X_train, y_train)) # record training set accuracy\n",
    "        test_accuracy.append(reg.score(X_test, y_test)) # record generalization accuracy\n",
    "    lahat_training[seedN]=training_accuracy\n",
    "    lahat_test[seedN] = test_accuracy\n",
    "pass"
   ]
  },
  {
   "cell_type": "code",
   "execution_count": null,
   "metadata": {
    "colab": {
     "base_uri": "https://localhost:8080/",
     "height": 533
    },
    "executionInfo": {
     "elapsed": 794,
     "status": "ok",
     "timestamp": 1713863431984,
     "user": {
      "displayName": "kc-aim",
      "userId": "16968997735368758960"
     },
     "user_tz": -480
    },
    "id": "XmgZBKd3RJTx",
    "outputId": "e0649af5-37d0-429a-e1bf-505b8c163b04"
   },
   "outputs": [],
   "source": [
    "fig = plt.figure(figsize=(15, 6))\n",
    "import pylab as plot\n",
    "params = {'legend.fontsize': 15, 'legend.handlelength': 2}\n",
    "plot.rcParams.update(params)\n",
    "\n",
    "plt.errorbar(neighbors_settings, lahat_training.mean(axis=1),\n",
    "             yerr=lahat_training.std(axis=1), label=\"training accuracy\", color='blue', marker='o', linestyle='dashed', markersize=15)\n",
    "plt.errorbar(neighbors_settings, lahat_test.mean(axis=1),\n",
    "             yerr=lahat_test.std(axis=1), label=\"test accuracy\", color='red', marker='^', linestyle='-', markersize=15)\n",
    "plt.ylabel(\"Accuracy\", fontsize=15)\n",
    "plt.xlabel(\"n_neighbors\",fontsize=15)\n",
    "plt.legend()"
   ]
  },
  {
   "cell_type": "markdown",
   "metadata": {
    "id": "-OYiGfSbRJTx"
   },
   "source": [
    "# Three Key Points\n",
    "---\n",
    "\n",
    "**1. Good data generally translates to good prediction.**\n",
    "\n",
    "The unreasonable effectiveness of data (Alon Halevy, Peter Norvig, Fernando Pereira) - Google's Director of Research Peter Norvig claims that \"We don't have better algorithms. We just have more data.\"\n",
    "- https://www.researchgate.net/publication/224396640_The_Unreasonable_Effectiveness_of_Data\n",
    "\n",
    "The above statement is supported by a research on *confusion set disambiguation*. Their results indicate that simply increasing the amount of data improves every algorithm's generalization error. But, for large amounts of data, the improvements start becoming negligible. And unless the algorithm is very bad, they all settle down to some accuracy level.\n",
    "\n",
    "   \n",
    "**2. k-NN regression and classifier can only interpolate**\n",
    "\n",
    "Again, kNN is an *instance based* algorithm and can only make predictions based on its corpora of data. For values outside the range of the training samples (max or min), it will fail.\n",
    "\n",
    "\n",
    "**3. Single most important parameter is `n_neighbors`**\n",
    "\n",
    "Scanning over the accuracy as a function of `n_neighbors` improves the effectiveness and reliability of the algorithm.\n",
    "\n",
    "The optimal choice of the value `n_neighbors` is highly data-dependent: in general a larger `n_neighbors` suppresses the effects of noise, but makes the classification boundaries less distinct.\n"
   ]
  },
  {
   "cell_type": "markdown",
   "metadata": {
    "id": "YKAVUwBYRJTx"
   },
   "source": [
    "# Real World Examples\n",
    "---"
   ]
  },
  {
   "cell_type": "markdown",
   "metadata": {
    "id": "oXeDl2ueRJTx"
   },
   "source": [
    "## Example 1. Parkinsons Telemonitoring Dataset  \n",
    "\n",
    "The dataset was created by Athanasios Tsanas (`tsanasthanasis@gmail.com`) and Max Little (`littlem@physics.ox.ac.uk`) of the University of Oxford, in collaboration with 10 medical centers in the US and Intel Corporation who developed the telemonitoring device to record the speech signals. The original study used a range of linear and nonlinear regression methods to predict the clinician's Parkinson's disease symptom score on the UPDRS scale.\n",
    "\n",
    "**Your task: Predict clinician's Parkinson's disease symptom score on the UPDRS scale (the Target, UPDRS stands for Unified Parkinson's Disease Rating Scale).**"
   ]
  },
  {
   "cell_type": "markdown",
   "metadata": {
    "id": "8p_qEfrgRJTx"
   },
   "source": [
    "**Oxford Parkinson's Disease Telemonitoring Dataset**\n",
    "\n",
    "============================================================\n",
    "\n",
    "Data Set Characteristics: Multivariate\n",
    "\n",
    "Attribute Characteristics: Integer, Real\n",
    "\n",
    "Associated Tasks: Regression\n",
    "\n",
    "Number of Instances: 5875\n",
    "\n",
    "Number of Attributes: 26\n",
    "\n",
    "Area: Life\n",
    "\n",
    "Date Donated: 2009-10-29\n",
    "\n",
    "============================================================\n",
    "\n",
    "**DATASET INFORMATION:**\n",
    "\n",
    "This dataset is composed of a range of biomedical voice measurements from 42 people with early-stage Parkinson's disease recruited to a six-month trial of a telemonitoring device for remote symptom progression monitoring. The recordings were automatically captured in the patient's homes.\n",
    "\n",
    "Columns in the table contain subject number, subject age, subject gender, time interval from baseline recruitment date, total UPDRS, and\n",
    "16 biomedical voice measures. Each row corresponds to one of 5,875 voice recording from these individuals. The main aim of the data is to predict the total UPDRS scores ('total_UPDRS') from the 16 voice measures. UPDRS means Unified Parkinson's disease rating scale.\n",
    "\n",
    "The data is in ASCII CSV format. The rows of the CSV file contain an instance corresponding to one voice recording. There are around 200 recordings per patient, the subject number of the patient is identified in the first column. For further information or to pass on comments, please contact Athanasios Tsanas (tsanasthanasis '@' gmail.com) or Max Little (littlem '@'\n",
    "physics.ox.ac.uk).\n",
    "\n",
    "Further details are contained in the following reference -- if you use this dataset, please cite: Athanasios Tsanas, Max A. Little, Patrick E. McSharry, Lorraine O. Ramig (2009), 'Accurate telemonitoring of Parkinson.s disease progression by non-invasive speech tests', IEEE Transactions on Biomedical Engineering.\n",
    "\n",
    "Further details about the biomedical voice measures can be found in:\n",
    "Max A. Little, Patrick E. McSharry, Eric J. Hunter, Lorraine O. Ramig (2009), 'Suitability of dysphonia measurements for telemonitoring of Parkinson's disease', IEEE Transactions on Biomedical Engineering, 56(4):1015-1022\n",
    "\n",
    "===========================================================\n",
    "\n",
    "**ATTRIBUTE INFORMATION:**\n",
    "- **subject#** - Integer that uniquely identifies each subject\n",
    "- **age** - Subject age\n",
    "- **sex** - Subject gender '0' - male, '1' - female\n",
    "- **test_time** - Time since recruitment into the trial. The integer part is the number of days since recruitment.\n",
    "- **Jitter(%), Jitter(Abs), Jitter:RAP, Jitter:PPQ5, Jitter:DDP** - Several measures of variation in fundamental frequency\n",
    "- **Shimmer, Shimmer(dB), Shimmer:APQ3, Shimmer:APQ5, Shimmer:APQ11, Shimmer:DDA** - Several measures of variation in amplitude, Clinician's motor score\n",
    "- **NHR, HNR** - Two measures of ratio of noise to tonal components in the voice\n",
    "- **RPDE** - A nonlinear dynamical complexity measure\n",
    "- **DFA** - Signal fractal scaling exponent\n",
    "- **PPE** - A nonlinear measure of fundamental frequency variation\n",
    "- **Target-total_UPDRS** - Clinician's total UPDRS score, linearly interpolated"
   ]
  },
  {
   "cell_type": "code",
   "execution_count": null,
   "metadata": {
    "executionInfo": {
     "elapsed": 6,
     "status": "ok",
     "timestamp": 1713863431985,
     "user": {
      "displayName": "kc-aim",
      "userId": "16968997735368758960"
     },
     "user_tz": -480
    },
    "id": "MDUqyO2PRJTy"
   },
   "outputs": [],
   "source": [
    "from sklearn.neighbors import KNeighborsRegressor\n",
    "%matplotlib inline\n",
    "import matplotlib.pyplot as plt\n",
    "import pandas as pd\n",
    "from sklearn.model_selection import train_test_split"
   ]
  },
  {
   "cell_type": "code",
   "execution_count": null,
   "metadata": {
    "colab": {
     "base_uri": "https://localhost:8080/"
    },
    "executionInfo": {
     "elapsed": 28087,
     "status": "ok",
     "timestamp": 1713863460067,
     "user": {
      "displayName": "kc-aim",
      "userId": "16968997735368758960"
     },
     "user_tz": -480
    },
    "id": "pbo_60B_TUAU",
    "outputId": "afce8e84-2bdf-4c50-935a-6a01829fa714"
   },
   "outputs": [],
   "source": [
    "data_dir = \"./data/\""
   ]
  },
  {
   "cell_type": "code",
   "execution_count": null,
   "metadata": {
    "colab": {
     "base_uri": "https://localhost:8080/",
     "height": 256
    },
    "executionInfo": {
     "elapsed": 3002,
     "status": "ok",
     "timestamp": 1713863463067,
     "user": {
      "displayName": "kc-aim",
      "userId": "16968997735368758960"
     },
     "user_tz": -480
    },
    "id": "qqG7yLwoRJTy",
    "outputId": "18091be3-0f54-4012-a24a-efdff3a6b2a1",
    "scrolled": true
   },
   "outputs": [],
   "source": [
    "df_parkinsons = pd.read_excel(data_dir+'parkinsons_updrs.xlsx', sheet_name=\"parkinsons_updrs\")\n",
    "dummy=df_parkinsons\n",
    "dummy.head(5)"
   ]
  },
  {
   "cell_type": "code",
   "execution_count": null,
   "metadata": {
    "colab": {
     "base_uri": "https://localhost:8080/"
    },
    "executionInfo": {
     "elapsed": 5,
     "status": "ok",
     "timestamp": 1713863463067,
     "user": {
      "displayName": "kc-aim",
      "userId": "16968997735368758960"
     },
     "user_tz": -480
    },
    "id": "vxbsP0x8RJTy",
    "outputId": "ec47b148-739f-4907-9ded-a24e6d39c141"
   },
   "outputs": [],
   "source": [
    "df_parkinsons.shape #Size of data"
   ]
  },
  {
   "cell_type": "code",
   "execution_count": null,
   "metadata": {
    "colab": {
     "base_uri": "https://localhost:8080/",
     "height": 256
    },
    "executionInfo": {
     "elapsed": 3,
     "status": "ok",
     "timestamp": 1713863463067,
     "user": {
      "displayName": "kc-aim",
      "userId": "16968997735368758960"
     },
     "user_tz": -480
    },
    "id": "INt9wOIMRJTy",
    "outputId": "a227e01b-3a0f-46fd-a640-c42791c812fe"
   },
   "outputs": [],
   "source": [
    "df_features=dummy.drop('Target', axis=1) #Remove the target column X\n",
    "#df_features=df_features.drop('motor_score', axis=1) #Remove the motor_score column\n",
    "len(df_features)\n",
    "df_features.head(5)"
   ]
  },
  {
   "cell_type": "code",
   "execution_count": null,
   "metadata": {
    "executionInfo": {
     "elapsed": 50858,
     "status": "ok",
     "timestamp": 1713863513922,
     "user": {
      "displayName": "kc-aim",
      "userId": "16968997735368758960"
     },
     "user_tz": -480
    },
    "id": "iddkLjx2RJTy"
   },
   "outputs": [],
   "source": [
    "all_training = pd.DataFrame()\n",
    "all_test = pd.DataFrame()\n",
    "for seedN in range(1,10,1):\n",
    "    X_train, X_test, y_train, y_test = train_test_split(df_features, df_parkinsons['Target'], test_size=0.25, random_state=seedN)\n",
    "    training_accuracy = []\n",
    "    test_accuracy = []\n",
    "    neighbors_settings = range(1, 30) # try n_neighbors from 1 to 10\n",
    "\n",
    "    for n_neighbors in neighbors_settings:\n",
    "        reg = KNeighborsRegressor(n_neighbors=n_neighbors) # build the model\n",
    "        reg.fit(X_train, y_train) #clf = KNeighborsClassifier(n_neighbors=n_neighbors\n",
    "        training_accuracy.append(reg.score(X_train, y_train)) # record training set accuracy\n",
    "        test_accuracy.append(reg.score(X_test, y_test)) # record generalization accuracy\n",
    "    all_training[seedN]=training_accuracy\n",
    "    all_test[seedN] = test_accuracy"
   ]
  },
  {
   "cell_type": "code",
   "execution_count": null,
   "metadata": {
    "colab": {
     "base_uri": "https://localhost:8080/",
     "height": 0
    },
    "executionInfo": {
     "elapsed": 979,
     "status": "ok",
     "timestamp": 1713863514898,
     "user": {
      "displayName": "kc-aim",
      "userId": "16968997735368758960"
     },
     "user_tz": -480
    },
    "id": "JU8XwE4CRJTy",
    "outputId": "90a73dc1-532c-4383-8303-45517c66f0fe"
   },
   "outputs": [],
   "source": [
    "fig = plt.figure(figsize=(15, 6))\n",
    "import pylab as plot\n",
    "params = {'legend.fontsize': 20, 'legend.handlelength': 2}\n",
    "plot.rcParams.update(params)\n",
    "\n",
    "plt.errorbar(neighbors_settings, all_training.mean(axis=1),\n",
    "             yerr=all_training.std(axis=1), label=\"training accuracy\", color='blue', marker='o', linestyle='dashed', markersize=18)\n",
    "plt.errorbar(neighbors_settings, all_test.mean(axis=1),\n",
    "             yerr=all_test.std(axis=1), label=\"test accuracy\", color='red', marker='^', linestyle='-', markersize=18)\n",
    "plt.ylabel(\"Accuracy\", fontsize=18)\n",
    "plt.xlabel(\"n_neighbors\",fontsize=18)\n",
    "plt.legend()"
   ]
  },
  {
   "cell_type": "code",
   "execution_count": null,
   "metadata": {
    "colab": {
     "base_uri": "https://localhost:8080/",
     "height": 0
    },
    "executionInfo": {
     "elapsed": 11,
     "status": "ok",
     "timestamp": 1713863514898,
     "user": {
      "displayName": "kc-aim",
      "userId": "16968997735368758960"
     },
     "user_tz": -480
    },
    "id": "LQB8RrDQRJTz",
    "outputId": "327fd27b-4bde-44a4-a43d-a55a1c49b522"
   },
   "outputs": [],
   "source": [
    "from sklearn.metrics import r2_score\n",
    "\n",
    "reg = KNeighborsRegressor(n_neighbors=1)\n",
    "X_train, X_test, y_train, y_test = train_test_split(df_features, df_parkinsons['Target'], test_size=0.25, random_state=seedN)\n",
    "reg.fit(X_train, y_train)\n",
    "\n",
    "plt.plot( y_test, reg.predict(X_test), 'o')\n",
    "\n",
    "plt.xlabel(\"Actual\")\n",
    "plt.ylabel(\"Predicted\")\n",
    "\n",
    "print(r2_score(y_test, reg.predict(X_test)))"
   ]
  },
  {
   "cell_type": "code",
   "execution_count": null,
   "metadata": {
    "colab": {
     "base_uri": "https://localhost:8080/"
    },
    "executionInfo": {
     "elapsed": 8,
     "status": "ok",
     "timestamp": 1713863514898,
     "user": {
      "displayName": "kc-aim",
      "userId": "16968997735368758960"
     },
     "user_tz": -480
    },
    "id": "IKZ5KVE5RJTz",
    "outputId": "45b631b5-2f8e-4989-82ec-0153bb031bf5"
   },
   "outputs": [],
   "source": [
    "all_test.mean (axis=1) #See R2 for n_neighbors = 1 to 9"
   ]
  },
  {
   "cell_type": "markdown",
   "metadata": {
    "id": "ID-DX5z2RJTz"
   },
   "source": [
    "Notice that the best $R^2$ is achieved with **n_neighbors = 1**. The data also indicates high predictability of Parkinson's disease based on the variables provided."
   ]
  },
  {
   "cell_type": "markdown",
   "metadata": {
    "id": "N2xGjIhHRJTz"
   },
   "source": [
    "## Example 2: Bike Sharing\n",
    "\n",
    "A bike-sharing system is a new generation of traditional bike rentals where the whole process (from membership, rental, and return back) has become automatic. Through this system, a user is able to easily rent a bike from a particular position and return it back at another location. Currently, there are about over 500 bike-sharing programs around the world, composed of over 500 thousands bicycles. Today, there exists great interest in these systems due to their important role in traffic, environmental, and health issues.\n",
    "\n",
    "Apart from interesting real-world applications of bike sharing systems, the characteristics of data generated by these systems make them attractive for research. As opposed to other transport services such as bus or subway, the duration of travel, departure and arrival position is explicitly recorded in these systems. This feature turns bike sharing systems into virtual sensor networks that can be used for sensing mobility in the city. Hence, it is expected that most important events in the city could be detected by monitoring these data.\n",
    "\n",
    "\n",
    "**Attribute Information:**\n",
    "- **instant:** record index  \n",
    "- **dteday:** date  \n",
    "- **season:** season (1:springer, 2:summer, 3:fall, 4:winter)  \n",
    "- **yr:** year (0: 2011, 1:2012)  \n",
    "- **mnth:** month ( 1 to 12)  \n",
    "- **holiday:** weather day is holiday or not (extracted from [Web Link])  \n",
    "- **weekday:** day of the week  \n",
    "- **workingday:** if day is neither weekend nor holiday is 1, otherwise is 0.\n",
    "- **weathersit:**   \n",
    "    - 1: Clear, Few clouds, Partly cloudy, Partly cloudy\n",
    "    - 2: Mist + Cloudy, Mist + Broken clouds, Mist + Few clouds, Mist\n",
    "    - 3: Light Snow, Light Rain + Thunderstorm + Scattered clouds, Light Rain + Scattered clouds\n",
    "    - 4: Heavy Rain + Ice Pallets + Thunderstorm + Mist, Snow + Fog\n",
    "- **temp :** Normalized temperature in Celsius. The values are derived via (t-t_min)/(t_max-t_min), t_min=-8, t_max=+39 (only in hourly scale)  \n",
    "- **atemp:** Normalized feeling temperature in Celsius. The values are derived via (t-t_min)/(t_max-t_min), t_min=-16, t_max=+50 (only in hourly scale)  \n",
    "- **hum:** Normalized humidity. The values are divided to 100 (max)  \n",
    "- **windspeed:** Normalized wind speed. The values are divided to 67 (max)  \n",
    "- **Target = count:** count of total rental bikes\n",
    "\n",
    "The dataset was sourced from Hadi Fanaee of Laboratory of Artificial Intelligence and Decision Support (LIAAD), University of Porto , INESC Porto, Campus da FEUP, Rua Dr. Roberto Frias, 378, 4200 - 465 Porto, Portugal.  \n",
    "\n",
    "Original Source: http://capitalbikeshare.com/system-data\n",
    "Weather Information: http://www.freemeteo.com\n",
    "Holiday Schedule: http://dchr.dc.gov/page/holiday-schedule\n"
   ]
  },
  {
   "cell_type": "code",
   "execution_count": null,
   "metadata": {
    "executionInfo": {
     "elapsed": 7,
     "status": "ok",
     "timestamp": 1713863514899,
     "user": {
      "displayName": "kc-aim",
      "userId": "16968997735368758960"
     },
     "user_tz": -480
    },
    "id": "y80hatJ_RJTz"
   },
   "outputs": [],
   "source": [
    "import pandas as pd\n",
    "import numpy as np\n",
    "import matplotlib.pyplot as plt"
   ]
  },
  {
   "cell_type": "code",
   "execution_count": null,
   "metadata": {
    "colab": {
     "base_uri": "https://localhost:8080/",
     "height": 0
    },
    "executionInfo": {
     "elapsed": 766,
     "status": "ok",
     "timestamp": 1713863515658,
     "user": {
      "displayName": "kc-aim",
      "userId": "16968997735368758960"
     },
     "user_tz": -480
    },
    "id": "Tam6T-k3RJTz",
    "outputId": "dd660a75-d04a-42a4-8703-32a273b54624",
    "scrolled": true
   },
   "outputs": [],
   "source": [
    "df_bikesharing = pd.read_excel(data_dir + 'Bike_Sharing.xlsx', sheet_name=\"day\")\n",
    "dummy=df_bikesharing\n",
    "dummy.head()"
   ]
  },
  {
   "cell_type": "markdown",
   "metadata": {
    "id": "hEu5CEJQRJTz"
   },
   "source": [
    "Let's look at the histogram first."
   ]
  },
  {
   "cell_type": "code",
   "execution_count": null,
   "metadata": {
    "colab": {
     "base_uri": "https://localhost:8080/",
     "height": 0
    },
    "executionInfo": {
     "elapsed": 7,
     "status": "ok",
     "timestamp": 1713863515658,
     "user": {
      "displayName": "kc-aim",
      "userId": "16968997735368758960"
     },
     "user_tz": -480
    },
    "id": "B19w6LvBRJTz",
    "outputId": "585052fa-75c8-4fe6-9c6e-1465c38bb121"
   },
   "outputs": [],
   "source": [
    "# a. plot the histogram of bike sharing count per day\n",
    "dummy.hist(column='count', grid=False, bins=40)\n",
    "plt.title('Histogram of Bike Sharing Count per Day')\n",
    "plt.ylabel('Number of days')\n",
    "plt.xlabel('Number of bikes borrowed')"
   ]
  },
  {
   "cell_type": "code",
   "execution_count": null,
   "metadata": {
    "colab": {
     "base_uri": "https://localhost:8080/",
     "height": 0
    },
    "executionInfo": {
     "elapsed": 5,
     "status": "ok",
     "timestamp": 1713863515658,
     "user": {
      "displayName": "kc-aim",
      "userId": "16968997735368758960"
     },
     "user_tz": -480
    },
    "id": "wH1wsKZQRJT0",
    "outputId": "66b4d661-0fa5-48d6-f6d9-6c47b616a11e"
   },
   "outputs": [],
   "source": [
    "df_features=dummy.drop('count', axis=1) #Remove the target column = 'count' of bikes borrowed in a given day\n",
    "df_features=df_features.drop('instant', axis=1)\n",
    "df_features=df_features.drop('dteday', axis=1)\n",
    "len(df_features)\n",
    "df_features.head(5)"
   ]
  },
  {
   "cell_type": "code",
   "execution_count": null,
   "metadata": {
    "executionInfo": {
     "elapsed": 510,
     "status": "ok",
     "timestamp": 1713863516164,
     "user": {
      "displayName": "kc-aim",
      "userId": "16968997735368758960"
     },
     "user_tz": -480
    },
    "id": "TjgxAqldRJT0"
   },
   "outputs": [],
   "source": [
    "all_training = pd.DataFrame()\n",
    "all_test = pd.DataFrame()\n",
    "for seedN in range(1,10,1):\n",
    "    X_train, X_test, y_train, y_test = train_test_split(df_features, df_bikesharing['count'], test_size=0.25, random_state=seedN)\n",
    "    training_accuracy = []\n",
    "    test_accuracy = []\n",
    "    neighbors_settings = range(1, 11) # try n_neighbors from 1 to 10\n",
    "\n",
    "    for n_neighbors in neighbors_settings:\n",
    "        reg = KNeighborsRegressor(n_neighbors=n_neighbors) # build the model\n",
    "        reg.fit(X_train, y_train) #clf = KNeighborsClassifier(n_neighbors=n_neighbors\n",
    "        training_accuracy.append(reg.score(X_train, y_train)) # record training set accuracy\n",
    "        test_accuracy.append(reg.score(X_test, y_test)) # record generalization accuracy\n",
    "    all_training[seedN]=training_accuracy\n",
    "    all_test[seedN] = test_accuracy"
   ]
  },
  {
   "cell_type": "code",
   "execution_count": null,
   "metadata": {
    "colab": {
     "base_uri": "https://localhost:8080/",
     "height": 0
    },
    "executionInfo": {
     "elapsed": 667,
     "status": "ok",
     "timestamp": 1713863516829,
     "user": {
      "displayName": "kc-aim",
      "userId": "16968997735368758960"
     },
     "user_tz": -480
    },
    "id": "tRTXhdrbRJT0",
    "outputId": "f67caec5-86b4-4cf9-92a1-fb4d16a1c61c"
   },
   "outputs": [],
   "source": [
    "fig = plt.figure(figsize=(15, 6))\n",
    "import pylab as plot\n",
    "params = {'legend.fontsize': 20, 'legend.handlelength': 2}\n",
    "plot.rcParams.update(params)\n",
    "\n",
    "plt.errorbar(neighbors_settings, all_training.mean(axis=1),\n",
    "             yerr=all_training.std(axis=1), label=\"training accuracy\", color='blue', marker='o', linestyle='dashed', markersize=18)\n",
    "plt.errorbar(neighbors_settings, all_test.mean(axis=1),\n",
    "             yerr=all_test.std(axis=1), label=\"test accuracy\", color='red', marker='^', linestyle='-', markersize=18)\n",
    "plt.ylabel(\"Accuracy\", fontsize=18)\n",
    "plt.xlabel(\"n_neighbors\",fontsize=18)\n",
    "plt.legend()"
   ]
  },
  {
   "cell_type": "code",
   "execution_count": null,
   "metadata": {
    "colab": {
     "base_uri": "https://localhost:8080/"
    },
    "executionInfo": {
     "elapsed": 6,
     "status": "ok",
     "timestamp": 1713863516829,
     "user": {
      "displayName": "kc-aim",
      "userId": "16968997735368758960"
     },
     "user_tz": -480
    },
    "id": "44PyJG7CRJT0",
    "outputId": "1cc77c04-2518-48c4-b49e-66cd8bba6a39"
   },
   "outputs": [],
   "source": [
    "all_test.mean(axis=1)"
   ]
  },
  {
   "cell_type": "markdown",
   "metadata": {
    "id": "OA7ezRcwRJT0"
   },
   "source": [
    "Notice that the best $R^2$ is achieved with **n_neighbors = 5**."
   ]
  },
  {
   "cell_type": "code",
   "execution_count": null,
   "metadata": {
    "colab": {
     "base_uri": "https://localhost:8080/",
     "height": 466
    },
    "executionInfo": {
     "elapsed": 686,
     "status": "ok",
     "timestamp": 1713863517512,
     "user": {
      "displayName": "kc-aim",
      "userId": "16968997735368758960"
     },
     "user_tz": -480
    },
    "id": "pU1VCDc0RJT0",
    "outputId": "2cf3ec16-7686-4f09-e67d-8125ea1f4873"
   },
   "outputs": [],
   "source": [
    "from sklearn.metrics import r2_score\n",
    "\n",
    "reg = KNeighborsRegressor(n_neighbors=5)\n",
    "X_train, X_test, y_train, y_test = train_test_split(df_features, df_bikesharing['count'], test_size=0.25, random_state=5)\n",
    "reg.fit(X_train, y_train)\n",
    "\n",
    "plt.plot( y_test, reg.predict(X_test), 'o')\n",
    "\n",
    "plt.xlabel(\"Actual\")\n",
    "plt.ylabel(\"Predicted\")\n",
    "\n",
    "print(r2_score(y_test, reg.predict(X_test)))"
   ]
  },
  {
   "cell_type": "markdown",
   "metadata": {
    "id": "Rt2kAEU1OQkV"
   },
   "source": [
    "<div class=\"alert alert-block alert-info\">\n",
    "\n",
    "# ⚠️ Checkpoint ⚠️\n",
    "\n",
    "In the next 5 minutes, discuss this with your LT to check your understanding:\n",
    "\n",
    "**What was the primary difference when implenting kNN for Classification versus Regression. Does one seem to be more difficult than the other?**\n",
    "</div>"
   ]
  }
 ],
 "metadata": {
  "celltoolbar": "Slideshow",
  "colab": {
   "provenance": [],
   "toc_visible": true
  },
  "kernelspec": {
   "display_name": "Python [conda env:base] *",
   "language": "python",
   "name": "conda-base-py"
  },
  "language_info": {
   "codemirror_mode": {
    "name": "ipython",
    "version": 3
   },
   "file_extension": ".py",
   "mimetype": "text/x-python",
   "name": "python",
   "nbconvert_exporter": "python",
   "pygments_lexer": "ipython3",
   "version": "3.12.8"
  }
 },
 "nbformat": 4,
 "nbformat_minor": 4
}
