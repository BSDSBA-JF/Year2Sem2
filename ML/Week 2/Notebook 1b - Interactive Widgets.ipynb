{
 "cells": [
  {
   "cell_type": "markdown",
   "metadata": {},
   "source": [
    "## Interactive Widgets\n",
    "\n",
    "This notebook creates interactive graphs of the eight functions discussed in class. Play around with the parameters to get a feel for how each of them changes the shape of the function."
   ]
  },
  {
   "cell_type": "code",
   "execution_count": 2,
   "metadata": {
    "ExecuteTime": {
     "end_time": "2021-04-30T08:43:39.459025Z",
     "start_time": "2021-04-30T08:43:39.161038Z"
    }
   },
   "outputs": [],
   "source": [
    "import numpy as np\n",
    "import matplotlib.pyplot as plt\n",
    "    \n",
    "%matplotlib inline\n",
    "plt.rcParams[\"font.family\"] = \"Times New Roman\"\n",
    "tableau10 = ['#1F77B4', '#FF7F0E', '#2CA02C', '#D62728', '#9467BD', \n",
    "             '#8C564B', '#CFECF9', '#7F7F7F', '#BCBD22', '#17BECF']\n",
    "\n",
    "plt.show()"
   ]
  },
  {
   "cell_type": "code",
   "execution_count": 3,
   "metadata": {
    "ExecuteTime": {
     "end_time": "2021-04-30T08:43:40.878749Z",
     "start_time": "2021-04-30T08:43:40.737555Z"
    }
   },
   "outputs": [
    {
     "data": {
      "text/html": [
       "        <script type=\"text/javascript\">\n",
       "        window.PlotlyConfig = {MathJaxConfig: 'local'};\n",
       "        if (window.MathJax && window.MathJax.Hub && window.MathJax.Hub.Config) {window.MathJax.Hub.Config({SVG: {font: \"STIX-Web\"}});}\n",
       "        if (typeof require !== 'undefined') {\n",
       "        require.undef(\"plotly\");\n",
       "        requirejs.config({\n",
       "            paths: {\n",
       "                'plotly': ['https://cdn.plot.ly/plotly-2.35.2.min']\n",
       "            }\n",
       "        });\n",
       "        require(['plotly'], function(Plotly) {\n",
       "            window._Plotly = Plotly;\n",
       "        });\n",
       "        }\n",
       "        </script>\n",
       "        "
      ]
     },
     "metadata": {},
     "output_type": "display_data"
    }
   ],
   "source": [
    "import ipywidgets as widgets\n",
    "from IPython.display import display\n",
    "import plotly.offline as pyoff\n",
    "import plotly.graph_objs as go\n",
    "import plotly.tools as tools\n",
    "pyoff.init_notebook_mode(connected=True)"
   ]
  },
  {
   "cell_type": "code",
   "execution_count": 4,
   "metadata": {
    "ExecuteTime": {
     "end_time": "2021-04-30T08:43:42.140645Z",
     "start_time": "2021-04-30T08:43:41.863307Z"
    },
    "code_folding": [],
    "scrolled": false
   },
   "outputs": [
    {
     "data": {
      "application/vnd.jupyter.widget-view+json": {
       "model_id": "e8635b12394e4668a20ee963fc24157a",
       "version_major": 2,
       "version_minor": 0
      },
      "text/plain": [
       "interactive(children=(FloatSlider(value=2.0, description='m', max=5.0, min=-5.0, step=0.5), FloatSlider(value=…"
      ]
     },
     "metadata": {},
     "output_type": "display_data"
    }
   ],
   "source": [
    "def lin_func_interactive(m, b):\n",
    "    x1 = np.arange(-5., 5., 0.5)\n",
    "    x2 = np.arange(-5., 5., 0.02)\n",
    "    \n",
    "    trace1 = go.Scatter(x = x1,\n",
    "                        y = (m*x1 + b),\n",
    "                        mode = 'markers',\n",
    "                        marker = dict(size = 15,\n",
    "                                      color = 'rgba(31, 119, 180, 0.75)',\n",
    "                                      line = dict(width = 2,\n",
    "                                                  color = 'rgba(0, 107, 264, 1)')),\n",
    "                        name = '')\n",
    "    \n",
    "    trace2 = go.Scatter(x = x2,\n",
    "                        y = (m*x2 + b),\n",
    "                        mode = 'lines',\n",
    "                        line = dict(width = 3,\n",
    "                                    color = tableau10[1]),\n",
    "                        name = 'Linear Function')\n",
    "    \n",
    "    layout = go.Layout(xaxis = dict(autorange = False,\n",
    "                                    showgrid = True,\n",
    "                                    range = [-5, 5],\n",
    "                                    title = r'x',\n",
    "                                    titlefont = dict(size = 25),\n",
    "                                    tickfont = dict(size=15)),\n",
    "                       yaxis = dict(autorange = False,\n",
    "                                    showgrid = True,\n",
    "                                    range = [-15, 15],\n",
    "                                    title = r'y',\n",
    "                                    titlefont = dict(size = 25),\n",
    "                                    tickfont = dict(size=15)),\n",
    "                       title = 'Linear Plot',\n",
    "                       titlefont = dict(size = 20),\n",
    "                       showlegend = False)\n",
    "    \n",
    "    fig = go.Figure(data = [trace2, trace1],\n",
    "                    layout = layout)\n",
    "    pyoff.iplot(fig)\n",
    "    return\n",
    "\n",
    "m_widget = widgets.FloatSlider(min = -5.,\n",
    "                               max = 5.,\n",
    "                               step = 0.5,\n",
    "                               value = 2)\n",
    "b_widget = widgets.FloatSlider(min = -5.,\n",
    "                               max = 5.,\n",
    "                               step = 0.5,\n",
    "                               value = 3)\n",
    "widgets.interact(lin_func_interactive,\n",
    "                 m = m_widget,\n",
    "                 b = b_widget);"
   ]
  },
  {
   "cell_type": "code",
   "execution_count": 4,
   "metadata": {
    "ExecuteTime": {
     "end_time": "2021-04-30T08:45:08.306824Z",
     "start_time": "2021-04-30T08:45:08.207451Z"
    },
    "code_folding": []
   },
   "outputs": [
    {
     "data": {
      "application/vnd.jupyter.widget-view+json": {
       "model_id": "571b862f653d4cb8a2ba6e120fc7bd77",
       "version_major": 2,
       "version_minor": 0
      },
      "text/plain": [
       "interactive(children=(FloatSlider(value=2.0, description='a', max=5.0, min=-5.0, step=0.5), FloatSlider(value=…"
      ]
     },
     "metadata": {},
     "output_type": "display_data"
    }
   ],
   "source": [
    "def parabola_interactive(a, r1, r2):\n",
    "    x1 = np.arange(-10., 10., 0.4)\n",
    "    x2 = np.arange(-10., 10., 0.02)\n",
    "    \n",
    "    trace1 = go.Scatter(x = x1,\n",
    "                        y = a * (x1 - r1) * (x1 - r2),\n",
    "                        mode = 'markers',\n",
    "                        marker = dict(size = 15,\n",
    "                                      color = 'rgba(31, 119, 180, 0.75)',\n",
    "                                      line = dict(width=2,\n",
    "                                                  color='rgba(0, 0, 255, 0.6)')),\n",
    "                        name = '')\n",
    "    \n",
    "    trace2 = go.Scatter(x = x2,\n",
    "                        y = a * (x2 - r1) * (x2 - r2),\n",
    "                        mode = 'lines',\n",
    "                        line = dict(width = 3,\n",
    "                                    color = tableau10[1]),\n",
    "                        name = \"Parabolic Function\")\n",
    "    \n",
    "    layout = go.Layout(xaxis = dict(autorange = False,\n",
    "                                    showgrid = True,\n",
    "                                    range = [-10, 10],\n",
    "                                    title = r'x',\n",
    "                                    titlefont = dict(size = 25),\n",
    "                                    tickfont = dict(size = 15)),\n",
    "                       yaxis = dict(autorange = False,\n",
    "                                    showgrid = True,\n",
    "                                    range = [-100, 100],\n",
    "                                    title = 'y',\n",
    "                                    titlefont = dict(size = 25),\n",
    "                                    tickfont = dict(size = 15)),\n",
    "                       title = 'Parabola',\n",
    "                       titlefont = dict(size = 20),\n",
    "                       showlegend = False)\n",
    "    fig = go.Figure(data = [trace2, trace1],\n",
    "                    layout = layout)\n",
    "    pyoff.iplot(fig)\n",
    "\n",
    "a_widget = widgets.FloatSlider(min = -5.,\n",
    "                               max = 5.,\n",
    "                               step = 0.5,\n",
    "                               value = 2)\n",
    "r1_widget = widgets.FloatSlider(min = -5.,\n",
    "                                max = 5.,\n",
    "                                step = 0.5,\n",
    "                                value = -3)\n",
    "r2_widget = widgets.FloatSlider(min = -5.,\n",
    "                                max = 5.,\n",
    "                                step = 0.5,\n",
    "                                value = 3)\n",
    "widgets.interact(parabola_interactive,\n",
    "                 a = a_widget,\n",
    "                 r1 = r1_widget,\n",
    "                 r2 = r2_widget);"
   ]
  },
  {
   "cell_type": "code",
   "execution_count": 5,
   "metadata": {
    "ExecuteTime": {
     "end_time": "2021-04-21T05:01:19.716316Z",
     "start_time": "2021-04-21T05:01:19.630218Z"
    },
    "code_folding": []
   },
   "outputs": [
    {
     "data": {
      "application/vnd.jupyter.widget-view+json": {
       "model_id": "e2c49647cc754319ac97760ca0f125dc",
       "version_major": 2,
       "version_minor": 0
      },
      "text/plain": [
       "interactive(children=(FloatSlider(value=1.0, description='a', max=10.0, min=-10.0, step=0.5), FloatSlider(valu…"
      ]
     },
     "metadata": {},
     "output_type": "display_data"
    }
   ],
   "source": [
    "def cubic_interactive(a, b, c, d):\n",
    "    x1 = np.arange(-5., 5., 0.4)\n",
    "    x2 = np.arange(-5., 5., 0.02)\n",
    "    trace1 = go.Scatter(x = x1,\n",
    "                        y = (a*x1**3) + (b*x1**2) + (c*x1) + d,\n",
    "                        mode = 'markers',\n",
    "                        marker = dict(size = 15,\n",
    "                                      color = 'rgba(31, 119, 180, 0.75)',\n",
    "                                      line = dict(width = 2,\n",
    "                                                  color = 'rgba(0, 0, 255, 1)')),\n",
    "                        name = '')\n",
    "    \n",
    "    trace2 = go.Scatter(x = x2,\n",
    "                        y = (a*x2**3) + (b*x2**2) + (c*x2) + d,\n",
    "                        mode = 'lines',\n",
    "                        line = dict(width = 3,\n",
    "                                    color = tableau10[1]),\n",
    "                        name = \"Cubic Function\")\n",
    "    \n",
    "    layout = go.Layout(xaxis = dict(autorange = False,\n",
    "                                    showgrid = True,\n",
    "                                    range = [-10, 10],\n",
    "                                    title = 'x', titlefont = dict(size = 25),\n",
    "                                    tickfont = dict(size = 15)),\n",
    "                       yaxis = dict(autorange = False,\n",
    "                                    showgrid = True,\n",
    "                                    range = [-100, 100],\n",
    "                                    title = 'y',\n",
    "                                    titlefont = dict(size = 25),\n",
    "                                    tickfont = dict(size = 15)),\n",
    "                       title = 'Cubic Function',\n",
    "                       titlefont = dict(size = 20),\n",
    "                       showlegend = False)\n",
    "    fig = go.Figure(data = [trace2, trace1],\n",
    "                    layout = layout)\n",
    "    pyoff.iplot(fig)\n",
    "\n",
    "a_widget = widgets.FloatSlider(min = -10., max = 10.,\n",
    "                               step = 0.5, value = 1)\n",
    "b_widget = widgets.FloatSlider(min = -10., max = 10.,\n",
    "                               step = 0.5, value = 2)\n",
    "c_widget = widgets.FloatSlider(min = -50., max = 10.,\n",
    "                               step = 0.5, value = -9)\n",
    "d_widget = widgets.FloatSlider(min = -10., max = 24.,\n",
    "                               step = 0.5, value = 5)\n",
    "widgets.interact(cubic_interactive,\n",
    "                 a = a_widget,\n",
    "                 b = b_widget,\n",
    "                 c = c_widget,\n",
    "                 d = d_widget);"
   ]
  },
  {
   "cell_type": "code",
   "execution_count": 6,
   "metadata": {
    "ExecuteTime": {
     "end_time": "2021-04-21T05:01:19.787853Z",
     "start_time": "2021-04-21T05:01:19.718276Z"
    },
    "code_folding": []
   },
   "outputs": [
    {
     "data": {
      "application/vnd.jupyter.widget-view+json": {
       "model_id": "eb0231b0322944a9a687d58e5f047359",
       "version_major": 2,
       "version_minor": 0
      },
      "text/plain": [
       "interactive(children=(FloatSlider(value=1.0, description='A', max=10.0, min=-10.0, step=0.5), FloatSlider(valu…"
      ]
     },
     "metadata": {},
     "output_type": "display_data"
    }
   ],
   "source": [
    "def sinusoid_interactive(A, T):\n",
    "    x1 = np.arange(-5., 5., 0.02)\n",
    "    x2 = np.arange(-5., 5., 0.02)\n",
    "\n",
    "    trace1 = go.Scatter(x = x1,\n",
    "                        y = 20* np.cos((5 * x1) +3 +A),\n",
    "                        #y=12*np.cos(3*x1+2),\n",
    "                        mode = 'markers',\n",
    "                        marker = dict(size = 12,\n",
    "                                      color = 'rgba(31, 119, 180, 0.75)',\n",
    "                                      line = dict(width = 2,\n",
    "                                                  color = 'rgba(0, 0, 0, 1.0)')),\n",
    "                        name = '')\n",
    "    \n",
    "    trace2 = go.Scatter(x = x2,\n",
    "                        y = 20 * np.cos((5 * x2) +3+ A),\n",
    "                        #y=12*np.cos(3*x2+2),\n",
    "                        mode = 'lines',\n",
    "                        line = dict(width = 3,\n",
    "                                    color = tableau10[1]),\n",
    "                        name = \"Sinusoidal Function\")\n",
    "    \n",
    "    layout = go.Layout(xaxis = dict(autorange = False,\n",
    "                                    showgrid = True,\n",
    "                                    range = [-5, 5],\n",
    "                                    title = 'x',\n",
    "                                    titlefont = dict(size = 25),\n",
    "                                    tickfont = dict(size = 15)),\n",
    "                       yaxis = dict(autorange = False,\n",
    "                                    showgrid = True,\n",
    "                                    range = [-25, 25],\n",
    "                                    title = 'y',\n",
    "                                    titlefont = dict(size = 25),\n",
    "                                    tickfont = dict(size = 15)),\n",
    "                       title = 'Sinusoid',\n",
    "                       titlefont = dict(size = 20),\n",
    "                       showlegend = False)\n",
    "    \n",
    "    fig = go.Figure(data = [trace2, trace1],\n",
    "                    layout = layout)\n",
    "    pyoff.iplot(fig)\n",
    "\n",
    "A_widget = widgets.FloatSlider(min = -10.,\n",
    "                               max = 10.,\n",
    "                               step = 0.5,\n",
    "                               value = 1)\n",
    "T_widget = widgets.FloatSlider(min = 0.5,\n",
    "                               max = 10.,\n",
    "                               step = 0.5,\n",
    "                               value = 2)\n",
    "widgets.interact(sinusoid_interactive,\n",
    "                 A = A_widget,\n",
    "                 T = T_widget);"
   ]
  },
  {
   "cell_type": "code",
   "execution_count": 7,
   "metadata": {
    "ExecuteTime": {
     "end_time": "2021-04-21T05:01:19.851660Z",
     "start_time": "2021-04-21T05:01:19.789734Z"
    },
    "code_folding": []
   },
   "outputs": [
    {
     "data": {
      "application/vnd.jupyter.widget-view+json": {
       "model_id": "27a79048c062452db6ff9e25d7f7ca09",
       "version_major": 2,
       "version_minor": 0
      },
      "text/plain": [
       "interactive(children=(FloatSlider(value=2.0, description='A', max=10.0, min=-10.0, step=0.5), FloatSlider(valu…"
      ]
     },
     "metadata": {},
     "output_type": "display_data"
    }
   ],
   "source": [
    "def exponential_interactive(A, b):\n",
    "    x1 = np.arange(-1., 4., 0.1)\n",
    "    x2 = np.arange(-1., 4., 0.02)\n",
    "    \n",
    "    trace1 = go.Scatter(x = x1,\n",
    "                        y = A * np.exp(b * x1),\n",
    "                        mode = 'markers',\n",
    "                        marker = dict(size = 15,\n",
    "                                      color = 'rgba(31, 119, 180, 0.75)',\n",
    "                                      line = dict(width = 2,\n",
    "                                                  color = 'rgba(0, 0, 0, 1.0)')),\n",
    "                        name = '')\n",
    "    \n",
    "    trace2 = go.Scatter(x = x2,\n",
    "                        y = A * np.exp(b * x2),\n",
    "                        mode = 'lines',\n",
    "                        line = dict(width = 3,\n",
    "                                    color = tableau10[1]),\n",
    "                        name = \"Exponential Function\")\n",
    "    \n",
    "    layout = go.Layout(xaxis = dict(autorange = False,\n",
    "                                    showgrid = True,\n",
    "                                    range = [-1, 4],\n",
    "                                    title = 'x',\n",
    "                                    titlefont = dict(size = 25),\n",
    "                                    tickfont = dict(size = 15)),\n",
    "                       yaxis = dict(autorange = True,\n",
    "                                    showgrid = True,\n",
    "                                    title = 'y',\n",
    "                                    titlefont = dict(size = 25),\n",
    "                                    tickfont = dict(size = 15)),\n",
    "                       title = 'Exponential',\n",
    "                       titlefont = dict(size = 20),\n",
    "                       showlegend = False)\n",
    "    \n",
    "    fig = go.Figure(data = [trace2, trace1],\n",
    "                    layout = layout)\n",
    "    pyoff.iplot(fig)\n",
    "\n",
    "A_widget = widgets.FloatSlider(min = -10.,\n",
    "                               max = 10.,\n",
    "                               step = 0.5,\n",
    "                               value = 2)\n",
    "b_widget = widgets.FloatSlider(min = -5,\n",
    "                               max = 10.,\n",
    "                               step = 0.5,\n",
    "                               value = 2)\n",
    "widgets.interact(exponential_interactive,\n",
    "                 A = A_widget,\n",
    "                 b = b_widget);"
   ]
  },
  {
   "cell_type": "code",
   "execution_count": 8,
   "metadata": {
    "ExecuteTime": {
     "end_time": "2021-04-21T05:01:19.917659Z",
     "start_time": "2021-04-21T05:01:19.854438Z"
    },
    "code_folding": []
   },
   "outputs": [
    {
     "data": {
      "application/vnd.jupyter.widget-view+json": {
       "model_id": "661babecb85c4c5ea8bc309d73c35aee",
       "version_major": 2,
       "version_minor": 0
      },
      "text/plain": [
       "interactive(children=(FloatSlider(value=0.0, description='mean', max=10.0, min=-10.0, step=0.5), FloatSlider(v…"
      ]
     },
     "metadata": {},
     "output_type": "display_data"
    }
   ],
   "source": [
    "def gaussian_interactive(mean, stdev):\n",
    "    x1 = np.arange(-7., 7., 0.5)\n",
    "    x2 = np.arange(-7., 7., 0.02)\n",
    "    \n",
    "    trace1 = go.Scatter(x = x1,\n",
    "                        y = np.exp(-((x1 - mean) / stdev)**2) * (2 * np.pi * stdev)**-1,\n",
    "                        mode = 'markers',\n",
    "                        marker = dict(size = 15,\n",
    "                                      color = 'rgba(31, 119, 180, 0.75)',\n",
    "                                      line = dict(width = 1,\n",
    "                                                  color = 'rgba(0, 0, 0, 1.0)')),\n",
    "                        name = '')\n",
    "    \n",
    "    trace2 = go.Scatter(x = x2,\n",
    "                        y = np.exp(-((x2 - mean) / stdev)**2) * (2 * np.pi * stdev)**-1,\n",
    "                        mode = 'lines',\n",
    "                        line = dict(width = 3,\n",
    "                                    color = tableau10[1]),\n",
    "                        name = \"Gaussian Function\")\n",
    "    \n",
    "    layout = go.Layout(xaxis = dict(autorange = False,\n",
    "                                    showgrid = True,\n",
    "                                    range = [-7, 7],\n",
    "                                    title = 'x',\n",
    "                                    titlefont = dict(size = 25),\n",
    "                                    tickfont = dict(size = 15)),\n",
    "                       yaxis = dict(autorange = True,\n",
    "                                    showgrid = True,\n",
    "                                    title = 'y',\n",
    "                                    titlefont = dict(size = 25),\n",
    "                                    tickfont = dict(size = 15)),\n",
    "                       title = 'Gaussian or Normal distribution',\n",
    "                       titlefont = dict(size = 20),\n",
    "                       showlegend = False)\n",
    "    \n",
    "    fig = go.Figure(data = [trace2, trace1],\n",
    "                    layout = layout)\n",
    "    pyoff.iplot(fig)\n",
    "\n",
    "mean_widget = widgets.FloatSlider(min = -10.,\n",
    "                                  max = 10.,\n",
    "                                  step = 0.5,\n",
    "                                  value = 0)\n",
    "stdev_widget = widgets.FloatSlider(min = 0.5,\n",
    "                                   max = 10.,\n",
    "                                   step = 0.5,\n",
    "                                   value = 2)\n",
    "widgets.interact(gaussian_interactive,\n",
    "                 mean = mean_widget,\n",
    "                 stdev = stdev_widget);"
   ]
  },
  {
   "cell_type": "code",
   "execution_count": 9,
   "metadata": {
    "ExecuteTime": {
     "end_time": "2021-04-21T05:01:20.029883Z",
     "start_time": "2021-04-21T05:01:19.919821Z"
    },
    "code_folding": []
   },
   "outputs": [
    {
     "data": {
      "application/vnd.jupyter.widget-view+json": {
       "model_id": "6dc49dfe747341f8b1bb30523f704266",
       "version_major": 2,
       "version_minor": 0
      },
      "text/plain": [
       "interactive(children=(FloatSlider(value=1.0, description='A', max=10.0, min=0.1, step=0.5), FloatSlider(value=…"
      ]
     },
     "metadata": {},
     "output_type": "display_data"
    }
   ],
   "source": [
    "def power_interactive(A, alpha):\n",
    "    x1 = np.arange(0.01, 100., 0.5)\n",
    "    x2 = np.arange(0.01, 100., 0.02)\n",
    "    \n",
    "    trace1 = go.Scatter(x = x1,\n",
    "                        y = A * np.power(x1, -alpha),\n",
    "                        mode = 'markers',\n",
    "                        marker = dict(size = 10,\n",
    "                                      color = 'rgba(31, 119, 180, 0.75)',\n",
    "                                      line = dict(width = 2,\n",
    "                                                  color = 'rgba(0, 0, 0, 1.0)')),\n",
    "                        name = '')\n",
    "    \n",
    "    trace2 = go.Scatter(x = x2,\n",
    "                        y = A * np.power(x2, -alpha),\n",
    "                        mode = 'lines',\n",
    "                        line = dict(width = 3,\n",
    "                                    color = tableau10[1]),\n",
    "                                    #color = 'rgba(0, 255, 0, 0.6)'),\n",
    "                        name = \"Power Law\")\n",
    "    \n",
    "    layout = go.Layout(xaxis = dict(autorange = True,\n",
    "                                    showgrid = True,\n",
    "                                    title = 'x',\n",
    "                                    type = 'log',\n",
    "                                    titlefont = dict(size = 25),\n",
    "                                    tickfont = dict(size = 15)),\n",
    "                       yaxis=dict(autorange = True,\n",
    "                                  showgrid = True,\n",
    "                                  title = 'y',\n",
    "                                  type = 'log',\n",
    "                                  titlefont = dict(size = 25),\n",
    "                                  tickfont = dict(size = 15)),\n",
    "                       title = 'Power Law',\n",
    "                       titlefont = dict(size = 20),\n",
    "                       showlegend = False)\n",
    "    \n",
    "    fig = go.Figure(data = [trace2, trace1],\n",
    "                    layout = layout)\n",
    "    pyoff.iplot(fig)\n",
    "\n",
    "A_widget = widgets.FloatSlider(min = 0.1,\n",
    "                               max = 10.,\n",
    "                               step = 0.5,\n",
    "                               value = 1)\n",
    "alpha_widget = widgets.FloatSlider(min = -5,\n",
    "                                   max = 5.,\n",
    "                                   step = 0.5,\n",
    "                                   value = 1)\n",
    "widgets.interact(power_interactive,\n",
    "                 A = A_widget,\n",
    "                 alpha = alpha_widget);"
   ]
  },
  {
   "cell_type": "code",
   "execution_count": 10,
   "metadata": {
    "ExecuteTime": {
     "end_time": "2021-04-21T05:01:20.103550Z",
     "start_time": "2021-04-21T05:01:20.031692Z"
    },
    "code_folding": [],
    "scrolled": true
   },
   "outputs": [
    {
     "data": {
      "application/vnd.jupyter.widget-view+json": {
       "model_id": "aad189c848d7438cbb714b65045ee6cd",
       "version_major": 2,
       "version_minor": 0
      },
      "text/plain": [
       "interactive(children=(FloatSlider(value=1.0, description='A', max=10.0, min=-10.0, step=0.5), FloatSlider(valu…"
      ]
     },
     "metadata": {},
     "output_type": "display_data"
    }
   ],
   "source": [
    "def sigmoid_interactive(A, x0, k):\n",
    "    x1 = np.arange(-10., 10., 0.5)\n",
    "    x2 = np.arange(-10., 10., 0.02)\n",
    "    \n",
    "    trace1 = go.Scatter(x = x1,\n",
    "                        y = A/(1+np.exp(-k*(x1-x0))),\n",
    "                        mode = 'markers',\n",
    "                        marker = dict(size = 15,\n",
    "                                      color = 'rgba(31, 119, 180, 0.75)',\n",
    "                                      line = dict(width = 2,\n",
    "                                                  color = 'rgba(0, 0, 0, 1.0)')),\n",
    "                        name = '')\n",
    "    \n",
    "    trace2 = go.Scatter(x = x2,\n",
    "                        y = A/(1+np.exp(-k*(x2-x0))),\n",
    "                        mode = 'lines',\n",
    "                        line = dict(width = 3,\n",
    "                                    color = tableau10[1]),\n",
    "                        name = \"Sigmoidal Function\")\n",
    "    \n",
    "    layout = go.Layout(xaxis = dict(autorange = False,\n",
    "                                    showgrid = True,\n",
    "                                    range = [-10, 10],\n",
    "                                    title = 'x',\n",
    "                                    titlefont = dict(size = 25),\n",
    "                                    tickfont = dict(size = 15)),\n",
    "                       yaxis = dict(autorange = True,\n",
    "                                    showgrid = True,\n",
    "                                    title = 'y',\n",
    "                                    titlefont = dict(size = 25),\n",
    "                                    tickfont = dict(size = 15)),\n",
    "                       title = 'Sigmoid',\n",
    "                       titlefont = dict(size = 20),\n",
    "                       showlegend = False)\n",
    "    \n",
    "    fig = go.Figure(data = [trace2, trace1],\n",
    "                    layout = layout)\n",
    "    pyoff.iplot(fig)\n",
    "\n",
    "A_widget = widgets.FloatSlider(min = -10.,\n",
    "                               max = 10.,\n",
    "                               step = 0.5,\n",
    "                               value = 1)\n",
    "x0_widget = widgets.FloatSlider(min = -5.,\n",
    "                                max = 5.,\n",
    "                                step = 0.5,\n",
    "                                value = 0)\n",
    "k_widget = widgets.FloatSlider(min = -5.,\n",
    "                               max = 5.,\n",
    "                               step = 1.0,\n",
    "                               value = 1)\n",
    "\n",
    "widgets.interact(sigmoid_interactive,\n",
    "                 A = A_widget,\n",
    "                 x0 = x0_widget,\n",
    "                 k = k_widget);"
   ]
  }
 ],
 "metadata": {
  "kernelspec": {
   "display_name": "Python 3",
   "language": "python",
   "name": "python3"
  },
  "language_info": {
   "codemirror_mode": {
    "name": "ipython",
    "version": 3
   },
   "file_extension": ".py",
   "mimetype": "text/x-python",
   "name": "python",
   "nbconvert_exporter": "python",
   "pygments_lexer": "ipython3",
   "version": "3.11.5"
  }
 },
 "nbformat": 4,
 "nbformat_minor": 2
}
