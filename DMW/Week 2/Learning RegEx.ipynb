{
 "cells": [
  {
   "cell_type": "code",
   "execution_count": 44,
   "metadata": {},
   "outputs": [],
   "source": [
    "import re"
   ]
  },
  {
   "cell_type": "markdown",
   "metadata": {},
   "source": [
    "# re functions\n",
    "* match\n",
    "    * Pattern should match at the *beginning* of each string\n",
    "* search\n",
    "    * Pattern can be anywhere in the string"
   ]
  },
  {
   "cell_type": "markdown",
   "metadata": {},
   "source": [
    "## Introduction"
   ]
  },
  {
   "cell_type": "markdown",
   "metadata": {},
   "source": [
    "If there is no match, the match and search function will return None. Just for technicality, ```None``` is an instance of the class/type of ```NoneType```. To specify, if there exists or none, we then convert the None into a boolean. "
   ]
  },
  {
   "cell_type": "code",
   "execution_count": 22,
   "metadata": {},
   "outputs": [
    {
     "data": {
      "text/plain": [
       "NoneType"
      ]
     },
     "execution_count": 22,
     "metadata": {},
     "output_type": "execute_result"
    }
   ],
   "source": [
    "# This will output the 'NoneType', which is the class of None.\n",
    "type(re.match('foo', 'myfavestring'))"
   ]
  },
  {
   "cell_type": "code",
   "execution_count": 25,
   "metadata": {},
   "outputs": [
    {
     "data": {
      "text/plain": [
       "False"
      ]
     },
     "execution_count": 25,
     "metadata": {},
     "output_type": "execute_result"
    }
   ],
   "source": [
    "# Converts the None into a boolean False\n",
    "bool(re.match('foo', 'myfavestring'))"
   ]
  },
  {
   "cell_type": "markdown",
   "metadata": {},
   "source": [
    "If there is a match, then ```match``` and ```search``` will return a match object. It specifies where it is found through the span and what it actually matched."
   ]
  },
  {
   "cell_type": "code",
   "execution_count": 26,
   "metadata": {},
   "outputs": [
    {
     "data": {
      "text/plain": [
       "<re.Match object; span=(0, 3), match='foo'>"
      ]
     },
     "execution_count": 26,
     "metadata": {},
     "output_type": "execute_result"
    }
   ],
   "source": [
    "re.match('foo', 'foo myfavestring')"
   ]
  },
  {
   "cell_type": "markdown",
   "metadata": {},
   "source": [
    "## Begins with foo"
   ]
  },
  {
   "cell_type": "code",
   "execution_count": 32,
   "metadata": {},
   "outputs": [],
   "source": [
    "# Without regular expressions\n",
    "def begins_with_foo_no_re(s):\n",
    "    \"\"\"Returns True if s begins with substring 'foo' (case-sensitive)\"\"\"\n",
    "    return s[0:3] == 'foo'\n",
    "\n",
    "# With regular expressions\n",
    "def begins_with_foo_re_match(s):\n",
    "    \"\"\"Returns True if s begins with substring 'foo' (case-sensitive)\"\"\"\n",
    "    return bool(re.match('foo', s))\n",
    "\n",
    "# Instead of using match, we can also just use ^ to indicate the start of a string\n",
    "def begins_with_foo_re_search(s):\n",
    "    \"\"\"Returns True if s begins with substring 'foo' (case-sensitive)\"\"\"\n",
    "    return bool(re.search('^foo', s))\n"
   ]
  },
  {
   "cell_type": "code",
   "execution_count": null,
   "metadata": {},
   "outputs": [],
   "source": [
    "# Without regular expressions\n",
    "def begins_with_foo_insensitive_no_re(s):\n",
    "    \"\"\"Returns True if s begins with substring 'foo' (case-insensitive)\"\"\"\n",
    "    # We use .casefold() than .lower() since the latter is more general.\n",
    "    s = s.casefold()\n",
    "    return s[0:3] == 'foo'\n",
    "    \n",
    "# We can use a flag to make it case-insensitive through re.IGNORECASE or re.I\n",
    "def begins_with_foo_insensitive_re(s):\n",
    "    \"\"\"Returns True if s begins with substring 'foo' (case-sensitive)\"\"\"\n",
    "    return bool(re.match('foo', s, flags = re.I))"
   ]
  },
  {
   "cell_type": "code",
   "execution_count": 38,
   "metadata": {},
   "outputs": [
    {
     "data": {
      "text/plain": [
       "True"
      ]
     },
     "execution_count": 38,
     "metadata": {},
     "output_type": "execute_result"
    }
   ],
   "source": [
    "begins_with_foo_insensitive_re('Fooooo')"
   ]
  },
  {
   "cell_type": "markdown",
   "metadata": {},
   "source": [
    "## Ends with foo\n",
    "Setting up on how to get is substring **ends** with foo for 2 situations of case-senstive and case-insensitive"
   ]
  },
  {
   "cell_type": "code",
   "execution_count": 30,
   "metadata": {},
   "outputs": [],
   "source": [
    "# Case-insenstive versions\n",
    "def ends_with_foo_no_re(s):\n",
    "    \"\"\"Returns True if s ends with substring 'foo'\"\"\"\n",
    "    return s.endswith('foo')\n",
    "\n",
    "def end_with_foo_re(s):\n",
    "    \"\"\"Returns True if s ends with substring 'foo'\"\"\"\n",
    "    return bool(re.search(\"foo$\", s))"
   ]
  },
  {
   "cell_type": "code",
   "execution_count": 31,
   "metadata": {},
   "outputs": [
    {
     "data": {
      "text/plain": [
       "True"
      ]
     },
     "execution_count": 31,
     "metadata": {},
     "output_type": "execute_result"
    }
   ],
   "source": [
    "end_with_foo_re('uwufoo')"
   ]
  },
  {
   "cell_type": "code",
   "execution_count": 41,
   "metadata": {},
   "outputs": [],
   "source": [
    "# Without regular expressions\n",
    "def ends_with_foo_insensitive_no_re(s):\n",
    "    \"\"\"Returns True if s begins with substring 'foo' (case-insensitive)\"\"\"\n",
    "    # We use .casefold() since it is more general than .lower()\n",
    "    s = s.casefold()\n",
    "    return s[-3:] == 'foo'\n",
    "    \n",
    "# We can use a flag to make it case-insensitive through re.IGNORECASE or re.I\n",
    "def ends_with_foo_insensitive_re(s):\n",
    "    \"\"\"Returns True if s begins with substring 'foo' (case-sensitive)\"\"\"\n",
    "    return bool(re.search('foo$', s, flags = re.I))"
   ]
  },
  {
   "cell_type": "code",
   "execution_count": 43,
   "metadata": {},
   "outputs": [
    {
     "data": {
      "text/plain": [
       "True"
      ]
     },
     "execution_count": 43,
     "metadata": {},
     "output_type": "execute_result"
    }
   ],
   "source": [
    "ends_with_foo_insensitive_re('faveFOo')"
   ]
  },
  {
   "cell_type": "markdown",
   "metadata": {},
   "source": [
    "If for example you plave ```\"^foo$\"```, then you will only accept strings specifically that are only ```foo```. Anything else is false."
   ]
  },
  {
   "cell_type": "code",
   "execution_count": 34,
   "metadata": {},
   "outputs": [
    {
     "data": {
      "text/plain": [
       "True"
      ]
     },
     "execution_count": 34,
     "metadata": {},
     "output_type": "execute_result"
    }
   ],
   "source": [
    "bool(re.search(\"^foo$\", 'foo'))"
   ]
  },
  {
   "cell_type": "markdown",
   "metadata": {},
   "source": [
    "## Has foo"
   ]
  },
  {
   "cell_type": "code",
   "execution_count": 51,
   "metadata": {},
   "outputs": [],
   "source": [
    "# Case-sensitive\n",
    "def has_foo_sensitive_no_re(s):\n",
    "    \"\"\"Returns True if s has substring 'foo' (case-sensitive)\"\"\"\n",
    "    return 'foo' in s\n",
    "\n",
    "def has_foo_sensitive_re(s):\n",
    "    \"\"\"Returns True if s has substring 'foo' (case-sensitive)\"\"\"\n",
    "    return bool(re.search('foo', s))"
   ]
  },
  {
   "cell_type": "code",
   "execution_count": 54,
   "metadata": {},
   "outputs": [
    {
     "data": {
      "text/plain": [
       "True"
      ]
     },
     "execution_count": 54,
     "metadata": {},
     "output_type": "execute_result"
    }
   ],
   "source": [
    "# Case-insensitive\n",
    "def has_foo_insensitive_no_re(s):\n",
    "    \"\"\"Returns True if s has substring 'foo' (case-insensitive)\"\"\"\n",
    "    return 'foo' in s.lower()\n",
    "\n",
    "def has_foo_insensitive_re(s):\n",
    "    \"\"\"Returns True if s has substring 'foo' (case-insensitive)\"\"\"\n",
    "    return bool(re.search('foo', s, flags = re.I))\n",
    "\n",
    "has_foo_insensitive_re('uwuFOO$')"
   ]
  },
  {
   "cell_type": "markdown",
   "metadata": {},
   "source": [
    "## Begins with a number"
   ]
  },
  {
   "cell_type": "markdown",
   "metadata": {},
   "source": [
    "We will now use the *raw* string format. We just do this by ```r'some string'```. We do this so that it can recognize the backslash."
   ]
  },
  {
   "cell_type": "code",
   "execution_count": 60,
   "metadata": {},
   "outputs": [],
   "source": [
    "def begins_with_num_no_re(s):\n",
    "    return s[0].isnumeric()\n",
    "\n",
    "\n",
    "def begins_with_num_re_match(s):\n",
    "    return bool(re.match(r'\\d', s))\n",
    "\n",
    "def begins_with_num_re_search(s):\n",
    "    return bool(re.search(r'^\\d', s))"
   ]
  },
  {
   "cell_type": "code",
   "execution_count": 61,
   "metadata": {},
   "outputs": [
    {
     "data": {
      "text/plain": [
       "True"
      ]
     },
     "execution_count": 61,
     "metadata": {},
     "output_type": "execute_result"
    }
   ],
   "source": [
    "begins_with_num_re_search('12')"
   ]
  },
  {
   "cell_type": "markdown",
   "metadata": {},
   "source": [
    "## Begins with a number then letter"
   ]
  },
  {
   "cell_type": "code",
   "execution_count": 68,
   "metadata": {},
   "outputs": [
    {
     "data": {
      "text/plain": [
       "True"
      ]
     },
     "execution_count": 68,
     "metadata": {},
     "output_type": "execute_result"
    }
   ],
   "source": [
    "def begins_number_letter_no_re(s):\n",
    "    \"\"\"Returns True if s begins with a number then a letter\"\"\"\n",
    "    return s[0].isdigit() and s[1].isalpha()\n",
    "\n",
    "def begins_number_letter_re(s):\n",
    "    \"\"\"Returns True if s begins with a number then a letter\"\"\"\n",
    "    return bool(re.match(r'\\d[a-zA-Z]', s))\n",
    "\n",
    "begins_number_letter_re('1s')"
   ]
  },
  {
   "cell_type": "markdown",
   "metadata": {},
   "source": [
    "## Has a substring of number then letter"
   ]
  },
  {
   "cell_type": "code",
   "execution_count": 70,
   "metadata": {},
   "outputs": [],
   "source": [
    "def number_then_letter_no_re(s):\n",
    "    \"\"\"Returns True if s contains a number followed by a letter\"\"\"\n",
    "    for i in range(1, len(s)):\n",
    "        if s[i-1].isdigit() and s[i].isalpha():\n",
    "            return True\n",
    "    return False\n",
    "\n",
    "def number_then_letter_re(s):\n",
    "    \"\"\"Returns True if s contains a number followed by a letter\"\"\"\n",
    "    return bool(re.search(r'\\d[a-zA-Z]', s))"
   ]
  },
  {
   "cell_type": "markdown",
   "metadata": {},
   "source": [
    "# Using lazydog"
   ]
  },
  {
   "cell_type": "markdown",
   "metadata": {},
   "source": [
    "Let us look more closely on what is a ```match``` object. It has the group method, which allows you to specify a certain group. What is most important is ```group(0)``` or basically the entire match.\n",
    "\n",
    "* group\n",
    "    * group(0) is entire match\n",
    "    * group(n) is the $n$-th paranthesized group\n",
    "    * group(name) is the paranthesized group name\n",
    "* groups\n",
    "    * Return all subgroups\n",
    "* start\n",
    "    * Starting index of the string\n",
    "* end\n",
    "    * Ending index + 1 of the string. This is because Python takes the exclusive for string splicing\n",
    "* span\n",
    "    * Gives the start and end numbers as a tuple"
   ]
  },
  {
   "cell_type": "code",
   "execution_count": 71,
   "metadata": {},
   "outputs": [],
   "source": [
    "lazydog = '''The quick brown fox jumps over the lazydog. The quick brown fox jumps over the lazy dog.\n",
    "The quick brown then fox 123 abc123 999xyz jumps he over the -he lazy      she dog. The quick brown fox jumps over the lazy$!@dog.'''"
   ]
  },
  {
   "cell_type": "code",
   "execution_count": 75,
   "metadata": {},
   "outputs": [
    {
     "data": {
      "text/plain": [
       "<re.Match object; span=(0, 3), match='The'>"
      ]
     },
     "execution_count": 75,
     "metadata": {},
     "output_type": "execute_result"
    }
   ],
   "source": [
    "match = re.match('The', lazydog)\n",
    "# This returns us a match object\n",
    "match"
   ]
  },
  {
   "cell_type": "code",
   "execution_count": 76,
   "metadata": {},
   "outputs": [
    {
     "data": {
      "text/plain": [
       "'The'"
      ]
     },
     "execution_count": 76,
     "metadata": {},
     "output_type": "execute_result"
    }
   ],
   "source": [
    "match.group()"
   ]
  },
  {
   "cell_type": "markdown",
   "metadata": {},
   "source": [
    "We can now notice how helpful the ```.start()```, ```.end()```, and ```.span()``` functions are through the string splicing."
   ]
  },
  {
   "cell_type": "code",
   "execution_count": 79,
   "metadata": {},
   "outputs": [
    {
     "data": {
      "text/plain": [
       "'The'"
      ]
     },
     "execution_count": 79,
     "metadata": {},
     "output_type": "execute_result"
    }
   ],
   "source": [
    "lazydog[match.start(): match.end()]"
   ]
  },
  {
   "cell_type": "code",
   "execution_count": 82,
   "metadata": {},
   "outputs": [
    {
     "data": {
      "text/plain": [
       "'The'"
      ]
     },
     "execution_count": 82,
     "metadata": {},
     "output_type": "execute_result"
    }
   ],
   "source": [
    "start, end = match.span()\n",
    "lazydog[start : end]"
   ]
  },
  {
   "cell_type": "markdown",
   "metadata": {},
   "source": [
    "For the ```search``` method, it will only give you the first match. Thus, you would then have to use the ```finditer``` and ```findall``` method."
   ]
  },
  {
   "cell_type": "code",
   "execution_count": 84,
   "metadata": {},
   "outputs": [
    {
     "data": {
      "text/plain": [
       "<re.Match object; span=(0, 3), match='The'>"
      ]
     },
     "execution_count": 84,
     "metadata": {},
     "output_type": "execute_result"
    }
   ],
   "source": [
    "match = re.search('The', lazydog)\n",
    "# You will see only one match, not any of the other \"The\"s\n",
    "match"
   ]
  },
  {
   "cell_type": "code",
   "execution_count": 87,
   "metadata": {},
   "outputs": [
    {
     "data": {
      "text/plain": [
       "['The', 'The', 'The', 'The']"
      ]
     },
     "execution_count": 87,
     "metadata": {},
     "output_type": "execute_result"
    }
   ],
   "source": [
    "re.findall('The', lazydog)"
   ]
  },
  {
   "cell_type": "code",
   "execution_count": 89,
   "metadata": {},
   "outputs": [
    {
     "name": "stdout",
     "output_type": "stream",
     "text": [
      "<re.Match object; span=(0, 3), match='The'>\n",
      "<re.Match object; span=(44, 47), match='The'>\n",
      "<re.Match object; span=(89, 92), match='The'>\n",
      "<re.Match object; span=(173, 176), match='The'>\n"
     ]
    }
   ],
   "source": [
    "matches = re.finditer('The', lazydog)\n",
    "\n",
    "for match in matches:\n",
    "    print(match)"
   ]
  },
  {
   "cell_type": "code",
   "execution_count": null,
   "metadata": {},
   "outputs": [],
   "source": []
  }
 ],
 "metadata": {
  "kernelspec": {
   "display_name": "Python 3",
   "language": "python",
   "name": "python3"
  },
  "language_info": {
   "codemirror_mode": {
    "name": "ipython",
    "version": 3
   },
   "file_extension": ".py",
   "mimetype": "text/x-python",
   "name": "python",
   "nbconvert_exporter": "python",
   "pygments_lexer": "ipython3",
   "version": "3.11.5"
  }
 },
 "nbformat": 4,
 "nbformat_minor": 2
}
