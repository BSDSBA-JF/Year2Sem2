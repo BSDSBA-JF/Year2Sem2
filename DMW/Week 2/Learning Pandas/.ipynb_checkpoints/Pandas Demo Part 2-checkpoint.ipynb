{
 "cells": [
  {
   "cell_type": "code",
   "execution_count": 1,
   "id": "1ae61aa9-bc5f-43da-84b4-507b820e46f8",
   "metadata": {},
   "outputs": [],
   "source": [
    "import pandas as pd"
   ]
  },
  {
   "cell_type": "code",
   "execution_count": 6,
   "id": "0d2736c2-5ce5-4d46-8cdc-6a74c7a8d9e5",
   "metadata": {},
   "outputs": [],
   "source": [
    "people = {\n",
    "    'first' : ['Corey', 'Jane', 'John'],\n",
    "    'last' : ['Schafer', 'Doe', 'Doe'],\n",
    "    'email' : ['Corey@gmail.com', 'Jane@gmail.com', 'John@gmail.com']\n",
    "}"
   ]
  },
  {
   "cell_type": "code",
   "execution_count": 7,
   "id": "9a263c32-66a4-49db-9c0f-8a97f6c6c5e4",
   "metadata": {},
   "outputs": [],
   "source": [
    "import pandas as pd"
   ]
  },
  {
   "cell_type": "code",
   "execution_count": 17,
   "id": "2d6aaed4-e749-402c-967f-4a95bf0baa11",
   "metadata": {},
   "outputs": [
    {
     "data": {
      "text/html": [
       "<div>\n",
       "<style scoped>\n",
       "    .dataframe tbody tr th:only-of-type {\n",
       "        vertical-align: middle;\n",
       "    }\n",
       "\n",
       "    .dataframe tbody tr th {\n",
       "        vertical-align: top;\n",
       "    }\n",
       "\n",
       "    .dataframe thead th {\n",
       "        text-align: right;\n",
       "    }\n",
       "</style>\n",
       "<table border=\"1\" class=\"dataframe\">\n",
       "  <thead>\n",
       "    <tr style=\"text-align: right;\">\n",
       "      <th></th>\n",
       "      <th>first</th>\n",
       "      <th>last</th>\n",
       "      <th>email</th>\n",
       "    </tr>\n",
       "  </thead>\n",
       "  <tbody>\n",
       "    <tr>\n",
       "      <th>0</th>\n",
       "      <td>Corey</td>\n",
       "      <td>Schafer</td>\n",
       "      <td>Corey@gmail.com</td>\n",
       "    </tr>\n",
       "    <tr>\n",
       "      <th>1</th>\n",
       "      <td>Jane</td>\n",
       "      <td>Doe</td>\n",
       "      <td>Jane@gmail.com</td>\n",
       "    </tr>\n",
       "    <tr>\n",
       "      <th>2</th>\n",
       "      <td>John</td>\n",
       "      <td>Doe</td>\n",
       "      <td>John@gmail.com</td>\n",
       "    </tr>\n",
       "  </tbody>\n",
       "</table>\n",
       "</div>"
      ],
      "text/plain": [
       "   first     last            email\n",
       "0  Corey  Schafer  Corey@gmail.com\n",
       "1   Jane      Doe   Jane@gmail.com\n",
       "2   John      Doe   John@gmail.com"
      ]
     },
     "execution_count": 17,
     "metadata": {},
     "output_type": "execute_result"
    }
   ],
   "source": [
    "df = pd.DataFrame(people)\n",
    "df"
   ]
  },
  {
   "cell_type": "code",
   "execution_count": 12,
   "id": "fe7e735e-bcc7-466b-9fc7-ceea60e0faa7",
   "metadata": {
    "scrolled": true
   },
   "outputs": [
    {
     "data": {
      "text/plain": [
       "0    Corey@gmail.com\n",
       "1     Jane@gmail.com\n",
       "2     John@gmail.com\n",
       "Name: email, dtype: object"
      ]
     },
     "execution_count": 12,
     "metadata": {},
     "output_type": "execute_result"
    }
   ],
   "source": [
    "# This is the preferred format since it is possible that a name of the column has the same name of an attribute or method.\n",
    "df['email']"
   ]
  },
  {
   "cell_type": "code",
   "execution_count": 13,
   "id": "b43c9d7c-ac00-469b-9070-e1bde1be14cd",
   "metadata": {},
   "outputs": [
    {
     "data": {
      "text/plain": [
       "0    Corey@gmail.com\n",
       "1     Jane@gmail.com\n",
       "2     John@gmail.com\n",
       "Name: email, dtype: object"
      ]
     },
     "execution_count": 13,
     "metadata": {},
     "output_type": "execute_result"
    }
   ],
   "source": [
    "# This is another way to rewrite the code above. This is called the dot notation. \n",
    "df.email"
   ]
  },
  {
   "cell_type": "code",
   "execution_count": 15,
   "id": "d52fd35e-08ee-49cd-88e5-d37c16a6cd14",
   "metadata": {},
   "outputs": [
    {
     "data": {
      "text/plain": [
       "pandas.core.series.Series"
      ]
     },
     "execution_count": 15,
     "metadata": {},
     "output_type": "execute_result"
    }
   ],
   "source": [
    "type(df['email'])"
   ]
  },
  {
   "cell_type": "markdown",
   "id": "32966fb9-7684-4eee-8c28-32f0e9b01a01",
   "metadata": {},
   "source": [
    "```df['email']``` is a Series object, which is just a list of data but has a lot more functionality. Formally, Series is a one dimensional array, which are the rows of a single column. We then define a DataFrame as a collection of series.\n",
    "\n",
    "The Series still has an index. Moreover, we can also access more specific information within the series.\n",
    "\n",
    "The functionality of the DataFrames can be seen through accessing multiple columns.\n",
    "```df[[col_1, col_2, ..., col_n]]``` The output is no longer a series but rather another FILTERED DOWN dataframe because it is not one dimensional anymore."
   ]
  },
  {
   "cell_type": "code",
   "execution_count": 20,
   "id": "89e36bb3-ae54-4b3c-8064-e4882ff25d12",
   "metadata": {},
   "outputs": [
    {
     "data": {
      "text/html": [
       "<div>\n",
       "<style scoped>\n",
       "    .dataframe tbody tr th:only-of-type {\n",
       "        vertical-align: middle;\n",
       "    }\n",
       "\n",
       "    .dataframe tbody tr th {\n",
       "        vertical-align: top;\n",
       "    }\n",
       "\n",
       "    .dataframe thead th {\n",
       "        text-align: right;\n",
       "    }\n",
       "</style>\n",
       "<table border=\"1\" class=\"dataframe\">\n",
       "  <thead>\n",
       "    <tr style=\"text-align: right;\">\n",
       "      <th></th>\n",
       "      <th>last</th>\n",
       "      <th>email</th>\n",
       "    </tr>\n",
       "  </thead>\n",
       "  <tbody>\n",
       "    <tr>\n",
       "      <th>0</th>\n",
       "      <td>Schafer</td>\n",
       "      <td>Corey@gmail.com</td>\n",
       "    </tr>\n",
       "    <tr>\n",
       "      <th>1</th>\n",
       "      <td>Doe</td>\n",
       "      <td>Jane@gmail.com</td>\n",
       "    </tr>\n",
       "    <tr>\n",
       "      <th>2</th>\n",
       "      <td>Doe</td>\n",
       "      <td>John@gmail.com</td>\n",
       "    </tr>\n",
       "  </tbody>\n",
       "</table>\n",
       "</div>"
      ],
      "text/plain": [
       "      last            email\n",
       "0  Schafer  Corey@gmail.com\n",
       "1      Doe   Jane@gmail.com\n",
       "2      Doe   John@gmail.com"
      ]
     },
     "execution_count": 20,
     "metadata": {},
     "output_type": "execute_result"
    }
   ],
   "source": [
    "df[['last', 'email']]"
   ]
  },
  {
   "cell_type": "code",
   "execution_count": 22,
   "id": "677b5f8f-ee40-4f2a-9619-5bcf5b3e44bf",
   "metadata": {},
   "outputs": [
    {
     "data": {
      "text/plain": [
       "Index(['first', 'last', 'email'], dtype='object')"
      ]
     },
     "execution_count": 22,
     "metadata": {},
     "output_type": "execute_result"
    }
   ],
   "source": [
    "# It gives us all of the columns.\n",
    "df.columns"
   ]
  },
  {
   "cell_type": "markdown",
   "id": "dffb62c0-f68a-4744-9390-2d88a0814f93",
   "metadata": {},
   "source": [
    "To get rows, we either us ```loc``` or ```iloc```. \n",
    "\n",
    "```iloc``` allows us to access rows by integer location. If we would like to get the first (so the 0$^{\\text{th}}$) row, we write\n",
    "```df.iloc[0]```.\n",
    "\n",
    "Whenever we are accessing a row, the indices now become the column nows.\n",
    "\n",
    "If you would to select multiple rows like both 0th and 1st row, we write ```df.iloc[[0, 1]]```. We can also specify the columns that we want. However, since ```iloc``` is specifically for integers, we can't use names but rather the number corresponding to the column. For example, the 2nd column (remember we start counting from zero) is the *email* column. Thus, we write ```df.iloc[[0,1], 2]``` to get the data from the first and second row and specifically on the *email* column"
   ]
  },
  {
   "cell_type": "code",
   "execution_count": 23,
   "id": "988b44a6-ae43-462f-9b5e-5f925e37f3e8",
   "metadata": {},
   "outputs": [
    {
     "data": {
      "text/plain": [
       "first              Corey\n",
       "last             Schafer\n",
       "email    Corey@gmail.com\n",
       "Name: 0, dtype: object"
      ]
     },
     "execution_count": 23,
     "metadata": {},
     "output_type": "execute_result"
    }
   ],
   "source": [
    "df.iloc[0]"
   ]
  },
  {
   "cell_type": "code",
   "execution_count": 24,
   "id": "b346a7f2-3bae-47bf-bc2b-9fd2a62a7b62",
   "metadata": {},
   "outputs": [
    {
     "data": {
      "text/html": [
       "<div>\n",
       "<style scoped>\n",
       "    .dataframe tbody tr th:only-of-type {\n",
       "        vertical-align: middle;\n",
       "    }\n",
       "\n",
       "    .dataframe tbody tr th {\n",
       "        vertical-align: top;\n",
       "    }\n",
       "\n",
       "    .dataframe thead th {\n",
       "        text-align: right;\n",
       "    }\n",
       "</style>\n",
       "<table border=\"1\" class=\"dataframe\">\n",
       "  <thead>\n",
       "    <tr style=\"text-align: right;\">\n",
       "      <th></th>\n",
       "      <th>first</th>\n",
       "      <th>last</th>\n",
       "      <th>email</th>\n",
       "    </tr>\n",
       "  </thead>\n",
       "  <tbody>\n",
       "    <tr>\n",
       "      <th>0</th>\n",
       "      <td>Corey</td>\n",
       "      <td>Schafer</td>\n",
       "      <td>Corey@gmail.com</td>\n",
       "    </tr>\n",
       "    <tr>\n",
       "      <th>1</th>\n",
       "      <td>Jane</td>\n",
       "      <td>Doe</td>\n",
       "      <td>Jane@gmail.com</td>\n",
       "    </tr>\n",
       "  </tbody>\n",
       "</table>\n",
       "</div>"
      ],
      "text/plain": [
       "   first     last            email\n",
       "0  Corey  Schafer  Corey@gmail.com\n",
       "1   Jane      Doe   Jane@gmail.com"
      ]
     },
     "execution_count": 24,
     "metadata": {},
     "output_type": "execute_result"
    }
   ],
   "source": [
    "df.iloc[[0, 1]]"
   ]
  },
  {
   "cell_type": "code",
   "execution_count": 26,
   "id": "f0c463b1-7ab2-4bee-9c6c-19ffaeec140b",
   "metadata": {},
   "outputs": [
    {
     "data": {
      "text/plain": [
       "0    Corey@gmail.com\n",
       "1     Jane@gmail.com\n",
       "Name: email, dtype: object"
      ]
     },
     "execution_count": 26,
     "metadata": {},
     "output_type": "execute_result"
    }
   ],
   "source": [
    "df.iloc[[0, 1], 2]"
   ]
  },
  {
   "cell_type": "markdown",
   "id": "fdc33993-2c43-4e27-832c-7fb9be7a2da6",
   "metadata": {},
   "source": [
    "Let us now look at ```loc``` which uses the names. "
   ]
  },
  {
   "cell_type": "code",
   "execution_count": 27,
   "id": "0f7ba773-a3b3-4fbc-8b90-756c3271eb3b",
   "metadata": {},
   "outputs": [
    {
     "data": {
      "text/html": [
       "<div>\n",
       "<style scoped>\n",
       "    .dataframe tbody tr th:only-of-type {\n",
       "        vertical-align: middle;\n",
       "    }\n",
       "\n",
       "    .dataframe tbody tr th {\n",
       "        vertical-align: top;\n",
       "    }\n",
       "\n",
       "    .dataframe thead th {\n",
       "        text-align: right;\n",
       "    }\n",
       "</style>\n",
       "<table border=\"1\" class=\"dataframe\">\n",
       "  <thead>\n",
       "    <tr style=\"text-align: right;\">\n",
       "      <th></th>\n",
       "      <th>first</th>\n",
       "      <th>last</th>\n",
       "      <th>email</th>\n",
       "    </tr>\n",
       "  </thead>\n",
       "  <tbody>\n",
       "    <tr>\n",
       "      <th>0</th>\n",
       "      <td>Corey</td>\n",
       "      <td>Schafer</td>\n",
       "      <td>Corey@gmail.com</td>\n",
       "    </tr>\n",
       "    <tr>\n",
       "      <th>1</th>\n",
       "      <td>Jane</td>\n",
       "      <td>Doe</td>\n",
       "      <td>Jane@gmail.com</td>\n",
       "    </tr>\n",
       "    <tr>\n",
       "      <th>2</th>\n",
       "      <td>John</td>\n",
       "      <td>Doe</td>\n",
       "      <td>John@gmail.com</td>\n",
       "    </tr>\n",
       "  </tbody>\n",
       "</table>\n",
       "</div>"
      ],
      "text/plain": [
       "   first     last            email\n",
       "0  Corey  Schafer  Corey@gmail.com\n",
       "1   Jane      Doe   Jane@gmail.com\n",
       "2   John      Doe   John@gmail.com"
      ]
     },
     "execution_count": 27,
     "metadata": {},
     "output_type": "execute_result"
    }
   ],
   "source": [
    "df"
   ]
  },
  {
   "cell_type": "code",
   "execution_count": 28,
   "id": "d2bf5cfb-91de-4897-9138-263002dd9cc0",
   "metadata": {},
   "outputs": [
    {
     "data": {
      "text/plain": [
       "first              Corey\n",
       "last             Schafer\n",
       "email    Corey@gmail.com\n",
       "Name: 0, dtype: object"
      ]
     },
     "execution_count": 28,
     "metadata": {},
     "output_type": "execute_result"
    }
   ],
   "source": [
    "df.loc[0]"
   ]
  },
  {
   "cell_type": "code",
   "execution_count": 29,
   "id": "c35c2164-f39f-4222-8566-6e7899d88fd9",
   "metadata": {},
   "outputs": [
    {
     "data": {
      "text/html": [
       "<div>\n",
       "<style scoped>\n",
       "    .dataframe tbody tr th:only-of-type {\n",
       "        vertical-align: middle;\n",
       "    }\n",
       "\n",
       "    .dataframe tbody tr th {\n",
       "        vertical-align: top;\n",
       "    }\n",
       "\n",
       "    .dataframe thead th {\n",
       "        text-align: right;\n",
       "    }\n",
       "</style>\n",
       "<table border=\"1\" class=\"dataframe\">\n",
       "  <thead>\n",
       "    <tr style=\"text-align: right;\">\n",
       "      <th></th>\n",
       "      <th>first</th>\n",
       "      <th>last</th>\n",
       "      <th>email</th>\n",
       "    </tr>\n",
       "  </thead>\n",
       "  <tbody>\n",
       "    <tr>\n",
       "      <th>0</th>\n",
       "      <td>Corey</td>\n",
       "      <td>Schafer</td>\n",
       "      <td>Corey@gmail.com</td>\n",
       "    </tr>\n",
       "    <tr>\n",
       "      <th>1</th>\n",
       "      <td>Jane</td>\n",
       "      <td>Doe</td>\n",
       "      <td>Jane@gmail.com</td>\n",
       "    </tr>\n",
       "  </tbody>\n",
       "</table>\n",
       "</div>"
      ],
      "text/plain": [
       "   first     last            email\n",
       "0  Corey  Schafer  Corey@gmail.com\n",
       "1   Jane      Doe   Jane@gmail.com"
      ]
     },
     "execution_count": 29,
     "metadata": {},
     "output_type": "execute_result"
    }
   ],
   "source": [
    "df.loc[[0, 1]]"
   ]
  },
  {
   "cell_type": "code",
   "execution_count": 32,
   "id": "c269ba86-18d1-497f-97e6-3fe1c11c3112",
   "metadata": {},
   "outputs": [
    {
     "data": {
      "text/html": [
       "<div>\n",
       "<style scoped>\n",
       "    .dataframe tbody tr th:only-of-type {\n",
       "        vertical-align: middle;\n",
       "    }\n",
       "\n",
       "    .dataframe tbody tr th {\n",
       "        vertical-align: top;\n",
       "    }\n",
       "\n",
       "    .dataframe thead th {\n",
       "        text-align: right;\n",
       "    }\n",
       "</style>\n",
       "<table border=\"1\" class=\"dataframe\">\n",
       "  <thead>\n",
       "    <tr style=\"text-align: right;\">\n",
       "      <th></th>\n",
       "      <th>email</th>\n",
       "      <th>last</th>\n",
       "    </tr>\n",
       "  </thead>\n",
       "  <tbody>\n",
       "    <tr>\n",
       "      <th>0</th>\n",
       "      <td>Corey@gmail.com</td>\n",
       "      <td>Schafer</td>\n",
       "    </tr>\n",
       "    <tr>\n",
       "      <th>1</th>\n",
       "      <td>Jane@gmail.com</td>\n",
       "      <td>Doe</td>\n",
       "    </tr>\n",
       "  </tbody>\n",
       "</table>\n",
       "</div>"
      ],
      "text/plain": [
       "             email     last\n",
       "0  Corey@gmail.com  Schafer\n",
       "1   Jane@gmail.com      Doe"
      ]
     },
     "execution_count": 32,
     "metadata": {},
     "output_type": "execute_result"
    }
   ],
   "source": [
    "# Now that we are using loc, we can just pass in the value of email\n",
    "# Notice also that the email came first then the last name. The ORDER of the list is important.\n",
    "df.loc[[0, 1], ['email', 'last']]"
   ]
  },
  {
   "cell_type": "markdown",
   "id": "ab97b0b3-f8a9-4b82-a25c-b6be2eb4899b",
   "metadata": {},
   "source": [
    "Let us now go back to the Survey results."
   ]
  },
  {
   "cell_type": "code",
   "execution_count": 34,
   "id": "f099f0c4-1506-4748-af9f-a1d308138b0f",
   "metadata": {},
   "outputs": [],
   "source": [
    "df = pd.read_csv('data/survey_results_public.csv')\n",
    "schema_df = pd.read_csv('data/survey_results_schema.csv')"
   ]
  },
  {
   "cell_type": "code",
   "execution_count": 36,
   "id": "bb87970a-f6c3-4ee9-991b-a94d354fe441",
   "metadata": {},
   "outputs": [],
   "source": [
    "pd.set_option('display.max_columns', 85)\n",
    "pd.set_option('display.max_rows', 85)"
   ]
  },
  {
   "cell_type": "code",
   "execution_count": 40,
   "id": "2fff9c4e-aeee-45a2-9cb4-51f775b0144c",
   "metadata": {
    "scrolled": true
   },
   "outputs": [
    {
     "data": {
      "text/plain": [
       "Index(['Respondent', 'MainBranch', 'Hobbyist', 'OpenSourcer', 'OpenSource',\n",
       "       'Employment', 'Country', 'Student', 'EdLevel', 'UndergradMajor',\n",
       "       'EduOther', 'OrgSize', 'DevType', 'YearsCode', 'Age1stCode',\n",
       "       'YearsCodePro', 'CareerSat', 'JobSat', 'MgrIdiot', 'MgrMoney',\n",
       "       'MgrWant', 'JobSeek', 'LastHireDate', 'LastInt', 'FizzBuzz',\n",
       "       'JobFactors', 'ResumeUpdate', 'CurrencySymbol', 'CurrencyDesc',\n",
       "       'CompTotal', 'CompFreq', 'ConvertedComp', 'WorkWeekHrs', 'WorkPlan',\n",
       "       'WorkChallenge', 'WorkRemote', 'WorkLoc', 'ImpSyn', 'CodeRev',\n",
       "       'CodeRevHrs', 'UnitTests', 'PurchaseHow', 'PurchaseWhat',\n",
       "       'LanguageWorkedWith', 'LanguageDesireNextYear', 'DatabaseWorkedWith',\n",
       "       'DatabaseDesireNextYear', 'PlatformWorkedWith',\n",
       "       'PlatformDesireNextYear', 'WebFrameWorkedWith',\n",
       "       'WebFrameDesireNextYear', 'MiscTechWorkedWith',\n",
       "       'MiscTechDesireNextYear', 'DevEnviron', 'OpSys', 'Containers',\n",
       "       'BlockchainOrg', 'BlockchainIs', 'BetterLife', 'ITperson', 'OffOn',\n",
       "       'SocialMedia', 'Extraversion', 'ScreenName', 'SOVisit1st',\n",
       "       'SOVisitFreq', 'SOVisitTo', 'SOFindAnswer', 'SOTimeSaved',\n",
       "       'SOHowMuchTime', 'SOAccount', 'SOPartFreq', 'SOJobs', 'EntTeams',\n",
       "       'SOComm', 'WelcomeChange', 'SONewContent', 'Age', 'Gender', 'Trans',\n",
       "       'Sexuality', 'Ethnicity', 'Dependents', 'SurveyLength', 'SurveyEase'],\n",
       "      dtype='object')"
      ]
     },
     "execution_count": 40,
     "metadata": {},
     "output_type": "execute_result"
    }
   ],
   "source": [
    "df.columns"
   ]
  },
  {
   "cell_type": "code",
   "execution_count": 42,
   "id": "5acfde8b-c75c-45d5-a305-16c82122f707",
   "metadata": {},
   "outputs": [
    {
     "data": {
      "text/plain": [
       "0    Yes\n",
       "1     No\n",
       "2    Yes\n",
       "3     No\n",
       "4    Yes\n",
       "Name: Hobbyist, dtype: object"
      ]
     },
     "execution_count": 42,
     "metadata": {},
     "output_type": "execute_result"
    }
   ],
   "source": [
    "df['Hobbyist'].head()"
   ]
  },
  {
   "cell_type": "code",
   "execution_count": 43,
   "id": "c4cbaad6-4f16-4580-89a7-26b306741750",
   "metadata": {},
   "outputs": [
    {
     "data": {
      "text/plain": [
       "Hobbyist\n",
       "Yes    71257\n",
       "No     17626\n",
       "Name: count, dtype: int64"
      ]
     },
     "execution_count": 43,
     "metadata": {},
     "output_type": "execute_result"
    }
   ],
   "source": [
    "# Let us now try to figure out how many counted yes and no\n",
    "df['Hobbyist'].value_counts()"
   ]
  },
  {
   "cell_type": "code",
   "execution_count": 49,
   "id": "19f7808a-4557-4bd6-a0d5-cd15fbe13306",
   "metadata": {},
   "outputs": [
    {
     "data": {
      "text/plain": [
       "0.802"
      ]
     },
     "execution_count": 49,
     "metadata": {},
     "output_type": "execute_result"
    }
   ],
   "source": [
    "round(71257/(71257 + 17626), 3)"
   ]
  },
  {
   "cell_type": "code",
   "execution_count": 51,
   "id": "b5d1a33e-943b-4296-828c-2e65b0434042",
   "metadata": {
    "scrolled": true
   },
   "outputs": [
    {
     "data": {
      "text/plain": [
       "Respondent                                                                1\n",
       "MainBranch                           I am a student who is learning to code\n",
       "Hobbyist                                                                Yes\n",
       "OpenSourcer                                                           Never\n",
       "OpenSource                The quality of OSS and closed source software ...\n",
       "Employment                           Not employed, and not looking for work\n",
       "Country                                                      United Kingdom\n",
       "Student                                                                  No\n",
       "EdLevel                                           Primary/elementary school\n",
       "UndergradMajor                                                          NaN\n",
       "EduOther                  Taught yourself a new language, framework, or ...\n",
       "OrgSize                                                                 NaN\n",
       "DevType                                                                 NaN\n",
       "YearsCode                                                                 4\n",
       "Age1stCode                                                               10\n",
       "YearsCodePro                                                            NaN\n",
       "CareerSat                                                               NaN\n",
       "JobSat                                                                  NaN\n",
       "MgrIdiot                                                                NaN\n",
       "MgrMoney                                                                NaN\n",
       "MgrWant                                                                 NaN\n",
       "JobSeek                                                                 NaN\n",
       "LastHireDate                                                            NaN\n",
       "LastInt                                                                 NaN\n",
       "FizzBuzz                                                                NaN\n",
       "JobFactors                                                              NaN\n",
       "ResumeUpdate                                                            NaN\n",
       "CurrencySymbol                                                          NaN\n",
       "CurrencyDesc                                                            NaN\n",
       "CompTotal                                                               NaN\n",
       "CompFreq                                                                NaN\n",
       "ConvertedComp                                                           NaN\n",
       "WorkWeekHrs                                                             NaN\n",
       "WorkPlan                                                                NaN\n",
       "WorkChallenge                                                           NaN\n",
       "WorkRemote                                                              NaN\n",
       "WorkLoc                                                                 NaN\n",
       "ImpSyn                                                                  NaN\n",
       "CodeRev                                                                 NaN\n",
       "CodeRevHrs                                                              NaN\n",
       "UnitTests                                                               NaN\n",
       "PurchaseHow                                                             NaN\n",
       "PurchaseWhat                                                            NaN\n",
       "LanguageWorkedWith                          HTML/CSS;Java;JavaScript;Python\n",
       "LanguageDesireNextYear      C;C++;C#;Go;HTML/CSS;Java;JavaScript;Python;SQL\n",
       "DatabaseWorkedWith                                                   SQLite\n",
       "DatabaseDesireNextYear                                                MySQL\n",
       "PlatformWorkedWith                                            MacOS;Windows\n",
       "PlatformDesireNextYear                              Android;Arduino;Windows\n",
       "WebFrameWorkedWith                                             Django;Flask\n",
       "WebFrameDesireNextYear                                         Flask;jQuery\n",
       "MiscTechWorkedWith                                                  Node.js\n",
       "MiscTechDesireNextYear                                              Node.js\n",
       "DevEnviron                                       IntelliJ;Notepad++;PyCharm\n",
       "OpSys                                                               Windows\n",
       "Containers                                          I do not use containers\n",
       "BlockchainOrg                                                           NaN\n",
       "BlockchainIs                                                            NaN\n",
       "BetterLife                                                              Yes\n",
       "ITperson                           Fortunately, someone else has that title\n",
       "OffOn                                                                   Yes\n",
       "SocialMedia                                                         Twitter\n",
       "Extraversion                                                         Online\n",
       "ScreenName                                                         Username\n",
       "SOVisit1st                                                             2017\n",
       "SOVisitFreq                                 A few times per month or weekly\n",
       "SOVisitTo                 Find answers to specific questions;Learn how t...\n",
       "SOFindAnswer                                             3-5 times per week\n",
       "SOTimeSaved                                  Stack Overflow was much faster\n",
       "SOHowMuchTime                                                 31-60 minutes\n",
       "SOAccount                                                                No\n",
       "SOPartFreq                                                              NaN\n",
       "SOJobs                    No, I didn't know that Stack Overflow had a jo...\n",
       "EntTeams                                No, and I don't know what those are\n",
       "SOComm                                                              Neutral\n",
       "WelcomeChange                       Just as welcome now as I felt last year\n",
       "SONewContent              Tech articles written by other developers;Indu...\n",
       "Age                                                                    14.0\n",
       "Gender                                                                  Man\n",
       "Trans                                                                    No\n",
       "Sexuality                                           Straight / Heterosexual\n",
       "Ethnicity                                                               NaN\n",
       "Dependents                                                               No\n",
       "SurveyLength                                          Appropriate in length\n",
       "SurveyEase                                       Neither easy nor difficult\n",
       "Name: 0, dtype: object"
      ]
     },
     "execution_count": 51,
     "metadata": {},
     "output_type": "execute_result"
    }
   ],
   "source": [
    "# All of the responses from ONE respondent\n",
    "df.loc[0]"
   ]
  },
  {
   "cell_type": "code",
   "execution_count": 61,
   "id": "ce3c8020-2fa7-4003-8e96-fa7a74ac38e5",
   "metadata": {},
   "outputs": [
    {
     "data": {
      "text/plain": [
       "0     Yes\n",
       "1      No\n",
       "2     Yes\n",
       "3      No\n",
       "4     Yes\n",
       "5     Yes\n",
       "6      No\n",
       "7     Yes\n",
       "8     Yes\n",
       "9     Yes\n",
       "10    Yes\n",
       "11     No\n",
       "12    Yes\n",
       "13    Yes\n",
       "14    Yes\n",
       "15    Yes\n",
       "16    Yes\n",
       "17    Yes\n",
       "18    Yes\n",
       "19     No\n",
       "20    Yes\n",
       "Name: Hobbyist, dtype: object"
      ]
     },
     "execution_count": 61,
     "metadata": {},
     "output_type": "execute_result"
    }
   ],
   "source": [
    "# We can also use slicing. The last value is inclusive. Also, no need to wrap in brackets. This also works for columns.\n",
    "df.loc[0 : 20, 'Hobbyist':'UndergradMajor']"
   ]
  },
  {
   "cell_type": "code",
   "execution_count": null,
   "id": "90503b44-bf91-4361-921f-d1d77cdfaac6",
   "metadata": {},
   "outputs": [],
   "source": []
  }
 ],
 "metadata": {
  "kernelspec": {
   "display_name": "Python 3 (ipykernel)",
   "language": "python",
   "name": "python3"
  },
  "language_info": {
   "codemirror_mode": {
    "name": "ipython",
    "version": 3
   },
   "file_extension": ".py",
   "mimetype": "text/x-python",
   "name": "python",
   "nbconvert_exporter": "python",
   "pygments_lexer": "ipython3",
   "version": "3.12.3"
  }
 },
 "nbformat": 4,
 "nbformat_minor": 5
}
