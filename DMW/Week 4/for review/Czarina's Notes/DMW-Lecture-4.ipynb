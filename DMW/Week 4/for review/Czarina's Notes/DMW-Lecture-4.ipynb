{
 "cells": [
  {
   "cell_type": "markdown",
   "id": "e09dd6e4-beaa-4cf5-bceb-55dfc9676526",
   "metadata": {
    "execution": {
     "iopub.execute_input": "2025-01-29T08:16:42.757820Z",
     "iopub.status.busy": "2025-01-29T08:16:42.757242Z",
     "iopub.status.idle": "2025-01-29T08:16:42.763577Z",
     "shell.execute_reply": "2025-01-29T08:16:42.762470Z",
     "shell.execute_reply.started": "2025-01-29T08:16:42.757771Z"
    }
   },
   "source": [
    "## Lecture 4: [1/24]"
   ]
  },
  {
   "cell_type": "markdown",
   "id": "497801f0-6609-45f8-b01c-a6bdea20747a",
   "metadata": {
    "jp-MarkdownHeadingCollapsed": true
   },
   "source": [
    "## Regular Expressions "
   ]
  },
  {
   "cell_type": "markdown",
   "id": "a8cf80fb-58e4-4bb8-820c-ff092a4f477c",
   "metadata": {},
   "source": [
    "---"
   ]
  },
  {
   "cell_type": "markdown",
   "id": "e29b2db9-bcf1-45f7-acbe-c236c229315f",
   "metadata": {},
   "source": [
    "<div style=\"border: 2px solid black; padding: 10px; border-radius: 5px;\"> \n",
    "\n",
    "**Regular Expressions**\n",
    "* A regular expression is a sequence of characters that defines a search pattern.  It's like a mini-language for describing text structures.  You use them to:\n",
    "\n",
    "* **Match**: Find specific patterns within a string.\n",
    "* **Search**: Locate the first occurrence of a pattern.\n",
    "* **Replace**: Substitute parts of a string that match a pattern.\n",
    "* **Split**: Divide a string into substrings based on a pattern.\n",
    "\n",
    "**Key Concepts and Components:**\n",
    "* **Characters**:  Most characters match themselves literally.  For example, the regex \"hello\" will match the string \"hello\".\n",
    "* **Special Characters** (Metacharacters): These characters have special meanings and allow for more complex pattern matching.  Some common ones include:\n",
    "    * `.` (dot): Matches any character except a newline.\n",
    "    * `*` (asterisk): Matches zero or more occurrences of the preceding character or group.\n",
    "    * `+` (plus): Matches one or more occurrences of the preceding character or group.   \n",
    "    * `?` (question mark): Matches zero or one occurrence of the preceding character or group.   \n",
    "    * `[]` (square brackets): Defines a character class, matching any character within the brackets. For example, [aeiou] matches any vowel.\n",
    "    * `()` (parentheses): Groups expressions together.\n",
    "    * `|` (pipe): Acts as an \"or\" operator.\n",
    "    * `^` (caret): Matches the beginning of a string.\n",
    "    * `$` (dollar sign): Matches the end of a string.\n",
    "    * `\\` (backslash): Escapes special characters or represents special character classes (e.g., \\d for digits, \\s for whitespace).Character Classes:  Shorthand notations for common character sets:\n",
    "\n",
    "**Character Classes:  Shorthand notations for common character sets:**\n",
    "* `\\d`: Matches any digit (0-9).\n",
    "* `\\w`: Matches any word character (letters, numbers, and underscore).\n",
    "*  `\\s`: Matches any whitespace character (spaces, tabs, newlines).\n",
    "* `r'\\d'` : regular expression pattern\n",
    "* `r''`: denotes raw string\n",
    "* `\\d` is a special sequence that matches any digit (0-9) \n",
    "\n",
    "**Quantifiers: Specify how many times a character or group can occur**\n",
    "* `{n}`: Matches exactly n occurrences.\n",
    "* `{n,}`: Matches n or more occurrences.\n",
    "*  `{n,m}`: Matches between n and m occurrences.\n"
   ]
  },
  {
   "cell_type": "markdown",
   "id": "ad503813-31ad-4481-aad3-af365e3e32bf",
   "metadata": {},
   "source": [
    "<div style=\"border: 2px solid black; padding: 10px; border-radius: 5px;\"> \n",
    "\n",
    "**Importing re module**\n",
    "\n",
    "`import:`  In Python, the import statement is used to bring in external modules or libraries of code that provide additional functionality beyond the basic built-in features of Python.\n",
    "\n",
    "`re:` This specifically refers to the \"regular expression\" module.  Regular expressions are a powerful way to search, match, and manipulate text based on patterns."
   ]
  },
  {
   "cell_type": "code",
   "execution_count": 2,
   "id": "6b40d805-6d05-47c3-b027-d86297c0ea1b",
   "metadata": {
    "execution": {
     "iopub.execute_input": "2025-01-29T08:25:52.135604Z",
     "iopub.status.busy": "2025-01-29T08:25:52.135236Z",
     "iopub.status.idle": "2025-01-29T08:25:52.140549Z",
     "shell.execute_reply": "2025-01-29T08:25:52.139527Z",
     "shell.execute_reply.started": "2025-01-29T08:25:52.135572Z"
    }
   },
   "outputs": [],
   "source": [
    "import re"
   ]
  },
  {
   "cell_type": "markdown",
   "id": "5af0ebc2-9f0e-4c3e-84fa-77dc79497e31",
   "metadata": {
    "jp-MarkdownHeadingCollapsed": true
   },
   "source": [
    "## I. Begins-With Foo (No RegEx)"
   ]
  },
  {
   "cell_type": "markdown",
   "id": "157056ba-6b39-49e5-8d3a-db0db89a3f39",
   "metadata": {
    "execution": {
     "iopub.execute_input": "2025-01-29T08:38:43.545902Z",
     "iopub.status.busy": "2025-01-29T08:38:43.545377Z",
     "iopub.status.idle": "2025-01-29T08:38:43.553159Z",
     "shell.execute_reply": "2025-01-29T08:38:43.551498Z",
     "shell.execute_reply.started": "2025-01-29T08:38:43.545857Z"
    }
   },
   "source": [
    "**Case Sensitive**"
   ]
  },
  {
   "cell_type": "markdown",
   "id": "c3b5cff1-e67e-4351-a3a3-8c41ba8622e1",
   "metadata": {},
   "source": [
    "<div style=\"border: 2px solid black; padding: 10px; border-radius: 5px;\"> \n",
    "\n",
    "**Appraoches & Case Sensitivity**\n",
    "\n",
    "* **If-Else (Case Sensitive)**:  This version explicitly checks the first 3 characters using slicing (`s[:3]`) and compares them to \"foo\". If they match exactly (case-sensitive), it returns `True`, otherwise `False`.\n",
    "\n",
    "* **Index Comparison (Case Sensitive)**:  This is a more concise way to do the same thing. It directly returns the result of the comparison `s[:3] == 'foo'`.  Since comparisons evaluate to `True` or `False`, the `if-else` is unnecessary.\n",
    "\n",
    "* **startswith() (Case Sensitive)**: This is the most Pythonic and recommended way.  The built-in string method `s.startswith('foo')` directly checks if the string `s` starts with \"foo\" (case-sensitive).\n",
    "\n",
    "* **casefold() and startswith() (Case Insensitive)** : This version first converts the string `s` to lowercase using `s.casefold()` and then uses `startswith('foo')`.  `casefold()` handles more Unicode characters than `lower()`, making it a more robust way to do a case-insensitive comparison.\n"
   ]
  },
  {
   "cell_type": "markdown",
   "id": "bb82101d-2094-4910-b38c-063675b8bae8",
   "metadata": {
    "execution": {
     "iopub.execute_input": "2025-01-29T08:36:41.297045Z",
     "iopub.status.busy": "2025-01-29T08:36:41.296510Z",
     "iopub.status.idle": "2025-01-29T08:36:41.304459Z",
     "shell.execute_reply": "2025-01-29T08:36:41.302855Z",
     "shell.execute_reply.started": "2025-01-29T08:36:41.296998Z"
    }
   },
   "source": [
    "**Variation Using `If-Else` [Case Sensitive]**"
   ]
  },
  {
   "cell_type": "code",
   "execution_count": 6,
   "id": "e1c6b48c-3dd4-4b3e-be07-b1224cb8fa69",
   "metadata": {
    "execution": {
     "iopub.execute_input": "2025-01-29T08:36:54.733174Z",
     "iopub.status.busy": "2025-01-29T08:36:54.732624Z",
     "iopub.status.idle": "2025-01-29T08:36:54.741903Z",
     "shell.execute_reply": "2025-01-29T08:36:54.740704Z",
     "shell.execute_reply.started": "2025-01-29T08:36:54.733127Z"
    }
   },
   "outputs": [
    {
     "data": {
      "text/plain": [
       "False"
      ]
     },
     "execution_count": 6,
     "metadata": {},
     "output_type": "execute_result"
    }
   ],
   "source": [
    "def begins_with_foo(s):   #define the variable where (s) means string\n",
    "    if s[:3] == 'foo':    #the if s[:3] uses index which means if the first 3 characters are foo then return true\n",
    "        return True\n",
    "    else:\n",
    "        return False\n",
    "begins_with_foo(\"Fool\")   #returned false because case-sensitive"
   ]
  },
  {
   "cell_type": "markdown",
   "id": "b3e018e5-600d-4bf8-9957-0b2209692c06",
   "metadata": {},
   "source": [
    "**Variation Using `index == `[Case Sensitive]**"
   ]
  },
  {
   "cell_type": "code",
   "execution_count": 7,
   "id": "5cb97c72-01a5-4623-a839-1cf942ca4c6b",
   "metadata": {
    "execution": {
     "iopub.execute_input": "2025-01-29T08:38:21.556481Z",
     "iopub.status.busy": "2025-01-29T08:38:21.555916Z",
     "iopub.status.idle": "2025-01-29T08:38:21.564872Z",
     "shell.execute_reply": "2025-01-29T08:38:21.563660Z",
     "shell.execute_reply.started": "2025-01-29T08:38:21.556435Z"
    }
   },
   "outputs": [
    {
     "data": {
      "text/plain": [
       "False"
      ]
     },
     "execution_count": 7,
     "metadata": {},
     "output_type": "execute_result"
    }
   ],
   "source": [
    "def begins_with_foo(s):\n",
    "    \"\"\"Return True if s begins with substring `foo` (case-sensitive)\"\"\"\n",
    "    return s[:3] == 'foo'\n",
    "begins_with_foo(\"Fool\") #returned false since case sensitive"
   ]
  },
  {
   "cell_type": "code",
   "execution_count": null,
   "id": "3387f29d-0b91-40ea-a7b4-1fdbe9ab3300",
   "metadata": {},
   "outputs": [],
   "source": [
    "<div style=\"border: 2px solid black; padding: 10px; border-radius: 5px;\"> \n"
   ]
  },
  {
   "cell_type": "markdown",
   "id": "124e75da-42f0-4d49-ae1c-8250fa4045d5",
   "metadata": {
    "execution": {
     "iopub.execute_input": "2025-01-29T08:39:49.956588Z",
     "iopub.status.busy": "2025-01-29T08:39:49.955857Z",
     "iopub.status.idle": "2025-01-29T08:39:49.966212Z",
     "shell.execute_reply": "2025-01-29T08:39:49.964286Z",
     "shell.execute_reply.started": "2025-01-29T08:39:49.956529Z"
    }
   },
   "source": [
    "**Variation Using `.startswith` [Case Sensitive]**"
   ]
  },
  {
   "cell_type": "code",
   "execution_count": 10,
   "id": "898e8c65-a749-49e3-8248-0d188262d3ce",
   "metadata": {
    "execution": {
     "iopub.execute_input": "2025-01-29T08:41:37.574702Z",
     "iopub.status.busy": "2025-01-29T08:41:37.574158Z",
     "iopub.status.idle": "2025-01-29T08:41:37.585328Z",
     "shell.execute_reply": "2025-01-29T08:41:37.584002Z",
     "shell.execute_reply.started": "2025-01-29T08:41:37.574657Z"
    }
   },
   "outputs": [
    {
     "data": {
      "text/plain": [
       "False"
      ]
     },
     "execution_count": 10,
     "metadata": {},
     "output_type": "execute_result"
    }
   ],
   "source": [
    "def begins_with_foo(s):\n",
    "    \"\"\"Return True if s begins with substring foo, False otherwise\"\"\"\n",
    "    return s.startswith('foo')\n",
    "begins_with_foo(\"Fool\")"
   ]
  },
  {
   "cell_type": "markdown",
   "id": "023c08c4-e49a-4c9b-a852-88ac51b2d223",
   "metadata": {},
   "source": [
    "**Variation Using `.startswith` & `s.lower()` [Case Insensitive]**"
   ]
  },
  {
   "cell_type": "code",
   "execution_count": 11,
   "id": "03dad4f5-75d1-49cc-b291-57f0a30e730b",
   "metadata": {
    "execution": {
     "iopub.execute_input": "2025-01-29T08:44:15.695615Z",
     "iopub.status.busy": "2025-01-29T08:44:15.695062Z",
     "iopub.status.idle": "2025-01-29T08:44:15.705741Z",
     "shell.execute_reply": "2025-01-29T08:44:15.704140Z",
     "shell.execute_reply.started": "2025-01-29T08:44:15.695570Z"
    }
   },
   "outputs": [
    {
     "data": {
      "text/plain": [
       "True"
      ]
     },
     "execution_count": 11,
     "metadata": {},
     "output_type": "execute_result"
    }
   ],
   "source": [
    "def begins_with_foo_insensitive(s):\n",
    "    s = s.lower()\n",
    "    return s.startswith('foo')\n",
    "begins_with_foo_insensitive(\"FOoL\")"
   ]
  },
  {
   "cell_type": "markdown",
   "id": "0aebde73-2d95-4dbb-897f-d42cffb9b68a",
   "metadata": {},
   "source": [
    "**Variation Using COMBO `.startswith` & `s.lower()` [Case Insensitive]**"
   ]
  },
  {
   "cell_type": "code",
   "execution_count": 12,
   "id": "3536ff50-6174-4ab5-8fe3-029b70e39c95",
   "metadata": {
    "execution": {
     "iopub.execute_input": "2025-01-29T08:45:32.715140Z",
     "iopub.status.busy": "2025-01-29T08:45:32.714598Z",
     "iopub.status.idle": "2025-01-29T08:45:32.723475Z",
     "shell.execute_reply": "2025-01-29T08:45:32.722239Z",
     "shell.execute_reply.started": "2025-01-29T08:45:32.715073Z"
    }
   },
   "outputs": [
    {
     "data": {
      "text/plain": [
       "True"
      ]
     },
     "execution_count": 12,
     "metadata": {},
     "output_type": "execute_result"
    }
   ],
   "source": [
    "def begins_with_foo_insensitive(s):\n",
    "    return s.lower().startswith('foo')\n",
    "begins_with_foo_insensitive(\"FOOLERS\")"
   ]
  },
  {
   "cell_type": "markdown",
   "id": "595d2769-e760-4877-a73f-ed1a48072fc9",
   "metadata": {},
   "source": [
    "**Variation Using`.casefold` [Case Insensitive]**\n"
   ]
  },
  {
   "cell_type": "code",
   "execution_count": 13,
   "id": "281157e2-0f6c-435e-9f62-429daf40db30",
   "metadata": {
    "execution": {
     "iopub.execute_input": "2025-01-29T08:46:27.841379Z",
     "iopub.status.busy": "2025-01-29T08:46:27.840711Z",
     "iopub.status.idle": "2025-01-29T08:46:27.849371Z",
     "shell.execute_reply": "2025-01-29T08:46:27.848175Z",
     "shell.execute_reply.started": "2025-01-29T08:46:27.841332Z"
    }
   },
   "outputs": [
    {
     "data": {
      "text/plain": [
       "True"
      ]
     },
     "execution_count": 13,
     "metadata": {},
     "output_type": "execute_result"
    }
   ],
   "source": [
    "def begins_with_foo_insensitive(s):\n",
    "    return s.casefold().startswith('foo')\n",
    "begins_with_foo_insensitive(\"FOOLMETOO\")"
   ]
  },
  {
   "cell_type": "markdown",
   "id": "c701adb2-1b6e-4adb-a260-009f26b18fa5",
   "metadata": {
    "execution": {
     "iopub.execute_input": "2025-01-29T08:52:14.211060Z",
     "iopub.status.busy": "2025-01-29T08:52:14.210536Z",
     "iopub.status.idle": "2025-01-29T08:52:14.216717Z",
     "shell.execute_reply": "2025-01-29T08:52:14.215458Z",
     "shell.execute_reply.started": "2025-01-29T08:52:14.211015Z"
    },
    "jp-MarkdownHeadingCollapsed": true
   },
   "source": [
    "## `re.match` & `re.search` (Begins-With)"
   ]
  },
  {
   "cell_type": "markdown",
   "id": "2a76aa2b-9caf-4d6f-a1f0-224b3142b8e7",
   "metadata": {
    "execution": {
     "iopub.execute_input": "2025-01-29T08:56:16.838466Z",
     "iopub.status.busy": "2025-01-29T08:56:16.837915Z",
     "iopub.status.idle": "2025-01-29T08:56:16.846515Z",
     "shell.execute_reply": "2025-01-29T08:56:16.844865Z",
     "shell.execute_reply.started": "2025-01-29T08:56:16.838420Z"
    }
   },
   "source": [
    "<div style=\"border: 2px solid black; padding: 10px; border-radius: 5px;\"> \n",
    "\n",
    "**`re.match`**\n",
    "* pattern should beginning of the string\n",
    "* show match object or none type\n",
    "\n",
    "**`re.search`**\n",
    "* means that pattern can be anywhere in the string\n"
   ]
  },
  {
   "cell_type": "markdown",
   "id": "d1a9c4c4-053f-4161-a532-f40a3a07afcd",
   "metadata": {},
   "source": [
    "<div style=\"border: 2px solid black; padding: 10px; border-radius: 5px;\"> \n",
    "\n",
    "**`re.match` [Case-Sensitive]**\n",
    "\n",
    "* `re.match('foo', s)`: The `re.match()` function attempts to match the regular expression `'foo'` at the beginning of the string `s`. It's case-sensitive. If the string starts with \"foo\", it returns a match object; otherwise, it returns `None`.\n",
    "* `bool(...)`: The `bool()` function converts the result of `re.match()` to a boolean value. A match object is considered \"truthy\" (evaluates to `True` in a boolean context), while `None` is \"falsy\" (evaluates to False).\n",
    "* `begins_with_foo(\"foodie\")`: This calls the function with the string \"foodie\". Since it starts with \"foo\", `re.match()` returns a match object, which is converted to `True`."
   ]
  },
  {
   "cell_type": "code",
   "execution_count": 17,
   "id": "a948eabe-ef93-43c2-89c0-a128018b31c6",
   "metadata": {
    "execution": {
     "iopub.execute_input": "2025-01-29T08:58:55.882850Z",
     "iopub.status.busy": "2025-01-29T08:58:55.882291Z",
     "iopub.status.idle": "2025-01-29T08:58:55.892354Z",
     "shell.execute_reply": "2025-01-29T08:58:55.890793Z",
     "shell.execute_reply.started": "2025-01-29T08:58:55.882804Z"
    }
   },
   "outputs": [
    {
     "data": {
      "text/plain": [
       "True"
      ]
     },
     "execution_count": 17,
     "metadata": {},
     "output_type": "execute_result"
    }
   ],
   "source": [
    "def begins_with_foo(s):\n",
    "    return bool(re.match('foo', s))\n",
    "\n",
    "begins_with_foo(\"foodie\")  "
   ]
  },
  {
   "cell_type": "markdown",
   "id": "c95cfcb6-da02-474a-81cc-2b7aa952c004",
   "metadata": {},
   "source": [
    "<div style=\"border: 2px solid black; padding: 10px; border-radius: 5px;\"> \n",
    "\n",
    "**`re.match with `re.IGNORECASE` (Case Insensitive)**\n",
    "\n",
    "\n",
    "*`re.match('foo', s, flags=re.IGNORECASE)`: This is similar to the first example, but the re.IGNORECASE flag is added. This flag makes the regular expression matching case-insensitive.\n",
    "* `begins_with_foo_insensitive(\"foodies\")`: This calls the function with the string \"foodies\". Even though the capitalization is different, the `re.IGNORECASE` flag makes the match successful, resulting in `True`."
   ]
  },
  {
   "cell_type": "code",
   "execution_count": 18,
   "id": "095f17b6-7451-4345-a24e-5073a5839e5b",
   "metadata": {
    "execution": {
     "iopub.execute_input": "2025-01-29T09:00:50.792285Z",
     "iopub.status.busy": "2025-01-29T09:00:50.791731Z",
     "iopub.status.idle": "2025-01-29T09:00:50.801667Z",
     "shell.execute_reply": "2025-01-29T09:00:50.800249Z",
     "shell.execute_reply.started": "2025-01-29T09:00:50.792238Z"
    }
   },
   "outputs": [
    {
     "data": {
      "text/plain": [
       "True"
      ]
     },
     "execution_count": 18,
     "metadata": {},
     "output_type": "execute_result"
    }
   ],
   "source": [
    "def begins_with_foo_insensitive(s):\n",
    "    return bool(re.match('foo', s, flags=re.IGNORECASE))\n",
    "\n",
    "begins_with_foo_insensitive(\"foodies\")  # Output: True"
   ]
  },
  {
   "cell_type": "markdown",
   "id": "75fb5d22-23dc-472d-8355-cccd6d18e9f9",
   "metadata": {},
   "source": [
    "<div style=\"border: 2px solid black; padding: 10px; border-radius: 5px;\"> \n",
    "\n",
    "**`re.search` with `^` (Case Sensitive, Beginning of String)**\n",
    "\n",
    "* `re.search('^foo', s)`: The `re.search()` function searches for the pattern anywhere in the string. However, the `^` character in the regular expression specifically anchors the match to the beginning of the string. So, even though `re.search()` can search anywhere, the `^` forces it to only consider matches at the start. This is functionally similar to `re.match()` in this specific case.\n",
    "\n",
    "* `begins_with_foo(\"foodless\")`: This calls the function with \"foodless\". Since \"foodless\" starts with \"foo\", the match is successful, and the function returns `True`.\n",
    "\n"
   ]
  },
  {
   "cell_type": "code",
   "execution_count": 19,
   "id": "f8e6a22e-e3b3-48ef-8172-b2bf20890a35",
   "metadata": {
    "execution": {
     "iopub.execute_input": "2025-01-29T09:07:18.958116Z",
     "iopub.status.busy": "2025-01-29T09:07:18.957566Z",
     "iopub.status.idle": "2025-01-29T09:07:18.967629Z",
     "shell.execute_reply": "2025-01-29T09:07:18.966430Z",
     "shell.execute_reply.started": "2025-01-29T09:07:18.958049Z"
    }
   },
   "outputs": [
    {
     "data": {
      "text/plain": [
       "True"
      ]
     },
     "execution_count": 19,
     "metadata": {},
     "output_type": "execute_result"
    }
   ],
   "source": [
    "def begins_with_foo(s):\n",
    "    return bool(re.search('^foo', s))\n",
    "\n",
    "begins_with_foo(\"foodless\")  # Output: True"
   ]
  },
  {
   "cell_type": "markdown",
   "id": "2db3b8c0-4ad7-47d9-a6be-cc3509b41189",
   "metadata": {
    "jp-MarkdownHeadingCollapsed": true
   },
   "source": [
    "## II. Ends- With Foo (No RegEx)"
   ]
  },
  {
   "cell_type": "markdown",
   "id": "a3686235-7781-4196-8d39-4abe2fd15dda",
   "metadata": {},
   "source": [
    "<div style=\"border: 2px solid black; padding: 10px; border-radius: 5px;\"> \n",
    "\n",
    "**Appraoches & Case Sensitivity**\n",
    "\n",
    "* **Index Comparison (Case Sensitive)**:  This version checks if the last three characters of the string (`s[-3:]`) are exactly equal to \"foo\". It's case-sensitive, so \"Foo\" or \"FOO\" wouldn't match.\n",
    "\n",
    "* **`.endswith()` (Case Sensitive)** : This is the standard and most Pythonic way. The built-in string method `s.endswith('foo')` directly checks if the string `s` ends with \"foo\" (case-sensitive).\n",
    "\n",
    "* **`.endswith()` with `.lower()` (Case Insensitive)**: This converts the string `s` to lowercase using `s.lower()` before checking with `endswith('foo')`. This makes the check case-insensitive, but only works reliably for standard ASCII characters.\n",
    "\n",
    "* **`.endswith()` with `.casefold()` (Case Insensitive)** : This is the most robust way for case-insensitive comparisons. It uses s.casefold() which handles a wider range of Unicode characters compared to lower().  It then checks with endswith('foo')"
   ]
  },
  {
   "cell_type": "markdown",
   "id": "6310f7fd-8491-48f7-81a4-befde4419bfc",
   "metadata": {},
   "source": [
    "**Variation Using `index==` [Case Sensitive]**"
   ]
  },
  {
   "cell_type": "code",
   "execution_count": 20,
   "id": "1281e043-3f18-42a0-84e7-31be15acabf3",
   "metadata": {
    "execution": {
     "iopub.execute_input": "2025-01-29T09:09:13.539038Z",
     "iopub.status.busy": "2025-01-29T09:09:13.537906Z",
     "iopub.status.idle": "2025-01-29T09:09:13.547817Z",
     "shell.execute_reply": "2025-01-29T09:09:13.546609Z",
     "shell.execute_reply.started": "2025-01-29T09:09:13.538990Z"
    }
   },
   "outputs": [
    {
     "data": {
      "text/plain": [
       "True"
      ]
     },
     "execution_count": 20,
     "metadata": {},
     "output_type": "execute_result"
    }
   ],
   "source": [
    "def ends_with_foo(s):\n",
    "    return s[-3:] == 'foo'\n",
    "ends_with_foo(\"mafoo\")"
   ]
  },
  {
   "cell_type": "markdown",
   "id": "0b666a5c-a73d-4e31-bb5a-f7b41ead3d39",
   "metadata": {
    "execution": {
     "iopub.execute_input": "2025-01-29T09:10:17.838502Z",
     "iopub.status.busy": "2025-01-29T09:10:17.837947Z",
     "iopub.status.idle": "2025-01-29T09:10:17.847647Z",
     "shell.execute_reply": "2025-01-29T09:10:17.845523Z",
     "shell.execute_reply.started": "2025-01-29T09:10:17.838455Z"
    }
   },
   "source": [
    "**Variation Using `.endswith`[Case Sensitive]**"
   ]
  },
  {
   "cell_type": "code",
   "execution_count": 22,
   "id": "a0dbe50a-1047-4dfb-9dca-27f2e3735f49",
   "metadata": {
    "execution": {
     "iopub.execute_input": "2025-01-29T09:10:42.114591Z",
     "iopub.status.busy": "2025-01-29T09:10:42.113533Z",
     "iopub.status.idle": "2025-01-29T09:10:42.122233Z",
     "shell.execute_reply": "2025-01-29T09:10:42.121030Z",
     "shell.execute_reply.started": "2025-01-29T09:10:42.114542Z"
    }
   },
   "outputs": [
    {
     "data": {
      "text/plain": [
       "True"
      ]
     },
     "execution_count": 22,
     "metadata": {},
     "output_type": "execute_result"
    }
   ],
   "source": [
    "def ends_with_foo(s):\n",
    "    return s.endswith('foo')\n",
    "ends_with_foo(\"chefoo\")"
   ]
  },
  {
   "cell_type": "markdown",
   "id": "a0c8c6b1-6092-4db0-b42a-1e306564d3cc",
   "metadata": {
    "execution": {
     "iopub.execute_input": "2025-01-29T09:13:01.054413Z",
     "iopub.status.busy": "2025-01-29T09:13:01.053860Z",
     "iopub.status.idle": "2025-01-29T09:13:01.061611Z",
     "shell.execute_reply": "2025-01-29T09:13:01.060037Z",
     "shell.execute_reply.started": "2025-01-29T09:13:01.054367Z"
    }
   },
   "source": [
    "**Variation Using COMBO `.endswith` & `s.lower()` [Case Insensitive]**"
   ]
  },
  {
   "cell_type": "code",
   "execution_count": 24,
   "id": "242a766b-fce1-434d-80ce-322f6dfde3e9",
   "metadata": {
    "execution": {
     "iopub.execute_input": "2025-01-29T09:13:22.122917Z",
     "iopub.status.busy": "2025-01-29T09:13:22.122382Z",
     "iopub.status.idle": "2025-01-29T09:13:22.131059Z",
     "shell.execute_reply": "2025-01-29T09:13:22.129871Z",
     "shell.execute_reply.started": "2025-01-29T09:13:22.122870Z"
    }
   },
   "outputs": [
    {
     "data": {
      "text/plain": [
       "False"
      ]
     },
     "execution_count": 24,
     "metadata": {},
     "output_type": "execute_result"
    }
   ],
   "source": [
    "def ends_with_foo_insensitive(s):\n",
    "    return s.lower().endswith('foo')\n",
    "ends_with_foo_insensitive(\"Foolboy\")"
   ]
  },
  {
   "cell_type": "markdown",
   "id": "ef2a9a21-6842-4636-ace8-e497522ee717",
   "metadata": {},
   "source": [
    "**Variation Using COMBO `.endswith` & `.casefold` [Case Insensitive]**"
   ]
  },
  {
   "cell_type": "code",
   "execution_count": 26,
   "id": "66b03c80-dfe9-46f1-aa7f-f2fd819ae575",
   "metadata": {
    "execution": {
     "iopub.execute_input": "2025-01-29T09:14:56.801590Z",
     "iopub.status.busy": "2025-01-29T09:14:56.801023Z",
     "iopub.status.idle": "2025-01-29T09:14:56.810886Z",
     "shell.execute_reply": "2025-01-29T09:14:56.809665Z",
     "shell.execute_reply.started": "2025-01-29T09:14:56.801544Z"
    }
   },
   "outputs": [
    {
     "data": {
      "text/plain": [
       "True"
      ]
     },
     "execution_count": 26,
     "metadata": {},
     "output_type": "execute_result"
    }
   ],
   "source": [
    "def ends_with_foo_insensitive(s):\n",
    "    return s.casefold().endswith('foo')\n",
    "ends_with_foo_insensitive(\"GEEFOO\")"
   ]
  },
  {
   "cell_type": "markdown",
   "id": "e0b6e52b-10cc-4038-b342-3672e49066fc",
   "metadata": {
    "execution": {
     "iopub.execute_input": "2025-01-29T09:22:12.785785Z",
     "iopub.status.busy": "2025-01-29T09:22:12.785268Z",
     "iopub.status.idle": "2025-01-29T09:22:12.791735Z",
     "shell.execute_reply": "2025-01-29T09:22:12.790420Z",
     "shell.execute_reply.started": "2025-01-29T09:22:12.785739Z"
    },
    "jp-MarkdownHeadingCollapsed": true
   },
   "source": [
    "## `re.match` & `re.search` (Ends-With)"
   ]
  },
  {
   "cell_type": "markdown",
   "id": "4ee6c47e-6f8d-44c1-97d6-c3e7a12a21cd",
   "metadata": {
    "execution": {
     "iopub.execute_input": "2025-01-29T09:21:37.941833Z",
     "iopub.status.busy": "2025-01-29T09:21:37.941297Z",
     "iopub.status.idle": "2025-01-29T09:21:37.949479Z",
     "shell.execute_reply": "2025-01-29T09:21:37.947808Z",
     "shell.execute_reply.started": "2025-01-29T09:21:37.941786Z"
    }
   },
   "source": [
    "<div style=\"border: 2px solid black; padding: 10px; border-radius: 5px;\"> \n",
    "\n",
    "**`re.match`**\n",
    "* pattern should beginning of the string\n",
    "* show match object or none type\n",
    "\n",
    "**`re.search`**\n",
    "* means that pattern can be anywhere in the string"
   ]
  },
  {
   "cell_type": "markdown",
   "id": "3f8b479b-ac80-4e1d-9aa8-a810124a9b14",
   "metadata": {},
   "source": [
    "<div style=\"border: 2px solid black; padding: 10px; border-radius: 5px;\"> \n",
    "\n",
    "**Case-Insensitive Check**\n",
    "\n",
    "* `re.search('foo$', s, flags=re.I)`:\n",
    "    * `re.search()`: This function searches for the pattern anywhere in the string.\n",
    "    *`'foo$'`: This is the regular expression pattern. `foo` matches the literal characters \"foo\". The $ symbol is an anchor that means \"end of the string\". So, this pattern matches \"foo\" only if it occurs at the very end of the string.\n",
    "    * `s`: This is the input string being searched.\n",
    "    * `flags=re.I`: This is the crucial part. The `re.I` flag (or `re.IGNORECASE`) makes the search case-insensitive. So, \"Foo\", \"FOO\", \"foo\", etc., will all match.\n",
    "\n",
    "* `bool(...)`: The `bool()` function converts the result of `re.search()` to a boolean (True or False). If a match is found, `re.search()` returns a match object (which is \"truthy\"), otherwise it returns `None` (which is \"falsy\").\n",
    "\n",
    "* `ends_with_foo_insensitive(\"mafoo\")`: This calls the function with the string \"mafoo\". Because the search is case-insensitive and \"mafoo\" ends with \"foo\", the function returns `True`."
   ]
  },
  {
   "cell_type": "code",
   "execution_count": 31,
   "id": "b20cecdb-fcdf-405f-b6bc-052ab0ba8615",
   "metadata": {
    "execution": {
     "iopub.execute_input": "2025-01-29T09:27:38.085545Z",
     "iopub.status.busy": "2025-01-29T09:27:38.085006Z",
     "iopub.status.idle": "2025-01-29T09:27:38.091931Z",
     "shell.execute_reply": "2025-01-29T09:27:38.091019Z",
     "shell.execute_reply.started": "2025-01-29T09:27:38.085512Z"
    }
   },
   "outputs": [
    {
     "data": {
      "text/plain": [
       "True"
      ]
     },
     "execution_count": 31,
     "metadata": {},
     "output_type": "execute_result"
    }
   ],
   "source": [
    "def ends_with_foo_insensitive(s):\n",
    "    return bool(re.search('foo$', s, flags=re.I))\n",
    "\n",
    "ends_with_foo_insensitive(\"mafoo\") "
   ]
  },
  {
   "cell_type": "markdown",
   "id": "cf2a11bd-08b8-47bc-ab19-3eb5a77b10b1",
   "metadata": {
    "execution": {
     "iopub.execute_input": "2025-01-29T09:27:27.921333Z",
     "iopub.status.busy": "2025-01-29T09:27:27.920792Z",
     "iopub.status.idle": "2025-01-29T09:27:27.930944Z",
     "shell.execute_reply": "2025-01-29T09:27:27.929117Z",
     "shell.execute_reply.started": "2025-01-29T09:27:27.921288Z"
    }
   },
   "source": [
    "<div style=\"border: 2px solid black; padding: 10px; border-radius: 5px;\"> \n",
    "\n",
    "**Case-Sensitive Check**\n",
    "\n",
    "* `re.search('foo$', s)`: This is almost the same as the previous example, except there is no re.I flag. Therefore, the search is case-sensitive.\n",
    "* `ends_with_foo(\"mefoo\")`: This calls the function with the string \"mefoo\". Because the search is case-sensitive and \"mefoo\" ends with \"foo\", the function returns `True`.\n"
   ]
  },
  {
   "cell_type": "code",
   "execution_count": 32,
   "id": "813da195-20a2-4f20-ad98-0e82b0a54f29",
   "metadata": {
    "execution": {
     "iopub.execute_input": "2025-01-29T09:27:44.010987Z",
     "iopub.status.busy": "2025-01-29T09:27:44.010464Z",
     "iopub.status.idle": "2025-01-29T09:27:44.019526Z",
     "shell.execute_reply": "2025-01-29T09:27:44.018344Z",
     "shell.execute_reply.started": "2025-01-29T09:27:44.010941Z"
    }
   },
   "outputs": [
    {
     "data": {
      "text/plain": [
       "True"
      ]
     },
     "execution_count": 32,
     "metadata": {},
     "output_type": "execute_result"
    }
   ],
   "source": [
    "def ends_with_foo(s):\n",
    "    \"\"\"Return True if s ends with substring foo, False otherwise\"\"\"\n",
    "    return bool(re.search('foo$', s))\n",
    "\n",
    "ends_with_foo(\"mefoo\") "
   ]
  },
  {
   "cell_type": "markdown",
   "id": "3c01dc73-7964-484b-a620-bf17a281bad7",
   "metadata": {},
   "source": [
    "<div style=\"border: 2px solid black; padding: 10px; border-radius: 5px;\"> \n",
    "\n",
    "**Key Difference**\n",
    "* The core difference is the presence or absence of the `re.I` flag. The first function will return `True` for strings ending with \"foo\", \"Foo\", \"FOO\", etc., while the second function will only return `True` for strings ending with \"foo\" (lowercase).\n",
    "\n",
    "**Which to use:**\n",
    "* Use the case-insensitive version `(re.I)` if you want to match \"foo\" regardless of capitalization. Use the case-sensitive version if you need an exact, literal match of \"foo\"."
   ]
  },
  {
   "cell_type": "markdown",
   "id": "302fb3c1-8fff-4209-a53d-11cac66a799d",
   "metadata": {
    "jp-MarkdownHeadingCollapsed": true
   },
   "source": [
    "## III. Has Foo (No RegEx) "
   ]
  },
  {
   "cell_type": "markdown",
   "id": "026e702d-0a21-43b2-ab1c-328703c18e82",
   "metadata": {},
   "source": [
    "<div style=\"border: 2px solid black; padding: 10px; border-radius: 5px;\"> \n",
    "\n",
    "**Case Sensitive Check** \n",
    "* `'foo' in s`: This is the core of the check. The `in` operator in Python checks for substring presence. It returns `True` if the substring \"foo\" is found anywhere within the string `s`, and `False` otherwise. Critically, this check is case-sensitive.\n",
    "\n",
    "* `has_foo(\"fool\")`: This calls the function with the string \"fool\". Since \"foo\" is present in \"fool\", the function returns `True`."
   ]
  },
  {
   "cell_type": "markdown",
   "id": "c77b6793-a91a-4c0b-b4c6-f83c9ede74c3",
   "metadata": {},
   "source": [
    "**Variation Using `in` [Case Sensitive]**"
   ]
  },
  {
   "cell_type": "code",
   "execution_count": 33,
   "id": "e07557a5-68db-4466-b5ba-13bea61b53e4",
   "metadata": {
    "execution": {
     "iopub.execute_input": "2025-01-29T09:31:52.268847Z",
     "iopub.status.busy": "2025-01-29T09:31:52.268322Z",
     "iopub.status.idle": "2025-01-29T09:31:52.277114Z",
     "shell.execute_reply": "2025-01-29T09:31:52.275762Z",
     "shell.execute_reply.started": "2025-01-29T09:31:52.268802Z"
    }
   },
   "outputs": [
    {
     "data": {
      "text/plain": [
       "True"
      ]
     },
     "execution_count": 33,
     "metadata": {},
     "output_type": "execute_result"
    }
   ],
   "source": [
    "\n",
    "def has_foo(s):\n",
    "    return 'foo' in s\n",
    "has_foo(\"fool\")"
   ]
  },
  {
   "cell_type": "markdown",
   "id": "dcef6cec-9de7-4d4f-ae5f-8ffabdd30015",
   "metadata": {},
   "source": [
    "<div style=\"border: 2px solid black; padding: 10px; border-radius: 5px;\"> \n",
    "\n",
    "**Case Insensitive Check**\n",
    "\n",
    "* `s.casefold()`: This part is the key difference. `The .casefold()` method converts the string `s` to lowercase before the `in` operator checks for the substring. `casefold()` is a more robust way to lowercase strings for comparison than `.lower()` as it handles a wider range of Unicode characters.\n",
    "* `'foo' in s.casefold()`: Now, the `in` operator is checking if \"foo\" is present in the lowercased version of `s`. This makes the check case-insensitive.\n",
    "* `has_foo_insensitive(\"MAFOOSA\")`: This calls the function with the string \"MAFOOSA\". `\"MAFOOSA\".casefold()` becomes \"mafoosa\". Since \"foo\" is in \"mafoosa\", the function returns `True`."
   ]
  },
  {
   "cell_type": "markdown",
   "id": "09ffb33e-1f3e-43e6-8511-d67a9a67253d",
   "metadata": {},
   "source": [
    "**Variation Using `.casefold` [Case-Insensitive]**\n"
   ]
  },
  {
   "cell_type": "code",
   "execution_count": 34,
   "id": "fb20398a-d695-4a48-8494-72178f17e721",
   "metadata": {
    "execution": {
     "iopub.execute_input": "2025-01-29T09:32:48.825641Z",
     "iopub.status.busy": "2025-01-29T09:32:48.825118Z",
     "iopub.status.idle": "2025-01-29T09:32:48.835241Z",
     "shell.execute_reply": "2025-01-29T09:32:48.833847Z",
     "shell.execute_reply.started": "2025-01-29T09:32:48.825594Z"
    }
   },
   "outputs": [
    {
     "data": {
      "text/plain": [
       "True"
      ]
     },
     "execution_count": 34,
     "metadata": {},
     "output_type": "execute_result"
    }
   ],
   "source": [
    "def has_foo_insensitive(s):\n",
    "    return 'foo' in s.casefold()\n",
    "has_foo_insensitive(\"MAFOOSA\")"
   ]
  },
  {
   "cell_type": "markdown",
   "id": "7221c307-9eff-4ccb-b318-1ffcd3fdba25",
   "metadata": {},
   "source": [
    "<div style=\"border: 2px solid black; padding: 10px; border-radius: 5px;\"> \n",
    "\n",
    "**Key Difference**: \n",
    "\n",
    "* The essential difference is the use of `.casefold()` in the second snippet.  The first snippet will only return `True` if \"foo\" is found in the exact case. The second snippet will return `True` if \"foo\", \"Foo\", \"FOO\", \"fOo\", etc., are found because the case is ignored.\n",
    "\n",
    "**Which to use**:\n",
    "* Use the case-sensitive version if you need an exact, literal match. Use the case-insensitive version (with `.casefold()`) if you want to find the substring regardless of capitalization.  The case-insensitive version is often more user-friendly when dealing with text input where you don't want to be too strict about capitalization."
   ]
  },
  {
   "cell_type": "markdown",
   "id": "9d3fd0e7-a720-4b4b-8e9f-1d6f200a3749",
   "metadata": {
    "jp-MarkdownHeadingCollapsed": true
   },
   "source": [
    "## `re.match` & `re.search` (Has Foo)"
   ]
  },
  {
   "cell_type": "markdown",
   "id": "3cf9b98e-d195-4c8d-82ff-279dfe09f2b5",
   "metadata": {
    "execution": {
     "iopub.execute_input": "2025-01-29T09:44:47.354640Z",
     "iopub.status.busy": "2025-01-29T09:44:47.354117Z",
     "iopub.status.idle": "2025-01-29T09:44:47.362650Z",
     "shell.execute_reply": "2025-01-29T09:44:47.360884Z",
     "shell.execute_reply.started": "2025-01-29T09:44:47.354594Z"
    }
   },
   "source": [
    "<div style=\"border: 2px solid black; padding: 10px; border-radius: 5px;\"> \n",
    "\n",
    "**`re.match`**\n",
    "* pattern should beginning of the string\n",
    "* show match object or none type\n",
    "\n",
    "**`re.search`**\n",
    "* means that pattern can be anywhere in the string"
   ]
  },
  {
   "cell_type": "markdown",
   "id": "9f4abd11-5d83-4825-9b76-7b0e157a07d0",
   "metadata": {},
   "source": [
    "**Variation Using `re.search` [Case Sensitive]**\n"
   ]
  },
  {
   "cell_type": "code",
   "execution_count": 36,
   "id": "dfacddb7-ee18-4919-b795-47989605f46a",
   "metadata": {
    "execution": {
     "iopub.execute_input": "2025-01-29T09:46:25.597543Z",
     "iopub.status.busy": "2025-01-29T09:46:25.597017Z",
     "iopub.status.idle": "2025-01-29T09:46:25.605611Z",
     "shell.execute_reply": "2025-01-29T09:46:25.604371Z",
     "shell.execute_reply.started": "2025-01-29T09:46:25.597498Z"
    }
   },
   "outputs": [
    {
     "data": {
      "text/plain": [
       "True"
      ]
     },
     "execution_count": 36,
     "metadata": {},
     "output_type": "execute_result"
    }
   ],
   "source": [
    "def has_foo(s):\n",
    "    return bool(re.search('foo', s))\n",
    "has_foo(\"mafoosa\")"
   ]
  },
  {
   "cell_type": "markdown",
   "id": "063c348a-62a2-41e5-b56f-50cb78b53715",
   "metadata": {},
   "source": [
    "**Variation Using `re.search` & `re.I` [Case Insensitive]**"
   ]
  },
  {
   "cell_type": "markdown",
   "id": "917d8825-3090-4d1e-ad5d-0daa18ef9d49",
   "metadata": {},
   "source": [
    "<div style=\"border: 2px solid black; padding: 10px; border-radius: 5px;\"> \n",
    "\n",
    "* `def has_foo_insensitive(s):`: This line defines a function named has_foo_insensitive that takes one argument, s, which is expected to be a string.\n",
    "* `return bool(re.search('foo', s, flags=re.I))`: This is the core of the function. Let's analyze it piece by piece:\n",
    "    * `re.search('foo', s, flags=re.I)`: This part uses the `re.search()` function from the `re` (regular expression) module to search for the substring \"foo\" within the string `s`.\n",
    "        * `'foo'` is the regular expression pattern we are searching for.\n",
    "        * `s` is the string being searched.\n",
    "        * `flags=re.I` is the key for case-insensitivity. The `re.I` flag (or equivalently `re.IGNORECASE`) makes the search case-insensitive, so it will find \"foo\", \"Foo\", \"FOO\", etc.\n",
    "    * `bool(...)`: The `re.search()` function returns a match object if the pattern is found, and `None` if it's not found. The `bool()` function converts this result to a boolean value: `True` if a match object is returned (meaning \"foo\" was found), and `False` if `None` is returned (meaning \"foo\" was not found).\n",
    "    * `return ...:` The function returns the boolean value (`True` or `False`) indicating whether the substring \"foo\" was found in the string s (case-insensitively).\n",
    "* `has_foo_insensitive(\"food\")`: This line calls the function with the string \"food\" as input. Since \"food\" contains \"foo\", the function will return `True`."
   ]
  },
  {
   "cell_type": "code",
   "execution_count": 37,
   "id": "5199f187-cc48-4a56-997a-f31464ce81e8",
   "metadata": {
    "execution": {
     "iopub.execute_input": "2025-01-29T09:49:07.199254Z",
     "iopub.status.busy": "2025-01-29T09:49:07.198814Z",
     "iopub.status.idle": "2025-01-29T09:49:07.206772Z",
     "shell.execute_reply": "2025-01-29T09:49:07.205581Z",
     "shell.execute_reply.started": "2025-01-29T09:49:07.199218Z"
    }
   },
   "outputs": [
    {
     "data": {
      "text/plain": [
       "True"
      ]
     },
     "execution_count": 37,
     "metadata": {},
     "output_type": "execute_result"
    }
   ],
   "source": [
    "def has_foo_insensitive(s):\n",
    "    return bool(re.search('foo', s, flags=re.I))\n",
    "\n",
    "has_foo_insensitive(\"food\")"
   ]
  },
  {
   "cell_type": "markdown",
   "id": "87b70dc9-048a-46f6-977b-6093bbfdf79f",
   "metadata": {
    "jp-MarkdownHeadingCollapsed": true
   },
   "source": [
    "## IV. Begins with Number (No RegEx)"
   ]
  },
  {
   "cell_type": "markdown",
   "id": "8e5445f8-bd00-4e6a-bd25-c1696031a2ad",
   "metadata": {},
   "source": [
    "**Variation Using `.isnumeric`**"
   ]
  },
  {
   "cell_type": "code",
   "execution_count": 38,
   "id": "4d386661-c075-40ef-b093-a8b7ad27d021",
   "metadata": {
    "execution": {
     "iopub.execute_input": "2025-01-29T09:57:55.502374Z",
     "iopub.status.busy": "2025-01-29T09:57:55.501811Z",
     "iopub.status.idle": "2025-01-29T09:57:55.510311Z",
     "shell.execute_reply": "2025-01-29T09:57:55.508963Z",
     "shell.execute_reply.started": "2025-01-29T09:57:55.502328Z"
    }
   },
   "outputs": [
    {
     "data": {
      "text/plain": [
       "True"
      ]
     },
     "execution_count": 38,
     "metadata": {},
     "output_type": "execute_result"
    }
   ],
   "source": [
    "def begins_with_a_number(s):\n",
    "    return s[0].isnumeric()\n",
    "begins_with_a_number(\"21czarina\")"
   ]
  },
  {
   "cell_type": "markdown",
   "id": "8c812cce-b8f0-4cec-ac4f-efb109222e23",
   "metadata": {
    "jp-MarkdownHeadingCollapsed": true
   },
   "source": [
    "## `re.match` & `re.search` (Begins-With Number)"
   ]
  },
  {
   "cell_type": "markdown",
   "id": "fac50e59-f9b0-4833-87f2-e0d8b822de46",
   "metadata": {
    "execution": {
     "iopub.execute_input": "2025-01-29T10:05:00.435067Z",
     "iopub.status.busy": "2025-01-29T10:05:00.434509Z",
     "iopub.status.idle": "2025-01-29T10:05:00.442667Z",
     "shell.execute_reply": "2025-01-29T10:05:00.441029Z",
     "shell.execute_reply.started": "2025-01-29T10:05:00.435022Z"
    }
   },
   "source": [
    "**Variation Using  `re.match` & `r'\\d'`**"
   ]
  },
  {
   "cell_type": "markdown",
   "id": "cbab1774-ae12-4bec-93cb-5964542a9b21",
   "metadata": {
    "execution": {
     "iopub.execute_input": "2025-01-29T10:07:34.985883Z",
     "iopub.status.busy": "2025-01-29T10:07:34.984812Z",
     "iopub.status.idle": "2025-01-29T10:07:34.994153Z",
     "shell.execute_reply": "2025-01-29T10:07:34.991998Z",
     "shell.execute_reply.started": "2025-01-29T10:07:34.985836Z"
    }
   },
   "source": [
    "<div style=\"border: 2px solid black; padding: 10px; border-radius: 5px;\"> \n",
    "\n",
    "* `r'\\d'`  is the regular expression pattern.\n",
    "* `r''` denotes a raw string, which is a best practice when defining regular expressions to avoid issues with backslashes.\n",
    "* `\\d` is a special sequence that matches any digit (0-9)."
   ]
  },
  {
   "cell_type": "code",
   "execution_count": 60,
   "id": "bbb47bd2-8887-4868-9b55-3f4c146d7a83",
   "metadata": {
    "execution": {
     "iopub.execute_input": "2025-01-29T10:19:22.270983Z",
     "iopub.status.busy": "2025-01-29T10:19:22.270452Z",
     "iopub.status.idle": "2025-01-29T10:19:22.279121Z",
     "shell.execute_reply": "2025-01-29T10:19:22.277934Z",
     "shell.execute_reply.started": "2025-01-29T10:19:22.270936Z"
    }
   },
   "outputs": [
    {
     "data": {
      "text/plain": [
       "True"
      ]
     },
     "execution_count": 60,
     "metadata": {},
     "output_type": "execute_result"
    }
   ],
   "source": [
    "def begins_with_a_number(s):\n",
    "    return bool(re.match(r'\\d', s))\n",
    "begins_with_a_number(\"2czarina\")"
   ]
  },
  {
   "cell_type": "markdown",
   "id": "a5dc4bc0-74b2-4ffe-a671-2e9bc1dcadbc",
   "metadata": {
    "execution": {
     "iopub.execute_input": "2025-01-29T10:18:58.994984Z",
     "iopub.status.busy": "2025-01-29T10:18:58.994466Z",
     "iopub.status.idle": "2025-01-29T10:18:59.000605Z",
     "shell.execute_reply": "2025-01-29T10:18:58.999294Z",
     "shell.execute_reply.started": "2025-01-29T10:18:58.994938Z"
    },
    "jp-MarkdownHeadingCollapsed": true
   },
   "source": [
    "## Begins With Number then Letter (No Reg Ex)"
   ]
  },
  {
   "cell_type": "markdown",
   "id": "a9c16c81-9322-49ce-9bbc-f33567e0897e",
   "metadata": {},
   "source": [
    "**Variation Using COMBO `.isdigit` & `.isalpha`**"
   ]
  },
  {
   "cell_type": "code",
   "execution_count": 53,
   "id": "e363c3b2-c7fd-4e13-b69e-dc443f57bc32",
   "metadata": {
    "execution": {
     "iopub.execute_input": "2025-01-29T10:12:10.096567Z",
     "iopub.status.busy": "2025-01-29T10:12:10.095307Z",
     "iopub.status.idle": "2025-01-29T10:12:10.104677Z",
     "shell.execute_reply": "2025-01-29T10:12:10.103490Z",
     "shell.execute_reply.started": "2025-01-29T10:12:10.096521Z"
    }
   },
   "outputs": [
    {
     "data": {
      "text/plain": [
       "True"
      ]
     },
     "execution_count": 53,
     "metadata": {},
     "output_type": "execute_result"
    }
   ],
   "source": [
    "def begins_with_number_then_letter(s):\n",
    "    return s[0].isdigit() and s[1].isalpha()\n",
    "\n",
    "begins_with_number_then_letter(\"1jas\")  ##Return True if s contains a number followed by a letter"
   ]
  },
  {
   "cell_type": "markdown",
   "id": "910ab558-d55d-4421-be36-c9a1c1d1ed08",
   "metadata": {
    "jp-MarkdownHeadingCollapsed": true
   },
   "source": [
    "## `re.match` & `re.search` (Begins with Number then Letter)"
   ]
  },
  {
   "cell_type": "markdown",
   "id": "e5b6cac0-9660-468a-9129-3ff1761adf75",
   "metadata": {},
   "source": [
    "**Variation Using `re.match` & `r'\\d[a-zA-Z]'`** "
   ]
  },
  {
   "cell_type": "markdown",
   "id": "4907b169-0dd2-47fe-a379-fad0eb373050",
   "metadata": {},
   "source": [
    "<div style=\"border: 2px solid black; padding: 10px; border-radius: 5px;\"> \n",
    "\n",
    "[a-zA-Z]` : next character is any lower or upper case letter in the alphabet"
   ]
  },
  {
   "cell_type": "code",
   "execution_count": 58,
   "id": "e4a18f9c-749d-4a8a-ba4a-9cda7567367e",
   "metadata": {
    "execution": {
     "iopub.execute_input": "2025-01-29T10:17:53.549770Z",
     "iopub.status.busy": "2025-01-29T10:17:53.549249Z",
     "iopub.status.idle": "2025-01-29T10:17:53.557999Z",
     "shell.execute_reply": "2025-01-29T10:17:53.556990Z",
     "shell.execute_reply.started": "2025-01-29T10:17:53.549722Z"
    }
   },
   "outputs": [
    {
     "data": {
      "text/plain": [
       "True"
      ]
     },
     "execution_count": 58,
     "metadata": {},
     "output_type": "execute_result"
    }
   ],
   "source": [
    "def begins_with_number_then_letter(s):\n",
    "    return bool(re.match(r'\\d[a-zA-Z]', s))\n",
    "begins_with_number_then_letter(\"2Zzarina\") #Return True if s begins with a number followed by a letter"
   ]
  },
  {
   "cell_type": "markdown",
   "id": "2fa8296d-996b-4a9d-bea0-4ce51ee46be9",
   "metadata": {
    "execution": {
     "iopub.execute_input": "2025-01-29T10:08:35.658108Z",
     "iopub.status.busy": "2025-01-29T10:08:35.657522Z",
     "iopub.status.idle": "2025-01-29T10:08:35.666536Z",
     "shell.execute_reply": "2025-01-29T10:08:35.664725Z",
     "shell.execute_reply.started": "2025-01-29T10:08:35.658045Z"
    }
   },
   "source": [
    "**Variation Using `re.search` & `^` with `'\\d`**"
   ]
  },
  {
   "cell_type": "markdown",
   "id": "30d9a2b8-6fdf-4c9d-8318-c8cb2cb41d8f",
   "metadata": {},
   "source": [
    "<div style=\"border: 2px solid black; padding: 10px; border-radius: 5px;\"> \n",
    "\n",
    "* `^` = begins with \n",
    "* `\\d` = digit (one didit)\n"
   ]
  },
  {
   "cell_type": "code",
   "execution_count": null,
   "id": "4b091f15-8984-4ca5-9806-799c0a3a123d",
   "metadata": {},
   "outputs": [],
   "source": [
    "begins_with_a_number(\"8foo\")\n",
    "def begins_with_a_number(s):\n",
    "    return bool(re.search(r'^\\dfoo', s))"
   ]
  },
  {
   "cell_type": "markdown",
   "id": "ab382996-9eec-4395-a5d6-03ef920a505c",
   "metadata": {
    "jp-MarkdownHeadingCollapsed": true
   },
   "source": [
    "## Match and Search "
   ]
  },
  {
   "cell_type": "markdown",
   "id": "92c7ea0c-2361-456d-a0a7-76053949d8ec",
   "metadata": {},
   "source": [
    "<div style=\"border: 2px solid black; padding: 10px; border-radius: 5px;\"> \n",
    "\n",
    "* `lazydog = \"\"\"...\"\"\":` This line assigns a multiline string to the variable `lazydog`. This string contains the text you'll be searching within."
   ]
  },
  {
   "cell_type": "code",
   "execution_count": 61,
   "id": "856764bd-87ca-4dfd-a092-771f5dce009a",
   "metadata": {
    "execution": {
     "iopub.execute_input": "2025-01-29T10:25:29.434916Z",
     "iopub.status.busy": "2025-01-29T10:25:29.433836Z",
     "iopub.status.idle": "2025-01-29T10:25:29.440003Z",
     "shell.execute_reply": "2025-01-29T10:25:29.438786Z",
     "shell.execute_reply.started": "2025-01-29T10:25:29.434869Z"
    }
   },
   "outputs": [],
   "source": [
    "lazydog = '''The quick brown fox jumps over the lazydog. The quick brown fox jumps over the lazy dog.\n",
    "The quick brown then fox 123 abc123 999xyz jumps he over the -he lazy      she dog. The quick brown fox jumps over the lazy$!@dog.'''"
   ]
  },
  {
   "cell_type": "markdown",
   "id": "43680d17-1abe-44b7-8a8d-500f4d3fbb8a",
   "metadata": {
    "execution": {
     "iopub.execute_input": "2025-01-29T10:26:34.657420Z",
     "iopub.status.busy": "2025-01-29T10:26:34.656877Z",
     "iopub.status.idle": "2025-01-29T10:26:34.665657Z",
     "shell.execute_reply": "2025-01-29T10:26:34.664127Z",
     "shell.execute_reply.started": "2025-01-29T10:26:34.657373Z"
    }
   },
   "source": [
    "<div style=\"border: 2px solid black; padding: 10px; border-radius: 5px;\"> \n",
    "\n",
    "`match = re.match('The', lazydog):  This is the core of the example`:\n",
    "\n",
    "* `re.match()`: This function attempts to match the regular expression pattern at the beginning of the string.\n",
    "* `'The'`: This is the regular expression pattern. It's a literal string, meaning it will search for the exact characters \"The\" in that order.\n",
    "* `lazydog`: This is the string you're searching within.\n",
    "* The result of `re.match()` (either a match object or `None`) is stored in the variable `match`.\n",
    "\n",
    "`match:`  This line simply displays the value of the match variable. Since \"The\" is found at the beginning of the `lazydog` string, `re.match()` returns a match object, which is printed. The output `<re.Match object; span=(0, 3), match='The'>` indicates that a match was found, it spans from index 0 to 3 (exclusive), and the matched text is \"The\"."
   ]
  },
  {
   "cell_type": "code",
   "execution_count": 63,
   "id": "05e4e5cb-e997-41bb-8b64-7a68d055cc2e",
   "metadata": {
    "execution": {
     "iopub.execute_input": "2025-01-29T10:27:17.802061Z",
     "iopub.status.busy": "2025-01-29T10:27:17.800963Z",
     "iopub.status.idle": "2025-01-29T10:27:17.807526Z",
     "shell.execute_reply": "2025-01-29T10:27:17.806294Z",
     "shell.execute_reply.started": "2025-01-29T10:27:17.802014Z"
    }
   },
   "outputs": [],
   "source": [
    "match = re.match('The', lazydog)"
   ]
  },
  {
   "cell_type": "code",
   "execution_count": 64,
   "id": "2e2c148d-bacf-4033-9300-bb5cab4e9cf0",
   "metadata": {
    "execution": {
     "iopub.execute_input": "2025-01-29T10:27:24.244128Z",
     "iopub.status.busy": "2025-01-29T10:27:24.243586Z",
     "iopub.status.idle": "2025-01-29T10:27:24.252318Z",
     "shell.execute_reply": "2025-01-29T10:27:24.250913Z",
     "shell.execute_reply.started": "2025-01-29T10:27:24.244063Z"
    }
   },
   "outputs": [
    {
     "data": {
      "text/plain": [
       "<re.Match object; span=(0, 3), match='The'>"
      ]
     },
     "execution_count": 64,
     "metadata": {},
     "output_type": "execute_result"
    }
   ],
   "source": [
    "match"
   ]
  },
  {
   "cell_type": "markdown",
   "id": "c63791d2-b1a9-4bcb-9f7e-4dd5b68766f3",
   "metadata": {
    "execution": {
     "iopub.execute_input": "2025-01-29T10:29:21.617115Z",
     "iopub.status.busy": "2025-01-29T10:29:21.616571Z",
     "iopub.status.idle": "2025-01-29T10:29:21.625525Z",
     "shell.execute_reply": "2025-01-29T10:29:21.623692Z",
     "shell.execute_reply.started": "2025-01-29T10:29:21.617049Z"
    }
   },
   "source": [
    "<div style=\"border: 2px solid black; padding: 10px; border-radius: 5px;\"> \n",
    "\n",
    "* `match.group()`: This extracts and returns the actual matched text, which is \"The\".\n",
    "* `match.start()`: This returns the starting index of the match, which is 0.\n",
    "* `match.end()`: This returns the ending index of the match (exclusive), which is 3."
   ]
  },
  {
   "cell_type": "code",
   "execution_count": 66,
   "id": "b368e47c-a508-4121-91fb-d2f1a01c1e60",
   "metadata": {
    "execution": {
     "iopub.execute_input": "2025-01-29T10:29:48.562722Z",
     "iopub.status.busy": "2025-01-29T10:29:48.562203Z",
     "iopub.status.idle": "2025-01-29T10:29:48.570918Z",
     "shell.execute_reply": "2025-01-29T10:29:48.569438Z",
     "shell.execute_reply.started": "2025-01-29T10:29:48.562676Z"
    }
   },
   "outputs": [
    {
     "data": {
      "text/plain": [
       "'The'"
      ]
     },
     "execution_count": 66,
     "metadata": {},
     "output_type": "execute_result"
    }
   ],
   "source": [
    "match.group()"
   ]
  },
  {
   "cell_type": "code",
   "execution_count": 67,
   "id": "e435e4de-0330-4e5d-b455-e5268ffb0a6b",
   "metadata": {
    "execution": {
     "iopub.execute_input": "2025-01-29T10:29:55.502431Z",
     "iopub.status.busy": "2025-01-29T10:29:55.501852Z",
     "iopub.status.idle": "2025-01-29T10:29:55.510021Z",
     "shell.execute_reply": "2025-01-29T10:29:55.508849Z",
     "shell.execute_reply.started": "2025-01-29T10:29:55.502382Z"
    }
   },
   "outputs": [
    {
     "data": {
      "text/plain": [
       "0"
      ]
     },
     "execution_count": 67,
     "metadata": {},
     "output_type": "execute_result"
    }
   ],
   "source": [
    "match.start()"
   ]
  },
  {
   "cell_type": "code",
   "execution_count": 68,
   "id": "16d6ae98-bc1f-4d00-95cd-da78b671e176",
   "metadata": {
    "execution": {
     "iopub.execute_input": "2025-01-29T10:30:14.880799Z",
     "iopub.status.busy": "2025-01-29T10:30:14.879945Z",
     "iopub.status.idle": "2025-01-29T10:30:14.885880Z",
     "shell.execute_reply": "2025-01-29T10:30:14.885166Z",
     "shell.execute_reply.started": "2025-01-29T10:30:14.880762Z"
    }
   },
   "outputs": [
    {
     "data": {
      "text/plain": [
       "3"
      ]
     },
     "execution_count": 68,
     "metadata": {},
     "output_type": "execute_result"
    }
   ],
   "source": [
    "match.end()"
   ]
  },
  {
   "cell_type": "markdown",
   "id": "8d301b64-ca60-43d6-9ac3-1a14dd9fe80b",
   "metadata": {},
   "source": [
    "<div style=\"border: 2px solid black; padding: 10px; border-radius: 5px;\"> \n",
    "\n",
    "* `lazydog[match.start(): match.end()]`: This uses string slicing to extract the portion of the `lazydog` string that was matched. Since the match starts at index 0 and ends at index 3, it extracts the substring \"The\"."
   ]
  },
  {
   "cell_type": "code",
   "execution_count": 69,
   "id": "e4478669-e515-4038-9109-b164d30271f0",
   "metadata": {
    "execution": {
     "iopub.execute_input": "2025-01-29T10:31:53.764013Z",
     "iopub.status.busy": "2025-01-29T10:31:53.763311Z",
     "iopub.status.idle": "2025-01-29T10:31:53.771737Z",
     "shell.execute_reply": "2025-01-29T10:31:53.770561Z",
     "shell.execute_reply.started": "2025-01-29T10:31:53.763965Z"
    }
   },
   "outputs": [
    {
     "data": {
      "text/plain": [
       "'The'"
      ]
     },
     "execution_count": 69,
     "metadata": {},
     "output_type": "execute_result"
    }
   ],
   "source": [
    "lazydog[match.start():match.end()]"
   ]
  },
  {
   "cell_type": "markdown",
   "id": "e4bd7761-1147-4acc-8825-e303182a3057",
   "metadata": {},
   "source": [
    "<div style=\"border: 2px solid black; padding: 10px; border-radius: 5px;\"> \n",
    "\n",
    "* `match.span()`: This returns a tuple containing the starting and ending indices of the match: `(0, 3)`."
   ]
  },
  {
   "cell_type": "code",
   "execution_count": 70,
   "id": "3bb3266f-ba2c-4fe2-b765-0d5d3d606a99",
   "metadata": {
    "execution": {
     "iopub.execute_input": "2025-01-29T10:32:38.896799Z",
     "iopub.status.busy": "2025-01-29T10:32:38.896254Z",
     "iopub.status.idle": "2025-01-29T10:32:38.904816Z",
     "shell.execute_reply": "2025-01-29T10:32:38.903487Z",
     "shell.execute_reply.started": "2025-01-29T10:32:38.896745Z"
    }
   },
   "outputs": [
    {
     "data": {
      "text/plain": [
       "(0, 3)"
      ]
     },
     "execution_count": 70,
     "metadata": {},
     "output_type": "execute_result"
    }
   ],
   "source": [
    "match.span()"
   ]
  },
  {
   "cell_type": "markdown",
   "id": "78d4dcc1-1247-4ab6-815e-cc2471a1d706",
   "metadata": {
    "execution": {
     "iopub.execute_input": "2025-01-29T10:34:58.962822Z",
     "iopub.status.busy": "2025-01-29T10:34:58.961768Z",
     "iopub.status.idle": "2025-01-29T10:34:58.972333Z",
     "shell.execute_reply": "2025-01-29T10:34:58.970533Z",
     "shell.execute_reply.started": "2025-01-29T10:34:58.962777Z"
    }
   },
   "source": [
    "<div style=\"border: 2px solid black; padding: 10px; border-radius: 5px;\"> \n",
    "\n",
    "`re.search`\n",
    "* `re.search('The', lazydog)`: The `re.search()` function searches for the first occurrence of the pattern `'The'` within the string `lazydog`. Unlike `re.match()`, which only checks the beginning of the string, `re.search()` looks for the pattern anywhere in the string.\n",
    "* Output: The output is a match object. `<re.Match object; span=(0, 3), match='The'>` tells you that a match was found:\n",
    "    * `span=(0, 3)`: The match occurs from index 0 up to (but not including) index 3.\n",
    "    * `match='The'`: The actual text that matched is \"The\"."
   ]
  },
  {
   "cell_type": "code",
   "execution_count": 72,
   "id": "a349c03e-5867-49ca-9b3c-6158afdf41d0",
   "metadata": {
    "execution": {
     "iopub.execute_input": "2025-01-29T10:35:14.422575Z",
     "iopub.status.busy": "2025-01-29T10:35:14.422053Z",
     "iopub.status.idle": "2025-01-29T10:35:14.431822Z",
     "shell.execute_reply": "2025-01-29T10:35:14.430800Z",
     "shell.execute_reply.started": "2025-01-29T10:35:14.422529Z"
    }
   },
   "outputs": [
    {
     "data": {
      "text/plain": [
       "<re.Match object; span=(0, 3), match='The'>"
      ]
     },
     "execution_count": 72,
     "metadata": {},
     "output_type": "execute_result"
    }
   ],
   "source": [
    "re.search('The', lazydog)"
   ]
  },
  {
   "cell_type": "markdown",
   "id": "5aa83242-7703-489d-93bf-64193f5881f7",
   "metadata": {},
   "source": [
    "<div style=\"border: 2px solid black; padding: 10px; border-radius: 5px;\"> \n",
    "\n",
    "* `find_all(pattern, s)`: This defines a custom function to find all non-overlapping matches of a pattern in a string.   \n",
    "* `while True` loop: The loop continues until `re.search()` returns `None` (no more matches are found).\n",
    "* `match = re.search(pattern, s[start_index:])`: This is the key. It searches for the pattern in the remaining part of the string, starting from `start_index`.\n",
    "* `start_index += match.end()`: After a match is found, the `start_index` is updated to the end of the current match. This is crucial to avoid finding the same match repeatedly.\n",
    "* `matches.append(match.group())`: If a match is found, the matched text is added to the `matches` list.\n",
    "* `return matches`: When no more matches are found, the function returns the `matches` list.\n",
    "* `find_all('The', lazydog)`: This calls the function to find all occurrences of \"The\" in `lazydog`."
   ]
  },
  {
   "cell_type": "code",
   "execution_count": 73,
   "id": "37f46022-1f51-4d99-8b3b-4aacb293c679",
   "metadata": {
    "execution": {
     "iopub.execute_input": "2025-01-29T10:37:49.534795Z",
     "iopub.status.busy": "2025-01-29T10:37:49.534417Z",
     "iopub.status.idle": "2025-01-29T10:37:49.540773Z",
     "shell.execute_reply": "2025-01-29T10:37:49.539658Z",
     "shell.execute_reply.started": "2025-01-29T10:37:49.534763Z"
    }
   },
   "outputs": [],
   "source": [
    "def find_all(pattern, s):\n",
    "    \"\"\"Return list of all matches of pattern in s\"\"\"\n",
    "    start_index = 0\n",
    "    matches = []\n",
    "    while True:\n",
    "        match = re.search(pattern, s[start_index:])\n",
    "        if match:\n",
    "            matches.append(match.group())\n",
    "            start_index += match.end()\n",
    "        else:\n",
    "            return matches"
   ]
  },
  {
   "cell_type": "markdown",
   "id": "2db0078a-d137-4f84-9530-e586b4870d3b",
   "metadata": {},
   "source": [
    "<div style=\"border: 2px solid black; padding: 10px; border-radius: 5px;\"> \n",
    "\n",
    "* `re.findall('The', lazydog)`: The `re.findall()` function directly returns a list of all non-overlapping matches of the pattern in the string. It's a much simpler way to achieve the same result as the `find_all()` function in the previous block.\n",
    "* Output: `['The', 'The', 'The', 'The']` - A list containing all four occurrences of \"The\" in lazydog."
   ]
  },
  {
   "cell_type": "code",
   "execution_count": 74,
   "id": "0ab7ea02-a5d3-4833-b01a-39e45fd1cbaa",
   "metadata": {
    "execution": {
     "iopub.execute_input": "2025-01-29T10:39:04.368405Z",
     "iopub.status.busy": "2025-01-29T10:39:04.367903Z",
     "iopub.status.idle": "2025-01-29T10:39:04.375786Z",
     "shell.execute_reply": "2025-01-29T10:39:04.374657Z",
     "shell.execute_reply.started": "2025-01-29T10:39:04.368363Z"
    }
   },
   "outputs": [
    {
     "data": {
      "text/plain": [
       "['The', 'The', 'The', 'The']"
      ]
     },
     "execution_count": 74,
     "metadata": {},
     "output_type": "execute_result"
    }
   ],
   "source": [
    "re.findall('The', lazydog)"
   ]
  },
  {
   "cell_type": "markdown",
   "id": "bbd79df2-79d8-40fb-b2c3-a2e2a25c62e4",
   "metadata": {},
   "source": [
    "**Key Differences and When to Use Which:**\n",
    "\n",
    "* `re.search()`: Use when you only need to find the first occurrence of a pattern.   \n",
    "* `find_all()` (custom function): This demonstrates how you might implement finding all matches yourself, but it's generally better to use `re.findall()` directly.\n",
    "* `re.findall()`: Use when you need all non-overlapping matches of a pattern in a string. It's the most efficient and Pythonic way to do this.   \n",
    "\n",
    "* In most cases where you want all matches, `re.findall()` is the best choice due to its simplicity and efficiency.  `re.search()` is useful when you only care about the first match.  The custom `find_all()` function is educational but not typically used in practice since `re.findall()` exists"
   ]
  }
 ],
 "metadata": {
  "kernelspec": {
   "display_name": "Python [conda env:base] *",
   "language": "python",
   "name": "conda-base-py"
  },
  "language_info": {
   "codemirror_mode": {
    "name": "ipython",
    "version": 3
   },
   "file_extension": ".py",
   "mimetype": "text/x-python",
   "name": "python",
   "nbconvert_exporter": "python",
   "pygments_lexer": "ipython3",
   "version": "3.12.8"
  }
 },
 "nbformat": 4,
 "nbformat_minor": 5
}
