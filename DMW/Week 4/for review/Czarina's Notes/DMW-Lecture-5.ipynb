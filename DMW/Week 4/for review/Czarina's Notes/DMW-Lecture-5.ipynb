{
 "cells": [
  {
   "cell_type": "markdown",
   "id": "b604f166-0b7d-49fa-b7e4-95a94fb954f1",
   "metadata": {
    "execution": {
     "iopub.execute_input": "2025-02-03T00:34:28.021354Z",
     "iopub.status.busy": "2025-02-03T00:34:28.020806Z",
     "iopub.status.idle": "2025-02-03T00:34:28.027445Z",
     "shell.execute_reply": "2025-02-03T00:34:28.026062Z",
     "shell.execute_reply.started": "2025-02-03T00:34:28.021306Z"
    }
   },
   "source": [
    "## Lecture 5: [1/27]"
   ]
  },
  {
   "cell_type": "markdown",
   "id": "21737f74-523c-4313-88e7-de9e941eb19c",
   "metadata": {},
   "source": [
    "## Regular Expressions"
   ]
  },
  {
   "cell_type": "markdown",
   "id": "80acb0fd-10c4-46ed-a9a8-313d387e1c07",
   "metadata": {},
   "source": [
    "---"
   ]
  },
  {
   "cell_type": "markdown",
   "id": "e7cadab4-827e-4a3a-91c1-34bb9f0ae543",
   "metadata": {},
   "source": [
    "<div style=\"border: 2px solid black; padding: 10px; border-radius: 5px;\"> \n",
    "\n",
    "**Initialization**\n",
    "* `lazydog`: This variable is assigned a long string containing multiple occurrences of the word \"The\".\n",
    "\n",
    "**Importing the re Module**:\n",
    "* `import re`: This line imports the `re` module, which provides functions for working with regular expressions in Python.\n",
    "\n",
    "**Defining the `find_all` Function:**\n",
    "* `def find_all(pattern, s)`: This defines a function named find_all that takes two arguments:\n",
    "    * `pattern`: The regular expression pattern to search for.\n",
    "    * `s`: The string in which to search for the pattern.\n",
    "    * The function is designed to find all occurrences of the given pattern in the string and return a list of all the matches.\n",
    "    * `start_index = 0`: This line initializes a variable `start_index` to 0. This variable will be used to keep track of the starting position for each search within the string.\n",
    "    * `matches = []`: This line creates an empty list called `matches`. This list will be used to store all the matches found.\n",
    "    * `while True`:This line starts a `while` loop that will continue to execute until it is explicitly stopped.\n",
    "\n",
    "* `match = re.search(pattern, s[start_index:])`: \n",
    "    * This line uses the `re.search()` function from the `re` module to search for the specified `pattern` within the string `s`, starting from the `start_index`.\n",
    "    * `re.search()` returns a `match` object if the pattern is found, otherwise it returns `None`.\n",
    "\n",
    "* `if match`: This line checks if a match was found.\n",
    "\n",
    "* `matches.append(match.group())`\n",
    "    * If a match is found, this line appends the matched text `(match.group())` to the `matches` list.\n",
    "\n",
    "* `start_index = match.end()`\n",
    "* This line updates the `start_index` to the position after the end of the current match, so the next search will start from this position.\n",
    "\n",
    "* `else`:This block executes if no match is found.\n",
    "\n",
    "* `return matches`: If no more matches are found, the function returns the list of all matches found so far.\n",
    "\n",
    "**Finding All Occurrences of \"The\"**:\n",
    "* `for match in re.finditer('The', lazydog)`: This loop iterates over all the matches of the pattern \"The\" found in the `lazydog` string using the `re.finditer()` function.\n",
    "* `print(match)`: Inside the loop, each match object is printed. The output shows the starting and ending indices of each match within the string.\n",
    "\n"
   ]
  },
  {
   "cell_type": "code",
   "execution_count": 3,
   "id": "89fbc2ba-23d6-4ded-bfa6-b781737025ab",
   "metadata": {
    "execution": {
     "iopub.execute_input": "2025-02-03T07:47:13.077156Z",
     "iopub.status.busy": "2025-02-03T07:47:13.075585Z",
     "iopub.status.idle": "2025-02-03T07:47:13.084512Z",
     "shell.execute_reply": "2025-02-03T07:47:13.083343Z",
     "shell.execute_reply.started": "2025-02-03T07:47:13.077111Z"
    }
   },
   "outputs": [],
   "source": [
    "lazydog = '''The quick brown fox jumps over the lazydog. The quick brown fox jumps over the lazy dog.\n",
    "The quick brown then fox 123 abc123 999xyz jumps he over the -he lazy      she dog. The quick brown fox jumps over the lazy$!@dog.'''"
   ]
  },
  {
   "cell_type": "code",
   "execution_count": 4,
   "id": "b77c7943-4409-4ab3-b13c-8e68cb15a9ba",
   "metadata": {
    "execution": {
     "iopub.execute_input": "2025-02-03T07:47:13.406553Z",
     "iopub.status.busy": "2025-02-03T07:47:13.406108Z",
     "iopub.status.idle": "2025-02-03T07:47:13.411301Z",
     "shell.execute_reply": "2025-02-03T07:47:13.410469Z",
     "shell.execute_reply.started": "2025-02-03T07:47:13.406513Z"
    }
   },
   "outputs": [],
   "source": [
    "import re"
   ]
  },
  {
   "cell_type": "code",
   "execution_count": 5,
   "id": "ec173258-ffe3-49eb-b8b7-64d6eb046fdc",
   "metadata": {
    "execution": {
     "iopub.execute_input": "2025-02-03T07:47:13.791259Z",
     "iopub.status.busy": "2025-02-03T07:47:13.790800Z",
     "iopub.status.idle": "2025-02-03T07:47:13.797997Z",
     "shell.execute_reply": "2025-02-03T07:47:13.796958Z",
     "shell.execute_reply.started": "2025-02-03T07:47:13.791216Z"
    }
   },
   "outputs": [],
   "source": [
    "def find_all(pattern, s):\n",
    "    \"\"\"Return list of all matches of pattern in s\"\"\"\n",
    "    start_index = 0\n",
    "    matches = []\n",
    "    while True:\n",
    "        match = re.search(pattern, s[start_index:])\n",
    "        if match:\n",
    "            matches.append(match.group())\n",
    "            start_index += match.end()\n",
    "        else:\n",
    "            return matches"
   ]
  },
  {
   "cell_type": "code",
   "execution_count": 6,
   "id": "203df54f-702f-4195-903f-8c5707da13fe",
   "metadata": {
    "execution": {
     "iopub.execute_input": "2025-02-03T07:47:14.159787Z",
     "iopub.status.busy": "2025-02-03T07:47:14.159255Z",
     "iopub.status.idle": "2025-02-03T07:47:14.166747Z",
     "shell.execute_reply": "2025-02-03T07:47:14.165470Z",
     "shell.execute_reply.started": "2025-02-03T07:47:14.159745Z"
    }
   },
   "outputs": [
    {
     "name": "stdout",
     "output_type": "stream",
     "text": [
      "<re.Match object; span=(0, 3), match='The'>\n",
      "<re.Match object; span=(44, 47), match='The'>\n",
      "<re.Match object; span=(89, 92), match='The'>\n",
      "<re.Match object; span=(173, 176), match='The'>\n"
     ]
    }
   ],
   "source": [
    "for match in re.finditer('The', lazydog):\n",
    "    print(match)"
   ]
  },
  {
   "cell_type": "markdown",
   "id": "b886dd00-d57d-45a1-98fb-c19ecb2c6556",
   "metadata": {},
   "source": [
    "<div style=\"border: 2px solid black; padding: 10px; border-radius: 5px;\"> \n",
    "\n",
    "* This code is using the re.finditer() function from the re (regular expressions) library to find all occurrences of the word \"The\" within a given string.\n",
    "\n",
    "1. `for match in re.finditer('The', lazydog)`:\n",
    "* This line iterates over all the matches of the pattern \"The\" found in the `lazydog` string using the `re.finditer()` function.\n",
    "* `re.finditer('The', lazydog)` finds all non-overlapping matches of the pattern 'The' in the string 'lazydog' and returns an iterator over these matches.\n",
    "\n",
    "2. `print(match.group())`\n",
    "* Inside the loop, this line prints the actual text that was matched by the regular expression. `match.group()` extracts the matched substring from the original string.\n"
   ]
  },
  {
   "cell_type": "code",
   "execution_count": 7,
   "id": "a27df67e-1c71-4587-bcb7-bfea3c865cdd",
   "metadata": {
    "execution": {
     "iopub.execute_input": "2025-02-03T07:47:14.937144Z",
     "iopub.status.busy": "2025-02-03T07:47:14.936635Z",
     "iopub.status.idle": "2025-02-03T07:47:14.943876Z",
     "shell.execute_reply": "2025-02-03T07:47:14.942621Z",
     "shell.execute_reply.started": "2025-02-03T07:47:14.937104Z"
    }
   },
   "outputs": [
    {
     "name": "stdout",
     "output_type": "stream",
     "text": [
      "The\n",
      "The\n",
      "The\n",
      "The\n"
     ]
    }
   ],
   "source": [
    "for match in re.finditer('The', lazydog):\n",
    "    print(match.group())"
   ]
  },
  {
   "cell_type": "markdown",
   "id": "e1663908-4d9b-41c8-83d4-1011c4194e84",
   "metadata": {},
   "source": [
    "<div style=\"border: 2px solid black; padding: 10px; border-radius: 5px;\"> \n",
    "\n",
    "`matches = []`\n",
    "* This line creates an empty list named `matches`. This list will be used to store all the matches found.\n",
    "\n",
    "`for match in re.finditer('The', lazydog)`:\n",
    "* This line iterates over all the matches of the pattern \"The\" found in the `lazydog` string using the `re.finditer()` function.\n",
    "* `re.finditer('The', lazydog)` finds all non-overlapping matches of the pattern 'The' in the string 'lazydog' and returns an iterator over these matches.\n",
    "\n",
    "`matches.append(match.group())`\n",
    "* Inside the loop, this line appends the actual text that was matched by the regular expression to the `matches` list. `match.group()` extracts the matched substring from the original string.\n",
    "\n",
    "`matches`\n",
    "* This line prints the `matches` list, which now contains all the occurrences of the word \"The\" found in the string.\n"
   ]
  },
  {
   "cell_type": "code",
   "execution_count": 8,
   "id": "d68b7721-8df8-42c6-bdb9-e496bb8b4381",
   "metadata": {
    "execution": {
     "iopub.execute_input": "2025-02-03T07:47:15.653872Z",
     "iopub.status.busy": "2025-02-03T07:47:15.653380Z",
     "iopub.status.idle": "2025-02-03T07:47:15.667880Z",
     "shell.execute_reply": "2025-02-03T07:47:15.666802Z",
     "shell.execute_reply.started": "2025-02-03T07:47:15.653831Z"
    }
   },
   "outputs": [
    {
     "data": {
      "text/plain": [
       "['The', 'The', 'The', 'The']"
      ]
     },
     "execution_count": 8,
     "metadata": {},
     "output_type": "execute_result"
    }
   ],
   "source": [
    "matches = []\n",
    "for match in re.finditer('The', lazydog):\n",
    "    matches.append(match.group())\n",
    "\n",
    "matches"
   ]
  },
  {
   "cell_type": "markdown",
   "id": "d3e8f446-cbee-42c1-b644-5739f406ab81",
   "metadata": {},
   "source": [
    "<div style=\"border: 2px solid black; padding: 10px; border-radius: 5px;\"> \n",
    "\n",
    "`matches = [match.group() for match in re.finditer('The', lazydog)]`\n",
    "* This line is the core of the code. It uses a list comprehension to create a list of all the matches found.\n",
    "* `re.finditer('The', lazydog)`: This part finds all non-overlapping matches of the pattern 'The' in the string 'lazydog' and returns an iterator over these matches.\n",
    "* `for match in ...`: This iterates through each match object returned by `re.finditer()`.\n",
    "* `match.group()`: This extracts the actual text that was matched by the regular expression from each match object.\n",
    "* `[match.group() for match in ...]`: This list comprehension creates a new list where each element is the result of calling `match.group()` for each `match` in the iterator.\n",
    "\n",
    "`matches`\n",
    "* This line prints the `matches` list, which now contains all the occurrences of the word \"The\" found in the string.\n"
   ]
  },
  {
   "cell_type": "code",
   "execution_count": 9,
   "id": "84c1ef23-958c-4d15-b2fc-0e06293e2ebe",
   "metadata": {
    "execution": {
     "iopub.execute_input": "2025-02-03T07:47:16.260951Z",
     "iopub.status.busy": "2025-02-03T07:47:16.259958Z",
     "iopub.status.idle": "2025-02-03T07:47:16.268042Z",
     "shell.execute_reply": "2025-02-03T07:47:16.266947Z",
     "shell.execute_reply.started": "2025-02-03T07:47:16.260908Z"
    }
   },
   "outputs": [
    {
     "data": {
      "text/plain": [
       "['The', 'The', 'The', 'The']"
      ]
     },
     "execution_count": 9,
     "metadata": {},
     "output_type": "execute_result"
    }
   ],
   "source": [
    "matches = [match.group() for match in re.finditer('The', lazydog)]\n",
    "matches"
   ]
  },
  {
   "cell_type": "markdown",
   "id": "88d6427e-546d-498b-bc72-b15ee4ccd844",
   "metadata": {},
   "source": [
    "<div style=\"border: 2px solid black; padding: 10px; border-radius: 5px;\"> \n",
    "\n",
    "`def find_all(pattern, s)`:\n",
    "* This line defines a function named `find_all` that takes two arguments:\n",
    "* `pattern`: The regular expression pattern to search for.\n",
    "* `s`: The string in which to search for the pattern.\n",
    "\n",
    "`return [match.group() for match in re.finditer(pattern, s)]`\n",
    "* This line is the core of the function. It uses list comprehension to create a list of all the matches found.\n",
    "* `re.finditer(pattern, s)`: This part finds all non-overlapping matches of the `pattern` in the string `s` and returns an iterator over these matches.\n",
    "* `for match in ...`: This iterates through each `match` object returned by `re.finditer()`.\n",
    "* `match.group()`: This extracts the actual text that was matched by the regular expression from each `match` object.\n",
    "* `[match.group() for match in ...]`: This list comprehension creates a new list where each element is the result of calling `match.group()` for each `match` in the iterator.\n",
    "\n",
    "`find_all('The', lazydog)`\n",
    "* This line calls the find_all function with the pattern 'The' and the string 'lazydog' as arguments, and stores the result (the list of matches) in the output.\n"
   ]
  },
  {
   "cell_type": "code",
   "execution_count": 13,
   "id": "cf67aec7-1817-46c2-81fe-4ca3d9aea4de",
   "metadata": {
    "execution": {
     "iopub.execute_input": "2025-01-27T07:44:48.052661Z",
     "iopub.status.busy": "2025-01-27T07:44:48.051125Z",
     "iopub.status.idle": "2025-01-27T07:44:48.060488Z",
     "shell.execute_reply": "2025-01-27T07:44:48.058676Z",
     "shell.execute_reply.started": "2025-01-27T07:44:48.052600Z"
    }
   },
   "outputs": [],
   "source": [
    "def find_all(pattern, s):\n",
    "    \"\"\"Return list of all matches of pattern in s\"\"\"\n",
    "    return [match.group() for match in re.finditer(pattern, s)]"
   ]
  },
  {
   "cell_type": "code",
   "execution_count": 10,
   "id": "0357e703-17c8-4d24-bf26-9a269e422856",
   "metadata": {
    "execution": {
     "iopub.execute_input": "2025-01-27T07:39:06.439551Z",
     "iopub.status.busy": "2025-01-27T07:39:06.438244Z",
     "iopub.status.idle": "2025-01-27T07:39:06.449604Z",
     "shell.execute_reply": "2025-01-27T07:39:06.447784Z",
     "shell.execute_reply.started": "2025-01-27T07:39:06.439492Z"
    }
   },
   "outputs": [
    {
     "data": {
      "text/plain": [
       "['The', 'The', 'The', 'The']"
      ]
     },
     "execution_count": 10,
     "metadata": {},
     "output_type": "execute_result"
    }
   ],
   "source": [
    "find_all('The', lazydog)"
   ]
  },
  {
   "cell_type": "markdown",
   "id": "11ab2970-8a28-4112-a2b1-5f48f68f4572",
   "metadata": {},
   "source": [
    "<div style=\"border: 2px solid black; padding: 10px; border-radius: 5px;\"> \n",
    "\n",
    "1. `re.findall('[ab]azy', 'lazydog')`\n",
    "* This line searches for the pattern `[ab]azy`  within the string \"lazydog\".\n",
    "* `[ab]` is a character set that matches either 'a' or 'b'.\n",
    "* The output is an empty list `[]` because there are no occurrences of \"aazy\" or \"bazy\" in the string.\n",
    "\n",
    "2. `re.findall('[abl]azy', 'lazydog')`\n",
    "* This line searches for the pattern `[abl]azy` within the string \"lazydog\".\n",
    "* `[abl]` is a character set that matches 'a', 'b', or 'l'.\n",
    "The output is `['lazy', 'lazy', 'lazy', 'lazy']` because there are four occurrences of \"lazy\" in the string, and \"l\" matches the character set.\n",
    "\n",
    "3. `re.findall('[^ab]azy', 'lazydog')`\n",
    "( This line searches for the pattern `[^ab]azy` within the string \"lazydog\".\n",
    "* `[^ab]` is a negated character set that matches any character except 'a' or 'b'.\n",
    "* The output is also `['lazy', 'lazy', 'lazy', 'lazy']` because all occurrences of \"lazy\" in the string start with 'l', which is not 'a' or 'b'."
   ]
  },
  {
   "cell_type": "code",
   "execution_count": 11,
   "id": "d88641f3-d03f-4d7f-b4d1-bea7e24b04c9",
   "metadata": {
    "execution": {
     "iopub.execute_input": "2025-01-27T07:43:57.151159Z",
     "iopub.status.busy": "2025-01-27T07:43:57.150479Z",
     "iopub.status.idle": "2025-01-27T07:43:57.161352Z",
     "shell.execute_reply": "2025-01-27T07:43:57.159885Z",
     "shell.execute_reply.started": "2025-01-27T07:43:57.151102Z"
    }
   },
   "outputs": [
    {
     "data": {
      "text/plain": [
       "[]"
      ]
     },
     "execution_count": 11,
     "metadata": {},
     "output_type": "execute_result"
    }
   ],
   "source": [
    "re.findall('[ab]azy', lazydog)"
   ]
  },
  {
   "cell_type": "code",
   "execution_count": 14,
   "id": "5ae2fa19-db54-4fcd-8df8-b17641fa3ad4",
   "metadata": {
    "execution": {
     "iopub.execute_input": "2025-01-27T07:44:54.859737Z",
     "iopub.status.busy": "2025-01-27T07:44:54.858520Z",
     "iopub.status.idle": "2025-01-27T07:44:54.869254Z",
     "shell.execute_reply": "2025-01-27T07:44:54.867574Z",
     "shell.execute_reply.started": "2025-01-27T07:44:54.859677Z"
    }
   },
   "outputs": [
    {
     "data": {
      "text/plain": [
       "['lazy', 'lazy', 'lazy', 'lazy']"
      ]
     },
     "execution_count": 14,
     "metadata": {},
     "output_type": "execute_result"
    }
   ],
   "source": [
    "re.findall('[abl]azy', lazydog)"
   ]
  },
  {
   "cell_type": "code",
   "execution_count": 15,
   "id": "8d2efbc9-a4ec-4056-9b16-225f2a87753e",
   "metadata": {
    "execution": {
     "iopub.execute_input": "2025-01-27T07:47:38.062093Z",
     "iopub.status.busy": "2025-01-27T07:47:38.061430Z",
     "iopub.status.idle": "2025-01-27T07:47:38.072781Z",
     "shell.execute_reply": "2025-01-27T07:47:38.071081Z",
     "shell.execute_reply.started": "2025-01-27T07:47:38.062035Z"
    }
   },
   "outputs": [
    {
     "data": {
      "text/plain": [
       "['lazy', 'lazy', 'lazy', 'lazy']"
      ]
     },
     "execution_count": 15,
     "metadata": {},
     "output_type": "execute_result"
    }
   ],
   "source": [
    "re.findall('[^ab]azy', lazydog)"
   ]
  },
  {
   "cell_type": "markdown",
   "id": "3c9fb671-1344-4433-b389-d32b11dedc8d",
   "metadata": {},
   "source": [
    "<div style=\"border: 2px solid black; padding: 10px; border-radius: 5px;\"> \n",
    "\n",
    "* This code is using the `re.findall()` function from the `re` (regular expressions) library to find all occurrences of patterns within the string \"lazydog\". These patterns use character sets with special characters like `^` (caret) and `-` (hyphen) to match specific characters or ranges of characters.\n",
    "\n",
    "1. `re.findall('[a-t]he', 'lazydog')`\n",
    "* This line searches for the pattern `[a-t]` he within the string \"lazydog\".\n",
    "* `[a-t]` is a character set that matches any character from 'a' to 't' in the alphabet.\n",
    "* The output is `['the', 'the', 'the', 'the', 'the']` because there are five occurrences of \"the\" in the string, and each starts with a letter between 'a' and 't'.\n",
    "\n",
    "2. `re.findall('[^a-t]he', 'lazydog')`\n",
    "* This line searches for the pattern `[^a-t]` he within the string \"lazydog\".\n",
    "* `[^a-t]` is a negated character set that matches any character except those from 'a' to 't'.\n",
    "* The output is `['The', 'The', 'The', 'he', '-he', 'she', 'The']` because these occurrences of \"he\" are preceded by characters that are not between 'a' and 't'.\n",
    "\n",
    "3. `re.findall('[a^t]he', 'lazydog')`\n",
    "* This line searches for the pattern `[a^t]` he within the string \"lazydog\".\n",
    "* `[a^t]` is a character set that matches either 'a' or '^' (caret).\n",
    "* The output is `['the', 'the', 'the', 'the', 'the']` because only the letter 'a' matches within this set."
   ]
  },
  {
   "cell_type": "code",
   "execution_count": 16,
   "id": "ea999c3d-f5d0-4347-9d1c-0328d3658afd",
   "metadata": {
    "execution": {
     "iopub.execute_input": "2025-01-27T07:48:32.720335Z",
     "iopub.status.busy": "2025-01-27T07:48:32.719549Z",
     "iopub.status.idle": "2025-01-27T07:48:32.731103Z",
     "shell.execute_reply": "2025-01-27T07:48:32.729189Z",
     "shell.execute_reply.started": "2025-01-27T07:48:32.720272Z"
    }
   },
   "outputs": [
    {
     "data": {
      "text/plain": [
       "['the', 'the', 'the', 'the', 'the']"
      ]
     },
     "execution_count": 16,
     "metadata": {},
     "output_type": "execute_result"
    }
   ],
   "source": [
    "re.findall('[at]he', lazydog)"
   ]
  },
  {
   "cell_type": "code",
   "execution_count": 17,
   "id": "881376fc-9d7b-4152-8de6-272f8e917c43",
   "metadata": {
    "execution": {
     "iopub.execute_input": "2025-01-27T07:48:44.130050Z",
     "iopub.status.busy": "2025-01-27T07:48:44.128290Z",
     "iopub.status.idle": "2025-01-27T07:48:44.139604Z",
     "shell.execute_reply": "2025-01-27T07:48:44.138195Z",
     "shell.execute_reply.started": "2025-01-27T07:48:44.129986Z"
    }
   },
   "outputs": [
    {
     "data": {
      "text/plain": [
       "['The', 'The', 'The', ' he', '-he', 'she', 'The']"
      ]
     },
     "execution_count": 17,
     "metadata": {},
     "output_type": "execute_result"
    }
   ],
   "source": [
    "re.findall('[^at]he', lazydog)"
   ]
  },
  {
   "cell_type": "code",
   "execution_count": 18,
   "id": "aa58f5dc-4e47-4f26-9f62-e942b50a0638",
   "metadata": {
    "execution": {
     "iopub.execute_input": "2025-01-27T07:50:14.643069Z",
     "iopub.status.busy": "2025-01-27T07:50:14.642393Z",
     "iopub.status.idle": "2025-01-27T07:50:14.654375Z",
     "shell.execute_reply": "2025-01-27T07:50:14.652285Z",
     "shell.execute_reply.started": "2025-01-27T07:50:14.643011Z"
    }
   },
   "outputs": [
    {
     "data": {
      "text/plain": [
       "['the', 'the', 'the', 'the', 'the']"
      ]
     },
     "execution_count": 18,
     "metadata": {},
     "output_type": "execute_result"
    }
   ],
   "source": [
    "re.findall('[a^t]he', lazydog)"
   ]
  },
  {
   "cell_type": "markdown",
   "id": "284ba17c-0b2f-4db7-8988-024b39f4fda7",
   "metadata": {},
   "source": [
    "<div style=\"border: 2px solid black; padding: 10px; border-radius: 5px;\"> \n",
    "\n",
    "1. `re.findall('[a-z-A-Z]he', 'lazydog')`\n",
    "* This line searches for the pattern `[a-z-A-Z]`he within the string \"lazydog\".\n",
    "* `[a-z-A-Z]` is a character set that matches any lowercase letter, any uppercase letter, and the hyphen '-'.\n",
    "* The output is `['The', 'the', 'The', 'the', 'The', 'the', 'the', '-he', 'she', 'The', 'the']` because now the hyphen '-' is also included in the set of matching characters.\n",
    "\n",
    "2. `re.findall('[a-z-A-Z]he', 'lazydog')`\n",
    "* This line searches for the pattern `[a-z-A-Z] he`  within the string \"lazydog\".\n",
    "* `[a-z-A-Z]` is a character set that matches any lowercase letter, any uppercase letter, and the hyphen '-'.\n",
    "* The output is the same as the previous line because the pattern is identical.\n",
    "\n",
    "3. `re.findall('[a-z-A-Z]he', 'lazydog')`\n",
    "* This line searches for the pattern `[a-z-A-Z]` he within the string \"lazydog\".\n",
    "* `[a-z-A-Z]` is a character set that matches any lowercase letter, any uppercase letter, and the hyphen '-'.\n",
    "* The output is the same as the previous lines because the pattern is identical.\n",
    "\n",
    "**Key Points**:\n",
    "* The character set `[a-z-A-Z]` matches any lowercase letter, any uppercase letter, and the hyphen '-'.\n",
    "* The `re.findall()` function returns a list of all the non-overlapping matches found in the string."
   ]
  },
  {
   "cell_type": "code",
   "execution_count": 19,
   "id": "dc4759ed-bc43-4139-83f5-0bc2c1b62fa2",
   "metadata": {
    "execution": {
     "iopub.execute_input": "2025-01-27T07:52:51.509051Z",
     "iopub.status.busy": "2025-01-27T07:52:51.508202Z",
     "iopub.status.idle": "2025-01-27T07:52:51.521402Z",
     "shell.execute_reply": "2025-01-27T07:52:51.519517Z",
     "shell.execute_reply.started": "2025-01-27T07:52:51.508960Z"
    }
   },
   "outputs": [
    {
     "data": {
      "text/plain": [
       "['The', 'the', 'The', 'the', 'The', 'the', 'the', 'she', 'The', 'the']"
      ]
     },
     "execution_count": 19,
     "metadata": {},
     "output_type": "execute_result"
    }
   ],
   "source": [
    "re.findall('[a-zA-Z]he', lazydog)"
   ]
  },
  {
   "cell_type": "code",
   "execution_count": 20,
   "id": "a0dcfe11-2e17-480b-b607-8a879bbd03f3",
   "metadata": {
    "execution": {
     "iopub.execute_input": "2025-01-27T07:53:22.587250Z",
     "iopub.status.busy": "2025-01-27T07:53:22.586521Z",
     "iopub.status.idle": "2025-01-27T07:53:22.598606Z",
     "shell.execute_reply": "2025-01-27T07:53:22.597183Z",
     "shell.execute_reply.started": "2025-01-27T07:53:22.587174Z"
    }
   },
   "outputs": [
    {
     "data": {
      "text/plain": [
       "['The', 'the', 'The', 'the', 'The', 'the', 'the', '-he', 'she', 'The', 'the']"
      ]
     },
     "execution_count": 20,
     "metadata": {},
     "output_type": "execute_result"
    }
   ],
   "source": [
    "re.findall('[a-zA-Z-]he', lazydog)"
   ]
  },
  {
   "cell_type": "code",
   "execution_count": 21,
   "id": "079a67c8-ae42-4fe7-af70-3b59a746d6bd",
   "metadata": {
    "execution": {
     "iopub.execute_input": "2025-01-27T07:53:31.823400Z",
     "iopub.status.busy": "2025-01-27T07:53:31.822665Z",
     "iopub.status.idle": "2025-01-27T07:53:31.834034Z",
     "shell.execute_reply": "2025-01-27T07:53:31.832106Z",
     "shell.execute_reply.started": "2025-01-27T07:53:31.823340Z"
    }
   },
   "outputs": [
    {
     "data": {
      "text/plain": [
       "['The', 'the', 'The', 'the', 'The', 'the', 'the', '-he', 'she', 'The', 'the']"
      ]
     },
     "execution_count": 21,
     "metadata": {},
     "output_type": "execute_result"
    }
   ],
   "source": [
    "re.findall('[-a-zA-Z]he', lazydog)"
   ]
  },
  {
   "cell_type": "markdown",
   "id": "620394d5-a660-4879-a8cc-4c0f3b41a227",
   "metadata": {},
   "source": [
    "<div style=\"border: 2px solid black; padding: 10px; border-radius: 5px;\"> \n",
    "\n",
    "1. `re.findall('[a-z-A-Z1-]he', 'lazydog')`\n",
    "* This line searches for the pattern `[a-z-A-Z1-]he` within the string \"lazydog\".\n",
    "* `[a-z-A-Z1-]` is a character set that matches any lowercase letter, any uppercase letter, the hyphen '-', and the digit '1'.\n",
    "* The output is `['The', 'the', 'The', 'the', 'The', 'the', 'the', '-he', 'she', 'The', 'the']` because now the digit '1' is also included in the set of matching characters.\n",
    "\n",
    "2. `re.findall('.he', 'lazydog')`\n",
    "* This line searches for the pattern `'.he'` within the string \"lazydog\".\n",
    "* `.` is a special character in regular expressions that matches any character (except newline).\n",
    "* The output is a list containing all occurrences of \"he\" preceded by any character, including spaces, hyphens, and letters.\n",
    "\n",
    "**Key Points**:\n",
    "* Character sets can include ranges of characters (e.g., `a-z`, `A-Z`), individual characters, and special characters like `-` (hyphen) and `^` (caret).\n",
    "* The period `.` is a special character in regular expressions that matches any single character except for a newline.\n",
    "* The `re.findall()` function returns a list of all the non-overlapping matches found in the string."
   ]
  },
  {
   "cell_type": "code",
   "execution_count": 22,
   "id": "70fd5d19-09d3-4a67-9021-3243eb767dc6",
   "metadata": {
    "execution": {
     "iopub.execute_input": "2025-01-27T07:53:53.012721Z",
     "iopub.status.busy": "2025-01-27T07:53:53.011128Z",
     "iopub.status.idle": "2025-01-27T07:53:53.025150Z",
     "shell.execute_reply": "2025-01-27T07:53:53.023498Z",
     "shell.execute_reply.started": "2025-01-27T07:53:53.012622Z"
    }
   },
   "outputs": [
    {
     "data": {
      "text/plain": [
       "['The', 'the', 'The', 'the', 'The', 'the', 'the', '-he', 'she', 'The', 'the']"
      ]
     },
     "execution_count": 22,
     "metadata": {},
     "output_type": "execute_result"
    }
   ],
   "source": [
    "re.findall('[a-zA-Z1-]he', lazydog)"
   ]
  },
  {
   "cell_type": "code",
   "execution_count": 23,
   "id": "d102e445-372f-4955-9ccd-3adcb9150499",
   "metadata": {
    "execution": {
     "iopub.execute_input": "2025-01-27T07:57:30.817610Z",
     "iopub.status.busy": "2025-01-27T07:57:30.816875Z",
     "iopub.status.idle": "2025-01-27T07:57:30.828277Z",
     "shell.execute_reply": "2025-01-27T07:57:30.826582Z",
     "shell.execute_reply.started": "2025-01-27T07:57:30.817550Z"
    }
   },
   "outputs": [
    {
     "data": {
      "text/plain": [
       "['The',\n",
       " 'the',\n",
       " 'The',\n",
       " 'the',\n",
       " 'The',\n",
       " 'the',\n",
       " ' he',\n",
       " 'the',\n",
       " '-he',\n",
       " 'she',\n",
       " 'The',\n",
       " 'the']"
      ]
     },
     "execution_count": 23,
     "metadata": {},
     "output_type": "execute_result"
    }
   ],
   "source": [
    "re.findall('.he', lazydog)"
   ]
  },
  {
   "cell_type": "markdown",
   "id": "c390fcce-ab05-4e0d-89ff-bb410dede213",
   "metadata": {},
   "source": [
    "<div style=\"border: 2px solid black; padding: 10px; border-radius: 5px;\"> \n",
    "\n",
    "1. `re.findall('\\d', 'lazydog')`\n",
    "* This line searches for the pattern `\\d` within the string \"lazydog\".\n",
    "* `\\d` is a special character that matches any digit (0-9).\n",
    "* The output is `['1', '2', '3', '1', '2', '3', '9', '9', '9']` because it extracts all the digits from the string.\n",
    "\n",
    "2. `re.findall(r'\\d', 'lazydog')`\n",
    "* This line does the same as the previous line. The `r` before the string indicates that it is a raw string, which means that backslashes are treated literally. In this case, it doesn't make a difference because the \\d pattern itself is already a special sequence.\n",
    "\n",
    "3. `re.findall(r'\\dhe', 'lazydog')`\n",
    "* This line searches for the pattern \\dhe within the string \"lazydog\".\n",
    "* `\\dhe` matches a digit followed by \"he\".\n",
    "* The output is `[]` because there are no occurrences of a digit followed by \"he\" in the string.\n",
    "\n",
    "4. `re.findall(r'\\Dhe', 'lazydog')`\n",
    "* This line searches for the pattern `\\Dhe` within the string \"lazydog\".\n",
    "* `\\D` is a special character that matches any character that is not a digit.\n",
    "* The output is a list containing all occurrences of \"he\" preceded by any character that is not a digit.\n",
    "\n",
    "**In essence, this code snippet demonstrates how to use special characters like `\\d` (digit) and `\\D` (non-digit) within regular expressions to define patterns and extract specific information from a string.**\n",
    "\n",
    "\n"
   ]
  },
  {
   "cell_type": "code",
   "execution_count": 24,
   "id": "476e72cc-bf83-4e00-9b3f-6f8756cf7e15",
   "metadata": {
    "execution": {
     "iopub.execute_input": "2025-01-27T07:59:01.757905Z",
     "iopub.status.busy": "2025-01-27T07:59:01.757173Z",
     "iopub.status.idle": "2025-01-27T07:59:01.768075Z",
     "shell.execute_reply": "2025-01-27T07:59:01.766639Z",
     "shell.execute_reply.started": "2025-01-27T07:59:01.757844Z"
    }
   },
   "outputs": [
    {
     "data": {
      "text/plain": [
       "['1', '2', '3', '1', '2', '3', '9', '9', '9']"
      ]
     },
     "execution_count": 24,
     "metadata": {},
     "output_type": "execute_result"
    }
   ],
   "source": [
    "re.findall('\\\\d', lazydog)"
   ]
  },
  {
   "cell_type": "code",
   "execution_count": 25,
   "id": "e9e57b62-2567-4ac3-a3d0-ec28af691e95",
   "metadata": {
    "execution": {
     "iopub.execute_input": "2025-01-27T07:59:10.469727Z",
     "iopub.status.busy": "2025-01-27T07:59:10.468997Z",
     "iopub.status.idle": "2025-01-27T07:59:10.480912Z",
     "shell.execute_reply": "2025-01-27T07:59:10.478845Z",
     "shell.execute_reply.started": "2025-01-27T07:59:10.469667Z"
    }
   },
   "outputs": [
    {
     "data": {
      "text/plain": [
       "['1', '2', '3', '1', '2', '3', '9', '9', '9']"
      ]
     },
     "execution_count": 25,
     "metadata": {},
     "output_type": "execute_result"
    }
   ],
   "source": [
    "re.findall(r'\\d', lazydog)"
   ]
  },
  {
   "cell_type": "code",
   "execution_count": 26,
   "id": "6367b838-8cef-4e7a-89a9-04d9bb1ef10b",
   "metadata": {
    "execution": {
     "iopub.execute_input": "2025-01-27T08:00:03.097781Z",
     "iopub.status.busy": "2025-01-27T08:00:03.097084Z",
     "iopub.status.idle": "2025-01-27T08:00:03.108031Z",
     "shell.execute_reply": "2025-01-27T08:00:03.106664Z",
     "shell.execute_reply.started": "2025-01-27T08:00:03.097722Z"
    }
   },
   "outputs": [
    {
     "data": {
      "text/plain": [
       "[]"
      ]
     },
     "execution_count": 26,
     "metadata": {},
     "output_type": "execute_result"
    }
   ],
   "source": [
    "re.findall(r'\\dhe', lazydog)"
   ]
  },
  {
   "cell_type": "code",
   "execution_count": 27,
   "id": "804e1a40-3562-4bc2-8bf9-41dc00f43d01",
   "metadata": {
    "execution": {
     "iopub.execute_input": "2025-01-27T08:00:19.519295Z",
     "iopub.status.busy": "2025-01-27T08:00:19.518593Z",
     "iopub.status.idle": "2025-01-27T08:00:19.529943Z",
     "shell.execute_reply": "2025-01-27T08:00:19.528479Z",
     "shell.execute_reply.started": "2025-01-27T08:00:19.519234Z"
    }
   },
   "outputs": [
    {
     "data": {
      "text/plain": [
       "['The',\n",
       " 'the',\n",
       " 'The',\n",
       " 'the',\n",
       " 'The',\n",
       " 'the',\n",
       " ' he',\n",
       " 'the',\n",
       " '-he',\n",
       " 'she',\n",
       " 'The',\n",
       " 'the']"
      ]
     },
     "execution_count": 27,
     "metadata": {},
     "output_type": "execute_result"
    }
   ],
   "source": [
    "re.findall(r'\\Dhe', lazydog)"
   ]
  },
  {
   "cell_type": "markdown",
   "id": "4773b6bb-4d50-4cde-9886-6b2e4d45fb53",
   "metadata": {},
   "source": [
    "<div style=\"border: 2px solid black; padding: 10px; border-radius: 5px;\"> \n",
    "\n",
    "1. `re.findall(r'\\she', 'lazydog')`\n",
    "* This line searches for the pattern `\\she` within the string \"lazydog\".\n",
    "* `\\s` is a special character that matches any whitespace character (space, tab, newline, etc.).\n",
    "* The output is `['he']` because it finds the occurrence of \"he\" preceded by a single space.\n",
    "\n",
    "2. `re.findall(r'\\She', 'lazydog')`\n",
    "* This line searches for the pattern `\\She` within the string \"lazydog\".\n",
    "* `\\S` is a special character that matches any non-whitespace character.\n",
    "* The output is `['The', 'the', 'The', 'the', 'The', 'the', 'the', '-he', 'she', 'The', 'the']` because it finds all occurrences of \"he\" preceded by a non-whitespace character.\n",
    "\n",
    "3. `re.findall(r'\\whe', 'lazydog')`\n",
    "* This line searches for the pattern `\\whe` within the string \"lazydog\".\n",
    "* `\\w` is a special character that matches any word character (letters, digits, and underscores).\n",
    "* The output is `['The', 'the', 'The', 'the', 'The', 'the', 'the', 'she', 'The', 'the']` because it finds all occurrences of \"he\" preceded by a word character.\n",
    "\n",
    "4. `re.findall(r'\\Whe', 'lazydog')`\n",
    "* This line searches for the pattern `\\Whe` within the string \"lazydog\".\n",
    "* `\\W` is a special character that matches any non-word character (anything that is not a letter, digit, or underscore).\n",
    "* The output is `['he', '-he']` because it finds the occurrences of \"he\" preceded by a non-word character (space and hyphen).\n",
    "\n",
    "**In essence, this code snippet demonstrates how to use special characters like `\\s`, `\\S`, `\\w`, and `\\W` within regular expressions to match whitespace and non-whitespace characters, enabling you to extract specific patterns from a string.**"
   ]
  },
  {
   "cell_type": "code",
   "execution_count": 28,
   "id": "e14435ac-c612-4654-8dd7-c370908f3fa1",
   "metadata": {
    "execution": {
     "iopub.execute_input": "2025-01-27T08:02:12.135630Z",
     "iopub.status.busy": "2025-01-27T08:02:12.134929Z",
     "iopub.status.idle": "2025-01-27T08:02:12.146931Z",
     "shell.execute_reply": "2025-01-27T08:02:12.145121Z",
     "shell.execute_reply.started": "2025-01-27T08:02:12.135571Z"
    }
   },
   "outputs": [
    {
     "data": {
      "text/plain": [
       "[' he']"
      ]
     },
     "execution_count": 28,
     "metadata": {},
     "output_type": "execute_result"
    }
   ],
   "source": [
    "re.findall(r'\\she', lazydog)"
   ]
  },
  {
   "cell_type": "code",
   "execution_count": 29,
   "id": "618b802b-3254-4de0-a38a-51f7a729233a",
   "metadata": {
    "execution": {
     "iopub.execute_input": "2025-01-27T08:02:21.195730Z",
     "iopub.status.busy": "2025-01-27T08:02:21.194092Z",
     "iopub.status.idle": "2025-01-27T08:02:21.206408Z",
     "shell.execute_reply": "2025-01-27T08:02:21.204551Z",
     "shell.execute_reply.started": "2025-01-27T08:02:21.195666Z"
    }
   },
   "outputs": [
    {
     "data": {
      "text/plain": [
       "['The', 'the', 'The', 'the', 'The', 'the', 'the', '-he', 'she', 'The', 'the']"
      ]
     },
     "execution_count": 29,
     "metadata": {},
     "output_type": "execute_result"
    }
   ],
   "source": [
    "re.findall(r'\\She', lazydog)"
   ]
  },
  {
   "cell_type": "code",
   "execution_count": 30,
   "id": "a1578aad-1912-452a-9f54-3d69ad1fb50a",
   "metadata": {
    "execution": {
     "iopub.execute_input": "2025-01-27T08:05:11.558954Z",
     "iopub.status.busy": "2025-01-27T08:05:11.558246Z",
     "iopub.status.idle": "2025-01-27T08:05:11.570041Z",
     "shell.execute_reply": "2025-01-27T08:05:11.568327Z",
     "shell.execute_reply.started": "2025-01-27T08:05:11.558895Z"
    }
   },
   "outputs": [
    {
     "data": {
      "text/plain": [
       "['The', 'the', 'The', 'the', 'The', 'the', 'the', 'she', 'The', 'the']"
      ]
     },
     "execution_count": 30,
     "metadata": {},
     "output_type": "execute_result"
    }
   ],
   "source": [
    "re.findall(r'\\whe', lazydog)"
   ]
  },
  {
   "cell_type": "code",
   "execution_count": 31,
   "id": "6027e403-f763-4cfb-a7d6-49d7f4869c16",
   "metadata": {
    "execution": {
     "iopub.execute_input": "2025-01-27T08:05:16.532929Z",
     "iopub.status.busy": "2025-01-27T08:05:16.532197Z",
     "iopub.status.idle": "2025-01-27T08:05:16.543819Z",
     "shell.execute_reply": "2025-01-27T08:05:16.541868Z",
     "shell.execute_reply.started": "2025-01-27T08:05:16.532869Z"
    }
   },
   "outputs": [
    {
     "data": {
      "text/plain": [
       "[' he', '-he']"
      ]
     },
     "execution_count": 31,
     "metadata": {},
     "output_type": "execute_result"
    }
   ],
   "source": [
    "re.findall(r'\\Whe', lazydog)"
   ]
  },
  {
   "cell_type": "markdown",
   "id": "fc9c3f7d-1ed0-411e-9bb3-d57a3bb8ec6b",
   "metadata": {
    "execution": {
     "iopub.execute_input": "2025-02-03T08:17:52.854852Z",
     "iopub.status.busy": "2025-02-03T08:17:52.854516Z",
     "iopub.status.idle": "2025-02-03T08:17:52.862514Z",
     "shell.execute_reply": "2025-02-03T08:17:52.861400Z",
     "shell.execute_reply.started": "2025-02-03T08:17:52.854825Z"
    }
   },
   "source": [
    "<div style=\"border: 2px solid black; padding: 10px; border-radius: 5px;\"> \n",
    "\n",
    "* This code is using the `re.findall()` function from the `re` (regular expressions) library to find all occurrences of patterns within the string \"lazydog\". These patterns use special characters to match any character or zero or more occurrences of a character.\n",
    "\n",
    "1. `re.findall(r'a*', 'lazydog')`\n",
    "* This line searches for the pattern `a*` within the string \"lazydog\".\n",
    "* `*` is a quantifier that matches zero or more occurrences of the preceding character or group. In this case, it matches zero or more occurrences of the letter 'a'.\n",
    "* The output is `['', '', '', '', '', '', '', '', '', '', '', '']` because it finds many occurrences of zero or more 'a' characters within the string.\n",
    "\n",
    "2. `re.findall(r'.*', 'lazydog')`\n",
    "* This line searches for the pattern `.*` within the string \"lazydog\".\n",
    "* `.` matches any character (except newline), and * matches zero or more occurrences.\n",
    "* The output is `['lazydog']` because `.*` matches the entire string\n",
    "\n",
    "**Key Points**:\n",
    "* `*` is a quantifier that matches zero or more occurrences of the preceding character or group.\n",
    "* `.` is a special character that matches any character (except newline).\n",
    "* The `re.findall()` function returns a list of all the non-overlapping matches found in the string."
   ]
  },
  {
   "cell_type": "code",
   "execution_count": 32,
   "id": "68bfbd00-204c-4fab-bc86-9ab9d44a45db",
   "metadata": {
    "execution": {
     "iopub.execute_input": "2025-01-27T08:11:47.956752Z",
     "iopub.status.busy": "2025-01-27T08:11:47.956016Z",
     "iopub.status.idle": "2025-01-27T08:11:47.972348Z",
     "shell.execute_reply": "2025-01-27T08:11:47.970666Z",
     "shell.execute_reply.started": "2025-01-27T08:11:47.956691Z"
    },
    "scrolled": true
   },
   "outputs": [
    {
     "data": {
      "text/plain": [
       "['',\n",
       " '',\n",
       " '',\n",
       " '',\n",
       " '',\n",
       " '',\n",
       " '',\n",
       " '',\n",
       " '',\n",
       " '',\n",
       " '',\n",
       " '',\n",
       " '',\n",
       " '',\n",
       " '',\n",
       " '',\n",
       " '',\n",
       " '',\n",
       " '',\n",
       " '',\n",
       " '',\n",
       " '',\n",
       " '',\n",
       " '',\n",
       " '',\n",
       " '',\n",
       " '',\n",
       " '',\n",
       " '',\n",
       " '',\n",
       " '',\n",
       " '',\n",
       " '',\n",
       " '',\n",
       " '',\n",
       " '',\n",
       " 'a',\n",
       " '',\n",
       " '',\n",
       " '',\n",
       " '',\n",
       " '',\n",
       " '',\n",
       " '',\n",
       " '',\n",
       " '',\n",
       " '',\n",
       " '',\n",
       " '',\n",
       " '',\n",
       " '',\n",
       " '',\n",
       " '',\n",
       " '',\n",
       " '',\n",
       " '',\n",
       " '',\n",
       " '',\n",
       " '',\n",
       " '',\n",
       " '',\n",
       " '',\n",
       " '',\n",
       " '',\n",
       " '',\n",
       " '',\n",
       " '',\n",
       " '',\n",
       " '',\n",
       " '',\n",
       " '',\n",
       " '',\n",
       " '',\n",
       " '',\n",
       " '',\n",
       " '',\n",
       " '',\n",
       " '',\n",
       " '',\n",
       " '',\n",
       " 'a',\n",
       " '',\n",
       " '',\n",
       " '',\n",
       " '',\n",
       " '',\n",
       " '',\n",
       " '',\n",
       " '',\n",
       " '',\n",
       " '',\n",
       " '',\n",
       " '',\n",
       " '',\n",
       " '',\n",
       " '',\n",
       " '',\n",
       " '',\n",
       " '',\n",
       " '',\n",
       " '',\n",
       " '',\n",
       " '',\n",
       " '',\n",
       " '',\n",
       " '',\n",
       " '',\n",
       " '',\n",
       " '',\n",
       " '',\n",
       " '',\n",
       " '',\n",
       " '',\n",
       " '',\n",
       " '',\n",
       " '',\n",
       " '',\n",
       " '',\n",
       " 'a',\n",
       " '',\n",
       " '',\n",
       " '',\n",
       " '',\n",
       " '',\n",
       " '',\n",
       " '',\n",
       " '',\n",
       " '',\n",
       " '',\n",
       " '',\n",
       " '',\n",
       " '',\n",
       " '',\n",
       " '',\n",
       " '',\n",
       " '',\n",
       " '',\n",
       " '',\n",
       " '',\n",
       " '',\n",
       " '',\n",
       " '',\n",
       " '',\n",
       " '',\n",
       " '',\n",
       " '',\n",
       " '',\n",
       " '',\n",
       " '',\n",
       " '',\n",
       " '',\n",
       " '',\n",
       " '',\n",
       " '',\n",
       " '',\n",
       " 'a',\n",
       " '',\n",
       " '',\n",
       " '',\n",
       " '',\n",
       " '',\n",
       " '',\n",
       " '',\n",
       " '',\n",
       " '',\n",
       " '',\n",
       " '',\n",
       " '',\n",
       " '',\n",
       " '',\n",
       " '',\n",
       " '',\n",
       " '',\n",
       " '',\n",
       " '',\n",
       " '',\n",
       " '',\n",
       " '',\n",
       " '',\n",
       " '',\n",
       " '',\n",
       " '',\n",
       " '',\n",
       " '',\n",
       " '',\n",
       " '',\n",
       " '',\n",
       " '',\n",
       " '',\n",
       " '',\n",
       " '',\n",
       " '',\n",
       " '',\n",
       " '',\n",
       " '',\n",
       " '',\n",
       " '',\n",
       " '',\n",
       " '',\n",
       " '',\n",
       " '',\n",
       " '',\n",
       " '',\n",
       " '',\n",
       " '',\n",
       " '',\n",
       " '',\n",
       " '',\n",
       " '',\n",
       " 'a',\n",
       " '',\n",
       " '',\n",
       " '',\n",
       " '',\n",
       " '',\n",
       " '',\n",
       " '',\n",
       " '',\n",
       " '',\n",
       " '']"
      ]
     },
     "execution_count": 32,
     "metadata": {},
     "output_type": "execute_result"
    }
   ],
   "source": [
    "re.findall(r'a*', lazydog)"
   ]
  },
  {
   "cell_type": "code",
   "execution_count": 10,
   "id": "be7bb70b-6942-4478-91b3-903d26568efb",
   "metadata": {
    "execution": {
     "iopub.execute_input": "2025-02-03T08:14:26.446414Z",
     "iopub.status.busy": "2025-02-03T08:14:26.445939Z",
     "iopub.status.idle": "2025-02-03T08:14:26.747903Z",
     "shell.execute_reply": "2025-02-03T08:14:26.746488Z",
     "shell.execute_reply.started": "2025-02-03T08:14:26.446373Z"
    },
    "scrolled": true
   },
   "outputs": [
    {
     "ename": "error",
     "evalue": "nothing to repeat at position 0",
     "output_type": "error",
     "traceback": [
      "\u001b[0;31m---------------------------------------------------------------------------\u001b[0m",
      "\u001b[0;31merror\u001b[0m                                     Traceback (most recent call last)",
      "Cell \u001b[0;32mIn[10], line 1\u001b[0m\n\u001b[0;32m----> 1\u001b[0m \u001b[43mre\u001b[49m\u001b[38;5;241;43m.\u001b[39;49m\u001b[43mfindall\u001b[49m\u001b[43m(\u001b[49m\u001b[38;5;124;43mr\u001b[39;49m\u001b[38;5;124;43m'\u001b[39;49m\u001b[38;5;124;43m*\u001b[39;49m\u001b[38;5;124;43m'\u001b[39;49m\u001b[43m,\u001b[49m\u001b[43m \u001b[49m\u001b[43mlazydog\u001b[49m\u001b[43m)\u001b[49m\n",
      "File \u001b[0;32m/opt/conda/lib/python3.12/re/__init__.py:217\u001b[0m, in \u001b[0;36mfindall\u001b[0;34m(pattern, string, flags)\u001b[0m\n\u001b[1;32m    209\u001b[0m \u001b[38;5;28;01mdef\u001b[39;00m \u001b[38;5;21mfindall\u001b[39m(pattern, string, flags\u001b[38;5;241m=\u001b[39m\u001b[38;5;241m0\u001b[39m):\n\u001b[1;32m    210\u001b[0m \u001b[38;5;250m    \u001b[39m\u001b[38;5;124;03m\"\"\"Return a list of all non-overlapping matches in the string.\u001b[39;00m\n\u001b[1;32m    211\u001b[0m \n\u001b[1;32m    212\u001b[0m \u001b[38;5;124;03m    If one or more capturing groups are present in the pattern, return\u001b[39;00m\n\u001b[0;32m   (...)\u001b[0m\n\u001b[1;32m    215\u001b[0m \n\u001b[1;32m    216\u001b[0m \u001b[38;5;124;03m    Empty matches are included in the result.\"\"\"\u001b[39;00m\n\u001b[0;32m--> 217\u001b[0m     \u001b[38;5;28;01mreturn\u001b[39;00m \u001b[43m_compile\u001b[49m\u001b[43m(\u001b[49m\u001b[43mpattern\u001b[49m\u001b[43m,\u001b[49m\u001b[43m \u001b[49m\u001b[43mflags\u001b[49m\u001b[43m)\u001b[49m\u001b[38;5;241m.\u001b[39mfindall(string)\n",
      "File \u001b[0;32m/opt/conda/lib/python3.12/re/__init__.py:307\u001b[0m, in \u001b[0;36m_compile\u001b[0;34m(pattern, flags)\u001b[0m\n\u001b[1;32m    301\u001b[0m     \u001b[38;5;28;01mimport\u001b[39;00m \u001b[38;5;21;01mwarnings\u001b[39;00m\n\u001b[1;32m    302\u001b[0m     warnings\u001b[38;5;241m.\u001b[39mwarn(\u001b[38;5;124m\"\u001b[39m\u001b[38;5;124mThe re.TEMPLATE/re.T flag is deprecated \u001b[39m\u001b[38;5;124m\"\u001b[39m\n\u001b[1;32m    303\u001b[0m             \u001b[38;5;124m\"\u001b[39m\u001b[38;5;124mas it is an undocumented flag \u001b[39m\u001b[38;5;124m\"\u001b[39m\n\u001b[1;32m    304\u001b[0m             \u001b[38;5;124m\"\u001b[39m\u001b[38;5;124mwithout an obvious purpose. \u001b[39m\u001b[38;5;124m\"\u001b[39m\n\u001b[1;32m    305\u001b[0m             \u001b[38;5;124m\"\u001b[39m\u001b[38;5;124mDon\u001b[39m\u001b[38;5;124m'\u001b[39m\u001b[38;5;124mt use it.\u001b[39m\u001b[38;5;124m\"\u001b[39m,\n\u001b[1;32m    306\u001b[0m             \u001b[38;5;167;01mDeprecationWarning\u001b[39;00m)\n\u001b[0;32m--> 307\u001b[0m p \u001b[38;5;241m=\u001b[39m \u001b[43m_compiler\u001b[49m\u001b[38;5;241;43m.\u001b[39;49m\u001b[43mcompile\u001b[49m\u001b[43m(\u001b[49m\u001b[43mpattern\u001b[49m\u001b[43m,\u001b[49m\u001b[43m \u001b[49m\u001b[43mflags\u001b[49m\u001b[43m)\u001b[49m\n\u001b[1;32m    308\u001b[0m \u001b[38;5;28;01mif\u001b[39;00m flags \u001b[38;5;241m&\u001b[39m DEBUG:\n\u001b[1;32m    309\u001b[0m     \u001b[38;5;28;01mreturn\u001b[39;00m p\n",
      "File \u001b[0;32m/opt/conda/lib/python3.12/re/_compiler.py:750\u001b[0m, in \u001b[0;36mcompile\u001b[0;34m(p, flags)\u001b[0m\n\u001b[1;32m    748\u001b[0m \u001b[38;5;28;01mif\u001b[39;00m isstring(p):\n\u001b[1;32m    749\u001b[0m     pattern \u001b[38;5;241m=\u001b[39m p\n\u001b[0;32m--> 750\u001b[0m     p \u001b[38;5;241m=\u001b[39m \u001b[43m_parser\u001b[49m\u001b[38;5;241;43m.\u001b[39;49m\u001b[43mparse\u001b[49m\u001b[43m(\u001b[49m\u001b[43mp\u001b[49m\u001b[43m,\u001b[49m\u001b[43m \u001b[49m\u001b[43mflags\u001b[49m\u001b[43m)\u001b[49m\n\u001b[1;32m    751\u001b[0m \u001b[38;5;28;01melse\u001b[39;00m:\n\u001b[1;32m    752\u001b[0m     pattern \u001b[38;5;241m=\u001b[39m \u001b[38;5;28;01mNone\u001b[39;00m\n",
      "File \u001b[0;32m/opt/conda/lib/python3.12/re/_parser.py:979\u001b[0m, in \u001b[0;36mparse\u001b[0;34m(str, flags, state)\u001b[0m\n\u001b[1;32m    976\u001b[0m state\u001b[38;5;241m.\u001b[39mflags \u001b[38;5;241m=\u001b[39m flags\n\u001b[1;32m    977\u001b[0m state\u001b[38;5;241m.\u001b[39mstr \u001b[38;5;241m=\u001b[39m \u001b[38;5;28mstr\u001b[39m\n\u001b[0;32m--> 979\u001b[0m p \u001b[38;5;241m=\u001b[39m \u001b[43m_parse_sub\u001b[49m\u001b[43m(\u001b[49m\u001b[43msource\u001b[49m\u001b[43m,\u001b[49m\u001b[43m \u001b[49m\u001b[43mstate\u001b[49m\u001b[43m,\u001b[49m\u001b[43m \u001b[49m\u001b[43mflags\u001b[49m\u001b[43m \u001b[49m\u001b[38;5;241;43m&\u001b[39;49m\u001b[43m \u001b[49m\u001b[43mSRE_FLAG_VERBOSE\u001b[49m\u001b[43m,\u001b[49m\u001b[43m \u001b[49m\u001b[38;5;241;43m0\u001b[39;49m\u001b[43m)\u001b[49m\n\u001b[1;32m    980\u001b[0m p\u001b[38;5;241m.\u001b[39mstate\u001b[38;5;241m.\u001b[39mflags \u001b[38;5;241m=\u001b[39m fix_flags(\u001b[38;5;28mstr\u001b[39m, p\u001b[38;5;241m.\u001b[39mstate\u001b[38;5;241m.\u001b[39mflags)\n\u001b[1;32m    982\u001b[0m \u001b[38;5;28;01mif\u001b[39;00m source\u001b[38;5;241m.\u001b[39mnext \u001b[38;5;129;01mis\u001b[39;00m \u001b[38;5;129;01mnot\u001b[39;00m \u001b[38;5;28;01mNone\u001b[39;00m:\n",
      "File \u001b[0;32m/opt/conda/lib/python3.12/re/_parser.py:460\u001b[0m, in \u001b[0;36m_parse_sub\u001b[0;34m(source, state, verbose, nested)\u001b[0m\n\u001b[1;32m    458\u001b[0m start \u001b[38;5;241m=\u001b[39m source\u001b[38;5;241m.\u001b[39mtell()\n\u001b[1;32m    459\u001b[0m \u001b[38;5;28;01mwhile\u001b[39;00m \u001b[38;5;28;01mTrue\u001b[39;00m:\n\u001b[0;32m--> 460\u001b[0m     itemsappend(\u001b[43m_parse\u001b[49m\u001b[43m(\u001b[49m\u001b[43msource\u001b[49m\u001b[43m,\u001b[49m\u001b[43m \u001b[49m\u001b[43mstate\u001b[49m\u001b[43m,\u001b[49m\u001b[43m \u001b[49m\u001b[43mverbose\u001b[49m\u001b[43m,\u001b[49m\u001b[43m \u001b[49m\u001b[43mnested\u001b[49m\u001b[43m \u001b[49m\u001b[38;5;241;43m+\u001b[39;49m\u001b[43m \u001b[49m\u001b[38;5;241;43m1\u001b[39;49m\u001b[43m,\u001b[49m\n\u001b[1;32m    461\u001b[0m \u001b[43m                       \u001b[49m\u001b[38;5;129;43;01mnot\u001b[39;49;00m\u001b[43m \u001b[49m\u001b[43mnested\u001b[49m\u001b[43m \u001b[49m\u001b[38;5;129;43;01mand\u001b[39;49;00m\u001b[43m \u001b[49m\u001b[38;5;129;43;01mnot\u001b[39;49;00m\u001b[43m \u001b[49m\u001b[43mitems\u001b[49m\u001b[43m)\u001b[49m)\n\u001b[1;32m    462\u001b[0m     \u001b[38;5;28;01mif\u001b[39;00m \u001b[38;5;129;01mnot\u001b[39;00m sourcematch(\u001b[38;5;124m\"\u001b[39m\u001b[38;5;124m|\u001b[39m\u001b[38;5;124m\"\u001b[39m):\n\u001b[1;32m    463\u001b[0m         \u001b[38;5;28;01mbreak\u001b[39;00m\n",
      "File \u001b[0;32m/opt/conda/lib/python3.12/re/_parser.py:687\u001b[0m, in \u001b[0;36m_parse\u001b[0;34m(source, state, verbose, nested, first)\u001b[0m\n\u001b[1;32m    685\u001b[0m     item \u001b[38;5;241m=\u001b[39m \u001b[38;5;28;01mNone\u001b[39;00m\n\u001b[1;32m    686\u001b[0m \u001b[38;5;28;01mif\u001b[39;00m \u001b[38;5;129;01mnot\u001b[39;00m item \u001b[38;5;129;01mor\u001b[39;00m item[\u001b[38;5;241m0\u001b[39m][\u001b[38;5;241m0\u001b[39m] \u001b[38;5;129;01mis\u001b[39;00m AT:\n\u001b[0;32m--> 687\u001b[0m     \u001b[38;5;28;01mraise\u001b[39;00m source\u001b[38;5;241m.\u001b[39merror(\u001b[38;5;124m\"\u001b[39m\u001b[38;5;124mnothing to repeat\u001b[39m\u001b[38;5;124m\"\u001b[39m,\n\u001b[1;32m    688\u001b[0m                        source\u001b[38;5;241m.\u001b[39mtell() \u001b[38;5;241m-\u001b[39m here \u001b[38;5;241m+\u001b[39m \u001b[38;5;28mlen\u001b[39m(this))\n\u001b[1;32m    689\u001b[0m \u001b[38;5;28;01mif\u001b[39;00m item[\u001b[38;5;241m0\u001b[39m][\u001b[38;5;241m0\u001b[39m] \u001b[38;5;129;01min\u001b[39;00m _REPEATCODES:\n\u001b[1;32m    690\u001b[0m     \u001b[38;5;28;01mraise\u001b[39;00m source\u001b[38;5;241m.\u001b[39merror(\u001b[38;5;124m\"\u001b[39m\u001b[38;5;124mmultiple repeat\u001b[39m\u001b[38;5;124m\"\u001b[39m,\n\u001b[1;32m    691\u001b[0m                        source\u001b[38;5;241m.\u001b[39mtell() \u001b[38;5;241m-\u001b[39m here \u001b[38;5;241m+\u001b[39m \u001b[38;5;28mlen\u001b[39m(this))\n",
      "\u001b[0;31merror\u001b[0m: nothing to repeat at position 0"
     ]
    }
   ],
   "source": [
    "re.findall(r'*', lazydog)"
   ]
  },
  {
   "cell_type": "markdown",
   "id": "93d40013-d8de-408c-8708-70d7357be11a",
   "metadata": {},
   "source": [
    "<div style=\"border: 2px solid black; padding: 10px; border-radius: 5px;\"> \n",
    "\n",
    "1. `re.findall('99*', 'lazydog')`\n",
    "* This line searches for the pattern `99*` within the string \"lazydog\".\n",
    "* `*` is a quantifier that matches zero or more occurrences of the preceding character or group. In this case, it matches zero or more occurrences of the digit '9'.\n",
    "* The output is `['999']` because it finds the occurrence of three consecutive '9's in the string.\n",
    "\n",
    "2. `re.findall('99*', 'lazydog')`\n",
    "* This line searches for the pattern `99*` within the string \"lazydog\".\n",
    "* `*` is a quantifier that matches zero or more occurrences of the preceding character or group. In this case, it matches zero or more occurrences of the digit '9'.\n",
    "* The output is `['9', '9', '9']` because it finds three individual occurrences of the digit '9'.\n",
    "\n",
    "3. `re.findall('.*', 'lazydog')`\n",
    "* This line searches for the pattern `.*` within the string \"lazydog\".\n",
    "* `.` matches any character (except newline), and `*` matches zero or more occurrences.\n",
    "* The output is a list containing the entire string \"lazydog\" because `.*` matches the entire string.\n",
    "\n",
    "**Key Points**:\n",
    "* `*` matches zero or more occurrences of the preceding character or group.\n",
    "* `?` matches zero or one occurrence of the preceding character or group.1"
   ]
  },
  {
   "cell_type": "code",
   "execution_count": 34,
   "id": "a7cadf11-db0d-4ad0-95cc-6f3098f451dd",
   "metadata": {
    "execution": {
     "iopub.execute_input": "2025-01-27T08:17:10.923533Z",
     "iopub.status.busy": "2025-01-27T08:17:10.922769Z",
     "iopub.status.idle": "2025-01-27T08:17:10.935666Z",
     "shell.execute_reply": "2025-01-27T08:17:10.933808Z",
     "shell.execute_reply.started": "2025-01-27T08:17:10.923466Z"
    }
   },
   "outputs": [
    {
     "data": {
      "text/plain": [
       "['999']"
      ]
     },
     "execution_count": 34,
     "metadata": {},
     "output_type": "execute_result"
    }
   ],
   "source": [
    "re.findall('99*', lazydog)"
   ]
  },
  {
   "cell_type": "code",
   "execution_count": 35,
   "id": "4bc72312-2ded-48df-b676-66c679acc538",
   "metadata": {
    "execution": {
     "iopub.execute_input": "2025-01-27T08:20:58.844456Z",
     "iopub.status.busy": "2025-01-27T08:20:58.843750Z",
     "iopub.status.idle": "2025-01-27T08:20:58.857007Z",
     "shell.execute_reply": "2025-01-27T08:20:58.854686Z",
     "shell.execute_reply.started": "2025-01-27T08:20:58.844396Z"
    }
   },
   "outputs": [
    {
     "data": {
      "text/plain": [
       "['9', '9', '9']"
      ]
     },
     "execution_count": 35,
     "metadata": {},
     "output_type": "execute_result"
    }
   ],
   "source": [
    "re.findall('99*?', lazydog)"
   ]
  },
  {
   "cell_type": "code",
   "execution_count": 36,
   "id": "febc468f-9782-42eb-b375-24ac01bd8b0e",
   "metadata": {
    "execution": {
     "iopub.execute_input": "2025-01-27T08:23:55.606578Z",
     "iopub.status.busy": "2025-01-27T08:23:55.604910Z",
     "iopub.status.idle": "2025-01-27T08:23:55.617357Z",
     "shell.execute_reply": "2025-01-27T08:23:55.615298Z",
     "shell.execute_reply.started": "2025-01-27T08:23:55.606509Z"
    }
   },
   "outputs": [
    {
     "data": {
      "text/plain": [
       "['The quick brown fox jumps over the lazydog. The quick brown fox jumps over the lazy dog.',\n",
       " '',\n",
       " 'The quick brown then fox 123 abc123 999xyz jumps he over the -he lazy      she dog. The quick brown fox jumps over the lazy$!@dog.',\n",
       " '']"
      ]
     },
     "execution_count": 36,
     "metadata": {},
     "output_type": "execute_result"
    }
   ],
   "source": [
    "re.findall('.*', lazydog)"
   ]
  },
  {
   "cell_type": "markdown",
   "id": "933bcaf8-4846-456d-8e49-b97f9a6852ff",
   "metadata": {},
   "source": [
    "<div style=\"border: 2px solid black; padding: 10px; border-radius: 5px;\"> \n",
    "\n",
    "1. `re.findall('.*?', 'lazydog')`\n",
    "* This line searches for the pattern `.*?` within the string \"lazydog\".\n",
    "* `.` matches any character (except newline).\n",
    "* `*` is a quantifier that matches zero or more occurrences of the preceding character or group.\n",
    "* `?` is a quantifier that makes the preceding quantifier (* in this case) non-greedy.\n",
    "\n",
    "**Non-greedy matching**:\n",
    "* By default, quantifiers like `*` are greedy. This means they try to match as much of the string as possible.\n",
    "* The `?` after the quantifier makes it non-greedy. This means it will match as few characters as possible while still satisfying the pattern.\n",
    "\n",
    "**In this case**:\n",
    "* `.*?` will match individual characters one by one because the non-greedy quantifier will try to match the shortest possible string that satisfies the pattern.\n",
    "* Therefore, the output of this code is a list of all the individual characters in the string \"lazydog\".\n",
    "\n",
    "\n"
   ]
  },
  {
   "cell_type": "code",
   "execution_count": 37,
   "id": "bb4fe06e-9014-4d5e-9d1b-f4019d66d6f5",
   "metadata": {
    "execution": {
     "iopub.execute_input": "2025-01-27T08:24:20.994835Z",
     "iopub.status.busy": "2025-01-27T08:24:20.994099Z",
     "iopub.status.idle": "2025-01-27T08:24:21.013043Z",
     "shell.execute_reply": "2025-01-27T08:24:21.011379Z",
     "shell.execute_reply.started": "2025-01-27T08:24:20.994777Z"
    },
    "scrolled": true
   },
   "outputs": [
    {
     "data": {
      "text/plain": [
       "['',\n",
       " 'T',\n",
       " '',\n",
       " 'h',\n",
       " '',\n",
       " 'e',\n",
       " '',\n",
       " ' ',\n",
       " '',\n",
       " 'q',\n",
       " '',\n",
       " 'u',\n",
       " '',\n",
       " 'i',\n",
       " '',\n",
       " 'c',\n",
       " '',\n",
       " 'k',\n",
       " '',\n",
       " ' ',\n",
       " '',\n",
       " 'b',\n",
       " '',\n",
       " 'r',\n",
       " '',\n",
       " 'o',\n",
       " '',\n",
       " 'w',\n",
       " '',\n",
       " 'n',\n",
       " '',\n",
       " ' ',\n",
       " '',\n",
       " 'f',\n",
       " '',\n",
       " 'o',\n",
       " '',\n",
       " 'x',\n",
       " '',\n",
       " ' ',\n",
       " '',\n",
       " 'j',\n",
       " '',\n",
       " 'u',\n",
       " '',\n",
       " 'm',\n",
       " '',\n",
       " 'p',\n",
       " '',\n",
       " 's',\n",
       " '',\n",
       " ' ',\n",
       " '',\n",
       " 'o',\n",
       " '',\n",
       " 'v',\n",
       " '',\n",
       " 'e',\n",
       " '',\n",
       " 'r',\n",
       " '',\n",
       " ' ',\n",
       " '',\n",
       " 't',\n",
       " '',\n",
       " 'h',\n",
       " '',\n",
       " 'e',\n",
       " '',\n",
       " ' ',\n",
       " '',\n",
       " 'l',\n",
       " '',\n",
       " 'a',\n",
       " '',\n",
       " 'z',\n",
       " '',\n",
       " 'y',\n",
       " '',\n",
       " 'd',\n",
       " '',\n",
       " 'o',\n",
       " '',\n",
       " 'g',\n",
       " '',\n",
       " '.',\n",
       " '',\n",
       " ' ',\n",
       " '',\n",
       " 'T',\n",
       " '',\n",
       " 'h',\n",
       " '',\n",
       " 'e',\n",
       " '',\n",
       " ' ',\n",
       " '',\n",
       " 'q',\n",
       " '',\n",
       " 'u',\n",
       " '',\n",
       " 'i',\n",
       " '',\n",
       " 'c',\n",
       " '',\n",
       " 'k',\n",
       " '',\n",
       " ' ',\n",
       " '',\n",
       " 'b',\n",
       " '',\n",
       " 'r',\n",
       " '',\n",
       " 'o',\n",
       " '',\n",
       " 'w',\n",
       " '',\n",
       " 'n',\n",
       " '',\n",
       " ' ',\n",
       " '',\n",
       " 'f',\n",
       " '',\n",
       " 'o',\n",
       " '',\n",
       " 'x',\n",
       " '',\n",
       " ' ',\n",
       " '',\n",
       " 'j',\n",
       " '',\n",
       " 'u',\n",
       " '',\n",
       " 'm',\n",
       " '',\n",
       " 'p',\n",
       " '',\n",
       " 's',\n",
       " '',\n",
       " ' ',\n",
       " '',\n",
       " 'o',\n",
       " '',\n",
       " 'v',\n",
       " '',\n",
       " 'e',\n",
       " '',\n",
       " 'r',\n",
       " '',\n",
       " ' ',\n",
       " '',\n",
       " 't',\n",
       " '',\n",
       " 'h',\n",
       " '',\n",
       " 'e',\n",
       " '',\n",
       " ' ',\n",
       " '',\n",
       " 'l',\n",
       " '',\n",
       " 'a',\n",
       " '',\n",
       " 'z',\n",
       " '',\n",
       " 'y',\n",
       " '',\n",
       " ' ',\n",
       " '',\n",
       " 'd',\n",
       " '',\n",
       " 'o',\n",
       " '',\n",
       " 'g',\n",
       " '',\n",
       " '.',\n",
       " '',\n",
       " '',\n",
       " 'T',\n",
       " '',\n",
       " 'h',\n",
       " '',\n",
       " 'e',\n",
       " '',\n",
       " ' ',\n",
       " '',\n",
       " 'q',\n",
       " '',\n",
       " 'u',\n",
       " '',\n",
       " 'i',\n",
       " '',\n",
       " 'c',\n",
       " '',\n",
       " 'k',\n",
       " '',\n",
       " ' ',\n",
       " '',\n",
       " 'b',\n",
       " '',\n",
       " 'r',\n",
       " '',\n",
       " 'o',\n",
       " '',\n",
       " 'w',\n",
       " '',\n",
       " 'n',\n",
       " '',\n",
       " ' ',\n",
       " '',\n",
       " 't',\n",
       " '',\n",
       " 'h',\n",
       " '',\n",
       " 'e',\n",
       " '',\n",
       " 'n',\n",
       " '',\n",
       " ' ',\n",
       " '',\n",
       " 'f',\n",
       " '',\n",
       " 'o',\n",
       " '',\n",
       " 'x',\n",
       " '',\n",
       " ' ',\n",
       " '',\n",
       " '1',\n",
       " '',\n",
       " '2',\n",
       " '',\n",
       " '3',\n",
       " '',\n",
       " ' ',\n",
       " '',\n",
       " 'a',\n",
       " '',\n",
       " 'b',\n",
       " '',\n",
       " 'c',\n",
       " '',\n",
       " '1',\n",
       " '',\n",
       " '2',\n",
       " '',\n",
       " '3',\n",
       " '',\n",
       " ' ',\n",
       " '',\n",
       " '9',\n",
       " '',\n",
       " '9',\n",
       " '',\n",
       " '9',\n",
       " '',\n",
       " 'x',\n",
       " '',\n",
       " 'y',\n",
       " '',\n",
       " 'z',\n",
       " '',\n",
       " ' ',\n",
       " '',\n",
       " 'j',\n",
       " '',\n",
       " 'u',\n",
       " '',\n",
       " 'm',\n",
       " '',\n",
       " 'p',\n",
       " '',\n",
       " 's',\n",
       " '',\n",
       " ' ',\n",
       " '',\n",
       " 'h',\n",
       " '',\n",
       " 'e',\n",
       " '',\n",
       " ' ',\n",
       " '',\n",
       " 'o',\n",
       " '',\n",
       " 'v',\n",
       " '',\n",
       " 'e',\n",
       " '',\n",
       " 'r',\n",
       " '',\n",
       " ' ',\n",
       " '',\n",
       " 't',\n",
       " '',\n",
       " 'h',\n",
       " '',\n",
       " 'e',\n",
       " '',\n",
       " ' ',\n",
       " '',\n",
       " '-',\n",
       " '',\n",
       " 'h',\n",
       " '',\n",
       " 'e',\n",
       " '',\n",
       " ' ',\n",
       " '',\n",
       " 'l',\n",
       " '',\n",
       " 'a',\n",
       " '',\n",
       " 'z',\n",
       " '',\n",
       " 'y',\n",
       " '',\n",
       " ' ',\n",
       " '',\n",
       " ' ',\n",
       " '',\n",
       " ' ',\n",
       " '',\n",
       " ' ',\n",
       " '',\n",
       " ' ',\n",
       " '',\n",
       " ' ',\n",
       " '',\n",
       " 's',\n",
       " '',\n",
       " 'h',\n",
       " '',\n",
       " 'e',\n",
       " '',\n",
       " ' ',\n",
       " '',\n",
       " 'd',\n",
       " '',\n",
       " 'o',\n",
       " '',\n",
       " 'g',\n",
       " '',\n",
       " '.',\n",
       " '',\n",
       " ' ',\n",
       " '',\n",
       " 'T',\n",
       " '',\n",
       " 'h',\n",
       " '',\n",
       " 'e',\n",
       " '',\n",
       " ' ',\n",
       " '',\n",
       " 'q',\n",
       " '',\n",
       " 'u',\n",
       " '',\n",
       " 'i',\n",
       " '',\n",
       " 'c',\n",
       " '',\n",
       " 'k',\n",
       " '',\n",
       " ' ',\n",
       " '',\n",
       " 'b',\n",
       " '',\n",
       " 'r',\n",
       " '',\n",
       " 'o',\n",
       " '',\n",
       " 'w',\n",
       " '',\n",
       " 'n',\n",
       " '',\n",
       " ' ',\n",
       " '',\n",
       " 'f',\n",
       " '',\n",
       " 'o',\n",
       " '',\n",
       " 'x',\n",
       " '',\n",
       " ' ',\n",
       " '',\n",
       " 'j',\n",
       " '',\n",
       " 'u',\n",
       " '',\n",
       " 'm',\n",
       " '',\n",
       " 'p',\n",
       " '',\n",
       " 's',\n",
       " '',\n",
       " ' ',\n",
       " '',\n",
       " 'o',\n",
       " '',\n",
       " 'v',\n",
       " '',\n",
       " 'e',\n",
       " '',\n",
       " 'r',\n",
       " '',\n",
       " ' ',\n",
       " '',\n",
       " 't',\n",
       " '',\n",
       " 'h',\n",
       " '',\n",
       " 'e',\n",
       " '',\n",
       " ' ',\n",
       " '',\n",
       " 'l',\n",
       " '',\n",
       " 'a',\n",
       " '',\n",
       " 'z',\n",
       " '',\n",
       " 'y',\n",
       " '',\n",
       " '$',\n",
       " '',\n",
       " '!',\n",
       " '',\n",
       " '@',\n",
       " '',\n",
       " 'd',\n",
       " '',\n",
       " 'o',\n",
       " '',\n",
       " 'g',\n",
       " '',\n",
       " '.',\n",
       " '']"
      ]
     },
     "execution_count": 37,
     "metadata": {},
     "output_type": "execute_result"
    }
   ],
   "source": [
    "re.findall('.*?', lazydog)"
   ]
  },
  {
   "cell_type": "markdown",
   "id": "5dea323b-3990-48ac-bf90-c0e2b6fc52d5",
   "metadata": {},
   "source": [
    "<div style=\"border: 2px solid black; padding: 10px; border-radius: 5px;\"> \n",
    "\n",
    "`re.findall('9?', 'lazydog')`\n",
    "* This line searches for the pattern `9?` within the string \"lazydog\".\n",
    "* `?` is a quantifier that matches zero or one occurrence of the preceding character or group. In this case, it matches zero or one occurrence of the digit '9'.\n",
    "\n",
    "**What the output would look like**:\n",
    "* Since the string \"lazydog\" does not contain any digits, the output would be a list containing only empty strings (''). This is because the `?` quantifier allows for zero occurrences of the digit '9' at every position within the string.\n",
    "\n",
    "**In essence, this code snippet demonstrates how to use the ? quantifier in regular expressions to match zero or one occurrence of a character or group of characters**\n",
    "\n",
    "**Key Points**:\n",
    "* `?` matches zero or one occurrence of the preceding character or group.\n",
    "* The `re.findall()` function returns a list of all the non-overlapping matches found in the string.\n",
    "\n"
   ]
  },
  {
   "cell_type": "code",
   "execution_count": 38,
   "id": "c3bb75c3-b900-4108-8a50-d2154da32742",
   "metadata": {
    "execution": {
     "iopub.execute_input": "2025-01-27T08:25:56.593650Z",
     "iopub.status.busy": "2025-01-27T08:25:56.592254Z",
     "iopub.status.idle": "2025-01-27T08:25:56.609251Z",
     "shell.execute_reply": "2025-01-27T08:25:56.607852Z",
     "shell.execute_reply.started": "2025-01-27T08:25:56.593586Z"
    },
    "scrolled": true
   },
   "outputs": [
    {
     "data": {
      "text/plain": [
       "['',\n",
       " '',\n",
       " '',\n",
       " '',\n",
       " '',\n",
       " '',\n",
       " '',\n",
       " '',\n",
       " '',\n",
       " '',\n",
       " '',\n",
       " '',\n",
       " '',\n",
       " '',\n",
       " '',\n",
       " '',\n",
       " '',\n",
       " '',\n",
       " '',\n",
       " '',\n",
       " '',\n",
       " '',\n",
       " '',\n",
       " '',\n",
       " '',\n",
       " '',\n",
       " '',\n",
       " '',\n",
       " '',\n",
       " '',\n",
       " '',\n",
       " '',\n",
       " '',\n",
       " '',\n",
       " '',\n",
       " '',\n",
       " '',\n",
       " '',\n",
       " '',\n",
       " '',\n",
       " '',\n",
       " '',\n",
       " '',\n",
       " '',\n",
       " '',\n",
       " '',\n",
       " '',\n",
       " '',\n",
       " '',\n",
       " '',\n",
       " '',\n",
       " '',\n",
       " '',\n",
       " '',\n",
       " '',\n",
       " '',\n",
       " '',\n",
       " '',\n",
       " '',\n",
       " '',\n",
       " '',\n",
       " '',\n",
       " '',\n",
       " '',\n",
       " '',\n",
       " '',\n",
       " '',\n",
       " '',\n",
       " '',\n",
       " '',\n",
       " '',\n",
       " '',\n",
       " '',\n",
       " '',\n",
       " '',\n",
       " '',\n",
       " '',\n",
       " '',\n",
       " '',\n",
       " '',\n",
       " '',\n",
       " '',\n",
       " '',\n",
       " '',\n",
       " '',\n",
       " '',\n",
       " '',\n",
       " '',\n",
       " '',\n",
       " '',\n",
       " '',\n",
       " '',\n",
       " '',\n",
       " '',\n",
       " '',\n",
       " '',\n",
       " '',\n",
       " '',\n",
       " '',\n",
       " '',\n",
       " '',\n",
       " '',\n",
       " '',\n",
       " '',\n",
       " '',\n",
       " '',\n",
       " '',\n",
       " '',\n",
       " '',\n",
       " '',\n",
       " '',\n",
       " '',\n",
       " '',\n",
       " '',\n",
       " '',\n",
       " '',\n",
       " '',\n",
       " '',\n",
       " '',\n",
       " '',\n",
       " '',\n",
       " '',\n",
       " '',\n",
       " '',\n",
       " '',\n",
       " '9',\n",
       " '9',\n",
       " '9',\n",
       " '',\n",
       " '',\n",
       " '',\n",
       " '',\n",
       " '',\n",
       " '',\n",
       " '',\n",
       " '',\n",
       " '',\n",
       " '',\n",
       " '',\n",
       " '',\n",
       " '',\n",
       " '',\n",
       " '',\n",
       " '',\n",
       " '',\n",
       " '',\n",
       " '',\n",
       " '',\n",
       " '',\n",
       " '',\n",
       " '',\n",
       " '',\n",
       " '',\n",
       " '',\n",
       " '',\n",
       " '',\n",
       " '',\n",
       " '',\n",
       " '',\n",
       " '',\n",
       " '',\n",
       " '',\n",
       " '',\n",
       " '',\n",
       " '',\n",
       " '',\n",
       " '',\n",
       " '',\n",
       " '',\n",
       " '',\n",
       " '',\n",
       " '',\n",
       " '',\n",
       " '',\n",
       " '',\n",
       " '',\n",
       " '',\n",
       " '',\n",
       " '',\n",
       " '',\n",
       " '',\n",
       " '',\n",
       " '',\n",
       " '',\n",
       " '',\n",
       " '',\n",
       " '',\n",
       " '',\n",
       " '',\n",
       " '',\n",
       " '',\n",
       " '',\n",
       " '',\n",
       " '',\n",
       " '',\n",
       " '',\n",
       " '',\n",
       " '',\n",
       " '',\n",
       " '',\n",
       " '',\n",
       " '',\n",
       " '',\n",
       " '',\n",
       " '',\n",
       " '',\n",
       " '',\n",
       " '',\n",
       " '',\n",
       " '',\n",
       " '',\n",
       " '',\n",
       " '',\n",
       " '',\n",
       " '',\n",
       " '',\n",
       " '',\n",
       " '',\n",
       " '',\n",
       " '']"
      ]
     },
     "execution_count": 38,
     "metadata": {},
     "output_type": "execute_result"
    }
   ],
   "source": [
    "re.findall('9?', lazydog)"
   ]
  },
  {
   "cell_type": "markdown",
   "id": "df5fc7aa-c0bd-42f3-bd97-7040882d9c4d",
   "metadata": {},
   "source": [
    "<div style=\"border: 2px solid black; padding: 10px; border-radius: 5px;\"> \n",
    "\n",
    "* `re.findall('l(?=9??)', 'lazydog')`\n",
    "* This line of code uses the `re` module (regular expressions) in Python to * find all occurrences of the letter \"l\" followed by zero or one occurrence of the digit \"9\" within the string \"lazydog\".\n",
    "* `re.findall()`: This function is used to find all non-overlapping matches of a pattern in a given string.\n",
    "* `'l(?=9??)'`: This is the regular expression pattern:\n",
    "* `l`: Matches the letter \"l\" literally.\n",
    "* `(?=9??)`: This is a positive lookahead assertion. It checks if the following characters match the pattern inside the assertion, but doesn't include them in the match result.\n",
    "* `9`: Matches the digit \"9\" literally.\n",
    "* `?`: This is a quantifier that matches zero or one occurrence of the preceding element (in this case, the digit \"9\").\n",
    "* `?`: This is a non-capturing group, meaning it doesn't capture the matched group for later use.\n"
   ]
  },
  {
   "cell_type": "code",
   "execution_count": 39,
   "id": "f839e277-aa4d-43c6-8857-b49e3eb3faaa",
   "metadata": {
    "execution": {
     "iopub.execute_input": "2025-01-27T08:27:02.683396Z",
     "iopub.status.busy": "2025-01-27T08:27:02.682698Z",
     "iopub.status.idle": "2025-01-27T08:27:02.698427Z",
     "shell.execute_reply": "2025-01-27T08:27:02.697059Z",
     "shell.execute_reply.started": "2025-01-27T08:27:02.683337Z"
    },
    "scrolled": true
   },
   "outputs": [
    {
     "data": {
      "text/plain": [
       "['',\n",
       " '',\n",
       " '',\n",
       " '',\n",
       " '',\n",
       " '',\n",
       " '',\n",
       " '',\n",
       " '',\n",
       " '',\n",
       " '',\n",
       " '',\n",
       " '',\n",
       " '',\n",
       " '',\n",
       " '',\n",
       " '',\n",
       " '',\n",
       " '',\n",
       " '',\n",
       " '',\n",
       " '',\n",
       " '',\n",
       " '',\n",
       " '',\n",
       " '',\n",
       " '',\n",
       " '',\n",
       " '',\n",
       " '',\n",
       " '',\n",
       " '',\n",
       " '',\n",
       " '',\n",
       " '',\n",
       " '',\n",
       " '',\n",
       " '',\n",
       " '',\n",
       " '',\n",
       " '',\n",
       " '',\n",
       " '',\n",
       " '',\n",
       " '',\n",
       " '',\n",
       " '',\n",
       " '',\n",
       " '',\n",
       " '',\n",
       " '',\n",
       " '',\n",
       " '',\n",
       " '',\n",
       " '',\n",
       " '',\n",
       " '',\n",
       " '',\n",
       " '',\n",
       " '',\n",
       " '',\n",
       " '',\n",
       " '',\n",
       " '',\n",
       " '',\n",
       " '',\n",
       " '',\n",
       " '',\n",
       " '',\n",
       " '',\n",
       " '',\n",
       " '',\n",
       " '',\n",
       " '',\n",
       " '',\n",
       " '',\n",
       " '',\n",
       " '',\n",
       " '',\n",
       " '',\n",
       " '',\n",
       " '',\n",
       " '',\n",
       " '',\n",
       " '',\n",
       " '',\n",
       " '',\n",
       " '',\n",
       " '',\n",
       " '',\n",
       " '',\n",
       " '',\n",
       " '',\n",
       " '',\n",
       " '',\n",
       " '',\n",
       " '',\n",
       " '',\n",
       " '',\n",
       " '',\n",
       " '',\n",
       " '',\n",
       " '',\n",
       " '',\n",
       " '',\n",
       " '',\n",
       " '',\n",
       " '',\n",
       " '',\n",
       " '',\n",
       " '',\n",
       " '',\n",
       " '',\n",
       " '',\n",
       " '',\n",
       " '',\n",
       " '',\n",
       " '',\n",
       " '',\n",
       " '',\n",
       " '',\n",
       " '',\n",
       " '',\n",
       " '',\n",
       " '',\n",
       " '',\n",
       " '9',\n",
       " '',\n",
       " '9',\n",
       " '',\n",
       " '9',\n",
       " '',\n",
       " '',\n",
       " '',\n",
       " '',\n",
       " '',\n",
       " '',\n",
       " '',\n",
       " '',\n",
       " '',\n",
       " '',\n",
       " '',\n",
       " '',\n",
       " '',\n",
       " '',\n",
       " '',\n",
       " '',\n",
       " '',\n",
       " '',\n",
       " '',\n",
       " '',\n",
       " '',\n",
       " '',\n",
       " '',\n",
       " '',\n",
       " '',\n",
       " '',\n",
       " '',\n",
       " '',\n",
       " '',\n",
       " '',\n",
       " '',\n",
       " '',\n",
       " '',\n",
       " '',\n",
       " '',\n",
       " '',\n",
       " '',\n",
       " '',\n",
       " '',\n",
       " '',\n",
       " '',\n",
       " '',\n",
       " '',\n",
       " '',\n",
       " '',\n",
       " '',\n",
       " '',\n",
       " '',\n",
       " '',\n",
       " '',\n",
       " '',\n",
       " '',\n",
       " '',\n",
       " '',\n",
       " '',\n",
       " '',\n",
       " '',\n",
       " '',\n",
       " '',\n",
       " '',\n",
       " '',\n",
       " '',\n",
       " '',\n",
       " '',\n",
       " '',\n",
       " '',\n",
       " '',\n",
       " '',\n",
       " '',\n",
       " '',\n",
       " '',\n",
       " '',\n",
       " '',\n",
       " '',\n",
       " '',\n",
       " '',\n",
       " '',\n",
       " '',\n",
       " '',\n",
       " '',\n",
       " '',\n",
       " '',\n",
       " '',\n",
       " '',\n",
       " '',\n",
       " '',\n",
       " '',\n",
       " '',\n",
       " '',\n",
       " '',\n",
       " '',\n",
       " '']"
      ]
     },
     "execution_count": 39,
     "metadata": {},
     "output_type": "execute_result"
    }
   ],
   "source": [
    "re.findall('9??', lazydog)"
   ]
  },
  {
   "cell_type": "markdown",
   "id": "a9f29019-1086-470d-96fd-6bdcccf610f4",
   "metadata": {},
   "source": [
    "<div style=\"border: 2px solid black; padding: 10px; border-radius: 5px;\"> \n",
    "\n",
    "`re.findall('9+', 'lazydog')`\n",
    "* This line uses the `re.findall()` function to find all non-overlapping occurrences of the pattern `'9+'` within the string \"lazydog\".\n",
    "* `'9+'` is a regular expression pattern.\n",
    "* `'9'` matches the digit \"9\" literally.\n",
    "* `'+'` is a quantifier that matches one or more occurrences of the preceding element (in this case, the digit \"9\").\n",
    "* Since there is a sequence of \"999\" in the string, the output will be `['999']`.\n",
    "\n",
    "`re.findall('9+?', 'lazydog')`\n",
    "* This line uses the `re.findall()` function to find all non-overlapping occurrences of the pattern '9+?' within the string \"lazydog\".\n",
    "* `'9+'` is a regular expression pattern.\n",
    "* `'9'` matches the digit \"9\" literally.\n",
    "* `'+'` is a quantifier that matches one or more occurrences of the preceding element (in this case, the digit \"9\").\n",
    "* `'?'` after the `'+'` makes it a non-greedy match. It tries to match as few characters as possible while still satisfying the pattern.\n",
    "* This will find each individual \"9\" in the sequence \"999\", resulting in the output `['9', '9', '9']`.\n",
    "\n",
    "\n",
    "`re.findall('9{2}', 'lazydog')`\n",
    "* This line uses the re.findall() function to find all non-overlapping occurrences of the pattern `'9{2}'` within the string \"lazydog\".\n",
    "* `'9{2}'` is a regular expression pattern.\n",
    "* `'9'` matches the digit \"9\" literally.\n",
    "* `{2}` is a quantifier that matches exactly two occurrences of the preceding element (in this case, the digit \"9\").\n",
    "* Since there is a sequence of \"999\" in the string, it will find two consecutive \"9\"s, resulting in the output `['99']`."
   ]
  },
  {
   "cell_type": "code",
   "execution_count": 40,
   "id": "e294db2c-f6a3-4d4c-a313-a5bb69d93bc9",
   "metadata": {
    "execution": {
     "iopub.execute_input": "2025-01-27T08:28:58.054057Z",
     "iopub.status.busy": "2025-01-27T08:28:58.053375Z",
     "iopub.status.idle": "2025-01-27T08:28:58.064742Z",
     "shell.execute_reply": "2025-01-27T08:28:58.063273Z",
     "shell.execute_reply.started": "2025-01-27T08:28:58.053999Z"
    }
   },
   "outputs": [
    {
     "data": {
      "text/plain": [
       "['999']"
      ]
     },
     "execution_count": 40,
     "metadata": {},
     "output_type": "execute_result"
    }
   ],
   "source": [
    "re.findall('9+', lazydog)"
   ]
  },
  {
   "cell_type": "code",
   "execution_count": 41,
   "id": "80644f6b-b328-4ac9-9684-c8f82a968e9c",
   "metadata": {
    "execution": {
     "iopub.execute_input": "2025-01-27T08:29:20.479917Z",
     "iopub.status.busy": "2025-01-27T08:29:20.479233Z",
     "iopub.status.idle": "2025-01-27T08:29:20.492120Z",
     "shell.execute_reply": "2025-01-27T08:29:20.490261Z",
     "shell.execute_reply.started": "2025-01-27T08:29:20.479860Z"
    }
   },
   "outputs": [
    {
     "data": {
      "text/plain": [
       "['9', '9', '9']"
      ]
     },
     "execution_count": 41,
     "metadata": {},
     "output_type": "execute_result"
    }
   ],
   "source": [
    "re.findall('9+?', lazydog)"
   ]
  },
  {
   "cell_type": "code",
   "execution_count": 42,
   "id": "443cdd7a-9931-4d7d-b51d-282a0fd75997",
   "metadata": {
    "execution": {
     "iopub.execute_input": "2025-01-27T08:30:32.129454Z",
     "iopub.status.busy": "2025-01-27T08:30:32.128751Z",
     "iopub.status.idle": "2025-01-27T08:30:32.141364Z",
     "shell.execute_reply": "2025-01-27T08:30:32.139291Z",
     "shell.execute_reply.started": "2025-01-27T08:30:32.129395Z"
    }
   },
   "outputs": [
    {
     "data": {
      "text/plain": [
       "['99']"
      ]
     },
     "execution_count": 42,
     "metadata": {},
     "output_type": "execute_result"
    }
   ],
   "source": [
    "re.findall('9{2}', lazydog)"
   ]
  },
  {
   "cell_type": "markdown",
   "id": "a761b180-fa4b-4583-9695-0dc02a4a8c87",
   "metadata": {},
   "source": [
    "<div style=\"border: 2px solid black; padding: 10px; border-radius: 5px;\"> \n",
    "\n",
    "`re.findall('9{1}', 'lazydog')`\n",
    "* This line uses the `re.findall()` function from the `re` module to find all non-overlapping occurrences of the pattern '9{1}' within the string \"lazydog\".\n",
    "* `'9{1}'` is a regular expression pattern.\n",
    "* `'9'` matches the digit \"9\" literally.\n",
    "* `{1}` is a quantifier that matches exactly one occurrence of the preceding element (in this case, the digit \"9\").\n",
    "* Since there is a sequence of \"999\" in the string, it will find each individual \"9\", resulting in the output `['9', '9', '9']`.\n",
    "\n",
    "`re.findall('9{3}', 'lazydog')`\n",
    "* This line uses the `re.findall()` function to find all non-overlapping occurrences of the pattern `'9{3}'` within the string \"lazydog\".\n",
    "* `'9{3}'` is a regular expression pattern.\n",
    "* `'9'` matches the digit \"9\" literally.\n",
    "* `{3}` is a quantifier that matches exactly three occurrences of the preceding element (in this case, the digit \"9\").\n",
    "* Since there is a sequence of \"999\" in the string, it will find the entire sequence, resulting in the output `['999']`.\n",
    "\n",
    "`re.findall('9{2,3}', 'lazydog')`\n",
    "* This line uses the `re.findall()` function to find all non-overlapping occurrences of the pattern `'9{2,3}'` within the string \"lazydog\".\n",
    "* `'9{2,3}'` is a regular expression pattern.\n",
    "* `'9'` matches the digit \"9\" literally.\n",
    "* `{2,3}` is a quantifier that matches between 2 and 3 occurrences of the preceding element (in this case, the digit \"9\").\n",
    "* Since there is a sequence of \"999\" in the string, it will find the entire sequence, resulting in the output `['999']`."
   ]
  },
  {
   "cell_type": "code",
   "execution_count": 43,
   "id": "f953b43c-d286-4454-85c3-142a75f20e0c",
   "metadata": {
    "execution": {
     "iopub.execute_input": "2025-01-27T08:30:46.303269Z",
     "iopub.status.busy": "2025-01-27T08:30:46.302560Z",
     "iopub.status.idle": "2025-01-27T08:30:46.314707Z",
     "shell.execute_reply": "2025-01-27T08:30:46.312776Z",
     "shell.execute_reply.started": "2025-01-27T08:30:46.303190Z"
    }
   },
   "outputs": [
    {
     "data": {
      "text/plain": [
       "['9', '9', '9']"
      ]
     },
     "execution_count": 43,
     "metadata": {},
     "output_type": "execute_result"
    }
   ],
   "source": [
    "re.findall('9{1}', lazydog)"
   ]
  },
  {
   "cell_type": "code",
   "execution_count": 44,
   "id": "c1c5099c-5f0e-42cf-b62b-5ba8ed7325cf",
   "metadata": {
    "execution": {
     "iopub.execute_input": "2025-01-27T08:30:51.850737Z",
     "iopub.status.busy": "2025-01-27T08:30:51.849034Z",
     "iopub.status.idle": "2025-01-27T08:30:51.861037Z",
     "shell.execute_reply": "2025-01-27T08:30:51.859130Z",
     "shell.execute_reply.started": "2025-01-27T08:30:51.850643Z"
    }
   },
   "outputs": [
    {
     "data": {
      "text/plain": [
       "['999']"
      ]
     },
     "execution_count": 44,
     "metadata": {},
     "output_type": "execute_result"
    }
   ],
   "source": [
    "re.findall('9{3}', lazydog)"
   ]
  },
  {
   "cell_type": "code",
   "execution_count": 45,
   "id": "7e476f3c-019d-4c5e-b97f-b69f2b264596",
   "metadata": {
    "execution": {
     "iopub.execute_input": "2025-01-27T08:31:23.791797Z",
     "iopub.status.busy": "2025-01-27T08:31:23.790362Z",
     "iopub.status.idle": "2025-01-27T08:31:23.802640Z",
     "shell.execute_reply": "2025-01-27T08:31:23.800329Z",
     "shell.execute_reply.started": "2025-01-27T08:31:23.791734Z"
    }
   },
   "outputs": [
    {
     "data": {
      "text/plain": [
       "['999']"
      ]
     },
     "execution_count": 45,
     "metadata": {},
     "output_type": "execute_result"
    }
   ],
   "source": [
    "re.findall('9{2,3}', lazydog)"
   ]
  },
  {
   "cell_type": "markdown",
   "id": "ab59c62b-53b5-44e7-9d9f-fa861a5c0283",
   "metadata": {},
   "source": [
    "<div style=\"border: 2px solid black; padding: 10px; border-radius: 5px;\"> \n",
    "\n",
    "`re.findall('9{1,2}', 'lazydog')`\n",
    "* This line uses the `re.findall()` function from the `re` module to find all non-overlapping occurrences of the pattern `'9{1,2}'` within the string \"lazydog\".\n",
    "* '9{1,2}' is a regular expression pattern.\n",
    "* `'9'` matches the digit \"9\" literally.\n",
    "* `{1,2}` is a quantifier that matches between 1 and 2 occurrences of the preceding element (in this case, the digit \"9\").\n",
    "* Since there is a sequence of \"999\" in the string, it will find both the first two \"9\"s and the last two \"9\"s, resulting in the output `['99', '99']`.\n",
    "\n",
    "`re.findall('9{1,2}?', 'lazydog')`\n",
    "* This line uses the `re.findall()` function to find all non-overlapping occurrences of the pattern `'9{1,2}?'` within the string \"lazydog\".\n",
    "* `'9{1,2}?'` is a regular expression pattern.\n",
    "* `'9'` matches the digit \"9\" literally.\n",
    "* `{1,2}` is a quantifier that matches between 1 and 2 occurrences of the preceding element (in this case, the digit \"9\").\n",
    "'?' after the quantifier makes it non-greedy, meaning it will try to match as few characters as possible while still satisfying the pattern.\n",
    "* Since there is a sequence of \"999\" in the string, it will find each individual \"9\", resulting in the output `['9', '9', '9']`.\n",
    "\n",
    "`re.findall('9{1,}', 'lazydog')`\n",
    "* This line uses the `re.findall()` function to find all non-overlapping occurrences of the pattern `'9{1,}'` within the string \"lazydog\".\n",
    "* `'9{1,}'` is a regular expression pattern.\n",
    "* `'9'` matches the digit \"9\" literally.\n",
    "* `{1,}` is a quantifier that matches one or more occurrences of the preceding element (in this case, the digit \"9\").\n",
    "* Since there is a sequence of \"999\" in the string, it will find the entire sequence, resulting in the output `['999']`.\n",
    "\n",
    "`re.findall('9{,2}', 'lazydog')`\n",
    "* This line uses the `re.findall()` function to find all non-overlapping occurrences of the pattern `'9{,2}'` within the string \"lazydog\".\n",
    "* `'9{,2}'` is a regular expression pattern.\n",
    "* `'9'` matches the digit \"9\" literally.\n",
    "* `{,2}` is a quantifier that matches zero to two occurrences of the preceding element (in this case, the digit \"9\").\n",
    "* This will find all empty strings (zero occurrences of \"9\") between characters and the individual \"9\"s in the sequence \"999\", resulting in multiple empty strings being found."
   ]
  },
  {
   "cell_type": "code",
   "execution_count": 46,
   "id": "b80fca3c-6871-4113-a335-06ee349d3b15",
   "metadata": {
    "execution": {
     "iopub.execute_input": "2025-01-27T08:31:40.762886Z",
     "iopub.status.busy": "2025-01-27T08:31:40.762182Z",
     "iopub.status.idle": "2025-01-27T08:31:40.773432Z",
     "shell.execute_reply": "2025-01-27T08:31:40.771701Z",
     "shell.execute_reply.started": "2025-01-27T08:31:40.762827Z"
    }
   },
   "outputs": [
    {
     "data": {
      "text/plain": [
       "['99', '9']"
      ]
     },
     "execution_count": 46,
     "metadata": {},
     "output_type": "execute_result"
    }
   ],
   "source": [
    "re.findall('9{1,2}', lazydog)"
   ]
  },
  {
   "cell_type": "code",
   "execution_count": 47,
   "id": "5db326c7-123e-465b-8577-3dcc6c8730e7",
   "metadata": {
    "execution": {
     "iopub.execute_input": "2025-01-27T08:32:42.188814Z",
     "iopub.status.busy": "2025-01-27T08:32:42.187433Z",
     "iopub.status.idle": "2025-01-27T08:32:42.198785Z",
     "shell.execute_reply": "2025-01-27T08:32:42.196973Z",
     "shell.execute_reply.started": "2025-01-27T08:32:42.188753Z"
    }
   },
   "outputs": [
    {
     "data": {
      "text/plain": [
       "['9', '9', '9']"
      ]
     },
     "execution_count": 47,
     "metadata": {},
     "output_type": "execute_result"
    }
   ],
   "source": [
    "re.findall('9{1,2}?', lazydog)"
   ]
  },
  {
   "cell_type": "code",
   "execution_count": 48,
   "id": "20d7b3d8-8267-4c5b-80b1-b40ac0f1132f",
   "metadata": {
    "execution": {
     "iopub.execute_input": "2025-01-27T08:33:06.464015Z",
     "iopub.status.busy": "2025-01-27T08:33:06.463334Z",
     "iopub.status.idle": "2025-01-27T08:33:06.474417Z",
     "shell.execute_reply": "2025-01-27T08:33:06.472794Z",
     "shell.execute_reply.started": "2025-01-27T08:33:06.463956Z"
    }
   },
   "outputs": [
    {
     "data": {
      "text/plain": [
       "['999']"
      ]
     },
     "execution_count": 48,
     "metadata": {},
     "output_type": "execute_result"
    }
   ],
   "source": [
    "re.findall('9{1,}', lazydog)"
   ]
  },
  {
   "cell_type": "code",
   "execution_count": 49,
   "id": "c62889b6-8363-4e8f-804c-a830a8a17240",
   "metadata": {
    "collapsed": true,
    "execution": {
     "iopub.execute_input": "2025-01-27T08:33:13.041543Z",
     "iopub.status.busy": "2025-01-27T08:33:13.040364Z",
     "iopub.status.idle": "2025-01-27T08:33:13.057654Z",
     "shell.execute_reply": "2025-01-27T08:33:13.055812Z",
     "shell.execute_reply.started": "2025-01-27T08:33:13.041483Z"
    },
    "jupyter": {
     "outputs_hidden": true
    }
   },
   "outputs": [
    {
     "data": {
      "text/plain": [
       "['',\n",
       " '',\n",
       " '',\n",
       " '',\n",
       " '',\n",
       " '',\n",
       " '',\n",
       " '',\n",
       " '',\n",
       " '',\n",
       " '',\n",
       " '',\n",
       " '',\n",
       " '',\n",
       " '',\n",
       " '',\n",
       " '',\n",
       " '',\n",
       " '',\n",
       " '',\n",
       " '',\n",
       " '',\n",
       " '',\n",
       " '',\n",
       " '',\n",
       " '',\n",
       " '',\n",
       " '',\n",
       " '',\n",
       " '',\n",
       " '',\n",
       " '',\n",
       " '',\n",
       " '',\n",
       " '',\n",
       " '',\n",
       " '',\n",
       " '',\n",
       " '',\n",
       " '',\n",
       " '',\n",
       " '',\n",
       " '',\n",
       " '',\n",
       " '',\n",
       " '',\n",
       " '',\n",
       " '',\n",
       " '',\n",
       " '',\n",
       " '',\n",
       " '',\n",
       " '',\n",
       " '',\n",
       " '',\n",
       " '',\n",
       " '',\n",
       " '',\n",
       " '',\n",
       " '',\n",
       " '',\n",
       " '',\n",
       " '',\n",
       " '',\n",
       " '',\n",
       " '',\n",
       " '',\n",
       " '',\n",
       " '',\n",
       " '',\n",
       " '',\n",
       " '',\n",
       " '',\n",
       " '',\n",
       " '',\n",
       " '',\n",
       " '',\n",
       " '',\n",
       " '',\n",
       " '',\n",
       " '',\n",
       " '',\n",
       " '',\n",
       " '',\n",
       " '',\n",
       " '',\n",
       " '',\n",
       " '',\n",
       " '',\n",
       " '',\n",
       " '',\n",
       " '',\n",
       " '',\n",
       " '',\n",
       " '',\n",
       " '',\n",
       " '',\n",
       " '',\n",
       " '',\n",
       " '',\n",
       " '',\n",
       " '',\n",
       " '',\n",
       " '',\n",
       " '',\n",
       " '',\n",
       " '',\n",
       " '',\n",
       " '',\n",
       " '',\n",
       " '',\n",
       " '',\n",
       " '',\n",
       " '',\n",
       " '',\n",
       " '',\n",
       " '',\n",
       " '',\n",
       " '',\n",
       " '',\n",
       " '',\n",
       " '',\n",
       " '',\n",
       " '',\n",
       " '',\n",
       " '99',\n",
       " '9',\n",
       " '',\n",
       " '',\n",
       " '',\n",
       " '',\n",
       " '',\n",
       " '',\n",
       " '',\n",
       " '',\n",
       " '',\n",
       " '',\n",
       " '',\n",
       " '',\n",
       " '',\n",
       " '',\n",
       " '',\n",
       " '',\n",
       " '',\n",
       " '',\n",
       " '',\n",
       " '',\n",
       " '',\n",
       " '',\n",
       " '',\n",
       " '',\n",
       " '',\n",
       " '',\n",
       " '',\n",
       " '',\n",
       " '',\n",
       " '',\n",
       " '',\n",
       " '',\n",
       " '',\n",
       " '',\n",
       " '',\n",
       " '',\n",
       " '',\n",
       " '',\n",
       " '',\n",
       " '',\n",
       " '',\n",
       " '',\n",
       " '',\n",
       " '',\n",
       " '',\n",
       " '',\n",
       " '',\n",
       " '',\n",
       " '',\n",
       " '',\n",
       " '',\n",
       " '',\n",
       " '',\n",
       " '',\n",
       " '',\n",
       " '',\n",
       " '',\n",
       " '',\n",
       " '',\n",
       " '',\n",
       " '',\n",
       " '',\n",
       " '',\n",
       " '',\n",
       " '',\n",
       " '',\n",
       " '',\n",
       " '',\n",
       " '',\n",
       " '',\n",
       " '',\n",
       " '',\n",
       " '',\n",
       " '',\n",
       " '',\n",
       " '',\n",
       " '',\n",
       " '',\n",
       " '',\n",
       " '',\n",
       " '',\n",
       " '',\n",
       " '',\n",
       " '',\n",
       " '',\n",
       " '',\n",
       " '',\n",
       " '',\n",
       " '',\n",
       " '',\n",
       " '',\n",
       " '']"
      ]
     },
     "execution_count": 49,
     "metadata": {},
     "output_type": "execute_result"
    }
   ],
   "source": [
    "re.findall('9{,2}', lazydog)"
   ]
  },
  {
   "cell_type": "markdown",
   "id": "16764b5d-137d-4f7b-b0d9-a02f0a9ec6a3",
   "metadata": {},
   "source": [
    "<div style=\"border: 2px solid black; padding: 10px; border-radius: 5px;\"> \n",
    "\n",
    "`re.findall('9{1,}?', 'lazydog')`\n",
    "* This line uses the `re.findall()` function to find all non-overlapping occurrences of the pattern '9{1,}?' within the string \"lazydog\".\n",
    "* `'9{1,}'` is a regular expression pattern.\n",
    "* `'9'` matches the digit \"9\" literally.\n",
    "* `{1,}` is a quantifier that matches one or more occurrences of the preceding element (in this case, the digit \"9\").\n",
    "* `'?'` after the quantifier makes it non-greedy, meaning it will try to match as few characters as possible while still satisfying the pattern.\n",
    "Since there is a sequence of \"999\" in the string, it will find each individual \"9\", resulting in the output `['9', '9', '9']`.\n",
    "\n",
    "`re.findall('9{,2}?', 'lazydog')`\n",
    "* This line uses the `re.findall()` function from the `re` module to find all non-overlapping occurrences of the pattern `'9{,2}?'` within the string \"lazydog\".\n",
    "* `'9{,2}'` is a regular expression pattern.\n",
    "* `'9'` matches the digit \"9\" literally.\n",
    "* `{,2}` is a quantifier that matches zero to two occurrences of the preceding element (in this case, the digit \"9\").\n",
    "* `'?'` after the quantifier makes it non-greedy, meaning it will try to match as few characters as possible while still satisfying the pattern.\n",
    "* Since there are no occurrences of the digit \"9\" in the string \"lazydog\", the output will be an empty list `[]`.\n",
    "\n",
    "**Summary**\n",
    "* The code attempts to find occurrences of the digit \"9\" with zero to two repetitions in the string \"lazydog\". However, since there are no \"9\"s in the string, the output is an empty list."
   ]
  },
  {
   "cell_type": "code",
   "execution_count": 50,
   "id": "283996eb-0056-40a7-902f-d5a3c18ddde1",
   "metadata": {
    "execution": {
     "iopub.execute_input": "2025-01-27T08:33:35.391131Z",
     "iopub.status.busy": "2025-01-27T08:33:35.390446Z",
     "iopub.status.idle": "2025-01-27T08:33:35.401800Z",
     "shell.execute_reply": "2025-01-27T08:33:35.399996Z",
     "shell.execute_reply.started": "2025-01-27T08:33:35.391072Z"
    }
   },
   "outputs": [
    {
     "data": {
      "text/plain": [
       "['9', '9', '9']"
      ]
     },
     "execution_count": 50,
     "metadata": {},
     "output_type": "execute_result"
    }
   ],
   "source": [
    "re.findall('9{1,}?', lazydog)"
   ]
  },
  {
   "cell_type": "code",
   "execution_count": 51,
   "id": "9eb75e13-5a50-48bb-ae84-587e593e9133",
   "metadata": {
    "execution": {
     "iopub.execute_input": "2025-01-27T08:33:40.572697Z",
     "iopub.status.busy": "2025-01-27T08:33:40.571055Z",
     "iopub.status.idle": "2025-01-27T08:33:40.586819Z",
     "shell.execute_reply": "2025-01-27T08:33:40.585572Z",
     "shell.execute_reply.started": "2025-01-27T08:33:40.572636Z"
    },
    "scrolled": true
   },
   "outputs": [
    {
     "data": {
      "text/plain": [
       "['',\n",
       " '',\n",
       " '',\n",
       " '',\n",
       " '',\n",
       " '',\n",
       " '',\n",
       " '',\n",
       " '',\n",
       " '',\n",
       " '',\n",
       " '',\n",
       " '',\n",
       " '',\n",
       " '',\n",
       " '',\n",
       " '',\n",
       " '',\n",
       " '',\n",
       " '',\n",
       " '',\n",
       " '',\n",
       " '',\n",
       " '',\n",
       " '',\n",
       " '',\n",
       " '',\n",
       " '',\n",
       " '',\n",
       " '',\n",
       " '',\n",
       " '',\n",
       " '',\n",
       " '',\n",
       " '',\n",
       " '',\n",
       " '',\n",
       " '',\n",
       " '',\n",
       " '',\n",
       " '',\n",
       " '',\n",
       " '',\n",
       " '',\n",
       " '',\n",
       " '',\n",
       " '',\n",
       " '',\n",
       " '',\n",
       " '',\n",
       " '',\n",
       " '',\n",
       " '',\n",
       " '',\n",
       " '',\n",
       " '',\n",
       " '',\n",
       " '',\n",
       " '',\n",
       " '',\n",
       " '',\n",
       " '',\n",
       " '',\n",
       " '',\n",
       " '',\n",
       " '',\n",
       " '',\n",
       " '',\n",
       " '',\n",
       " '',\n",
       " '',\n",
       " '',\n",
       " '',\n",
       " '',\n",
       " '',\n",
       " '',\n",
       " '',\n",
       " '',\n",
       " '',\n",
       " '',\n",
       " '',\n",
       " '',\n",
       " '',\n",
       " '',\n",
       " '',\n",
       " '',\n",
       " '',\n",
       " '',\n",
       " '',\n",
       " '',\n",
       " '',\n",
       " '',\n",
       " '',\n",
       " '',\n",
       " '',\n",
       " '',\n",
       " '',\n",
       " '',\n",
       " '',\n",
       " '',\n",
       " '',\n",
       " '',\n",
       " '',\n",
       " '',\n",
       " '',\n",
       " '',\n",
       " '',\n",
       " '',\n",
       " '',\n",
       " '',\n",
       " '',\n",
       " '',\n",
       " '',\n",
       " '',\n",
       " '',\n",
       " '',\n",
       " '',\n",
       " '',\n",
       " '',\n",
       " '',\n",
       " '',\n",
       " '',\n",
       " '',\n",
       " '',\n",
       " '',\n",
       " '',\n",
       " '9',\n",
       " '',\n",
       " '9',\n",
       " '',\n",
       " '9',\n",
       " '',\n",
       " '',\n",
       " '',\n",
       " '',\n",
       " '',\n",
       " '',\n",
       " '',\n",
       " '',\n",
       " '',\n",
       " '',\n",
       " '',\n",
       " '',\n",
       " '',\n",
       " '',\n",
       " '',\n",
       " '',\n",
       " '',\n",
       " '',\n",
       " '',\n",
       " '',\n",
       " '',\n",
       " '',\n",
       " '',\n",
       " '',\n",
       " '',\n",
       " '',\n",
       " '',\n",
       " '',\n",
       " '',\n",
       " '',\n",
       " '',\n",
       " '',\n",
       " '',\n",
       " '',\n",
       " '',\n",
       " '',\n",
       " '',\n",
       " '',\n",
       " '',\n",
       " '',\n",
       " '',\n",
       " '',\n",
       " '',\n",
       " '',\n",
       " '',\n",
       " '',\n",
       " '',\n",
       " '',\n",
       " '',\n",
       " '',\n",
       " '',\n",
       " '',\n",
       " '',\n",
       " '',\n",
       " '',\n",
       " '',\n",
       " '',\n",
       " '',\n",
       " '',\n",
       " '',\n",
       " '',\n",
       " '',\n",
       " '',\n",
       " '',\n",
       " '',\n",
       " '',\n",
       " '',\n",
       " '',\n",
       " '',\n",
       " '',\n",
       " '',\n",
       " '',\n",
       " '',\n",
       " '',\n",
       " '',\n",
       " '',\n",
       " '',\n",
       " '',\n",
       " '',\n",
       " '',\n",
       " '',\n",
       " '',\n",
       " '',\n",
       " '',\n",
       " '',\n",
       " '',\n",
       " '',\n",
       " '',\n",
       " '',\n",
       " '',\n",
       " '',\n",
       " '']"
      ]
     },
     "execution_count": 51,
     "metadata": {},
     "output_type": "execute_result"
    }
   ],
   "source": [
    "re.findall('9{,2}?', lazydog)"
   ]
  },
  {
   "cell_type": "markdown",
   "id": "7800edde-19ab-49bf-b688-173c1cd0bc7b",
   "metadata": {},
   "source": [
    "<div style=\"border: 2px solid black; padding: 10px; border-radius: 5px;\"> \n",
    "\n",
    "`re.findall(r'quick\\w*', 'lazydog')`\n",
    "* This line uses the re.findall() function from the re module to find all non-overlapping occurrences of the pattern `r'quick\\w*'` within the string \"lazydog\".\n",
    "* `r'quick\\w*'` is a raw string regular expression pattern.\n",
    "* `'quick'` matches the literal string \"quick\".\n",
    "* `\\w*` matches zero or more word characters (letters, digits, and underscores).\n",
    "* Since there are no occurrences of the word `\"quick\" in the string \"lazydog\", the output is an empty list `[]`.\n",
    "\n",
    "\n",
    "`re.findall(r'lazy\\w*', 'lazydog')`\n",
    "* This line uses the `re.findall()` function to find all non-overlapping occurrences of the pattern `r'lazy\\w*'` within the string \"lazydog\".\n",
    "* `r'lazy\\w*'` is a raw string regular expression pattern.\n",
    "* `'lazy'` matches the literal string \"lazy\".\n",
    "* `\\w*` matches zero or more word characters.\n",
    "* The output is `['lazydog', 'lazy', 'lazy', 'lazy']`. It finds all occurrences of the string \"lazy\" followed by any number of word characters.\n",
    "\n",
    "`re.findall(r'lazy\\S*', 'lazydog')`\n",
    "* This line uses the `re.findall()` function to find all non-overlapping occurrences of the pattern `r'lazy\\S*'` within the string \"lazydog\".\n",
    "* `r'lazy\\S*'` is a raw string regular expression pattern.\n",
    "* 'lazy' matches the literal string \"lazy\".\n",
    "* `\\S*` matches zero or more non-whitespace characters (any character except spaces, tabs, and newlines).\n",
    "* The output is `['lazydog.', 'lazy', 'lazy', 'lazy$!@dog.']`. It finds all occurrences of the string \"lazy\" followed by any number of non-whitespace characters.\n"
   ]
  },
  {
   "cell_type": "code",
   "execution_count": 52,
   "id": "5c1e6ab4-a0af-408d-8153-03f73274530a",
   "metadata": {
    "execution": {
     "iopub.execute_input": "2025-01-27T08:39:06.574871Z",
     "iopub.status.busy": "2025-01-27T08:39:06.574170Z",
     "iopub.status.idle": "2025-01-27T08:39:06.585668Z",
     "shell.execute_reply": "2025-01-27T08:39:06.583899Z",
     "shell.execute_reply.started": "2025-01-27T08:39:06.574813Z"
    }
   },
   "outputs": [
    {
     "data": {
      "text/plain": [
       "['quick', 'quick', 'quick', 'quick']"
      ]
     },
     "execution_count": 52,
     "metadata": {},
     "output_type": "execute_result"
    }
   ],
   "source": [
    "re.findall(r'quick\\w*', lazydog)"
   ]
  },
  {
   "cell_type": "code",
   "execution_count": 53,
   "id": "1b2475d5-6216-4be8-b357-87dd06818fab",
   "metadata": {
    "execution": {
     "iopub.execute_input": "2025-01-27T08:39:50.890091Z",
     "iopub.status.busy": "2025-01-27T08:39:50.889408Z",
     "iopub.status.idle": "2025-01-27T08:39:50.900812Z",
     "shell.execute_reply": "2025-01-27T08:39:50.899129Z",
     "shell.execute_reply.started": "2025-01-27T08:39:50.890032Z"
    }
   },
   "outputs": [
    {
     "data": {
      "text/plain": [
       "['lazydog', 'lazy', 'lazy', 'lazy']"
      ]
     },
     "execution_count": 53,
     "metadata": {},
     "output_type": "execute_result"
    }
   ],
   "source": [
    "re.findall(r'lazy\\w*', lazydog)"
   ]
  },
  {
   "cell_type": "code",
   "execution_count": 54,
   "id": "e92617fb-5409-4fb2-8550-159c7aa41e22",
   "metadata": {
    "execution": {
     "iopub.execute_input": "2025-01-27T08:40:37.065285Z",
     "iopub.status.busy": "2025-01-27T08:40:37.064566Z",
     "iopub.status.idle": "2025-01-27T08:40:37.075912Z",
     "shell.execute_reply": "2025-01-27T08:40:37.074077Z",
     "shell.execute_reply.started": "2025-01-27T08:40:37.065195Z"
    }
   },
   "outputs": [
    {
     "data": {
      "text/plain": [
       "['lazydog.', 'lazy', 'lazy', 'lazy$!@dog.']"
      ]
     },
     "execution_count": 54,
     "metadata": {},
     "output_type": "execute_result"
    }
   ],
   "source": [
    "re.findall(r'lazy\\S*', lazydog)"
   ]
  },
  {
   "cell_type": "markdown",
   "id": "bedacadc-d153-4d59-8ae8-60742d1012bf",
   "metadata": {},
   "source": [
    "<div style=\"border: 2px solid black; padding: 10px; border-radius: 5px;\"> \n",
    "\n",
    "`re.findall(r'\\w{1,3}', 'lazydog')`\n",
    "* This line uses the `re.findall()` function from the `re` module to find all non-overlapping occurrences of the pattern `r'\\w{1,3}'` within the string \"lazydog\".\n",
    "* `r'\\w{1,3}'` is a raw string regular expression pattern.\n",
    "* `\\w` matches any word character (letters, digits, and underscores).\n",
    "* `{1,3}` is a quantifier that matches between 1 and 3 occurrences of the preceding element (in this case, any word character).\n",
    "* The output shows a list of words extracted from the string \"lazydog\" with each word having a length between 1 and 3 characters.\n",
    "\n",
    "`re.findall(r'\\w{1,3}?', 'lazydog')`\n",
    "* This line uses the `re.findall()` function to find all non-overlapping occurrences of the pattern `r'\\w{1,3}?'` within the string \"lazydog\".\n",
    "* `r'\\w{1,3}'` is a raw string regular expression pattern.\n",
    "* `\\w`matches any word character (letters, digits, and underscores).\n",
    "* `{1,3}` is a quantifier that matches between 1 and 3 occurrences of the preceding element (in this case, any word character).\n",
    "* `'?'` after the quantifier makes it non-greedy, meaning it will try to match as few characters as possible while still satisfying the pattern.\n",
    "* The output shows a list of individual characters extracted from the string \"lazydog\", as the non-greedy quantifier ensures that only single characters are matched.\n",
    "\n",
    "**Summary**\n",
    "* Both cells use the `re.findall()` function to extract substrings from the input string \"lazydog\". The difference lies in the quantifier `?` in the second cell. This non-greedy quantifier causes the pattern to match the shortest possible substrings that satisfy the condition, resulting in individual characters instead of words."
   ]
  },
  {
   "cell_type": "code",
   "execution_count": 55,
   "id": "2dfac31a-9c51-49ad-8a12-8f4e447c953a",
   "metadata": {
    "execution": {
     "iopub.execute_input": "2025-01-27T08:41:18.133337Z",
     "iopub.status.busy": "2025-01-27T08:41:18.132627Z",
     "iopub.status.idle": "2025-01-27T08:41:18.147415Z",
     "shell.execute_reply": "2025-01-27T08:41:18.145416Z",
     "shell.execute_reply.started": "2025-01-27T08:41:18.133279Z"
    },
    "scrolled": true
   },
   "outputs": [
    {
     "data": {
      "text/plain": [
       "['The',\n",
       " 'qui',\n",
       " 'ck',\n",
       " 'bro',\n",
       " 'wn',\n",
       " 'fox',\n",
       " 'jum',\n",
       " 'ps',\n",
       " 'ove',\n",
       " 'r',\n",
       " 'the',\n",
       " 'laz',\n",
       " 'ydo',\n",
       " 'g',\n",
       " 'The',\n",
       " 'qui',\n",
       " 'ck',\n",
       " 'bro',\n",
       " 'wn',\n",
       " 'fox',\n",
       " 'jum',\n",
       " 'ps',\n",
       " 'ove',\n",
       " 'r',\n",
       " 'the',\n",
       " 'laz',\n",
       " 'y',\n",
       " 'dog',\n",
       " 'The',\n",
       " 'qui',\n",
       " 'ck',\n",
       " 'bro',\n",
       " 'wn',\n",
       " 'the',\n",
       " 'n',\n",
       " 'fox',\n",
       " '123',\n",
       " 'abc',\n",
       " '123',\n",
       " '999',\n",
       " 'xyz',\n",
       " 'jum',\n",
       " 'ps',\n",
       " 'he',\n",
       " 'ove',\n",
       " 'r',\n",
       " 'the',\n",
       " 'he',\n",
       " 'laz',\n",
       " 'y',\n",
       " 'she',\n",
       " 'dog',\n",
       " 'The',\n",
       " 'qui',\n",
       " 'ck',\n",
       " 'bro',\n",
       " 'wn',\n",
       " 'fox',\n",
       " 'jum',\n",
       " 'ps',\n",
       " 'ove',\n",
       " 'r',\n",
       " 'the',\n",
       " 'laz',\n",
       " 'y',\n",
       " 'dog']"
      ]
     },
     "execution_count": 55,
     "metadata": {},
     "output_type": "execute_result"
    }
   ],
   "source": [
    "re.findall(r'\\w{1,3}', lazydog)"
   ]
  },
  {
   "cell_type": "code",
   "execution_count": 56,
   "id": "c2c04b0c-c461-4757-98de-1e20723401d0",
   "metadata": {
    "execution": {
     "iopub.execute_input": "2025-01-27T08:41:41.259087Z",
     "iopub.status.busy": "2025-01-27T08:41:41.258403Z",
     "iopub.status.idle": "2025-01-27T08:41:41.274100Z",
     "shell.execute_reply": "2025-01-27T08:41:41.272387Z",
     "shell.execute_reply.started": "2025-01-27T08:41:41.259028Z"
    },
    "scrolled": true
   },
   "outputs": [
    {
     "data": {
      "text/plain": [
       "['T',\n",
       " 'h',\n",
       " 'e',\n",
       " 'q',\n",
       " 'u',\n",
       " 'i',\n",
       " 'c',\n",
       " 'k',\n",
       " 'b',\n",
       " 'r',\n",
       " 'o',\n",
       " 'w',\n",
       " 'n',\n",
       " 'f',\n",
       " 'o',\n",
       " 'x',\n",
       " 'j',\n",
       " 'u',\n",
       " 'm',\n",
       " 'p',\n",
       " 's',\n",
       " 'o',\n",
       " 'v',\n",
       " 'e',\n",
       " 'r',\n",
       " 't',\n",
       " 'h',\n",
       " 'e',\n",
       " 'l',\n",
       " 'a',\n",
       " 'z',\n",
       " 'y',\n",
       " 'd',\n",
       " 'o',\n",
       " 'g',\n",
       " 'T',\n",
       " 'h',\n",
       " 'e',\n",
       " 'q',\n",
       " 'u',\n",
       " 'i',\n",
       " 'c',\n",
       " 'k',\n",
       " 'b',\n",
       " 'r',\n",
       " 'o',\n",
       " 'w',\n",
       " 'n',\n",
       " 'f',\n",
       " 'o',\n",
       " 'x',\n",
       " 'j',\n",
       " 'u',\n",
       " 'm',\n",
       " 'p',\n",
       " 's',\n",
       " 'o',\n",
       " 'v',\n",
       " 'e',\n",
       " 'r',\n",
       " 't',\n",
       " 'h',\n",
       " 'e',\n",
       " 'l',\n",
       " 'a',\n",
       " 'z',\n",
       " 'y',\n",
       " 'd',\n",
       " 'o',\n",
       " 'g',\n",
       " 'T',\n",
       " 'h',\n",
       " 'e',\n",
       " 'q',\n",
       " 'u',\n",
       " 'i',\n",
       " 'c',\n",
       " 'k',\n",
       " 'b',\n",
       " 'r',\n",
       " 'o',\n",
       " 'w',\n",
       " 'n',\n",
       " 't',\n",
       " 'h',\n",
       " 'e',\n",
       " 'n',\n",
       " 'f',\n",
       " 'o',\n",
       " 'x',\n",
       " '1',\n",
       " '2',\n",
       " '3',\n",
       " 'a',\n",
       " 'b',\n",
       " 'c',\n",
       " '1',\n",
       " '2',\n",
       " '3',\n",
       " '9',\n",
       " '9',\n",
       " '9',\n",
       " 'x',\n",
       " 'y',\n",
       " 'z',\n",
       " 'j',\n",
       " 'u',\n",
       " 'm',\n",
       " 'p',\n",
       " 's',\n",
       " 'h',\n",
       " 'e',\n",
       " 'o',\n",
       " 'v',\n",
       " 'e',\n",
       " 'r',\n",
       " 't',\n",
       " 'h',\n",
       " 'e',\n",
       " 'h',\n",
       " 'e',\n",
       " 'l',\n",
       " 'a',\n",
       " 'z',\n",
       " 'y',\n",
       " 's',\n",
       " 'h',\n",
       " 'e',\n",
       " 'd',\n",
       " 'o',\n",
       " 'g',\n",
       " 'T',\n",
       " 'h',\n",
       " 'e',\n",
       " 'q',\n",
       " 'u',\n",
       " 'i',\n",
       " 'c',\n",
       " 'k',\n",
       " 'b',\n",
       " 'r',\n",
       " 'o',\n",
       " 'w',\n",
       " 'n',\n",
       " 'f',\n",
       " 'o',\n",
       " 'x',\n",
       " 'j',\n",
       " 'u',\n",
       " 'm',\n",
       " 'p',\n",
       " 's',\n",
       " 'o',\n",
       " 'v',\n",
       " 'e',\n",
       " 'r',\n",
       " 't',\n",
       " 'h',\n",
       " 'e',\n",
       " 'l',\n",
       " 'a',\n",
       " 'z',\n",
       " 'y',\n",
       " 'd',\n",
       " 'o',\n",
       " 'g']"
      ]
     },
     "execution_count": 56,
     "metadata": {},
     "output_type": "execute_result"
    }
   ],
   "source": [
    "re.findall(r'\\w{1,3}?', lazydog)"
   ]
  },
  {
   "cell_type": "markdown",
   "id": "894e07f9-f236-4367-935e-01f4596f6555",
   "metadata": {},
   "source": [
    "<div style=\"border: 2px solid black; padding: 10px; border-radius: 5px;\"> \n",
    "\n",
    "`re.findall(r'\\w{1,3}', 'lazydog')`\n",
    "* This line uses the `re.findall()` function from the `re` module to find all non-overlapping occurrences of the pattern `r'\\w{1,3}'` within the string \"lazydog\".\n",
    "* `r'\\w{1,3}'` is a raw string regular expression pattern.\n",
    "* `\\w` matches any word character (letters, digits, and underscores).\n",
    "* `{1,3}` is a quantifier that matches between 1 and 3 occurrences of the preceding element (in this case, any word character).\n",
    "* The output shows a list of words extracted from the string \"lazydog\" with each word having a length between 1 and 3 characters.\n",
    "\n",
    "`re.findall(r'\\w{1,3}?', 'lazydog')`\n",
    "* This line uses the `re.findall()` function to find all non-overlapping occurrences of the pattern `r'\\w{1,3}?'` within the string \"lazydog\".\n",
    "* `r'\\w{1,3}'` is a raw string regular expression pattern.\n",
    "* `\\w` matches any word character (letters, digits, and underscores).\n",
    "* `{1,3}` is a quantifier that matches between 1 and 3 occurrences of the preceding element (in this case, any word character).\n",
    "* `'?'` after the quantifier makes it non-greedy, meaning it will try to match as few characters as possible while still satisfying the pattern.\n",
    "* The output shows a list of individual characters extracted from the string \"lazydog\", as the non-greedy quantifier ensures that only single characters are matched.\n",
    "\n",
    "**Summary**\n",
    "* Both cells use the re.findall() function to extract substrings from the input string \"lazydog\". The difference lies in the quantifier ? in the second cell. This non-greedy quantifier causes the pattern to match the shortest possible substrings that satisfy the condition, resulting in individual characters instead of words."
   ]
  },
  {
   "cell_type": "code",
   "execution_count": 57,
   "id": "18a824d2-ee37-446b-b6af-486e2485c644",
   "metadata": {
    "execution": {
     "iopub.execute_input": "2025-01-27T08:42:30.835177Z",
     "iopub.status.busy": "2025-01-27T08:42:30.834502Z",
     "iopub.status.idle": "2025-01-27T08:42:30.848420Z",
     "shell.execute_reply": "2025-01-27T08:42:30.846762Z",
     "shell.execute_reply.started": "2025-01-27T08:42:30.835118Z"
    },
    "scrolled": true
   },
   "outputs": [
    {
     "data": {
      "text/plain": [
       "['The',\n",
       " '',\n",
       " 'qui',\n",
       " 'ck',\n",
       " '',\n",
       " 'bro',\n",
       " 'wn',\n",
       " '',\n",
       " 'fox',\n",
       " '',\n",
       " 'jum',\n",
       " 'ps',\n",
       " '',\n",
       " 'ove',\n",
       " 'r',\n",
       " '',\n",
       " 'the',\n",
       " '',\n",
       " 'laz',\n",
       " 'ydo',\n",
       " 'g',\n",
       " '',\n",
       " '',\n",
       " 'The',\n",
       " '',\n",
       " 'qui',\n",
       " 'ck',\n",
       " '',\n",
       " 'bro',\n",
       " 'wn',\n",
       " '',\n",
       " 'fox',\n",
       " '',\n",
       " 'jum',\n",
       " 'ps',\n",
       " '',\n",
       " 'ove',\n",
       " 'r',\n",
       " '',\n",
       " 'the',\n",
       " '',\n",
       " 'laz',\n",
       " 'y',\n",
       " '',\n",
       " 'dog',\n",
       " '',\n",
       " '',\n",
       " 'The',\n",
       " '',\n",
       " 'qui',\n",
       " 'ck',\n",
       " '',\n",
       " 'bro',\n",
       " 'wn',\n",
       " '',\n",
       " 'the',\n",
       " 'n',\n",
       " '',\n",
       " 'fox',\n",
       " '',\n",
       " '123',\n",
       " '',\n",
       " 'abc',\n",
       " '123',\n",
       " '',\n",
       " '999',\n",
       " 'xyz',\n",
       " '',\n",
       " 'jum',\n",
       " 'ps',\n",
       " '',\n",
       " 'he',\n",
       " '',\n",
       " 'ove',\n",
       " 'r',\n",
       " '',\n",
       " 'the',\n",
       " '',\n",
       " '',\n",
       " 'he',\n",
       " '',\n",
       " 'laz',\n",
       " 'y',\n",
       " '',\n",
       " '',\n",
       " '',\n",
       " '',\n",
       " '',\n",
       " '',\n",
       " 'she',\n",
       " '',\n",
       " 'dog',\n",
       " '',\n",
       " '',\n",
       " 'The',\n",
       " '',\n",
       " 'qui',\n",
       " 'ck',\n",
       " '',\n",
       " 'bro',\n",
       " 'wn',\n",
       " '',\n",
       " 'fox',\n",
       " '',\n",
       " 'jum',\n",
       " 'ps',\n",
       " '',\n",
       " 'ove',\n",
       " 'r',\n",
       " '',\n",
       " 'the',\n",
       " '',\n",
       " 'laz',\n",
       " 'y',\n",
       " '',\n",
       " '',\n",
       " '',\n",
       " 'dog',\n",
       " '',\n",
       " '']"
      ]
     },
     "execution_count": 57,
     "metadata": {},
     "output_type": "execute_result"
    }
   ],
   "source": [
    "re.findall(r'\\w{,3}', lazydog)"
   ]
  },
  {
   "cell_type": "code",
   "execution_count": 58,
   "id": "213e4d95-379c-44cc-9437-0eb425193ed1",
   "metadata": {
    "execution": {
     "iopub.execute_input": "2025-01-27T08:42:44.780303Z",
     "iopub.status.busy": "2025-01-27T08:42:44.779417Z",
     "iopub.status.idle": "2025-01-27T08:42:44.799051Z",
     "shell.execute_reply": "2025-01-27T08:42:44.797405Z",
     "shell.execute_reply.started": "2025-01-27T08:42:44.780239Z"
    },
    "scrolled": true
   },
   "outputs": [
    {
     "data": {
      "text/plain": [
       "['',\n",
       " 'T',\n",
       " '',\n",
       " 'h',\n",
       " '',\n",
       " 'e',\n",
       " '',\n",
       " '',\n",
       " 'q',\n",
       " '',\n",
       " 'u',\n",
       " '',\n",
       " 'i',\n",
       " '',\n",
       " 'c',\n",
       " '',\n",
       " 'k',\n",
       " '',\n",
       " '',\n",
       " 'b',\n",
       " '',\n",
       " 'r',\n",
       " '',\n",
       " 'o',\n",
       " '',\n",
       " 'w',\n",
       " '',\n",
       " 'n',\n",
       " '',\n",
       " '',\n",
       " 'f',\n",
       " '',\n",
       " 'o',\n",
       " '',\n",
       " 'x',\n",
       " '',\n",
       " '',\n",
       " 'j',\n",
       " '',\n",
       " 'u',\n",
       " '',\n",
       " 'm',\n",
       " '',\n",
       " 'p',\n",
       " '',\n",
       " 's',\n",
       " '',\n",
       " '',\n",
       " 'o',\n",
       " '',\n",
       " 'v',\n",
       " '',\n",
       " 'e',\n",
       " '',\n",
       " 'r',\n",
       " '',\n",
       " '',\n",
       " 't',\n",
       " '',\n",
       " 'h',\n",
       " '',\n",
       " 'e',\n",
       " '',\n",
       " '',\n",
       " 'l',\n",
       " '',\n",
       " 'a',\n",
       " '',\n",
       " 'z',\n",
       " '',\n",
       " 'y',\n",
       " '',\n",
       " 'd',\n",
       " '',\n",
       " 'o',\n",
       " '',\n",
       " 'g',\n",
       " '',\n",
       " '',\n",
       " '',\n",
       " 'T',\n",
       " '',\n",
       " 'h',\n",
       " '',\n",
       " 'e',\n",
       " '',\n",
       " '',\n",
       " 'q',\n",
       " '',\n",
       " 'u',\n",
       " '',\n",
       " 'i',\n",
       " '',\n",
       " 'c',\n",
       " '',\n",
       " 'k',\n",
       " '',\n",
       " '',\n",
       " 'b',\n",
       " '',\n",
       " 'r',\n",
       " '',\n",
       " 'o',\n",
       " '',\n",
       " 'w',\n",
       " '',\n",
       " 'n',\n",
       " '',\n",
       " '',\n",
       " 'f',\n",
       " '',\n",
       " 'o',\n",
       " '',\n",
       " 'x',\n",
       " '',\n",
       " '',\n",
       " 'j',\n",
       " '',\n",
       " 'u',\n",
       " '',\n",
       " 'm',\n",
       " '',\n",
       " 'p',\n",
       " '',\n",
       " 's',\n",
       " '',\n",
       " '',\n",
       " 'o',\n",
       " '',\n",
       " 'v',\n",
       " '',\n",
       " 'e',\n",
       " '',\n",
       " 'r',\n",
       " '',\n",
       " '',\n",
       " 't',\n",
       " '',\n",
       " 'h',\n",
       " '',\n",
       " 'e',\n",
       " '',\n",
       " '',\n",
       " 'l',\n",
       " '',\n",
       " 'a',\n",
       " '',\n",
       " 'z',\n",
       " '',\n",
       " 'y',\n",
       " '',\n",
       " '',\n",
       " 'd',\n",
       " '',\n",
       " 'o',\n",
       " '',\n",
       " 'g',\n",
       " '',\n",
       " '',\n",
       " '',\n",
       " 'T',\n",
       " '',\n",
       " 'h',\n",
       " '',\n",
       " 'e',\n",
       " '',\n",
       " '',\n",
       " 'q',\n",
       " '',\n",
       " 'u',\n",
       " '',\n",
       " 'i',\n",
       " '',\n",
       " 'c',\n",
       " '',\n",
       " 'k',\n",
       " '',\n",
       " '',\n",
       " 'b',\n",
       " '',\n",
       " 'r',\n",
       " '',\n",
       " 'o',\n",
       " '',\n",
       " 'w',\n",
       " '',\n",
       " 'n',\n",
       " '',\n",
       " '',\n",
       " 't',\n",
       " '',\n",
       " 'h',\n",
       " '',\n",
       " 'e',\n",
       " '',\n",
       " 'n',\n",
       " '',\n",
       " '',\n",
       " 'f',\n",
       " '',\n",
       " 'o',\n",
       " '',\n",
       " 'x',\n",
       " '',\n",
       " '',\n",
       " '1',\n",
       " '',\n",
       " '2',\n",
       " '',\n",
       " '3',\n",
       " '',\n",
       " '',\n",
       " 'a',\n",
       " '',\n",
       " 'b',\n",
       " '',\n",
       " 'c',\n",
       " '',\n",
       " '1',\n",
       " '',\n",
       " '2',\n",
       " '',\n",
       " '3',\n",
       " '',\n",
       " '',\n",
       " '9',\n",
       " '',\n",
       " '9',\n",
       " '',\n",
       " '9',\n",
       " '',\n",
       " 'x',\n",
       " '',\n",
       " 'y',\n",
       " '',\n",
       " 'z',\n",
       " '',\n",
       " '',\n",
       " 'j',\n",
       " '',\n",
       " 'u',\n",
       " '',\n",
       " 'm',\n",
       " '',\n",
       " 'p',\n",
       " '',\n",
       " 's',\n",
       " '',\n",
       " '',\n",
       " 'h',\n",
       " '',\n",
       " 'e',\n",
       " '',\n",
       " '',\n",
       " 'o',\n",
       " '',\n",
       " 'v',\n",
       " '',\n",
       " 'e',\n",
       " '',\n",
       " 'r',\n",
       " '',\n",
       " '',\n",
       " 't',\n",
       " '',\n",
       " 'h',\n",
       " '',\n",
       " 'e',\n",
       " '',\n",
       " '',\n",
       " '',\n",
       " 'h',\n",
       " '',\n",
       " 'e',\n",
       " '',\n",
       " '',\n",
       " 'l',\n",
       " '',\n",
       " 'a',\n",
       " '',\n",
       " 'z',\n",
       " '',\n",
       " 'y',\n",
       " '',\n",
       " '',\n",
       " '',\n",
       " '',\n",
       " '',\n",
       " '',\n",
       " '',\n",
       " 's',\n",
       " '',\n",
       " 'h',\n",
       " '',\n",
       " 'e',\n",
       " '',\n",
       " '',\n",
       " 'd',\n",
       " '',\n",
       " 'o',\n",
       " '',\n",
       " 'g',\n",
       " '',\n",
       " '',\n",
       " '',\n",
       " 'T',\n",
       " '',\n",
       " 'h',\n",
       " '',\n",
       " 'e',\n",
       " '',\n",
       " '',\n",
       " 'q',\n",
       " '',\n",
       " 'u',\n",
       " '',\n",
       " 'i',\n",
       " '',\n",
       " 'c',\n",
       " '',\n",
       " 'k',\n",
       " '',\n",
       " '',\n",
       " 'b',\n",
       " '',\n",
       " 'r',\n",
       " '',\n",
       " 'o',\n",
       " '',\n",
       " 'w',\n",
       " '',\n",
       " 'n',\n",
       " '',\n",
       " '',\n",
       " 'f',\n",
       " '',\n",
       " 'o',\n",
       " '',\n",
       " 'x',\n",
       " '',\n",
       " '',\n",
       " 'j',\n",
       " '',\n",
       " 'u',\n",
       " '',\n",
       " 'm',\n",
       " '',\n",
       " 'p',\n",
       " '',\n",
       " 's',\n",
       " '',\n",
       " '',\n",
       " 'o',\n",
       " '',\n",
       " 'v',\n",
       " '',\n",
       " 'e',\n",
       " '',\n",
       " 'r',\n",
       " '',\n",
       " '',\n",
       " 't',\n",
       " '',\n",
       " 'h',\n",
       " '',\n",
       " 'e',\n",
       " '',\n",
       " '',\n",
       " 'l',\n",
       " '',\n",
       " 'a',\n",
       " '',\n",
       " 'z',\n",
       " '',\n",
       " 'y',\n",
       " '',\n",
       " '',\n",
       " '',\n",
       " '',\n",
       " 'd',\n",
       " '',\n",
       " 'o',\n",
       " '',\n",
       " 'g',\n",
       " '',\n",
       " '']"
      ]
     },
     "execution_count": 58,
     "metadata": {},
     "output_type": "execute_result"
    }
   ],
   "source": [
    "re.findall(r'\\w{,3}?', lazydog)"
   ]
  },
  {
   "cell_type": "markdown",
   "id": "c7dd94d2-8669-446a-9e2d-b0a601338ec3",
   "metadata": {},
   "source": [
    "<div style=\"border: 2px solid black; padding: 10px; border-radius: 5px;\"> \n",
    "\n",
    "`re.findall(r'\\w{2,}', 'lazydog')`\n",
    "* This line uses the `re.findall()` function from the `re` module to find all non-overlapping occurrences of the pattern `r'\\w{2,}'` within the string \"lazydog\".\n",
    "* `r'\\w{2,}'` is a raw string regular expression pattern.\n",
    "* `\\w` matches any word character (letters, digits, and underscores).\n",
    "* `{2,}` is a quantifier that matches two or more occurrences of the preceding element (in this case, any word character).\n",
    "* The output shows a list of words extracted from the string, where each word has a length of two or more characters\n",
    "\n",
    "`re.findall(r'\\w{2,}?', 'lazydog')`\n",
    "* This line uses the `re.findall()` function to find all non-overlapping occurrences of the pattern `r'\\w{2,}?'` within the string \"lazydog\".\n",
    "r'\\w{2,}' is a raw string regular expression pattern.\n",
    "* `\\w` matches any word character (letters, digits, and underscores).\n",
    "* `{2,}` is a quantifier that matches two or more occurrences of the preceding element (in this case, any word character).\n",
    "* `'?'` after the quantifier makes it non-greedy, meaning it will try to match as few characters as possible while still satisfying the pattern.\n",
    "* The output shows a list of substrings extracted from the string, where each substring has a length of two or more characters, but the non-greedy quantifier ensures that the substrings are as short as possible.\n",
    "\n",
    "`re.findall(r'[a-c]{1,2}?', 'lazydog')`\n",
    "* This line uses the re.findall() function from the re module to find all non-overlapping occurrences of the pattern r'[a-c]{1,2}?' within the string \"lazydog\".\n",
    "\n",
    "`r'[a-c]{1,2}?' is a raw string regular expression pattern`.\n",
    "* [a-c] is a character class that matches any single character between 'a' and 'c' (i.e., 'a', 'b', or 'c').\n",
    "{1,2} is a quantifier that matches between 1 and 2 occurrences of the preceding element (in this case, any character within the character class).\n",
    "'?' after the quantifier makes it non-greedy, meaning it will try to match as few characters as possible while still satisfying the pattern.\n",
    "In the string \"lazydog\", there is one occurrence of two consecutive characters within the specified range: \"ab\". Therefore, the output of this code is ['ab'].\n",
    "\n",
    "`re.findall(r'[a-c]{1,2}?', 'lazydog')`\n",
    "* This line uses the `re.findall()` function from the `re` module to find all non-overlapping occurrences of the pattern `r'[a-c]{1,2}?'` within the string \"lazydog\".\n",
    "* `r'[a-c]{1,2}?'` is a raw string regular expression pattern.\n",
    "* `[a-c]` is a character class that matches any single character between * 'a' and 'c' (i.e., 'a', 'b', or 'c').\n",
    "* `{1,2}` is a quantifier that matches between 1 and 2 occurrences of the preceding element (in this case, any character within the character class).\n",
    "* `'?'` after the quantifier makes it non-greedy, meaning it will try to match as few characters as possible while still satisfying the pattern.\n",
    "* In the string \"lazydog\", there is one occurrence of two consecutive characters within the specified range: \"ab\". Therefore, the output of this code is ['ab'].\n",
    "* The code successfully extracts the substring \"ab\" from the string \"lazydog\" using the regular expression pattern that matches one or two consecutive characters between 'a' and 'c'.\n",
    "\n",
    "\n",
    "\n",
    "**Summary**\n",
    "* Both cells use the re.findall() function to extract substrings from the input string \"lazydog\" based on the number of word characters. The difference lies in the non-greedy quantifier '?' in the second cell, which results in shorter substrings being extracted compared to the first cell."
   ]
  },
  {
   "cell_type": "code",
   "execution_count": 59,
   "id": "ffa19a0f-cdc6-4659-98e1-c708d1bc96e4",
   "metadata": {
    "execution": {
     "iopub.execute_input": "2025-01-27T08:43:02.828134Z",
     "iopub.status.busy": "2025-01-27T08:43:02.827452Z",
     "iopub.status.idle": "2025-01-27T08:43:02.840607Z",
     "shell.execute_reply": "2025-01-27T08:43:02.838757Z",
     "shell.execute_reply.started": "2025-01-27T08:43:02.828077Z"
    },
    "scrolled": true
   },
   "outputs": [
    {
     "data": {
      "text/plain": [
       "['The',\n",
       " 'quick',\n",
       " 'brown',\n",
       " 'fox',\n",
       " 'jumps',\n",
       " 'over',\n",
       " 'the',\n",
       " 'lazydog',\n",
       " 'The',\n",
       " 'quick',\n",
       " 'brown',\n",
       " 'fox',\n",
       " 'jumps',\n",
       " 'over',\n",
       " 'the',\n",
       " 'lazy',\n",
       " 'dog',\n",
       " 'The',\n",
       " 'quick',\n",
       " 'brown',\n",
       " 'then',\n",
       " 'fox',\n",
       " '123',\n",
       " 'abc123',\n",
       " '999xyz',\n",
       " 'jumps',\n",
       " 'he',\n",
       " 'over',\n",
       " 'the',\n",
       " 'he',\n",
       " 'lazy',\n",
       " 'she',\n",
       " 'dog',\n",
       " 'The',\n",
       " 'quick',\n",
       " 'brown',\n",
       " 'fox',\n",
       " 'jumps',\n",
       " 'over',\n",
       " 'the',\n",
       " 'lazy',\n",
       " 'dog']"
      ]
     },
     "execution_count": 59,
     "metadata": {},
     "output_type": "execute_result"
    }
   ],
   "source": [
    "re.findall(r'\\w{2,}', lazydog)"
   ]
  },
  {
   "cell_type": "code",
   "execution_count": 60,
   "id": "c73a2f4d-93b6-45c6-a486-5549ed9a2884",
   "metadata": {
    "execution": {
     "iopub.execute_input": "2025-01-27T08:43:20.467797Z",
     "iopub.status.busy": "2025-01-27T08:43:20.466106Z",
     "iopub.status.idle": "2025-01-27T08:43:20.479062Z",
     "shell.execute_reply": "2025-01-27T08:43:20.477522Z",
     "shell.execute_reply.started": "2025-01-27T08:43:20.467733Z"
    },
    "scrolled": true
   },
   "outputs": [
    {
     "data": {
      "text/plain": [
       "['Th',\n",
       " 'qu',\n",
       " 'ic',\n",
       " 'br',\n",
       " 'ow',\n",
       " 'fo',\n",
       " 'ju',\n",
       " 'mp',\n",
       " 'ov',\n",
       " 'er',\n",
       " 'th',\n",
       " 'la',\n",
       " 'zy',\n",
       " 'do',\n",
       " 'Th',\n",
       " 'qu',\n",
       " 'ic',\n",
       " 'br',\n",
       " 'ow',\n",
       " 'fo',\n",
       " 'ju',\n",
       " 'mp',\n",
       " 'ov',\n",
       " 'er',\n",
       " 'th',\n",
       " 'la',\n",
       " 'zy',\n",
       " 'do',\n",
       " 'Th',\n",
       " 'qu',\n",
       " 'ic',\n",
       " 'br',\n",
       " 'ow',\n",
       " 'th',\n",
       " 'en',\n",
       " 'fo',\n",
       " '12',\n",
       " 'ab',\n",
       " 'c1',\n",
       " '23',\n",
       " '99',\n",
       " '9x',\n",
       " 'yz',\n",
       " 'ju',\n",
       " 'mp',\n",
       " 'he',\n",
       " 'ov',\n",
       " 'er',\n",
       " 'th',\n",
       " 'he',\n",
       " 'la',\n",
       " 'zy',\n",
       " 'sh',\n",
       " 'do',\n",
       " 'Th',\n",
       " 'qu',\n",
       " 'ic',\n",
       " 'br',\n",
       " 'ow',\n",
       " 'fo',\n",
       " 'ju',\n",
       " 'mp',\n",
       " 'ov',\n",
       " 'er',\n",
       " 'th',\n",
       " 'la',\n",
       " 'zy',\n",
       " 'do']"
      ]
     },
     "execution_count": 60,
     "metadata": {},
     "output_type": "execute_result"
    }
   ],
   "source": [
    "re.findall(r'\\w{2,}?', lazydog)"
   ]
  },
  {
   "cell_type": "code",
   "execution_count": 61,
   "id": "56a54811-20fe-433e-b870-c0bf25fb56e9",
   "metadata": {
    "execution": {
     "iopub.execute_input": "2025-01-27T08:43:36.137512Z",
     "iopub.status.busy": "2025-01-27T08:43:36.136348Z",
     "iopub.status.idle": "2025-01-27T08:43:36.148391Z",
     "shell.execute_reply": "2025-01-27T08:43:36.146398Z",
     "shell.execute_reply.started": "2025-01-27T08:43:36.137450Z"
    }
   },
   "outputs": [
    {
     "data": {
      "text/plain": [
       "['ab']"
      ]
     },
     "execution_count": 61,
     "metadata": {},
     "output_type": "execute_result"
    }
   ],
   "source": [
    "re.findall(r'[a-c]{2,}?', lazydog)"
   ]
  },
  {
   "cell_type": "markdown",
   "id": "d5204307-3c77-4abd-8c07-ecdbaeecbcf1",
   "metadata": {},
   "source": [
    "# Metacharacters"
   ]
  },
  {
   "cell_type": "markdown",
   "id": "efb377d6-3861-4f05-8647-7e6fee6861f4",
   "metadata": {},
   "source": [
    "<div style=\"border: 2px solid black; padding: 10px; border-radius: 5px;\"> \n",
    "\n",
    "`doobi = \"\"\"...\"\"\"`\n",
    "* This line defines a multiline string named `doobi` containing the lyrics of the song. The `\"\"\"` (triple quotes) are used to define multiline strings in Python.\n",
    "\n",
    "`re.findall(r'[Dd]oobi', doobi)`\n",
    "* This line uses the `re.findall()` function from the re module to find all non-overlapping occurrences of the pattern r'[Dd]oobi' within the string doobi.\n",
    "* `r'[Dd]oobi'` is a raw string regular expression pattern.\n",
    "* `[Dd]` is a character class that matches either the uppercase 'D' or the lowercase 'd'.\n",
    "* `oobi` matches the literal string \"oobi\".\n",
    "* The output shows a list of all the occurrences of \"Doobi\" and \"doobi\" found within the lyrics.\n",
    "\n",
    "`re.findall(r'Doobidoobi', doobi)`\n",
    "* This line uses the `re.findall()` function to find all non-overlapping occurrences of the pattern `r'Doobidoobi'` within the string doobi.\n",
    "r'Doobidoobi' is a raw string regular expression pattern that matches the literal string \"Doobidoobi\".\n",
    "* The output shows a list of all the occurrences of \"Doobidoobi\" found within the lyrics, which is the same as the output of the previous cell because \"Doobidoobi\" doesn't occur in the lyrics.\n",
    "\n"
   ]
  },
  {
   "cell_type": "code",
   "execution_count": 62,
   "id": "c4799fc3-8239-4776-b972-802da6d8c619",
   "metadata": {
    "execution": {
     "iopub.execute_input": "2025-01-27T08:44:35.291784Z",
     "iopub.status.busy": "2025-01-27T08:44:35.290562Z",
     "iopub.status.idle": "2025-01-27T08:44:35.300482Z",
     "shell.execute_reply": "2025-01-27T08:44:35.298418Z",
     "shell.execute_reply.started": "2025-01-27T08:44:35.291722Z"
    }
   },
   "outputs": [],
   "source": [
    "doobi = \"\"\"Doobi doobi dapp dapp(3x)\n",
    "Doobi doobi dipp dipp\n",
    "Doobi doobi dapp dapp\n",
    "Du dapp da dapp\n",
    "Bee-beep beep beep beep beep beep beep beep\n",
    "Dibby dabba\n",
    "Dooboo dabba (3x)\n",
    "Beep beep beep beep beep beep beep beep\n",
    "Sabi ng jeep, sabi ng jeep, sabi ng\n",
    "Bee bee bee bee bee bee bee bee bee bee bee beep (fast)\n",
    "Pubo purro bap bap\n",
    "Purro pab bap bap jollibee\n",
    "Beep (18x)\n",
    "Beep, beep, beep, beep\"\"\""
   ]
  },
  {
   "cell_type": "code",
   "execution_count": 63,
   "id": "8538eacf-05af-4e7a-b362-171621231ddc",
   "metadata": {
    "execution": {
     "iopub.execute_input": "2025-01-27T08:45:01.083833Z",
     "iopub.status.busy": "2025-01-27T08:45:01.082243Z",
     "iopub.status.idle": "2025-01-27T08:45:01.093968Z",
     "shell.execute_reply": "2025-01-27T08:45:01.092292Z",
     "shell.execute_reply.started": "2025-01-27T08:45:01.083769Z"
    }
   },
   "outputs": [
    {
     "data": {
      "text/plain": [
       "['Doobi', 'doobi', 'Doobi', 'doobi', 'Doobi', 'doobi']"
      ]
     },
     "execution_count": 63,
     "metadata": {},
     "output_type": "execute_result"
    }
   ],
   "source": [
    "re.findall('[Dd]oobi', doobi)"
   ]
  },
  {
   "cell_type": "code",
   "execution_count": 64,
   "id": "e287954c-f44c-4b0e-a018-963af61cc5cd",
   "metadata": {
    "execution": {
     "iopub.execute_input": "2025-01-27T08:45:16.080617Z",
     "iopub.status.busy": "2025-01-27T08:45:16.079908Z",
     "iopub.status.idle": "2025-01-27T08:45:16.093332Z",
     "shell.execute_reply": "2025-01-27T08:45:16.091347Z",
     "shell.execute_reply.started": "2025-01-27T08:45:16.080558Z"
    }
   },
   "outputs": [
    {
     "data": {
      "text/plain": [
       "['Doobi', 'doobi', 'Doobi', 'doobi', 'Doobi', 'doobi']"
      ]
     },
     "execution_count": 64,
     "metadata": {},
     "output_type": "execute_result"
    }
   ],
   "source": [
    "re.findall('Doobi|doobi', doobi)"
   ]
  },
  {
   "cell_type": "markdown",
   "id": "3a3a792e-6299-4263-bc7c-f414f6f82047",
   "metadata": {},
   "source": [
    "<div style=\"border: 2px solid black; padding: 10px; border-radius: 5px;\"> \n",
    "\n",
    "`re.findall('Beep beep', doobi)`\n",
    "* This line uses the `re.findall()` function from the `re` module to find all non-overlapping occurrences of the pattern 'Beep beep' within the string `doobi`.\n",
    "* `'Beep beep'` is a literal string pattern that matches the exact sequence \"Beep beep\".\n",
    "* The output shows a list of all the occurrences of the exact string \"Beep beep\" found within the lyrics.\n",
    "\n",
    "`re.findall(' [Bb]eep', doobi)`\n",
    "* This line uses the `re.findall()` function to find all non-overlapping occurrences of the pattern `[Bb]eep'` within the string doobi.\n",
    "* `' [Bb]eep'` is a regular expression pattern.\n",
    "*` (space)` matches a single space character.\n",
    "* `[Bb]` is a character class that matches either the uppercase 'B' or the lowercase 'b'.\n",
    "* `eep` matches the literal string \"eep\".\n",
    "* The output shows a list of all the occurrences of \" beep\" and \" Beep\" found within the lyrics, capturing the word \"beep\" with either an uppercase or lowercase \"B\" preceded by a space.\n"
   ]
  },
  {
   "cell_type": "code",
   "execution_count": 65,
   "id": "7938565f-1a4a-4884-bf5d-82ed26e6f0f4",
   "metadata": {
    "execution": {
     "iopub.execute_input": "2025-01-27T08:45:25.855333Z",
     "iopub.status.busy": "2025-01-27T08:45:25.854438Z",
     "iopub.status.idle": "2025-01-27T08:45:25.866240Z",
     "shell.execute_reply": "2025-01-27T08:45:25.864598Z",
     "shell.execute_reply.started": "2025-01-27T08:45:25.855274Z"
    },
    "scrolled": true
   },
   "outputs": [
    {
     "data": {
      "text/plain": [
       "['beep',\n",
       " 'beep',\n",
       " 'beep',\n",
       " 'beep',\n",
       " 'beep',\n",
       " 'beep',\n",
       " 'beep',\n",
       " 'beep',\n",
       " 'Beep',\n",
       " 'beep',\n",
       " 'beep',\n",
       " 'beep',\n",
       " 'beep',\n",
       " 'beep',\n",
       " 'beep',\n",
       " 'beep',\n",
       " 'beep',\n",
       " 'Beep',\n",
       " 'Beep',\n",
       " 'beep',\n",
       " 'beep',\n",
       " 'beep']"
      ]
     },
     "execution_count": 65,
     "metadata": {},
     "output_type": "execute_result"
    }
   ],
   "source": [
    "re.findall('Beep|beep', doobi)"
   ]
  },
  {
   "cell_type": "code",
   "execution_count": 66,
   "id": "6d18f569-6fda-4b10-b900-a52f148fd873",
   "metadata": {
    "collapsed": true,
    "execution": {
     "iopub.execute_input": "2025-01-27T08:45:45.867314Z",
     "iopub.status.busy": "2025-01-27T08:45:45.866592Z",
     "iopub.status.idle": "2025-01-27T08:45:45.878041Z",
     "shell.execute_reply": "2025-01-27T08:45:45.876666Z",
     "shell.execute_reply.started": "2025-01-27T08:45:45.867254Z"
    },
    "jupyter": {
     "outputs_hidden": true
    }
   },
   "outputs": [
    {
     "data": {
      "text/plain": [
       "['beep',\n",
       " 'beep',\n",
       " 'beep',\n",
       " 'beep',\n",
       " 'beep',\n",
       " 'beep',\n",
       " 'beep',\n",
       " 'beep',\n",
       " 'Beep',\n",
       " 'beep',\n",
       " 'beep',\n",
       " 'beep',\n",
       " 'beep',\n",
       " 'beep',\n",
       " 'beep',\n",
       " 'beep',\n",
       " 'beep',\n",
       " 'Beep',\n",
       " 'Beep',\n",
       " 'beep',\n",
       " 'beep',\n",
       " 'beep']"
      ]
     },
     "execution_count": 66,
     "metadata": {},
     "output_type": "execute_result"
    }
   ],
   "source": [
    "re.findall('[Bb]eep', doobi)"
   ]
  },
  {
   "cell_type": "markdown",
   "id": "98cd8043-b166-4573-b591-a503d0642719",
   "metadata": {},
   "source": [
    "<div style=\"border: 2px solid black; padding: 10px; border-radius: 5px;\"> \n",
    "\n",
    "`re.findall(r'[Dd]oobi|[Bb]eep', doobi)`\n",
    "* This line uses the `re.findall()` function from the `re` module to find all non-overlapping occurrences of the pattern `r'[Dd]oobi|[Bb]eep'` within the string `doobi`.\n",
    "\n",
    "* `r'[Dd]oobi|[Bb]eep'` is a regular expression pattern.\n",
    "* `[Dd]oobi` matches either \"Doobi\" or \"doobi\".\n",
    "* `|` is the OR operator, meaning it matches either the pattern before or after it.\n",
    "* `[Bb]eep` matches either \"Beep\" or \"beep\".\n",
    "* The output shows a list of all the occurrences of \"Doobi\", \"doobi\", \"Beep\", and \"beep\" found within the lyrics.\n",
    "\n",
    "`re.findall(r'^\\s*[Dd]oobi', doobi)`\n",
    "* This line uses the `re.findall()` function to find all non-overlapping occurrences of the pattern r'^\\s*[Dd]oobi' within the string doobi.\n",
    "* `r'^\\s*[Dd]oobi'` is a regular expression pattern.\n",
    "* `^` matches the beginning of the string.\n",
    "* `\\s*` matches zero or more whitespace characters (spaces, tabs, newlines).\n",
    "* `[Dd]oobi` matches either \"Doobi\" or \"doobi\".\n",
    "*  The output shows a list of all the occurrences of \"Doobi\" or \"doobi\" that are at the beginning of a line (possibly preceded by whitespace).\n",
    "\n",
    "\n",
    "* Both cells use the `re.findall()` function to extract specific patterns from the lyrics stored in the `doobi` string. The first cell searches for all occurrences of \"Doobi\", \"doobi\", \"Beep\", and \"beep\". The second cell searches for occurrences of \"Doobi\" or \"doobi\" only at the beginning of lines, allowing for potential whitespace before the word."
   ]
  },
  {
   "cell_type": "code",
   "execution_count": 67,
   "id": "faf42b5c-4e50-405b-bc1b-5b683ba66630",
   "metadata": {
    "execution": {
     "iopub.execute_input": "2025-01-27T08:46:19.612419Z",
     "iopub.status.busy": "2025-01-27T08:46:19.611703Z",
     "iopub.status.idle": "2025-01-27T08:46:19.624277Z",
     "shell.execute_reply": "2025-01-27T08:46:19.622554Z",
     "shell.execute_reply.started": "2025-01-27T08:46:19.612359Z"
    },
    "scrolled": true
   },
   "outputs": [
    {
     "data": {
      "text/plain": [
       "['Doobi',\n",
       " 'doobi',\n",
       " 'Doobi',\n",
       " 'doobi',\n",
       " 'Doobi',\n",
       " 'doobi',\n",
       " 'beep',\n",
       " 'beep',\n",
       " 'beep',\n",
       " 'beep',\n",
       " 'beep',\n",
       " 'beep',\n",
       " 'beep',\n",
       " 'beep',\n",
       " 'Beep',\n",
       " 'beep',\n",
       " 'beep',\n",
       " 'beep',\n",
       " 'beep',\n",
       " 'beep',\n",
       " 'beep',\n",
       " 'beep',\n",
       " 'beep',\n",
       " 'Beep',\n",
       " 'Beep',\n",
       " 'beep',\n",
       " 'beep',\n",
       " 'beep']"
      ]
     },
     "execution_count": 67,
     "metadata": {},
     "output_type": "execute_result"
    }
   ],
   "source": [
    "re.findall('[Dd]oobi|[Bb]eep', doobi)"
   ]
  },
  {
   "cell_type": "markdown",
   "id": "9f2681fc-8335-46b7-afdb-1bfc22ed956f",
   "metadata": {},
   "source": [
    "<div style=\"border: 2px solid black; padding: 10px; border-radius: 5px;\"> \n",
    "\n",
    "`re.findall(r'^\\s*[Dd]oobi', doobi, flags=re.M)`\n",
    "* This line uses the `re.findall()` function with the `re.M` flag to find all non-overlapping occurrences of the pattern `r'^\\s*[Dd]oobi' within the string `doobi`.\n",
    "* `re.M` is the `MULTILINE` flag, which modifies the behavior of the `^` and `$` anchors. With this flag:\n",
    "* `^` matches the beginning of each line, not just the beginning of the entire string.\n",
    "* This allows the pattern to find occurrences of \"Doobi\" or \"doobi\" at the beginning of any line within the multiline string `doobi`.\n",
    "\n",
    "`re.findall(r'^\\s*[Dd]oobi', doobi, flags=re.MULTILINE)`\n",
    "* This line uses the re.findall()` function with the `re.MULTILINE` flag to find all non-overlapping occurrences of the pattern `r'^\\s*[Dd]oobi'` within the string doobi.\n",
    "* `re.MULTILINE` is the same as `re.M`, the `MULTILINE` flag. It modifies the behavior of the `^` and `$` anchors so that `^` matches the beginning of each line.\n",
    "* This allows the pattern to find occurrences of \"Doobi\" or \"doobi\" at the beginning of any line within the multiline string `doobi`.\n",
    "\n",
    "* All three cells use the `re.findall()` function to extract occurrences of \"Doobi\" or \"doobi\" from the lyrics stored in the `doobi` string.\n",
    "* Cell 1 searches only for occurrences at the beginning of the entire string.\n",
    "* Cells 2 and 3 use the `re.M` or `re.MULTILINE` flag to search for occurrences at the beginning of each line within the string, which results in the same output as they both use the `re.MULTILINE` flag."
   ]
  },
  {
   "cell_type": "code",
   "execution_count": 68,
   "id": "7dd88668-a410-44eb-ba03-bc4356d50d19",
   "metadata": {
    "execution": {
     "iopub.execute_input": "2025-01-27T08:46:45.370746Z",
     "iopub.status.busy": "2025-01-27T08:46:45.370024Z",
     "iopub.status.idle": "2025-01-27T08:46:45.381042Z",
     "shell.execute_reply": "2025-01-27T08:46:45.379427Z",
     "shell.execute_reply.started": "2025-01-27T08:46:45.370688Z"
    }
   },
   "outputs": [
    {
     "data": {
      "text/plain": [
       "['Doobi']"
      ]
     },
     "execution_count": 68,
     "metadata": {},
     "output_type": "execute_result"
    }
   ],
   "source": [
    "re.findall('^[Dd]oobi', doobi)"
   ]
  },
  {
   "cell_type": "code",
   "execution_count": 69,
   "id": "9a13ef02-2e4a-4ae7-b2be-eac0c0d3ba26",
   "metadata": {
    "execution": {
     "iopub.execute_input": "2025-01-27T08:47:02.779865Z",
     "iopub.status.busy": "2025-01-27T08:47:02.779001Z",
     "iopub.status.idle": "2025-01-27T08:47:02.790494Z",
     "shell.execute_reply": "2025-01-27T08:47:02.788850Z",
     "shell.execute_reply.started": "2025-01-27T08:47:02.779757Z"
    }
   },
   "outputs": [
    {
     "data": {
      "text/plain": [
       "['Doobi', 'Doobi', 'Doobi']"
      ]
     },
     "execution_count": 69,
     "metadata": {},
     "output_type": "execute_result"
    }
   ],
   "source": [
    "re.findall('^[Dd]oobi', doobi, flags=re.M)"
   ]
  },
  {
   "cell_type": "code",
   "execution_count": 70,
   "id": "24f2a106-e12b-43d1-9424-a1fd0c8c59d5",
   "metadata": {
    "execution": {
     "iopub.execute_input": "2025-01-27T08:47:06.995018Z",
     "iopub.status.busy": "2025-01-27T08:47:06.994284Z",
     "iopub.status.idle": "2025-01-27T08:47:07.005836Z",
     "shell.execute_reply": "2025-01-27T08:47:07.004145Z",
     "shell.execute_reply.started": "2025-01-27T08:47:06.994956Z"
    }
   },
   "outputs": [
    {
     "data": {
      "text/plain": [
       "['Doobi', 'Doobi', 'Doobi']"
      ]
     },
     "execution_count": 70,
     "metadata": {},
     "output_type": "execute_result"
    }
   ],
   "source": [
    "re.findall('^[Dd]oobi', doobi, flags=re.MULTILINE)"
   ]
  },
  {
   "cell_type": "markdown",
   "id": "11f0f4ed-a95e-4457-ad20-8c88c06b3914",
   "metadata": {},
   "source": [
    "<div style=\"border: 2px solid black; padding: 10px; border-radius: 5px;\"> \n",
    "\n",
    "`re.findall('(?m)^[Dd]oobi', doobi)`\n",
    "* `(?m)`: Enables multiline mode, so ^ matches the start of each line (not just the beginning of the string).\n",
    "* `[Dd]`: Matches either an uppercase D or lowercase d.\n",
    "* `oobi`: Matches the exact sequence \"oobi\".\n",
    "* Overall: Matches lines starting with \"Doobi\" or \"doobi\".\n",
    "* Input (`doobi`): Likely a string with multiple lines.\n",
    "* Output: `['Doobi', 'Doobi', 'Doobi']`\n",
    "* Indicates that \"Doobi\" appeared at the beginning of three different lines\n",
    "\n",
    "`Regex Pattern: [Bb]eep$`\n",
    "* `[Bb]`: Matches either an uppercase B or lowercase b.\n",
    "* `eep$`: Matches the exact sequence \"eep\" at the end of a line (due to $).\n",
    "* Input (`oobi`: The same multiline string as before.\n",
    "* Output: `['beep']`\n",
    "* Indicates that a single line ends with \"beep\".\n",
    "\n",
    "`Regex Pattern: [Bb]eep$ (same as the previous cell)`.\n",
    "* Flags: `re.M` (multiline mode):\n",
    "* Causes `$` to match the end of each line, not just the end of the entire string.\n",
    "* Input (doobi): The same multiline string.\n",
    "* Output: `['beep', 'beep', 'beep']`\n",
    "* Indicates that \"beep\" appeared at the end of three separate lines\n"
   ]
  },
  {
   "cell_type": "code",
   "execution_count": 71,
   "id": "060ad03f-043f-4646-a367-db9842a9f208",
   "metadata": {
    "execution": {
     "iopub.execute_input": "2025-01-27T08:47:44.265968Z",
     "iopub.status.busy": "2025-01-27T08:47:44.265287Z",
     "iopub.status.idle": "2025-01-27T08:47:44.276273Z",
     "shell.execute_reply": "2025-01-27T08:47:44.274617Z",
     "shell.execute_reply.started": "2025-01-27T08:47:44.265909Z"
    }
   },
   "outputs": [
    {
     "data": {
      "text/plain": [
       "['Doobi', 'Doobi', 'Doobi']"
      ]
     },
     "execution_count": 71,
     "metadata": {},
     "output_type": "execute_result"
    }
   ],
   "source": [
    "re.findall('(?m)^[Dd]oobi', doobi)"
   ]
  },
  {
   "cell_type": "code",
   "execution_count": 72,
   "id": "694120c6-31b5-4ec8-993b-921a579d3477",
   "metadata": {
    "execution": {
     "iopub.execute_input": "2025-01-27T08:47:57.260431Z",
     "iopub.status.busy": "2025-01-27T08:47:57.259725Z",
     "iopub.status.idle": "2025-01-27T08:47:57.270724Z",
     "shell.execute_reply": "2025-01-27T08:47:57.269011Z",
     "shell.execute_reply.started": "2025-01-27T08:47:57.260372Z"
    }
   },
   "outputs": [
    {
     "data": {
      "text/plain": [
       "['beep']"
      ]
     },
     "execution_count": 72,
     "metadata": {},
     "output_type": "execute_result"
    }
   ],
   "source": [
    "re.findall('[Bb]eep$', doobi)"
   ]
  },
  {
   "cell_type": "code",
   "execution_count": 73,
   "id": "c1d356b9-40c0-4bab-b2dd-93b483580448",
   "metadata": {
    "execution": {
     "iopub.execute_input": "2025-01-27T08:48:10.134623Z",
     "iopub.status.busy": "2025-01-27T08:48:10.133881Z",
     "iopub.status.idle": "2025-01-27T08:48:10.145367Z",
     "shell.execute_reply": "2025-01-27T08:48:10.143705Z",
     "shell.execute_reply.started": "2025-01-27T08:48:10.134563Z"
    }
   },
   "outputs": [
    {
     "data": {
      "text/plain": [
       "['beep', 'beep', 'beep']"
      ]
     },
     "execution_count": 73,
     "metadata": {},
     "output_type": "execute_result"
    }
   ],
   "source": [
    "re.findall('[Bb]eep$', doobi, flags=re.M)"
   ]
  },
  {
   "cell_type": "markdown",
   "id": "385ccdbb-6f2e-435c-a063-d82570dc8035",
   "metadata": {
    "execution": {
     "iopub.execute_input": "2025-02-03T14:51:35.675720Z",
     "iopub.status.busy": "2025-02-03T14:51:35.675167Z",
     "iopub.status.idle": "2025-02-03T14:51:35.684337Z",
     "shell.execute_reply": "2025-02-03T14:51:35.682689Z",
     "shell.execute_reply.started": "2025-02-03T14:51:35.675658Z"
    }
   },
   "source": [
    "\n",
    "<div style=\"border: 2px solid black; padding: 10px; border-radius: 5px;\"> \n",
    "\n",
    "Regex Pattern: `[Bb]ee\\w*`\n",
    "* `[Bb]`: Matches \"B\" or \"b\".\n",
    "* `ee`: Matches the exact sequence \"ee\".\n",
    "* `\\w*`: Matches zero or more word characters (letters, digits, or underscores).\n",
    "* Flags: `re.M` (multiline mode):\n",
    "* Ensures the regex can match patterns across individual lines.\n",
    "* Input (`doobi`): Likely a string containing multiple lines.\n",
    "* Output: A list of all words starting with \"Bee\" or \"bee\", followed by any word characters (`\\w*`).\n",
    "* The output includes variations like \"Bee\" and multiple \"beep\" entries, indicating matches on various lines.\n",
    "\n",
    "Regex Pattern: `\\b\\w+\\b`\n",
    "* `\\b`: Matches a word boundary (the start or end of a word).\n",
    "* `\\w+`: Matches one or more word characters.\n",
    "* `\\b`: Ensures the match ends at a word boundary.\n",
    "* Input String: `'Hi, p0whz'`\n",
    "* Contains the words \"Hi\" and \"p0whz\", separated by a comma and space.\n",
    "Output: `['Hi', 'p0whz']`\n",
    "* Matches all individual words in the string. It ignores punctuation (like the comma).\n",
    "\n",
    "**Key Differences**\n",
    "* First Cell: Matches words starting with \"Bee\" or \"bee\" and includes any additional characters in the same word. The re.M flag ensures the search occurs across multiple lines.\n",
    "* Second Cell: Extracts all individual words from a single string, ensuring each match is a complete word bounded by non-word characters. It doesn't involve multiline functionality."
   ]
  },
  {
   "cell_type": "code",
   "execution_count": null,
   "id": "7d1912aa-4fb6-4313-ade5-c0ed6646907f",
   "metadata": {
    "execution": {
     "iopub.execute_input": "2025-01-27T08:49:09.337175Z",
     "iopub.status.busy": "2025-01-27T08:49:09.335834Z",
     "iopub.status.idle": "2025-01-27T08:49:09.348631Z",
     "shell.execute_reply": "2025-01-27T08:49:09.346496Z",
     "shell.execute_reply.started": "2025-01-27T08:49:09.337115Z"
    },
    "scrolled": true
   },
   "outputs": [],
   "source": [
    "re.findall(r'[Bb]ee\\w*', doobi, flags=re.M)"
   ]
  },
  {
   "cell_type": "code",
   "execution_count": 81,
   "id": "1b732898-99cf-4e69-a502-b161bcbb3de9",
   "metadata": {
    "execution": {
     "iopub.execute_input": "2025-01-27T08:56:24.088725Z",
     "iopub.status.busy": "2025-01-27T08:56:24.088015Z",
     "iopub.status.idle": "2025-01-27T08:56:24.099838Z",
     "shell.execute_reply": "2025-01-27T08:56:24.098145Z",
     "shell.execute_reply.started": "2025-01-27T08:56:24.088667Z"
    }
   },
   "outputs": [
    {
     "data": {
      "text/plain": [
       "['Hi', 'p0whz']"
      ]
     },
     "execution_count": 81,
     "metadata": {},
     "output_type": "execute_result"
    }
   ],
   "source": [
    "re.findall(r'\\b\\w+\\b', 'Hi, p0whz')"
   ]
  }
 ],
 "metadata": {
  "kernelspec": {
   "display_name": "Python [conda env:base] *",
   "language": "python",
   "name": "conda-base-py"
  },
  "language_info": {
   "codemirror_mode": {
    "name": "ipython",
    "version": 3
   },
   "file_extension": ".py",
   "mimetype": "text/x-python",
   "name": "python",
   "nbconvert_exporter": "python",
   "pygments_lexer": "ipython3",
   "version": "3.12.8"
  }
 },
 "nbformat": 4,
 "nbformat_minor": 5
}
