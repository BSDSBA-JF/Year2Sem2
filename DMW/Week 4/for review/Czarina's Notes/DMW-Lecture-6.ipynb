{
 "cells": [
  {
   "cell_type": "markdown",
   "id": "b09a26f7-bd53-4bd6-9063-f8c0d72ca421",
   "metadata": {
    "execution": {
     "iopub.execute_input": "2025-02-04T03:23:38.538939Z",
     "iopub.status.busy": "2025-02-04T03:23:38.538426Z",
     "iopub.status.idle": "2025-02-04T03:23:38.544795Z",
     "shell.execute_reply": "2025-02-04T03:23:38.543657Z",
     "shell.execute_reply.started": "2025-02-04T03:23:38.538895Z"
    }
   },
   "source": [
    "## Lecture 6: [1/30]"
   ]
  },
  {
   "cell_type": "markdown",
   "id": "1a9bcaca-531c-451e-8451-c9564f7b16f5",
   "metadata": {
    "execution": {
     "iopub.execute_input": "2025-02-04T03:25:00.095541Z",
     "iopub.status.busy": "2025-02-04T03:25:00.095057Z",
     "iopub.status.idle": "2025-02-04T03:25:00.102419Z",
     "shell.execute_reply": "2025-02-04T03:25:00.100636Z",
     "shell.execute_reply.started": "2025-02-04T03:25:00.095501Z"
    }
   },
   "source": [
    "## Working with Databases"
   ]
  },
  {
   "cell_type": "markdown",
   "id": "29f79dfc-deaa-4c56-b46f-483f6176aa0e",
   "metadata": {},
   "source": [
    "---"
   ]
  },
  {
   "cell_type": "markdown",
   "id": "394f3131-3ce5-4d2b-adbe-a7949a5e5ded",
   "metadata": {},
   "source": [
    "<div style=\"border: 2px solid black; padding: 10px; border-radius: 5px;\"> \n",
    "\n",
    "## Introduction\n",
    "\n",
    "**What is a Database?**\n",
    "* In simple terms, a database is an organized collection of structured information.\n",
    "* It's like an electronic filing cabinet where you can store and manage data.\n",
    "* Databases typically use a specific structure to organize information, making it easy to search for, retrieve, and update data.\n",
    "\n",
    "**Types of Databases**:\n",
    "* **Relational Databases**: These are the most common type, organizing data into tables with rows and columns. Each row represents a record, and each column represents a field. SQLite is a type of relational database.\n",
    "* **NoSQL Databases**: These databases don't use the traditional table structure. They are more flexible and can handle different types of data, such as unstructured text or images.\n",
    "\n",
    "**What is SQLite?**\n",
    "* SQLite is a lightweight and open-source relational database management system.\n",
    "* It's known for its simplicity and ease of use.\n",
    "* SQLite databases are stored as single files, making them portable and easy to deploy.\n",
    "* It's commonly used in mobile devices, embedded systems, and as a backend for small applications.\n",
    "\n",
    "**Key Features of SQLite**:\n",
    "* **Lightweight**: Small footprint and easy to embed in other applications.\n",
    "* **Cross-platform**: Works on various operating systems (Windows, macOS, Linux, etc.).\n",
    "* **Self-contained**: Stores the entire database in a single file.\n",
    "* **Transactions**: Supports ACID properties (Atomicity, Consistency, Isolation, Durability) for reliable data management.\n",
    "\n",
    "**Summary**:\n",
    "* SQLite is a lightweight and versatile database management system that's well-suited for various applications. It provides a simple and efficient way to store and manage data in a structured manner."
   ]
  },
  {
   "cell_type": "markdown",
   "id": "28880415-fc90-40e5-afab-87cd83f4d1a4",
   "metadata": {},
   "source": [
    "## Importing SQlite3"
   ]
  },
  {
   "cell_type": "markdown",
   "id": "b92c84e3-d80c-42dc-9593-fa3cbf3dbdb2",
   "metadata": {},
   "source": [
    "<div style=\"border: 2px solid black; padding: 10px; border-radius: 5px;\"> \n",
    "\n",
    "`import sqlite3`\n",
    "* This line imports the `sqlite3` module, which is the standard library in Python for working with SQLite databases.\n",
    "\n",
    "`conn = sqlite3.connect(':memory:')`\n",
    "* This line creates a new in-memory SQLite database connection.\n",
    "* `sqlite3.connect(':memory:')` creates a database that exists only in memory and will be discarded when the connection is closed. This is useful for temporary databases.\n",
    "\n",
    "`conn = sqlite3.connect('sample.sqlite')`\n",
    "* This line creates a new SQLite database connection to a file named `sample.sqlite`.\n",
    "* If the file doesn't exist, it will be created. If it exists, the connection will open the existing database.\n",
    "\n",
    "`conn.close()`\n",
    "* This line closes the database connection. It's important to close connections when you're finished with them to free up resources.\n",
    "\n",
    "**Summary**\n",
    "* These code cells demonstrate the basic steps for creating and closing SQLite database connections in Python. You can use these connections to interact with the database, such as creating tables, inserting data, and querying data."
   ]
  },
  {
   "cell_type": "code",
   "execution_count": 1,
   "id": "6ed15ffe-974b-4d7a-b0e1-819224aec4cc",
   "metadata": {
    "execution": {
     "iopub.execute_input": "2025-02-04T03:26:27.367326Z",
     "iopub.status.busy": "2025-02-04T03:26:27.366832Z",
     "iopub.status.idle": "2025-02-04T03:26:27.372646Z",
     "shell.execute_reply": "2025-02-04T03:26:27.371386Z",
     "shell.execute_reply.started": "2025-02-04T03:26:27.367284Z"
    }
   },
   "outputs": [],
   "source": [
    "import sqlite3"
   ]
  },
  {
   "cell_type": "code",
   "execution_count": 2,
   "id": "9bcb1c55-f222-4008-ad34-068e57a205e0",
   "metadata": {
    "execution": {
     "iopub.execute_input": "2025-02-04T03:26:29.690841Z",
     "iopub.status.busy": "2025-02-04T03:26:29.690340Z",
     "iopub.status.idle": "2025-02-04T03:26:29.696177Z",
     "shell.execute_reply": "2025-02-04T03:26:29.695003Z",
     "shell.execute_reply.started": "2025-02-04T03:26:29.690799Z"
    }
   },
   "outputs": [],
   "source": [
    "conn = sqlite3.connect(':memory:')"
   ]
  },
  {
   "cell_type": "code",
   "execution_count": 3,
   "id": "31337668-e4de-4a6b-8cf7-970fe8e01526",
   "metadata": {
    "execution": {
     "iopub.execute_input": "2025-02-04T03:26:31.967564Z",
     "iopub.status.busy": "2025-02-04T03:26:31.967081Z",
     "iopub.status.idle": "2025-02-04T03:26:31.973223Z",
     "shell.execute_reply": "2025-02-04T03:26:31.972029Z",
     "shell.execute_reply.started": "2025-02-04T03:26:31.967523Z"
    }
   },
   "outputs": [],
   "source": [
    "conn = sqlite3.connect('sample.sqlite')"
   ]
  },
  {
   "cell_type": "code",
   "execution_count": 4,
   "id": "17851c8f-11f0-4e7f-a603-119c3dcd79f7",
   "metadata": {
    "execution": {
     "iopub.execute_input": "2025-02-04T03:26:32.754458Z",
     "iopub.status.busy": "2025-02-04T03:26:32.753982Z",
     "iopub.status.idle": "2025-02-04T03:26:32.759554Z",
     "shell.execute_reply": "2025-02-04T03:26:32.758589Z",
     "shell.execute_reply.started": "2025-02-04T03:26:32.754416Z"
    }
   },
   "outputs": [],
   "source": [
    "conn.close()"
   ]
  },
  {
   "cell_type": "markdown",
   "id": "7133d3a5-dd68-4cf7-8c5b-b4d9c7d5a3bb",
   "metadata": {},
   "source": [
    "<div style=\"border: 2px solid black; padding: 10px; border-radius: 5px;\"> \n",
    "\n",
    "`with sqlite3.connect('sample.sqlite') as conn`:\n",
    "* This line uses the `with` statement to create a connection to a SQLite database file named 'sample.sqlite'.\n",
    "* `sqlite3.connect('sample.sqlite')` establishes the connection to the database file.\n",
    "* `as conn:` assigns the connection object to the variable conn for use within the `with` block.\n",
    "* The `with` statement ensures that the connection to the database is properly closed even if an error occurs within the block.\n",
    "* `pass`\n",
    "* This line is a placeholder and does nothing. It's often used when you need a block of code but don't have any specific instructions to execute within that block.\n",
    "\n",
    "`conn = sqlite3.connect(':memory:')`\n",
    "* This line creates a new in-memory SQLite database connection.\n",
    "* `sqlite3.connect(':memory:')` creates a database that exists only in memory and will be discarded when the connection is closed. This is useful for temporary databases.\n",
    "\n",
    "`cursor = conn.cursor()`\n",
    "* This line creates a cursor object.\n",
    "* The cursor is an object that allows you to execute SQL commands (like creating tables, inserting data, etc.) against the database.\n",
    "\n",
    "`cursor.execute(''' CREATE TABLE mytable ( col1 TEXT, col2 INTEGER, col3 REAL, col4 TEXT ); ''')`\n",
    "* This line executes an SQL command using the cursor object.\n",
    "The SQL command creates a new table named mytable with four columns:\n",
    "    * `col1`: Stores text data.\n",
    "    * `col2`: Stores integer values.\n",
    "    * `col3`: Stores real (floating-point) numbers.\n",
    "    * `col4`: Stores text data.\n",
    "\n",
    "* **Connecting to a database**: Establishing a connection to a database file or creating an in-memory database.\n",
    "* **Creating a cursor**: Obtaining a cursor object to interact with the database.\n",
    "* **Executing SQL commands**: Using the cursor to execute SQL commands, such as creating tables."
   ]
  },
  {
   "cell_type": "code",
   "execution_count": 5,
   "id": "697667b3-8376-43d9-bd8c-653ff8d44992",
   "metadata": {
    "execution": {
     "iopub.execute_input": "2025-02-04T03:34:06.090921Z",
     "iopub.status.busy": "2025-02-04T03:34:06.090435Z",
     "iopub.status.idle": "2025-02-04T03:34:06.097729Z",
     "shell.execute_reply": "2025-02-04T03:34:06.096555Z",
     "shell.execute_reply.started": "2025-02-04T03:34:06.090879Z"
    }
   },
   "outputs": [],
   "source": [
    "with sqlite3.connect('sample.sqlite') as conn:\n",
    "    pass"
   ]
  },
  {
   "cell_type": "code",
   "execution_count": 6,
   "id": "08b13b7f-d078-41c1-9b78-14b9400c0634",
   "metadata": {
    "execution": {
     "iopub.execute_input": "2025-02-04T03:34:06.595206Z",
     "iopub.status.busy": "2025-02-04T03:34:06.594720Z",
     "iopub.status.idle": "2025-02-04T03:34:06.600771Z",
     "shell.execute_reply": "2025-02-04T03:34:06.599611Z",
     "shell.execute_reply.started": "2025-02-04T03:34:06.595165Z"
    }
   },
   "outputs": [],
   "source": [
    "conn = sqlite3.connect(':memory:')"
   ]
  },
  {
   "cell_type": "code",
   "execution_count": 7,
   "id": "c14f213a-a1db-4848-9113-07a8a1f58da0",
   "metadata": {
    "execution": {
     "iopub.execute_input": "2025-02-04T03:34:07.476774Z",
     "iopub.status.busy": "2025-02-04T03:34:07.475818Z",
     "iopub.status.idle": "2025-02-04T03:34:07.481422Z",
     "shell.execute_reply": "2025-02-04T03:34:07.480443Z",
     "shell.execute_reply.started": "2025-02-04T03:34:07.476730Z"
    }
   },
   "outputs": [],
   "source": [
    "cursor = conn.cursor()"
   ]
  },
  {
   "cell_type": "code",
   "execution_count": 8,
   "id": "0dda6ba1-de7b-400a-a678-3e4b68d761ce",
   "metadata": {
    "execution": {
     "iopub.execute_input": "2025-02-04T03:34:08.169092Z",
     "iopub.status.busy": "2025-02-04T03:34:08.168571Z",
     "iopub.status.idle": "2025-02-04T03:34:08.180352Z",
     "shell.execute_reply": "2025-02-04T03:34:08.179609Z",
     "shell.execute_reply.started": "2025-02-04T03:34:08.169051Z"
    }
   },
   "outputs": [
    {
     "data": {
      "text/plain": [
       "<sqlite3.Cursor at 0x107dcd840>"
      ]
     },
     "execution_count": 8,
     "metadata": {},
     "output_type": "execute_result"
    }
   ],
   "source": [
    "cursor.execute(\"\"\"\n",
    "CREATE TABLE mytable (\n",
    "    col1 TEXT,\n",
    "    col2 INTEGER,\n",
    "    col3 REAL,\n",
    "    col4 TEXT\n",
    ");\n",
    "\"\"\")"
   ]
  },
  {
   "cell_type": "markdown",
   "id": "ae5bf84a-3a80-4cd1-9b23-32c65fec34e2",
   "metadata": {},
   "source": [
    "<div style=\"border: 2px solid black; padding: 10px; border-radius: 5px;\"> \n",
    "\n",
    "`result = conn.execute('''PRAGMA table_info('mytable')''')`\n",
    "* This line executes an SQL command using the cursor object.\n",
    "* `PRAGMA table_info('mytable')` is an SQLite command that retrieves information about the columns of a specific table. In this case, it retrieves information about the mytable table that was created in the previous cell.\n",
    "* for row in result:\n",
    "* This line starts a for loop that iterates over each row of data returned by the execute() method.\n",
    "\n",
    "`print(row)`\n",
    "* This line prints each row of data to the console. Each `row` will contain information about a single column in the `mytable`, including its name, data type, and other metadata.\n",
    "\n",
    "    \n",
    "`result = conn.execute('''PRAGMA table_info('mytable')''')`\n",
    "* This line is the same as in Cell 14, executing the `PRAGMA table_info` command to get information about the `mytable` table.\n",
    "* `result.fetchall()`\n",
    "    * This line retrieves all the rows of data returned by the `execute()` method and stores them in the `result` variable.\n",
    "    * The output below the code shows the actual data retrieved by `fetchall()`. It's a list of tuples, where each tuple represents a row of information about a column in the `mytable`.\n",
    "\n",
    "**Summary**\n",
    "* These code cells demonstrate how to use the PRAGMA table_info command to get information about the columns of a table in an SQLite database. Cell 14 prints each row of information individually, while Cell 15 retrieves all rows and stores them in a list."
   ]
  },
  {
   "cell_type": "code",
   "execution_count": 14,
   "id": "fa9351ac-b622-44d7-816c-4877bb281d23",
   "metadata": {
    "execution": {
     "iopub.execute_input": "2025-02-04T03:40:08.551556Z",
     "iopub.status.busy": "2025-02-04T03:40:08.551095Z",
     "iopub.status.idle": "2025-02-04T03:40:08.559520Z",
     "shell.execute_reply": "2025-02-04T03:40:08.558166Z",
     "shell.execute_reply.started": "2025-02-04T03:40:08.551515Z"
    }
   },
   "outputs": [
    {
     "name": "stdout",
     "output_type": "stream",
     "text": [
      "(0, 'col1', 'TEXT', 0, None, 0)\n",
      "(1, 'col2', 'INTEGER', 0, None, 0)\n",
      "(2, 'col3', 'REAL', 0, None, 0)\n",
      "(3, 'col4', 'TEXT', 0, None, 0)\n"
     ]
    }
   ],
   "source": [
    "result = conn.execute(\n",
    "    \"\"\"\n",
    "    PRAGMA table_info('mytable')\n",
    "    \"\"\"\n",
    ")\n",
    "for row in result:\n",
    "    print(row)"
   ]
  },
  {
   "cell_type": "code",
   "execution_count": 12,
   "id": "ac48090b-c215-4d41-9528-edb1ad4804ef",
   "metadata": {
    "execution": {
     "iopub.execute_input": "2025-02-04T03:40:09.465971Z",
     "iopub.status.busy": "2025-02-04T03:40:09.465439Z",
     "iopub.status.idle": "2025-02-04T03:40:09.475237Z",
     "shell.execute_reply": "2025-02-04T03:40:09.474208Z",
     "shell.execute_reply.started": "2025-02-04T03:40:09.465930Z"
    }
   },
   "outputs": [
    {
     "data": {
      "text/plain": [
       "[(0, 'col1', 'TEXT', 0, None, 0),\n",
       " (1, 'col2', 'INTEGER', 0, None, 0),\n",
       " (2, 'col3', 'REAL', 0, None, 0),\n",
       " (3, 'col4', 'TEXT', 0, None, 0)]"
      ]
     },
     "execution_count": 12,
     "metadata": {},
     "output_type": "execute_result"
    }
   ],
   "source": [
    "result = conn.execute(\n",
    "    \"\"\"\n",
    "    PRAGMA table_info('mytable')\n",
    "    \"\"\"\n",
    ")\n",
    "\n",
    "result.fetchall()"
   ]
  },
  {
   "cell_type": "markdown",
   "id": "b16930a8-01a4-4fcf-a1ed-77c9305bc93c",
   "metadata": {},
   "source": [
    "<div style=\"border: 2px solid black; padding: 10px; border-radius: 5px;\"> \n",
    "\n",
    "`result = conn.execute('''PRAGMA table_info('mytable')''')`\n",
    "* This line executes an SQL command using the cursor object.\n",
    "* PRAGMA table_info('mytable') is an SQLite command that retrieves information about the columns of a specific table. In this case, it retrieves information about the `mytable` table that was created in the previous cell.\n",
    "\n",
    "`cursor.execute(''' CREATE TABLE mytable ( col1 TEXT, col2 INTEGER, col3 REAL, col4 TEXT ); ''')`\n",
    "* This line attempts to execute an SQL command using the cursor object.\n",
    "* The SQL command tries to create a new table named mytable with four columns:\n",
    "    * col1: Stores text data.\n",
    "    * col2: Stores integer values.\n",
    "    * col3: Stores real (floating-point) numbers.\n",
    "    * col4: Stores text data.\n",
    "\n",
    "However, the code results in an `OperationalError` because the table `mytable` already exists. This error indicates that a table with the same name has already been created in the database.\n",
    "\n",
    "\n",
    "\n",
    "\n",
    "                                                                                                                                              \n",
    "                                                                                                                                                                                                    \n",
    "                                                                                                                                                        \n",
    "                                                                                                                                                                                                         \n",
    "                                                                                                                                                                                        \n",
    "\n",
    "\n",
    "\n",
    "\n",
    "\n",
    "\n"
   ]
  },
  {
   "cell_type": "code",
   "execution_count": 13,
   "id": "83c43b69-74b0-4234-baf6-65f95e9060d0",
   "metadata": {
    "execution": {
     "iopub.execute_input": "2025-02-04T05:08:48.533834Z",
     "iopub.status.busy": "2025-02-04T05:08:48.533304Z",
     "iopub.status.idle": "2025-02-04T05:08:48.540157Z",
     "shell.execute_reply": "2025-02-04T05:08:48.539044Z",
     "shell.execute_reply.started": "2025-02-04T05:08:48.533788Z"
    }
   },
   "outputs": [],
   "source": [
    "result = conn.execute(\n",
    "    \"\"\"\n",
    "    PRAGMA table_info('mytable')\n",
    "    \"\"\"\n",
    ")"
   ]
  },
  {
   "cell_type": "code",
   "execution_count": 14,
   "id": "ba4cbd9b-8b47-45d7-8d5c-c22adaa8a273",
   "metadata": {
    "execution": {
     "iopub.execute_input": "2025-02-04T04:52:48.868373Z",
     "iopub.status.busy": "2025-02-04T04:52:48.867891Z",
     "iopub.status.idle": "2025-02-04T04:52:49.119435Z",
     "shell.execute_reply": "2025-02-04T04:52:49.118068Z",
     "shell.execute_reply.started": "2025-02-04T04:52:48.868332Z"
    }
   },
   "outputs": [
    {
     "ename": "OperationalError",
     "evalue": "table mytable already exists",
     "output_type": "error",
     "traceback": [
      "\u001b[0;31m---------------------------------------------------------------------------\u001b[0m",
      "\u001b[0;31mOperationalError\u001b[0m                          Traceback (most recent call last)",
      "Cell \u001b[0;32mIn[14], line 1\u001b[0m\n\u001b[0;32m----> 1\u001b[0m \u001b[43mcursor\u001b[49m\u001b[38;5;241;43m.\u001b[39;49m\u001b[43mexecute\u001b[49m\u001b[43m(\u001b[49m\u001b[38;5;124;43m\"\"\"\u001b[39;49m\n\u001b[1;32m      2\u001b[0m \u001b[38;5;124;43mCREATE TABLE mytable (\u001b[39;49m\n\u001b[1;32m      3\u001b[0m \u001b[38;5;124;43m    col1 TEXT,\u001b[39;49m\n\u001b[1;32m      4\u001b[0m \u001b[38;5;124;43m    col2 INTEGER,\u001b[39;49m\n\u001b[1;32m      5\u001b[0m \u001b[38;5;124;43m    col3 REAL,\u001b[39;49m\n\u001b[1;32m      6\u001b[0m \u001b[38;5;124;43m    col4 TEXT\u001b[39;49m\n\u001b[1;32m      7\u001b[0m \u001b[38;5;124;43m);\u001b[39;49m\n\u001b[1;32m      8\u001b[0m \u001b[38;5;124;43m\"\"\"\u001b[39;49m\u001b[43m)\u001b[49m\n",
      "\u001b[0;31mOperationalError\u001b[0m: table mytable already exists"
     ]
    }
   ],
   "source": [
    "cursor.execute(\"\"\"\n",
    "CREATE TABLE mytable (\n",
    "    col1 TEXT,\n",
    "    col2 INTEGER,\n",
    "    col3 REAL,\n",
    "    col4 TEXT\n",
    ");\n",
    "\"\"\")"
   ]
  },
  {
   "cell_type": "markdown",
   "id": "81c160b6-20da-490c-bd9e-c40cef41099c",
   "metadata": {},
   "source": [
    "<div style=\"border: 2px solid black; padding: 10px; border-radius: 5px;\"> \n",
    "\n",
    "`cursor.execute(''' CREATE TABLE IF NOT EXISTS mytable ( col1 TEXT, col2 INTEGER, col3 REAL, col4 TEXT ); ''')`\n",
    "* This line uses the `cursor.execute()` method to execute an SQL command.\n",
    "* CREATE TABLE IF NOT EXISTS `mytable`: \n",
    "* This part of the command checks if a table named \"mytable\" already exists in the database. If it does not exist, it creates a new table with the given name. If it already exists, the command does nothing.\n",
    "The rest of the command defines the table structure with four columns:\n",
    "    * col1: Stores text data.\n",
    "    * col2: Stores integer values.\n",
    "    * col3: Stores real (floating-point) numbers.\n",
    "col4: Stores text data.\n",
    "* `fetchall()` is used after `execute()` to retrieve any results returned by the command. Since `CREATE TABLE` doesn't return any data, `fetchall()` will return an empty list `[]`.\n",
    "\n",
    "`result = conn.execute('''PRAGMA table_info('mytable')''')`\n",
    "* This line executes an SQL command using the `conn.execute()` method.\n",
    "* `PRAGMA table_info('mytable')` is an SQLite command that retrieves information about the columns of a specific table. In this case, it retrieves information about the mytable table that was created or checked in the previous cell.\n",
    "\n",
    "`result.fetchall()`\n",
    "* This line retrieves all the rows of data returned by the execute() method and stores them in the `result` variable.\n",
    "* The output below the code shows the result of result.fetchall(). It's a list of tuples, where each tuple represents a row of information about a column in the `mytable`. Each tuple contains the following information for each column:\n",
    "* Index of the column (0, 1, 2, 3)\n",
    "* Name of the column ('col1', 'col2', 'col3', 'col4')\n",
    "* Data type of the column ('TEXT', 'INTEGER', 'REAL', 'TEXT')\n",
    "* Other metadata (all None in this case)\n"
   ]
  },
  {
   "cell_type": "code",
   "execution_count": 15,
   "id": "f1fcc760-5820-4145-96f8-2470af9714f8",
   "metadata": {
    "execution": {
     "iopub.execute_input": "2025-01-30T08:51:17.304602Z",
     "iopub.status.busy": "2025-01-30T08:51:17.303084Z",
     "iopub.status.idle": "2025-01-30T08:51:17.313676Z",
     "shell.execute_reply": "2025-01-30T08:51:17.312056Z",
     "shell.execute_reply.started": "2025-01-30T08:51:17.304542Z"
    }
   },
   "outputs": [
    {
     "data": {
      "text/plain": [
       "[]"
      ]
     },
     "execution_count": 15,
     "metadata": {},
     "output_type": "execute_result"
    }
   ],
   "source": [
    "cursor.execute(\"\"\"\n",
    "CREATE TABLE IF NOT EXISTS mytable (\n",
    "    col1 TEXT,\n",
    "    col2 INTEGER,\n",
    "    col3 REAL,\n",
    "    col4 TEXT\n",
    ");\n",
    "\"\"\").fetchall()"
   ]
  },
  {
   "cell_type": "code",
   "execution_count": 16,
   "id": "c81ecb0d-95bd-42c1-af19-7a2d098aefa3",
   "metadata": {
    "execution": {
     "iopub.execute_input": "2025-01-30T08:51:35.261386Z",
     "iopub.status.busy": "2025-01-30T08:51:35.260402Z",
     "iopub.status.idle": "2025-01-30T08:51:35.274069Z",
     "shell.execute_reply": "2025-01-30T08:51:35.272629Z",
     "shell.execute_reply.started": "2025-01-30T08:51:35.261320Z"
    }
   },
   "outputs": [
    {
     "data": {
      "text/plain": [
       "[(0, 'col1', 'TEXT', 0, None, 0),\n",
       " (1, 'col2', 'INTEGER', 0, None, 0),\n",
       " (2, 'col3', 'REAL', 0, None, 0),\n",
       " (3, 'col4', 'TEXT', 0, None, 0)]"
      ]
     },
     "execution_count": 16,
     "metadata": {},
     "output_type": "execute_result"
    }
   ],
   "source": [
    "result = conn.execute(\n",
    "    \"\"\"\n",
    "    PRAGMA table_info('mytable')\n",
    "    \"\"\"\n",
    ")\n",
    "result.fetchall()"
   ]
  },
  {
   "cell_type": "markdown",
   "id": "663ca0a1-639f-43de-aa72-6f4eb64b57da",
   "metadata": {
    "execution": {
     "iopub.execute_input": "2025-02-04T05:47:51.617783Z",
     "iopub.status.busy": "2025-02-04T05:47:51.617264Z",
     "iopub.status.idle": "2025-02-04T05:47:51.628000Z",
     "shell.execute_reply": "2025-02-04T05:47:51.626456Z",
     "shell.execute_reply.started": "2025-02-04T05:47:51.617741Z"
    }
   },
   "source": [
    "<div style=\"border: 2px solid black; padding: 10px; border-radius: 5px;\"> \n",
    "\n",
    "`cursor.execute(''' CREATE TABLE IF NOT EXISTS mytable2 ( col1 TEXT NOT NULL, col2 INTEGER NOT NULL UNIQUE, col3 REAL, col4 TEXT UNIQUE ); ''')`\n",
    "* This line uses the `cursor.execute()` method to execute an SQL command.\n",
    "* `CREATE TABLE IF NOT EXISTS mytable2`: This part of the command checks if a table named \"mytable2\" already exists in the database. If it does not exist, it creates a new table with the given name. If it already exists, the command does nothing.\n",
    "* The rest of the command defines the table structure with four columns:\n",
    "    * `col1 TEXT NOT NULL`: A text column that cannot be empty (must have a value).\n",
    "    * `col2 INTEGER NOT NULL UNIQUE`: An integer column that cannot be empty and must have a unique value for each row.\n",
    "    * `col3 REAL`: A column to store real numbers.\n",
    "    * `col4 TEXT UNIQUE`: A text column that must have a unique value for each row.\n",
    "\n",
    "\n",
    "`cursor.execute('''PRAGMA table_info('mytable2')''')`\n",
    "* This line executes an SQL command using the `cursor.execute()` method.\n",
    "* `PRAGMA table_info('mytable2')` is an SQLite command that retrieves information about the columns of a specific table. In this case, it retrieves information about the `mytable2` table that was created or checked in the previous cell.\n",
    "`fetchall()`\n",
    "* This line retrieves all the rows of data returned by the execute() method and stores them in the result variable.\n",
    "* The output below the code shows the result of `result.fetchall()`. It's a list of tuples, where each tuple represents a row of information about a column in the `mytable2`. Each tuple contains the following information for each column:\n",
    "* Index of the column (0, 1, 2, 3)\n",
    "    * Name of the column ('col1', 'col2', 'col3', 'col4')\n",
    "    * Data type of the column ('TEXT', 'INTEGER', 'REAL', 'TEXT')\n",
    "    * Whether the column is NOT NULL (1 for yes, 0 for no)\n",
    "    * Whether the column is UNIQUE (1 for yes, 0 for no)\n",
    "    * Other metadata (all None in this case)\n",
    "\n",
    "                                                    "
   ]
  },
  {
   "cell_type": "markdown",
   "id": "5e7cda9b-5588-47dc-af5f-1dcf53df2700",
   "metadata": {
    "execution": {
     "iopub.execute_input": "2025-01-30T08:54:30.357769Z",
     "iopub.status.busy": "2025-01-30T08:54:30.357036Z",
     "iopub.status.idle": "2025-01-30T08:54:30.368144Z",
     "shell.execute_reply": "2025-01-30T08:54:30.366484Z",
     "shell.execute_reply.started": "2025-01-30T08:54:30.357709Z"
    }
   },
   "source": [
    "cursor.execute(\"\"\"\n",
    "CREATE TABLE IF NOT EXISTS mytable2 (\n",
    "    col1 TEXT NOT NULL,\n",
    "    col2 INTEGER NOT NULL UNIQUE,\n",
    "    col3 REAL,\n",
    "    col4 TEXT UNIQUE\n",
    ");\n",
    "\"\"\")"
   ]
  },
  {
   "cell_type": "code",
   "execution_count": 17,
   "id": "0a4f11d3-35c4-4f79-881f-01ba815599af",
   "metadata": {
    "execution": {
     "iopub.execute_input": "2025-01-30T08:54:56.172059Z",
     "iopub.status.busy": "2025-01-30T08:54:56.171393Z",
     "iopub.status.idle": "2025-01-30T08:54:56.186772Z",
     "shell.execute_reply": "2025-01-30T08:54:56.185588Z",
     "shell.execute_reply.started": "2025-01-30T08:54:56.172002Z"
    }
   },
   "outputs": [
    {
     "data": {
      "text/plain": [
       "[]"
      ]
     },
     "execution_count": 17,
     "metadata": {},
     "output_type": "execute_result"
    }
   ],
   "source": [
    "cursor.execute(\"\"\"\n",
    "PRAGMA table_info('mytable2')\n",
    "\"\"\").fetchall()"
   ]
  },
  {
   "cell_type": "markdown",
   "id": "c476c318-78e6-430a-ba1c-8a970d276b6e",
   "metadata": {},
   "source": [
    "<div style=\"border: 2px solid black; padding: 10px; border-radius: 5px;\"> \n",
    "\n",
    "`cursor.executescript('''...''')`\n",
    "*  This line uses the cursor.executescript() method to execute a block of SQL commands.\n",
    "* `executescript()` allows you to execute multiple SQL statements at once\n",
    "* The first `CREATE TABLE IF NOT EXISTS mytable2 statement attempts to create a table named \"mytable2\"` if it doesn't already exist.\n",
    "The table definition includes four columns:\n",
    "    * `col1`: A text column that cannot be empty (NOT NULL).\n",
    "    * `col2`: A text column.\n",
    "    * `col3`: An integer column with a unique constraint (no two rows can have the same value in this column).\n",
    "col4: A real number column that cannot be empty and must have a unique value for each row.\n",
    "* The second `CREATE TABLE IF NOT EXISTS mytable2` statement is identical to the first.\n",
    "* Since the table \"mytable2\" is already being created by the first statement, the second statement will likely result in an error (as it's trying to create the same table again).\n",
    "\n",
    "* `<sqlite3.Cursor at 0x76585035e240>`\n",
    "* This output simply indicates that the `cursor.executescript()` method was successfully executed and returned the cursor object itself."
   ]
  },
  {
   "cell_type": "code",
   "execution_count": 18,
   "id": "c3a63441-1ca9-4ee6-9074-512324b39d54",
   "metadata": {
    "execution": {
     "iopub.execute_input": "2025-02-04T05:58:54.787900Z",
     "iopub.status.busy": "2025-02-04T05:58:54.787376Z",
     "iopub.status.idle": "2025-02-04T05:58:54.796008Z",
     "shell.execute_reply": "2025-02-04T05:58:54.794877Z",
     "shell.execute_reply.started": "2025-02-04T05:58:54.787859Z"
    }
   },
   "outputs": [
    {
     "data": {
      "text/plain": [
       "<sqlite3.Cursor at 0x107dcd840>"
      ]
     },
     "execution_count": 18,
     "metadata": {},
     "output_type": "execute_result"
    }
   ],
   "source": [
    "cursor.executescript(\n",
    "    \"\"\"\n",
    "    CREATE TABLE IF NOT EXISTS mytable2 (\n",
    "        col1 TEXT NOT NULL,\n",
    "        col2 TEXT,\n",
    "        col3 INTEGER UNIQUE,\n",
    "        col4 REAL NOT NULL UNIQUE\n",
    "    );\n",
    "    \n",
    "    CREATE TABLE IF NOT EXISTS mytable2 (\n",
    "        col1 TEXT NOT NULL,\n",
    "        col2 TEXT,\n",
    "        col3 INTEGER UNIQUE,\n",
    "        col4 REAL NOT NULL UNIQUE\n",
    "    );\n",
    "    \"\"\"\n",
    ")"
   ]
  },
  {
   "cell_type": "code",
   "execution_count": null,
   "id": "7f1b0792-de2c-4cb3-8de6-0b2cea2b7392",
   "metadata": {},
   "outputs": [],
   "source": []
  },
  {
   "cell_type": "code",
   "execution_count": null,
   "id": "87503b96-eec2-4922-8b87-f344fb158b05",
   "metadata": {},
   "outputs": [],
   "source": []
  }
 ],
 "metadata": {
  "kernelspec": {
   "display_name": "Python 3",
   "language": "python",
   "name": "python3"
  },
  "language_info": {
   "codemirror_mode": {
    "name": "ipython",
    "version": 3
   },
   "file_extension": ".py",
   "mimetype": "text/x-python",
   "name": "python",
   "nbconvert_exporter": "python",
   "pygments_lexer": "ipython3",
   "version": "3.11.5"
  }
 },
 "nbformat": 4,
 "nbformat_minor": 5
}
