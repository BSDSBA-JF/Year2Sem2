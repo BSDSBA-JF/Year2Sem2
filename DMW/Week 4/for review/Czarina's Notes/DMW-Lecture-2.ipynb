{
 "cells": [
  {
   "cell_type": "markdown",
   "id": "604c7015-8fde-4a16-92b2-6ee4e676bfcf",
   "metadata": {
    "execution": {
     "iopub.execute_input": "2025-01-28T09:03:24.872246Z",
     "iopub.status.busy": "2025-01-28T09:03:24.871472Z",
     "iopub.status.idle": "2025-01-28T09:03:24.876117Z",
     "shell.execute_reply": "2025-01-28T09:03:24.875363Z",
     "shell.execute_reply.started": "2025-01-28T09:03:24.872213Z"
    }
   },
   "source": [
    "# **Lecture 2** : [1/16]"
   ]
  },
  {
   "cell_type": "markdown",
   "id": "14efda41-ac4c-443a-8630-ff319f12527a",
   "metadata": {
    "execution": {
     "iopub.execute_input": "2025-01-28T09:07:08.561054Z",
     "iopub.status.busy": "2025-01-28T09:07:08.560523Z",
     "iopub.status.idle": "2025-01-28T09:07:08.566577Z",
     "shell.execute_reply": "2025-01-28T09:07:08.565291Z",
     "shell.execute_reply.started": "2025-01-28T09:07:08.561005Z"
    },
    "jp-MarkdownHeadingCollapsed": true
   },
   "source": [
    "## Working With Different File Formats : JSON STRING "
   ]
  },
  {
   "cell_type": "markdown",
   "id": "a4b8028b-431b-4075-a344-9a5de374b59b",
   "metadata": {},
   "source": [
    "---"
   ]
  },
  {
   "cell_type": "markdown",
   "id": "2ebe65b8-5f07-4065-ace4-ee4de298750c",
   "metadata": {},
   "source": [
    "## Defining a JSON String with Example"
   ]
  },
  {
   "cell_type": "markdown",
   "id": "846b91a1-bb85-4660-8036-1dea72d36156",
   "metadata": {},
   "source": [
    "<div style=\"border: 2px solid black; padding: 10px; border-radius: 5px;\"> \n",
    "\n",
    "**Definition:** In Python, JSON (JavaScript Object Notation) is a data format for representing structured data in a human-readable and machine-readable way.\n",
    "\n",
    "**Data Format:** JSON uses a specific syntax to represent data as a collection of key-value pairs.\n",
    "\n",
    "**Key-Value Pairs:** Each pair consists of a key (a string) and a value.\n",
    "\n",
    "**Data Types:** JSON supports several data types:\n",
    "\n",
    "* **Strings:** Enclosed in double quotes (e.g., \"hello\", \"world\")\n",
    "* **Numbers:** Integers (e.g., 10, -5) or floating-point numbers (e.g., 3.14)\n",
    "* **Booleans:** `true` or `false`\n",
    "* **Arrays:** Ordered lists of values enclosed in square brackets (e.g., [1, 2, 3])\n",
    "* **Objects:** Unordered collections of key-value pairs enclosed in curly braces (e.g., {\"name\": \"John\", \"age\": 30})\n",
    "* **Null:** Represents the absence of a value (e.g., null)\n",
    "\n"
   ]
  },
  {
   "cell_type": "markdown",
   "id": "0028306a-1d8b-4c60-a3fa-add4e3bfe6a9",
   "metadata": {
    "execution": {
     "iopub.execute_input": "2025-01-29T01:25:53.130887Z",
     "iopub.status.busy": "2025-01-29T01:25:53.130358Z",
     "iopub.status.idle": "2025-01-29T01:25:53.139782Z",
     "shell.execute_reply": "2025-01-29T01:25:53.138010Z",
     "shell.execute_reply.started": "2025-01-29T01:25:53.130842Z"
    }
   },
   "source": [
    "<div style=\"border: 2px solid black; padding: 10px; border-radius: 5px;\"> \n",
    "\n",
    "**This code below defines a JSON string representing a person's information.**\n",
    "\n",
    "**Structure**\n",
    "\n",
    "* The data is organized as a JSON object, enclosed within curly braces `{}`.\n",
    "* The object contains key-value pairs, where keys are strings (e.g., `\"firstName\"`, `\"lastName\"`, `\"age\"`) and values can be strings, numbers, booleans, arrays, nested objects, or `null`.\n",
    "\n",
    "**Key-Value Examples:**\n",
    "\n",
    "* `\"firstName\": \"John\"`: The key `\"firstName\"` is associated with the string value `\"John\"`.\n",
    "* `\"address\"`: This key holds a nested object containing address details like street, city, state, and postal code.\n",
    "* `\"phoneNumbers\"`: This key holds an array of objects, each representing a phone number with its type and number.\n",
    "* `\"children\"`: This key holds an empty array (`[]`), indicating that the person has no children.\n",
    "* `\"spouse\"`: This key has the value `null`, indicating that the person is not married.\n"
   ]
  },
  {
   "cell_type": "code",
   "execution_count": 62,
   "id": "1aa71634-e5d1-4e55-bc45-a55fd4a400f7",
   "metadata": {
    "execution": {
     "iopub.execute_input": "2025-01-29T01:32:59.559620Z",
     "iopub.status.busy": "2025-01-29T01:32:59.559074Z",
     "iopub.status.idle": "2025-01-29T01:32:59.565356Z",
     "shell.execute_reply": "2025-01-29T01:32:59.564137Z",
     "shell.execute_reply.started": "2025-01-29T01:32:59.559573Z"
    }
   },
   "outputs": [],
   "source": [
    "json_str = \"\"\"{ \n",
    "  \"firstName\": \"John\", \n",
    "  \"lastName\": \"Smith\", \n",
    "  \"isAlive\": true, \n",
    "  \"age\": 27, \n",
    "  \"address\": { \n",
    "    \"streetAddress\": \"21 2nd Street\", \n",
    "    \"city\": \"New York\", \n",
    "    \"state\": \"NY\", \n",
    "    \"postalCode\": \"10021-3100\" \n",
    "  }, \n",
    "  \"phoneNumbers\": [ \n",
    "    { \n",
    "      \"type\": \"home\", \n",
    "      \"number\": \"212 555-1234\" \n",
    "    }, \n",
    "    {\n",
    "      \"type\": \"office\", \n",
    "      \"number\": \"646 555-4567\" \n",
    "    } \n",
    "  ], \n",
    "  \"children\": [], \n",
    "  \"spouse\": null \n",
    "}\n",
    "\"\"\""
   ]
  },
  {
   "cell_type": "markdown",
   "id": "0f81ab25-7b2f-4f97-a269-d50d2556eea7",
   "metadata": {},
   "source": [
    "<div style=\"border: 2px solid black; padding: 10px; border-radius: 5px;\">\n",
    "\n",
    "* `json_str = ...`: This line defines a multi-line string variable named `json_str`.\n",
    "* **The string:** This string contains a valid JSON object.\n",
    "    * It represents a person with information like their name, age, address, phone numbers, marital status, and whether they have children.\n",
    "    * The JSON object uses key-value pairs to store different aspects of the person's information. For example, `\"firstName\": \"John\"` stores the person's first name.\n",
    "\n",
    "* `json_str`: This line simply prints the value of the `json_str` variable.\n",
    "* `print(json_str)` : will print the contents of the variable which is a JSON string"
   ]
  },
  {
   "cell_type": "code",
   "execution_count": 64,
   "id": "a822e489-822b-4d35-8b4e-247bc5351006",
   "metadata": {
    "execution": {
     "iopub.execute_input": "2025-01-29T01:42:16.521451Z",
     "iopub.status.busy": "2025-01-29T01:42:16.520919Z",
     "iopub.status.idle": "2025-01-29T01:42:16.529402Z",
     "shell.execute_reply": "2025-01-29T01:42:16.528242Z",
     "shell.execute_reply.started": "2025-01-29T01:42:16.521406Z"
    }
   },
   "outputs": [
    {
     "data": {
      "text/plain": [
       "'{ \\n  \"firstName\": \"John\", \\n  \"lastName\": \"Smith\", \\n  \"isAlive\": true, \\n  \"age\": 27, \\n  \"address\": { \\n    \"streetAddress\": \"21 2nd Street\", \\n    \"city\": \"New York\", \\n    \"state\": \"NY\", \\n    \"postalCode\": \"10021-3100\" \\n  }, \\n  \"phoneNumbers\": [ \\n    { \\n      \"type\": \"home\", \\n      \"number\": \"212 555-1234\" \\n    }, \\n    {\\n      \"type\": \"office\", \\n      \"number\": \"646 555-4567\" \\n    } \\n  ], \\n  \"children\": [], \\n  \"spouse\": null \\n}\\n'"
      ]
     },
     "execution_count": 64,
     "metadata": {},
     "output_type": "execute_result"
    }
   ],
   "source": [
    "json_str"
   ]
  },
  {
   "cell_type": "code",
   "execution_count": 65,
   "id": "b7a9c2bc-2f35-4793-92c6-d184be482f31",
   "metadata": {
    "execution": {
     "iopub.execute_input": "2025-01-29T01:42:18.672383Z",
     "iopub.status.busy": "2025-01-29T01:42:18.671837Z",
     "iopub.status.idle": "2025-01-29T01:42:18.678660Z",
     "shell.execute_reply": "2025-01-29T01:42:18.677585Z",
     "shell.execute_reply.started": "2025-01-29T01:42:18.672336Z"
    }
   },
   "outputs": [
    {
     "name": "stdout",
     "output_type": "stream",
     "text": [
      "{ \n",
      "  \"firstName\": \"John\", \n",
      "  \"lastName\": \"Smith\", \n",
      "  \"isAlive\": true, \n",
      "  \"age\": 27, \n",
      "  \"address\": { \n",
      "    \"streetAddress\": \"21 2nd Street\", \n",
      "    \"city\": \"New York\", \n",
      "    \"state\": \"NY\", \n",
      "    \"postalCode\": \"10021-3100\" \n",
      "  }, \n",
      "  \"phoneNumbers\": [ \n",
      "    { \n",
      "      \"type\": \"home\", \n",
      "      \"number\": \"212 555-1234\" \n",
      "    }, \n",
      "    {\n",
      "      \"type\": \"office\", \n",
      "      \"number\": \"646 555-4567\" \n",
      "    } \n",
      "  ], \n",
      "  \"children\": [], \n",
      "  \"spouse\": null \n",
      "}\n",
      "\n"
     ]
    }
   ],
   "source": [
    "print(json_str)"
   ]
  },
  {
   "cell_type": "markdown",
   "id": "3f3c3d26-2b9a-4021-95cc-291daa27c6ed",
   "metadata": {
    "execution": {
     "iopub.execute_input": "2025-01-25T11:22:24.074203Z",
     "iopub.status.busy": "2025-01-25T11:22:24.073672Z",
     "iopub.status.idle": "2025-01-25T11:22:24.081674Z",
     "shell.execute_reply": "2025-01-25T11:22:24.080128Z",
     "shell.execute_reply.started": "2025-01-25T11:22:24.074157Z"
    }
   },
   "source": [
    "print(json_str)"
   ]
  },
  {
   "cell_type": "markdown",
   "id": "6891fd85-2a2e-4cea-a5db-cc94b408f216",
   "metadata": {
    "execution": {
     "iopub.execute_input": "2025-01-29T01:54:45.563128Z",
     "iopub.status.busy": "2025-01-29T01:54:45.562601Z",
     "iopub.status.idle": "2025-01-29T01:54:45.568139Z",
     "shell.execute_reply": "2025-01-29T01:54:45.567209Z",
     "shell.execute_reply.started": "2025-01-29T01:54:45.563066Z"
    }
   },
   "source": [
    "## Importing JSON "
   ]
  },
  {
   "cell_type": "markdown",
   "id": "a312045b-6865-49c3-828e-a18cc6b597b7",
   "metadata": {
    "execution": {
     "iopub.execute_input": "2025-01-29T01:46:05.005472Z",
     "iopub.status.busy": "2025-01-29T01:46:05.004926Z",
     "iopub.status.idle": "2025-01-29T01:46:05.013789Z",
     "shell.execute_reply": "2025-01-29T01:46:05.012279Z",
     "shell.execute_reply.started": "2025-01-29T01:46:05.005425Z"
    }
   },
   "source": [
    "<div style=\"border: 2px solid black; padding: 10px; border-radius: 5px;\">\n",
    "\n",
    "**4 Main Built In Functions for Reading or Writing JSON**\n",
    "\n",
    "* **Load:** Reads JSON from a file object (and returns a Python object).\n",
    "* **Dump:** Writes Python objects into JSON and into a file object.\n",
    "* **Loads:** Reads JSON from a string.\n",
    "* **Dumps:** Outputs JSON as a string.\n",
    "\n"
   ]
  },
  {
   "cell_type": "markdown",
   "id": "f2053927-21c4-44d0-a492-c708e4ed88a3",
   "metadata": {},
   "source": [
    "<div style=\"border: 2px solid black; padding: 10px; border-radius: 5px;\">\n",
    "The codes below demonstrates how to work with JSON data in Python. It shows how to:\n",
    "\n",
    "* Import the necessary library (`json`)\n",
    "* Load a JSON string into a Python object\n",
    "* Store the resulting object\n",
    "* Check the type of the resulting object\n",
    "\n",
    "**Breakdown of the Code:**\n",
    "\n",
    "* `import json`: This line imports the `json` library, which provides functions for working with JSON data in Python.\n",
    "* `json.loads(json_str)`: This line uses the `loads()` function from the `json` library to convert the `json_str` (which is assumed to be a string containing a valid JSON object) into a Python object. \n",
    "    * The comment `# gives us the python object` clarifies that this step converts the JSON string into a Python data structure (in this case, a dictionary).\n",
    "* The output below shows the Python object that results from loading the JSON string. It's a dictionary with keys like `'firstName'`, `'lastName'`, `'age'`, `'address'`, etc., and corresponding values.\n",
    "* `json_obj = json.loads(json_str)`: This line does the same thing as the previous cell - it loads the JSON string into a Python object and stores the result in a variable named `json_obj`.\n",
    "* `type(json_obj)`: This line uses the `type()` function to check the type of the `json_obj` variable.\n",
    "* The output `dict` indicates that the `json_obj` is a Python dictionary object."
   ]
  },
  {
   "cell_type": "code",
   "execution_count": 68,
   "id": "eef91c35-fc46-4a92-b999-954f86db0f9a",
   "metadata": {
    "execution": {
     "iopub.execute_input": "2025-01-29T01:55:37.869791Z",
     "iopub.status.busy": "2025-01-29T01:55:37.869263Z",
     "iopub.status.idle": "2025-01-29T01:55:37.875374Z",
     "shell.execute_reply": "2025-01-29T01:55:37.874192Z",
     "shell.execute_reply.started": "2025-01-29T01:55:37.869746Z"
    }
   },
   "outputs": [],
   "source": [
    "import json"
   ]
  },
  {
   "cell_type": "code",
   "execution_count": null,
   "id": "eafe248f-b7bc-42d7-9460-d97b2871c065",
   "metadata": {
    "execution": {
     "iopub.execute_input": "2025-01-29T01:55:39.961036Z",
     "iopub.status.busy": "2025-01-29T01:55:39.960524Z",
     "iopub.status.idle": "2025-01-29T01:55:39.969528Z",
     "shell.execute_reply": "2025-01-29T01:55:39.968306Z",
     "shell.execute_reply.started": "2025-01-29T01:55:39.960990Z"
    }
   },
   "outputs": [
    {
     "data": {
      "text/plain": [
       "{'firstName': 'John',\n",
       " 'lastName': 'Smith',\n",
       " 'isAlive': True,\n",
       " 'age': 27,\n",
       " 'address': {'streetAddress': '21 2nd Street',\n",
       "  'city': 'New York',\n",
       "  'state': 'NY',\n",
       "  'postalCode': '10021-3100'},\n",
       " 'phoneNumbers': [{'type': 'home', 'number': '212 555-1234'},\n",
       "  {'type': 'office', 'number': '646 555-4567'}],\n",
       " 'children': [],\n",
       " 'spouse': None}"
      ]
     },
     "execution_count": 69,
     "metadata": {},
     "output_type": "execute_result"
    }
   ],
   "source": [
    "json.loads(json_str)"
   ]
  },
  {
   "cell_type": "code",
   "execution_count": 70,
   "id": "97eb4c97-68d6-459d-95ab-216c30ddbfc8",
   "metadata": {
    "execution": {
     "iopub.execute_input": "2025-01-29T01:56:11.867977Z",
     "iopub.status.busy": "2025-01-29T01:56:11.867449Z",
     "iopub.status.idle": "2025-01-29T01:56:11.873661Z",
     "shell.execute_reply": "2025-01-29T01:56:11.872420Z",
     "shell.execute_reply.started": "2025-01-29T01:56:11.867930Z"
    }
   },
   "outputs": [],
   "source": [
    "json_obj = json.loads(json_str) "
   ]
  },
  {
   "cell_type": "code",
   "execution_count": 14,
   "id": "c3d2fc92-55ed-43a7-87f7-3694e0ded512",
   "metadata": {
    "execution": {
     "iopub.execute_input": "2025-01-25T11:33:11.605125Z",
     "iopub.status.busy": "2025-01-25T11:33:11.604619Z",
     "iopub.status.idle": "2025-01-25T11:33:11.612225Z",
     "shell.execute_reply": "2025-01-25T11:33:11.611140Z",
     "shell.execute_reply.started": "2025-01-25T11:33:11.605055Z"
    }
   },
   "outputs": [
    {
     "data": {
      "text/plain": [
       "dict"
      ]
     },
     "execution_count": 14,
     "metadata": {},
     "output_type": "execute_result"
    }
   ],
   "source": [
    "type(json_obj) "
   ]
  },
  {
   "cell_type": "markdown",
   "id": "29a5501c-a746-4f6f-b6f5-6bb01f7fd90c",
   "metadata": {
    "jp-MarkdownHeadingCollapsed": true
   },
   "source": [
    "## Acessing Value Keys within JSON"
   ]
  },
  {
   "cell_type": "markdown",
   "id": "0d3fab23-55ae-475c-8b79-87451655f3f0",
   "metadata": {},
   "source": [
    "<div style=\"border: 2px solid black; padding: 10px; border-radius: 5px;\">\n",
    "\n",
    "* **Accessing values by key:** The code uses the JSON object (`json_obj`) and accesses values associated with specific keys. For example, `json_obj[\"lastName\"]` retrieves the value associated with the key \"lastName\".\n",
    "* **Accessing nested values:** When dealing with nested dictionaries (like the \"address\" key within the main JSON object), the code uses chaining to access nested values. For example, `json_obj[\"address\"][\"city\"]` retrieves the value of \"city\" within the nested \"address\" dictionary.\n",
    "* **Using built-in functions:** The code demonstrates using the `len()` function to determine the number of elements in a list (in this case, the number of children)."
   ]
  },
  {
   "cell_type": "markdown",
   "id": "7ed0da8a-588f-412a-9ccb-8e4824bf7972",
   "metadata": {},
   "source": [
    "<div style=\"border: 2px solid black; padding: 10px; border-radius: 5px;\">\n",
    "For the codes below, print the JSON objects that give the answer to the following questions:\n",
    "\n",
    "* \"What is the person's first name\"\n",
    "* \"What is the person's last name\"\n",
    "* \"What is the age of the person, John\"\n",
    "* \"What is the city\"\n",
    "* \"What is the state\" \n",
    "* \"How many children\""
   ]
  },
  {
   "cell_type": "code",
   "execution_count": 71,
   "id": "ebe91de6-5f77-4bea-ae0d-cd1109aa3d8c",
   "metadata": {
    "execution": {
     "iopub.execute_input": "2025-01-29T02:01:30.143786Z",
     "iopub.status.busy": "2025-01-29T02:01:30.143252Z",
     "iopub.status.idle": "2025-01-29T02:01:30.151405Z",
     "shell.execute_reply": "2025-01-29T02:01:30.150066Z",
     "shell.execute_reply.started": "2025-01-29T02:01:30.143740Z"
    }
   },
   "outputs": [
    {
     "data": {
      "text/plain": [
       "'John'"
      ]
     },
     "execution_count": 71,
     "metadata": {},
     "output_type": "execute_result"
    }
   ],
   "source": [
    "json_obj[\"firstName\"]"
   ]
  },
  {
   "cell_type": "code",
   "execution_count": 72,
   "id": "4a2cc60a-8682-42f5-aba1-4348a13ae2e8",
   "metadata": {
    "execution": {
     "iopub.execute_input": "2025-01-29T02:01:37.397924Z",
     "iopub.status.busy": "2025-01-29T02:01:37.397388Z",
     "iopub.status.idle": "2025-01-29T02:01:37.405439Z",
     "shell.execute_reply": "2025-01-29T02:01:37.404250Z",
     "shell.execute_reply.started": "2025-01-29T02:01:37.397877Z"
    }
   },
   "outputs": [
    {
     "data": {
      "text/plain": [
       "'Smith'"
      ]
     },
     "execution_count": 72,
     "metadata": {},
     "output_type": "execute_result"
    }
   ],
   "source": [
    "json_obj[\"lastName\"]"
   ]
  },
  {
   "cell_type": "code",
   "execution_count": 73,
   "id": "7b9754a9-3b2e-4aa1-b0ec-80247fab6af8",
   "metadata": {
    "execution": {
     "iopub.execute_input": "2025-01-29T02:01:42.602520Z",
     "iopub.status.busy": "2025-01-29T02:01:42.601969Z",
     "iopub.status.idle": "2025-01-29T02:01:42.609877Z",
     "shell.execute_reply": "2025-01-29T02:01:42.608743Z",
     "shell.execute_reply.started": "2025-01-29T02:01:42.602473Z"
    }
   },
   "outputs": [
    {
     "data": {
      "text/plain": [
       "27"
      ]
     },
     "execution_count": 73,
     "metadata": {},
     "output_type": "execute_result"
    }
   ],
   "source": [
    "json_obj[\"age\"]"
   ]
  },
  {
   "cell_type": "code",
   "execution_count": 74,
   "id": "2c8547e6-471e-4381-9535-840268a7695c",
   "metadata": {
    "execution": {
     "iopub.execute_input": "2025-01-29T02:02:13.127409Z",
     "iopub.status.busy": "2025-01-29T02:02:13.126862Z",
     "iopub.status.idle": "2025-01-29T02:02:13.134825Z",
     "shell.execute_reply": "2025-01-29T02:02:13.133664Z",
     "shell.execute_reply.started": "2025-01-29T02:02:13.127364Z"
    }
   },
   "outputs": [
    {
     "data": {
      "text/plain": [
       "'New York'"
      ]
     },
     "execution_count": 74,
     "metadata": {},
     "output_type": "execute_result"
    }
   ],
   "source": [
    "json_obj[\"address\"][\"city\"]"
   ]
  },
  {
   "cell_type": "code",
   "execution_count": 75,
   "id": "6bc78ca4-7f8f-4b1d-b25d-96807227f123",
   "metadata": {
    "execution": {
     "iopub.execute_input": "2025-01-29T02:02:18.391646Z",
     "iopub.status.busy": "2025-01-29T02:02:18.390997Z",
     "iopub.status.idle": "2025-01-29T02:02:18.399457Z",
     "shell.execute_reply": "2025-01-29T02:02:18.398264Z",
     "shell.execute_reply.started": "2025-01-29T02:02:18.391581Z"
    }
   },
   "outputs": [
    {
     "data": {
      "text/plain": [
       "'NY'"
      ]
     },
     "execution_count": 75,
     "metadata": {},
     "output_type": "execute_result"
    }
   ],
   "source": [
    "json_obj[\"address\"][\"state\"]"
   ]
  },
  {
   "cell_type": "code",
   "execution_count": 76,
   "id": "f238dd89-62cc-47df-8cb1-4e4da14cdbe2",
   "metadata": {
    "execution": {
     "iopub.execute_input": "2025-01-29T02:03:15.970219Z",
     "iopub.status.busy": "2025-01-29T02:03:15.968964Z",
     "iopub.status.idle": "2025-01-29T02:03:15.977383Z",
     "shell.execute_reply": "2025-01-29T02:03:15.976126Z",
     "shell.execute_reply.started": "2025-01-29T02:03:15.970171Z"
    }
   },
   "outputs": [
    {
     "data": {
      "text/plain": [
       "0"
      ]
     },
     "execution_count": 76,
     "metadata": {},
     "output_type": "execute_result"
    }
   ],
   "source": [
    "len(json_obj[\"children\"])"
   ]
  },
  {
   "cell_type": "markdown",
   "id": "25eb9652-9218-4254-8bd1-7aa8117eeded",
   "metadata": {
    "execution": {
     "iopub.execute_input": "2025-01-29T02:05:11.762058Z",
     "iopub.status.busy": "2025-01-29T02:05:11.761529Z",
     "iopub.status.idle": "2025-01-29T02:05:11.772321Z",
     "shell.execute_reply": "2025-01-29T02:05:11.770760Z",
     "shell.execute_reply.started": "2025-01-29T02:05:11.762013Z"
    }
   },
   "source": [
    "<div style=\"border: 2px solid black; padding: 10px; border-radius: 5px;\">\n",
    "\n",
    "**Extracting Phone Numbers from a JSON Object**\n",
    "\n",
    "`json_obj[\"phoneNumbers\"]`\n",
    "* This accesses the \"phoneNumbers\" key within the `json_obj` dictionary, which returns a list of dictionaries, each representing a phone number with its \"type\" and \"number\"."
   ]
  },
  {
   "cell_type": "code",
   "execution_count": 31,
   "id": "5ee136e9-3145-4e0a-9a68-a2f286101528",
   "metadata": {
    "execution": {
     "iopub.execute_input": "2025-01-25T11:47:40.661638Z",
     "iopub.status.busy": "2025-01-25T11:47:40.661121Z",
     "iopub.status.idle": "2025-01-25T11:47:40.669381Z",
     "shell.execute_reply": "2025-01-25T11:47:40.668200Z",
     "shell.execute_reply.started": "2025-01-25T11:47:40.661592Z"
    }
   },
   "outputs": [
    {
     "data": {
      "text/plain": [
       "[{'type': 'home', 'number': '212 555-1234'},\n",
       " {'type': 'office', 'number': '646 555-4567'}]"
      ]
     },
     "execution_count": 31,
     "metadata": {},
     "output_type": "execute_result"
    }
   ],
   "source": [
    "json_obj[\"phoneNumbers\"]"
   ]
  },
  {
   "cell_type": "markdown",
   "id": "8d2089f6-3a0d-40b5-88e0-c1e501784e11",
   "metadata": {},
   "source": [
    "<div style=\"border: 2px solid black; padding: 10px; border-radius: 5px;\">\n",
    "\n",
    "`json_obj[\"phoneNumbers\"][0][\"number\"]`\n",
    "* This accesses the \"number\" of the first phone number in the list where the output displays the first phone number.\n"
   ]
  },
  {
   "cell_type": "code",
   "execution_count": 78,
   "id": "84711241-2e6b-4700-bb09-cd7a71f299e9",
   "metadata": {
    "execution": {
     "iopub.execute_input": "2025-01-29T02:09:17.587753Z",
     "iopub.status.busy": "2025-01-29T02:09:17.587381Z",
     "iopub.status.idle": "2025-01-29T02:09:17.594639Z",
     "shell.execute_reply": "2025-01-29T02:09:17.593485Z",
     "shell.execute_reply.started": "2025-01-29T02:09:17.587723Z"
    }
   },
   "outputs": [
    {
     "data": {
      "text/plain": [
       "'212 555-1234'"
      ]
     },
     "execution_count": 78,
     "metadata": {},
     "output_type": "execute_result"
    }
   ],
   "source": [
    "json_obj[\"phoneNumbers\"][0][\"number\"] "
   ]
  },
  {
   "cell_type": "markdown",
   "id": "7b9074b8-a25d-4a51-a9f3-131c0ab62be6",
   "metadata": {
    "execution": {
     "iopub.execute_input": "2025-01-29T02:10:13.859330Z",
     "iopub.status.busy": "2025-01-29T02:10:13.858788Z",
     "iopub.status.idle": "2025-01-29T02:10:13.866807Z",
     "shell.execute_reply": "2025-01-29T02:10:13.865282Z",
     "shell.execute_reply.started": "2025-01-29T02:10:13.859285Z"
    }
   },
   "source": [
    "<div style=\"border: 2px solid black; padding: 10px; border-radius: 5px;\">\n",
    "\n",
    "`json_obj[\"phoneNumbers\"][1][\"number\"]`\n",
    "* This accesses the \"number\" of the second phone number in the list where the output displays the second phone number."
   ]
  },
  {
   "cell_type": "code",
   "execution_count": 80,
   "id": "1b46e7b5-8222-4ba7-8167-8c83723f03e6",
   "metadata": {
    "execution": {
     "iopub.execute_input": "2025-01-29T02:10:36.561016Z",
     "iopub.status.busy": "2025-01-29T02:10:36.560508Z",
     "iopub.status.idle": "2025-01-29T02:10:36.568751Z",
     "shell.execute_reply": "2025-01-29T02:10:36.567578Z",
     "shell.execute_reply.started": "2025-01-29T02:10:36.560972Z"
    }
   },
   "outputs": [
    {
     "data": {
      "text/plain": [
       "'646 555-4567'"
      ]
     },
     "execution_count": 80,
     "metadata": {},
     "output_type": "execute_result"
    }
   ],
   "source": [
    "json_obj[\"phoneNumbers\"][1][\"number\"]"
   ]
  },
  {
   "cell_type": "markdown",
   "id": "677d4e9e-3efb-4c79-b463-18db899e804c",
   "metadata": {},
   "source": [
    "<div style=\"border: 2px solid black; padding: 10px; border-radius: 5px;\">\n",
    "\n",
    "`[number[\"number\"] for number in json_obj[\"phoneNumbers\"]]`\n",
    "* This uses a list comprehension to extract the \"number\" from each phone number dictionary in the list where the output displays a list containing all the phone numbers.\n",
    "* This cell demonstrates an alternative approach using a loop to store the phone numbers in a variable."
   ]
  },
  {
   "cell_type": "code",
   "execution_count": 81,
   "id": "62eef59b-cf57-4f60-a447-b4065e3e7cfa",
   "metadata": {
    "execution": {
     "iopub.execute_input": "2025-01-29T02:12:09.783495Z",
     "iopub.status.busy": "2025-01-29T02:12:09.782958Z",
     "iopub.status.idle": "2025-01-29T02:12:09.792911Z",
     "shell.execute_reply": "2025-01-29T02:12:09.791571Z",
     "shell.execute_reply.started": "2025-01-29T02:12:09.783448Z"
    }
   },
   "outputs": [
    {
     "data": {
      "text/plain": [
       "['212 555-1234', '646 555-4567']"
      ]
     },
     "execution_count": 81,
     "metadata": {},
     "output_type": "execute_result"
    }
   ],
   "source": [
    "[number[\"number\"] for number in json_obj[\"phoneNumbers\"]]"
   ]
  },
  {
   "cell_type": "markdown",
   "id": "63fb9315-fe01-4010-91db-948a32558e06",
   "metadata": {},
   "source": [
    "<div style=\"border: 2px solid black; padding: 10px; border-radius: 5px;\">\n",
    "\n",
    "`phone_numbers = [phone[\"number\"] for phone in json_obj[\"phoneNumbers\"]]`\n",
    "* This line uses a list comprehension to create a list of phone numbers and stores it in the `phone_numbers` variable."
   ]
  },
  {
   "cell_type": "code",
   "execution_count": 82,
   "id": "06f45040-db3d-405c-b97c-9eadedd5c889",
   "metadata": {
    "execution": {
     "iopub.execute_input": "2025-01-29T02:13:45.882275Z",
     "iopub.status.busy": "2025-01-29T02:13:45.881065Z",
     "iopub.status.idle": "2025-01-29T02:13:45.888138Z",
     "shell.execute_reply": "2025-01-29T02:13:45.886679Z",
     "shell.execute_reply.started": "2025-01-29T02:13:45.882222Z"
    }
   },
   "outputs": [],
   "source": [
    "phone_numbers = [phone[\"number\"] for phone in json_obj[\"phoneNumbers\"]]"
   ]
  },
  {
   "cell_type": "markdown",
   "id": "779116cc-7873-4905-bc5c-679c64be20a2",
   "metadata": {
    "execution": {
     "iopub.execute_input": "2025-01-29T02:16:10.652669Z",
     "iopub.status.busy": "2025-01-29T02:16:10.652146Z",
     "iopub.status.idle": "2025-01-29T02:16:10.660440Z",
     "shell.execute_reply": "2025-01-29T02:16:10.658614Z",
     "shell.execute_reply.started": "2025-01-29T02:16:10.652624Z"
    }
   },
   "source": [
    "<div style=\"border: 2px solid black; padding: 10px; border-radius: 5px;\">\n",
    "\n",
    "**Example:**\n",
    "\n",
    "* **Dealing with real-world data:** In real-world scenarios, you might have multiple JSON objects, often stored in separate files.\n",
    "* **Handling multiple files:** You would need to process each file individually to extract the desired information."
   ]
  },
  {
   "cell_type": "markdown",
   "id": "840186b6-a6a8-43db-bdf5-6172fa61af11",
   "metadata": {},
   "source": [
    "## Real World Data with Several JSON Objects "
   ]
  },
  {
   "cell_type": "markdown",
   "id": "9459833f-256a-4363-9390-82007193ee6e",
   "metadata": {},
   "source": [
    "<div style=\"border: 2px solid black; padding: 10px; border-radius: 5px;\">\n",
    "\n",
    "* **File format:** Each line contains a single JSON object.\n",
    "* **Directory separator:** Directories are separated by slashes (/).\n",
    "* **Filepath example:** `data/public/twitter/sample/data18062209` \n",
    "    * This file is located in the `sample` directory, which is under the `twitter` directory, which is under the `public` directory, and so on.\n",
    "* **Root file system:** The file paths are relative to a single root directory represented by a single slash (/).\n",
    "* **Purpose:** This is the filepath of the data we are reading. "
   ]
  },
  {
   "cell_type": "markdown",
   "id": "b949446e-93a6-4d81-9df5-feda39d8ad62",
   "metadata": {},
   "source": [
    "<div style=\"border: 2px solid black; padding: 10px; border-radius: 5px;\">\n",
    "\n",
    "**Working with Files on the terminal**\n",
    "**Filepath** \n",
    "* mnt/data/public/twitter/sample/data-18062209.json.bz2 \n",
    "    \n",
    "\n"
   ]
  },
  {
   "cell_type": "markdown",
   "id": "ec295c61-6d34-4373-9ce8-d293d0ba8077",
   "metadata": {
    "jp-MarkdownHeadingCollapsed": true
   },
   "source": [
    "## Reading a Filepath on the Terminal "
   ]
  },
  {
   "cell_type": "markdown",
   "id": "063e8941-6dd2-4a59-a11c-2932753ac0dc",
   "metadata": {},
   "source": [
    "<div style=\"border: 2px solid black; padding: 10px; border-radius: 5px;\">\n",
    "\n",
    "`less /[filepath]`\n",
    "*   allows you to open the text file\n",
    "*   press `q` to exit \n",
    "*   it will return contents of the file\n",
    "use \n",
    "* it will not show up in filebrowser for reasons of security you cannot go up your home directory \n",
    "\n"
   ]
  },
  {
   "cell_type": "markdown",
   "id": "b53cce04-9dba-4cd0-9d4f-6538a94c356c",
   "metadata": {},
   "source": [
    "<div style=\"border: 2px solid black; padding: 10px; border-radius: 5px;\">\n",
    "\n",
    "`ln-s /[filepath]`\n",
    "* creates a softlink for the data so it will show on your folder for jojie\n",
    "\n",
    "* **tab completion:** click `tab`aftr typying /mnt to continue the filepath name which means it was able to match a directory called /mnt \n",
    "*tab completetion for pu it will give public after you click tab\n",
    "\n",
    "* `double click` at \"1806\" it doesn't complete it meaning there is many matches it will show `Display all possibilities (y/n)` \n",
    "    * if no it will return back\n",
    "    * if yes it wil show the lisst\n",
    "\n",
    "* click `enter` and data file will appear in folder on jojie as a link (it doesn't copy the data to save space)"
   ]
  },
  {
   "cell_type": "markdown",
   "id": "32c891a5-c614-4c45-a93e-fd76748f02cc",
   "metadata": {
    "execution": {
     "iopub.execute_input": "2025-01-29T02:47:59.269419Z",
     "iopub.status.busy": "2025-01-29T02:47:59.268876Z",
     "iopub.status.idle": "2025-01-29T02:47:59.277124Z",
     "shell.execute_reply": "2025-01-29T02:47:59.275549Z",
     "shell.execute_reply.started": "2025-01-29T02:47:59.269373Z"
    }
   },
   "source": [
    "<div style=\"border: 2px solid black; padding: 10px; border-radius: 5px;\">\n",
    "\n",
    "`ln -s [/mnt/data/public]`\n",
    "* create a link to a directory \n",
    "* create a link to puclic"
   ]
  },
  {
   "cell_type": "markdown",
   "id": "77d071d4-a8be-46fd-b3e8-30df6e3e81b0",
   "metadata": {},
   "source": [
    "<div style=\"border: 2px solid black; padding: 10px; border-radius: 5px;\">\n",
    "\n",
    "`head [filename]`\n",
    "* displays the 10 lines by default \n",
    "\n",
    "`head -n 1 [filename]`\n",
    "* displays 1st line by default\n",
    "* since bz2 we cannot see it"
   ]
  },
  {
   "cell_type": "markdown",
   "id": "316ddc83-fe54-44c7-a7b3-aeb62a696112",
   "metadata": {},
   "source": [
    "<div style=\"border: 2px solid black; padding: 10px; border-radius: 5px;\">\n",
    "\n",
    "`bzcat / [filename]`\n",
    "* bz is a zip file, compressed file  \n",
    "* cat allows you to display the file \n",
    "\n",
    "`bzcat / [filename] | head -n `\n",
    "* allows you to display the first line of the file"
   ]
  },
  {
   "cell_type": "markdown",
   "id": "4aab4594-e760-464e-abfc-106c51a5d03a",
   "metadata": {},
   "source": [
    "<div style=\"border: 2px solid black; padding: 10px; border-radius: 5px;\">\n",
    "\n",
    "`rm [filename]`\n",
    "* command to delete file\n",
    "\n",
    "`rm -rf` [name of directory]\n",
    "* command to delete a directory \n",
    "* r for recurssive meaning it will go inside the folder and whatever is inside it will deleter recursively \n",
    "\n",
    "`rm public`\n",
    "* to delete public "
   ]
  },
  {
   "cell_type": "markdown",
   "id": "bfb6d342-a333-474f-83be-309a65d3e5da",
   "metadata": {
    "execution": {
     "iopub.execute_input": "2025-01-29T03:24:25.561735Z",
     "iopub.status.busy": "2025-01-29T03:24:25.561198Z",
     "iopub.status.idle": "2025-01-29T03:24:25.568902Z",
     "shell.execute_reply": "2025-01-29T03:24:25.567550Z",
     "shell.execute_reply.started": "2025-01-29T03:24:25.561686Z"
    }
   },
   "source": [
    "<div style=\"border: 2px solid black; padding: 10px; border-radius: 5px;\">\n",
    "\n",
    "`ls -l /[filename]` \n",
    "* size of file \n",
    "* number after staff is the size of file in bytes\n",
    "\n",
    "`ls -lh /[filename]`\n",
    "* `h` to make it human readable\n",
    "* it will show you the size in megabytes"
   ]
  },
  {
   "cell_type": "markdown",
   "id": "25add238-c042-42bb-9ddd-9df88f7a9d21",
   "metadata": {},
   "source": [
    "## Use Python to Read the Filepath"
   ]
  },
  {
   "cell_type": "markdown",
   "id": "5990fb9b-3071-4e23-815a-d16ae2654e26",
   "metadata": {},
   "source": [
    "<div style=\"border: 2px solid black; padding: 10px; border-radius: 5px;\">\n",
    "\n",
    "`import bz2`\n",
    "* this line imports the `bz2` library which is necessary for working with bzip2 files\n",
    "\n",
    "`with bz2.open(...) as f:`\n",
    "* This uses the `bz2.open()` function to open the bzip2 file in read mode \n",
    "\n",
    "`open(...)`\n",
    "* opens the file specified by the path.\n",
    "\n",
    "`as f:`\n",
    "* assigns the opened file object to the variable f for further use.\n",
    "\n",
    "`contents = f.read()`\n",
    "* reads the entire contents of the bzip2 file and stores it in the variable `contents`\n",
    "\n",
    "`f.read()`\n",
    "* When called on a file object f, it reads the entire content of the file as a single string.\n",
    "                                                  "
   ]
  },
  {
   "cell_type": "code",
   "execution_count": 96,
   "id": "eb72abd4-6878-47b9-92a2-4306cff8193a",
   "metadata": {
    "execution": {
     "iopub.execute_input": "2025-01-29T03:44:24.106579Z",
     "iopub.status.busy": "2025-01-29T03:44:24.106029Z",
     "iopub.status.idle": "2025-01-29T03:44:34.348525Z",
     "shell.execute_reply": "2025-01-29T03:44:34.347375Z",
     "shell.execute_reply.started": "2025-01-29T03:44:24.106533Z"
    }
   },
   "outputs": [],
   "source": [
    "import bz2 \n",
    "with bz2.open(\"/mnt/data/public/twitter/sample/data-18062209.json.bz2\") as f:\n",
    "    contents = f.read()"
   ]
  },
  {
   "cell_type": "markdown",
   "id": "f8dc6145-b428-411e-8363-554ca2e7ee4e",
   "metadata": {},
   "source": [
    "<div style=\"border: 2px solid black; padding: 10px; border-radius: 5px;\">\n",
    "\n",
    "**Read First 100 Characters**\n",
    "\n",
    "`contents[:100]`\n",
    "* This line is slicing the contents variable, which is a string containing the data read from the bzip2 file.\n",
    "\n",
    "`[:100]`\n",
    "* extracts the first 100 characters from the string and displays them. This is useful for quickly inspecting the beginning of the data.\n",
    "\n",
    "**Output**\n",
    "* The output shows the first 100 characters of the contents string.\n",
    "It appears to be the beginning of a JSON object, as it starts with b'{\"created_at\": ..., which is likely the start of a JSON object's key-value pair."
   ]
  },
  {
   "cell_type": "code",
   "execution_count": 93,
   "id": "962a0f42-472b-4875-8658-eef7eb53fb05",
   "metadata": {
    "execution": {
     "iopub.execute_input": "2025-01-29T03:38:53.225334Z",
     "iopub.status.busy": "2025-01-29T03:38:53.225106Z",
     "iopub.status.idle": "2025-01-29T03:38:53.230577Z",
     "shell.execute_reply": "2025-01-29T03:38:53.229566Z",
     "shell.execute_reply.started": "2025-01-29T03:38:53.225316Z"
    }
   },
   "outputs": [
    {
     "data": {
      "text/plain": [
       "b'{\"created_at\": \"Fri Jun 22 09:32:01 +0000 2018\", \"id\": 1010093038536757248, \"id_str\": \"1010093038536'"
      ]
     },
     "execution_count": 93,
     "metadata": {},
     "output_type": "execute_result"
    }
   ],
   "source": [
    "contents[:100]"
   ]
  },
  {
   "cell_type": "markdown",
   "id": "e71621e1-c986-47f7-9d87-8e8b311b4099",
   "metadata": {},
   "source": [
    "<div style=\"border: 2px solid black; padding: 10px; border-radius: 5px;\">\n",
    "\n",
    "`import bz2`\n",
    "* this line imports the `bz2` library which is necessary for working with bzip2 files\n",
    "\n",
    "`with bz2.open(...) as f:`\n",
    "* This uses the `bz2.open()` function to open the bzip2 file in read mode \n",
    "\n",
    "`open(...)`\n",
    "* opens the file specified by the path.\n",
    "\n",
    "`as f:`\n",
    "* assigns the opened file object to the variable f for further use.\n",
    "\n",
    "`contents = f.readlines()`\n",
    "* This line reads the entire contents of the bzip2 file using the f.readlines() method\n",
    "* readlines() reads all the lines in the file and returns them as a list of strings\n",
    "* The list of lines is stored in the variable `contents`"
   ]
  },
  {
   "cell_type": "code",
   "execution_count": 100,
   "id": "013282c1-97ba-413f-b99d-db6b894a24e2",
   "metadata": {
    "execution": {
     "iopub.execute_input": "2025-01-29T03:51:13.133814Z",
     "iopub.status.busy": "2025-01-29T03:51:13.133281Z",
     "iopub.status.idle": "2025-01-29T03:51:23.305061Z",
     "shell.execute_reply": "2025-01-29T03:51:23.304076Z",
     "shell.execute_reply.started": "2025-01-29T03:51:13.133768Z"
    }
   },
   "outputs": [],
   "source": [
    "import bz2 \n",
    "with bz2.open(\"/mnt/data/public/twitter/sample/data-18062209.json.bz2\") as f:\n",
    "    contents = f.readlines()"
   ]
  },
  {
   "cell_type": "markdown",
   "id": "6a64ecf4-ff92-4360-bd10-a3fc8b93c722",
   "metadata": {},
   "source": [
    "<div style=\"border: 2px solid black; padding: 10px; border-radius: 5px;\">\n",
    "\n",
    "**Read First Line**\n",
    "\n",
    "`contents[0]`\n",
    "* This line is slicing the contents variable, which is a string containing the data read from the bzip2 file.\n",
    "\n",
    "`[0]`\n",
    "* extracts the first line  from the string and displays them. This is useful for quickly inspecting the beginning of the data."
   ]
  },
  {
   "cell_type": "code",
   "execution_count": 101,
   "id": "c4578fe3-1f41-4d4c-a0de-f85c2e8a0bb0",
   "metadata": {
    "execution": {
     "iopub.execute_input": "2025-01-29T03:51:26.713439Z",
     "iopub.status.busy": "2025-01-29T03:51:26.713033Z",
     "iopub.status.idle": "2025-01-29T03:51:26.720758Z",
     "shell.execute_reply": "2025-01-29T03:51:26.719271Z",
     "shell.execute_reply.started": "2025-01-29T03:51:26.713407Z"
    }
   },
   "outputs": [
    {
     "data": {
      "text/plain": [
       "b'{\"created_at\": \"Fri Jun 22 09:32:01 +0000 2018\", \"id\": 1010093038536757248, \"id_str\": \"1010093038536757248\", \"text\": \"\\\\u5f97\\\\u70b9\\\\u958b\\\\u793a\\\\u3057\\\\u3066\\\\u3082\\\\u3089\\\\u304a\\\\u3001\\\\u305d\\\\u308c\\\\u3067\\\\u3082\\\\u3057\\\\u30c8\\\\u30c3\\\\u30d73\\\\u5165\\\\u3063\\\\u3066\\\\u305f\\\\u3089\\\\u7d76\\\\u5bfe\\\\u8a34\\\\u3048\\\\u308b\", \"source\": \"<a href=\\\\\"http://twitter.com/download/iphone\\\\\" rel=\\\\\"nofollow\\\\\">Twitter for iPhone</a>\", \"truncated\": false, \"in_reply_to_status_id\": null, \"in_reply_to_status_id_str\": null, \"in_reply_to_user_id\": null, \"in_reply_to_user_id_str\": null, \"in_reply_to_screen_name\": null, \"user\": {\"id\": 828743842237001728, \"id_str\": \"828743842237001728\", \"name\": \"\\\\u3058\\\\u3046\\\\ud83d\\\\udc36\", \"screen_name\": \"jj_iiu\", \"location\": \"Precious \\\\u4e16\\\\u754c \\\\u753a\", \"url\": null, \"description\": \"@nanjolno * @saito_nagisa * @yanaginagi * @maaya_taso* NEXT\\\\u21d26/17 \\\\u30a4\\\\u30b3\\\\u30e9\\\\u30d6\\\\u30c0\\\\u30f3\\\\u30b9\\\\u30ec\\\\u30c3\\\\u30b9\\\\u30f3\\\\u30016/24 NBC\\\\u5f8c\\\\u591c\\\\u796d\\\\u30017/8 \\\\u5357\\\\u689d\\\\u3055\\\\u3093BD\", \"translator_type\": \"none\", \"protected\": false, \"verified\": false, \"followers_count\": 192, \"friends_count\": 219, \"listed_count\": 13, \"favourites_count\": 10089, \"statuses_count\": 27986, \"created_at\": \"Mon Feb 06 23:15:04 +0000 2017\", \"utc_offset\": null, \"time_zone\": null, \"geo_enabled\": false, \"lang\": \"ja\", \"contributors_enabled\": false, \"is_translator\": false, \"profile_background_color\": \"F5F8FA\", \"profile_background_image_url\": \"\", \"profile_background_image_url_https\": \"\", \"profile_background_tile\": false, \"profile_link_color\": \"1DA1F2\", \"profile_sidebar_border_color\": \"C0DEED\", \"profile_sidebar_fill_color\": \"DDEEF6\", \"profile_text_color\": \"333333\", \"profile_use_background_image\": true, \"profile_image_url\": \"http://pbs.twimg.com/profile_images/957191452391440385/CJdcI6Nj_normal.jpg\", \"profile_image_url_https\": \"https://pbs.twimg.com/profile_images/957191452391440385/CJdcI6Nj_normal.jpg\", \"profile_banner_url\": \"https://pbs.twimg.com/profile_banners/828743842237001728/1506912239\", \"default_profile\": true, \"default_profile_image\": false, \"following\": null, \"follow_request_sent\": null, \"notifications\": null}, \"geo\": null, \"coordinates\": null, \"place\": null, \"contributors\": null, \"is_quote_status\": false, \"quote_count\": 0, \"reply_count\": 0, \"retweet_count\": 0, \"favorite_count\": 0, \"entities\": {\"hashtags\": [], \"urls\": [], \"user_mentions\": [], \"symbols\": []}, \"favorited\": false, \"retweeted\": false, \"filter_level\": \"low\", \"lang\": \"ja\", \"timestamp_ms\": \"1529659921665\"}\\r\\n'"
      ]
     },
     "execution_count": 101,
     "metadata": {},
     "output_type": "execute_result"
    }
   ],
   "source": [
    "contents[0]"
   ]
  },
  {
   "cell_type": "markdown",
   "id": "863d015e-a31e-4c9f-aa19-74c73e69609e",
   "metadata": {},
   "source": [
    "<div style=\"border: 2px solid black; padding: 10px; border-radius: 5px;\">\n",
    "\n",
    "**Converting to Python Object**\n",
    "\n",
    "`json.loads(contents[0])`\n",
    "* This line takes the first line of the file `(contents[0])`, which is a string representing a JSON object, and converts it into a Python dictionary object using the `json.loads()` function.\n",
    "    \n",
    "**Output**\n",
    "* The output displays the resulting Python dictionary.\n",
    "* The dictionary contains various key-value pairs representing information about a Twitter user, such as their ID, screen name, location, number of followers, etc."
   ]
  },
  {
   "cell_type": "code",
   "execution_count": 102,
   "id": "12e4d57a-61f4-471d-ad59-374e84810698",
   "metadata": {
    "execution": {
     "iopub.execute_input": "2025-01-29T03:51:42.666431Z",
     "iopub.status.busy": "2025-01-29T03:51:42.665882Z",
     "iopub.status.idle": "2025-01-29T03:51:42.685966Z",
     "shell.execute_reply": "2025-01-29T03:51:42.684613Z",
     "shell.execute_reply.started": "2025-01-29T03:51:42.666384Z"
    }
   },
   "outputs": [
    {
     "data": {
      "text/plain": [
       "{'created_at': 'Fri Jun 22 09:32:01 +0000 2018',\n",
       " 'id': 1010093038536757248,\n",
       " 'id_str': '1010093038536757248',\n",
       " 'text': '得点開示してもらお、それでもしトップ3入ってたら絶対訴える',\n",
       " 'source': '<a href=\"http://twitter.com/download/iphone\" rel=\"nofollow\">Twitter for iPhone</a>',\n",
       " 'truncated': False,\n",
       " 'in_reply_to_status_id': None,\n",
       " 'in_reply_to_status_id_str': None,\n",
       " 'in_reply_to_user_id': None,\n",
       " 'in_reply_to_user_id_str': None,\n",
       " 'in_reply_to_screen_name': None,\n",
       " 'user': {'id': 828743842237001728,\n",
       "  'id_str': '828743842237001728',\n",
       "  'name': 'じう🐶',\n",
       "  'screen_name': 'jj_iiu',\n",
       "  'location': 'Precious 世界 町',\n",
       "  'url': None,\n",
       "  'description': '@nanjolno * @saito_nagisa * @yanaginagi * @maaya_taso* NEXT⇒6/17 イコラブダンスレッスン、6/24 NBC後夜祭、7/8 南條さんBD',\n",
       "  'translator_type': 'none',\n",
       "  'protected': False,\n",
       "  'verified': False,\n",
       "  'followers_count': 192,\n",
       "  'friends_count': 219,\n",
       "  'listed_count': 13,\n",
       "  'favourites_count': 10089,\n",
       "  'statuses_count': 27986,\n",
       "  'created_at': 'Mon Feb 06 23:15:04 +0000 2017',\n",
       "  'utc_offset': None,\n",
       "  'time_zone': None,\n",
       "  'geo_enabled': False,\n",
       "  'lang': 'ja',\n",
       "  'contributors_enabled': False,\n",
       "  'is_translator': False,\n",
       "  'profile_background_color': 'F5F8FA',\n",
       "  'profile_background_image_url': '',\n",
       "  'profile_background_image_url_https': '',\n",
       "  'profile_background_tile': False,\n",
       "  'profile_link_color': '1DA1F2',\n",
       "  'profile_sidebar_border_color': 'C0DEED',\n",
       "  'profile_sidebar_fill_color': 'DDEEF6',\n",
       "  'profile_text_color': '333333',\n",
       "  'profile_use_background_image': True,\n",
       "  'profile_image_url': 'http://pbs.twimg.com/profile_images/957191452391440385/CJdcI6Nj_normal.jpg',\n",
       "  'profile_image_url_https': 'https://pbs.twimg.com/profile_images/957191452391440385/CJdcI6Nj_normal.jpg',\n",
       "  'profile_banner_url': 'https://pbs.twimg.com/profile_banners/828743842237001728/1506912239',\n",
       "  'default_profile': True,\n",
       "  'default_profile_image': False,\n",
       "  'following': None,\n",
       "  'follow_request_sent': None,\n",
       "  'notifications': None},\n",
       " 'geo': None,\n",
       " 'coordinates': None,\n",
       " 'place': None,\n",
       " 'contributors': None,\n",
       " 'is_quote_status': False,\n",
       " 'quote_count': 0,\n",
       " 'reply_count': 0,\n",
       " 'retweet_count': 0,\n",
       " 'favorite_count': 0,\n",
       " 'entities': {'hashtags': [], 'urls': [], 'user_mentions': [], 'symbols': []},\n",
       " 'favorited': False,\n",
       " 'retweeted': False,\n",
       " 'filter_level': 'low',\n",
       " 'lang': 'ja',\n",
       " 'timestamp_ms': '1529659921665'}"
      ]
     },
     "execution_count": 102,
     "metadata": {},
     "output_type": "execute_result"
    }
   ],
   "source": [
    "json.loads(contents[0])"
   ]
  },
  {
   "cell_type": "markdown",
   "id": "f5df8c69-07ca-4663-85a2-5fc8cdbf0523",
   "metadata": {
    "execution": {
     "iopub.execute_input": "2025-01-29T04:06:51.291358Z",
     "iopub.status.busy": "2025-01-29T04:06:51.290979Z",
     "iopub.status.idle": "2025-01-29T04:06:51.301504Z",
     "shell.execute_reply": "2025-01-29T04:06:51.300265Z",
     "shell.execute_reply.started": "2025-01-29T04:06:51.291327Z"
    }
   },
   "source": [
    "<div style=\"border: 2px solid black; padding: 10px; border-radius: 5px;\">\n",
    "\n",
    "`for line in contents`\n",
    "* This part iterates through each element `(line)` in the `contents` list. Recall that `contents` was previously populated with the lines read from the bzip2 file.\n",
    "\n",
    "`json.loads(line)`\n",
    "* Inside the loop, `json.loads(line)` takes each `line` (which is a string representing a JSON object) and converts it into a Python dictionary object using the `json.loads()` function.\n",
    "\n",
    "`twitter_data = [...]`: \n",
    "* The entire expression (the loop and the `json.loads()` function) is wrapped in square brackets (`[]`). This creates a new list called `twitter_data`.\n",
    "Each iteration of the loop appends the converted dictionary object (result of `json.loads(line)` to the `twitter_data` list.\n",
    "\n",
    "**Summary**\n",
    "* This line of code efficiently processes the list of lines read from the file. It iterates through each line, converts the JSON string to a Python dictionary using `json.loads()`, and stores the resulting dictionaries in a new list called `twitter_data`. This list now contains a collection of Python dictionaries, each representing a Twitter user's information."
   ]
  },
  {
   "cell_type": "markdown",
   "id": "59a7ae42-47c7-472e-8488-f3a5ca8b421d",
   "metadata": {},
   "source": [
    "##  Accessing & Extracting Data from the Converted List of Dictionaries "
   ]
  },
  {
   "cell_type": "code",
   "execution_count": 103,
   "id": "d0433681-4bef-4c83-b42e-70062160cd9b",
   "metadata": {
    "execution": {
     "iopub.execute_input": "2025-01-29T04:03:17.347110Z",
     "iopub.status.busy": "2025-01-29T04:03:17.346521Z",
     "iopub.status.idle": "2025-01-29T04:03:24.259965Z",
     "shell.execute_reply": "2025-01-29T04:03:24.258911Z",
     "shell.execute_reply.started": "2025-01-29T04:03:17.347042Z"
    }
   },
   "outputs": [],
   "source": [
    "twitter_data = [json.loads(line) for line in contents]"
   ]
  },
  {
   "cell_type": "markdown",
   "id": "7e2ed08e-385e-4987-b9cc-409c57a14e07",
   "metadata": {},
   "source": [
    "<div style=\"border: 2px solid black; padding: 10px; border-radius: 5px;\">\n",
    "\n",
    "`twitter_data[0]`\n",
    "* is accessing the first element (index 0) of the twitter_data list.\n",
    "\n",
    "**Summary**\n",
    "* Since `twitter_data` is a list of dictionaries (each dictionary representing a Twitter user), `twitter_data[0]` will return the first Twitter user's information as a Python dictionary."
   ]
  },
  {
   "cell_type": "code",
   "execution_count": 105,
   "id": "3501e6f9-cde8-4462-b663-631421af4eee",
   "metadata": {
    "execution": {
     "iopub.execute_input": "2025-01-29T04:10:16.719997Z",
     "iopub.status.busy": "2025-01-29T04:10:16.719470Z",
     "iopub.status.idle": "2025-01-29T04:10:16.729936Z",
     "shell.execute_reply": "2025-01-29T04:10:16.728763Z",
     "shell.execute_reply.started": "2025-01-29T04:10:16.719952Z"
    }
   },
   "outputs": [
    {
     "data": {
      "text/plain": [
       "{'created_at': 'Fri Jun 22 09:32:01 +0000 2018',\n",
       " 'id': 1010093038536757248,\n",
       " 'id_str': '1010093038536757248',\n",
       " 'text': '得点開示してもらお、それでもしトップ3入ってたら絶対訴える',\n",
       " 'source': '<a href=\"http://twitter.com/download/iphone\" rel=\"nofollow\">Twitter for iPhone</a>',\n",
       " 'truncated': False,\n",
       " 'in_reply_to_status_id': None,\n",
       " 'in_reply_to_status_id_str': None,\n",
       " 'in_reply_to_user_id': None,\n",
       " 'in_reply_to_user_id_str': None,\n",
       " 'in_reply_to_screen_name': None,\n",
       " 'user': {'id': 828743842237001728,\n",
       "  'id_str': '828743842237001728',\n",
       "  'name': 'じう🐶',\n",
       "  'screen_name': 'jj_iiu',\n",
       "  'location': 'Precious 世界 町',\n",
       "  'url': None,\n",
       "  'description': '@nanjolno * @saito_nagisa * @yanaginagi * @maaya_taso* NEXT⇒6/17 イコラブダンスレッスン、6/24 NBC後夜祭、7/8 南條さんBD',\n",
       "  'translator_type': 'none',\n",
       "  'protected': False,\n",
       "  'verified': False,\n",
       "  'followers_count': 192,\n",
       "  'friends_count': 219,\n",
       "  'listed_count': 13,\n",
       "  'favourites_count': 10089,\n",
       "  'statuses_count': 27986,\n",
       "  'created_at': 'Mon Feb 06 23:15:04 +0000 2017',\n",
       "  'utc_offset': None,\n",
       "  'time_zone': None,\n",
       "  'geo_enabled': False,\n",
       "  'lang': 'ja',\n",
       "  'contributors_enabled': False,\n",
       "  'is_translator': False,\n",
       "  'profile_background_color': 'F5F8FA',\n",
       "  'profile_background_image_url': '',\n",
       "  'profile_background_image_url_https': '',\n",
       "  'profile_background_tile': False,\n",
       "  'profile_link_color': '1DA1F2',\n",
       "  'profile_sidebar_border_color': 'C0DEED',\n",
       "  'profile_sidebar_fill_color': 'DDEEF6',\n",
       "  'profile_text_color': '333333',\n",
       "  'profile_use_background_image': True,\n",
       "  'profile_image_url': 'http://pbs.twimg.com/profile_images/957191452391440385/CJdcI6Nj_normal.jpg',\n",
       "  'profile_image_url_https': 'https://pbs.twimg.com/profile_images/957191452391440385/CJdcI6Nj_normal.jpg',\n",
       "  'profile_banner_url': 'https://pbs.twimg.com/profile_banners/828743842237001728/1506912239',\n",
       "  'default_profile': True,\n",
       "  'default_profile_image': False,\n",
       "  'following': None,\n",
       "  'follow_request_sent': None,\n",
       "  'notifications': None},\n",
       " 'geo': None,\n",
       " 'coordinates': None,\n",
       " 'place': None,\n",
       " 'contributors': None,\n",
       " 'is_quote_status': False,\n",
       " 'quote_count': 0,\n",
       " 'reply_count': 0,\n",
       " 'retweet_count': 0,\n",
       " 'favorite_count': 0,\n",
       " 'entities': {'hashtags': [], 'urls': [], 'user_mentions': [], 'symbols': []},\n",
       " 'favorited': False,\n",
       " 'retweeted': False,\n",
       " 'filter_level': 'low',\n",
       " 'lang': 'ja',\n",
       " 'timestamp_ms': '1529659921665'}"
      ]
     },
     "execution_count": 105,
     "metadata": {},
     "output_type": "execute_result"
    }
   ],
   "source": [
    "twitter_data[0]"
   ]
  },
  {
   "cell_type": "markdown",
   "id": "a3a08c93-1aec-4d46-aed2-eb7489a330c5",
   "metadata": {
    "execution": {
     "iopub.execute_input": "2025-01-29T04:17:04.685259Z",
     "iopub.status.busy": "2025-01-29T04:17:04.684704Z",
     "iopub.status.idle": "2025-01-29T04:17:04.692875Z",
     "shell.execute_reply": "2025-01-29T04:17:04.691322Z",
     "shell.execute_reply.started": "2025-01-29T04:17:04.685214Z"
    }
   },
   "source": [
    "<div style=\"border: 2px solid black; padding: 10px; border-radius: 5px;\">\n",
    "\n",
    "`twitter_data[0]['created_at']`\n",
    "* This line accesses the `created_at key` within the first dictionary `(twitter_data[0])` in the twitter_data list.\n",
    "* The output shows the value associated with the `created_at` key, which is the timestamp of when the tweet was created: \"Fri Jun 22 09:32:01 +0000 2018\"."
   ]
  },
  {
   "cell_type": "code",
   "execution_count": 107,
   "id": "cac3dad3-7e3f-4c6b-847a-5718a70b2248",
   "metadata": {
    "execution": {
     "iopub.execute_input": "2025-01-29T04:19:10.338535Z",
     "iopub.status.busy": "2025-01-29T04:19:10.337991Z",
     "iopub.status.idle": "2025-01-29T04:19:10.346071Z",
     "shell.execute_reply": "2025-01-29T04:19:10.345119Z",
     "shell.execute_reply.started": "2025-01-29T04:19:10.338490Z"
    }
   },
   "outputs": [
    {
     "data": {
      "text/plain": [
       "'Fri Jun 22 09:32:01 +0000 2018'"
      ]
     },
     "execution_count": 107,
     "metadata": {},
     "output_type": "execute_result"
    }
   ],
   "source": [
    "twitter_data[0]['created_at']"
   ]
  },
  {
   "cell_type": "markdown",
   "id": "ff6a460d-736e-445d-bdf0-f2bbcc157f4c",
   "metadata": {
    "execution": {
     "iopub.execute_input": "2025-01-29T04:20:07.217943Z",
     "iopub.status.busy": "2025-01-29T04:20:07.217411Z",
     "iopub.status.idle": "2025-01-29T04:20:07.226397Z",
     "shell.execute_reply": "2025-01-29T04:20:07.224821Z",
     "shell.execute_reply.started": "2025-01-29T04:20:07.217898Z"
    }
   },
   "source": [
    "<div style=\"border: 2px solid black; padding: 10px; border-radius: 5px;\">\n",
    "\n",
    "`twitter_data[0]['user']['screen_name']`\n",
    "\n",
    "* This line accesses the `screen_name` of the user associated with the first tweet.\n",
    "* It first accesses the `user` key within the first dictionary (`twitter_data[0]`), which itself is a dictionary containing user information.\n",
    "* Then, it accesses the screen_name key within the user dictionary.\n",
    "The output shows the `screen name` of the `user` associated with the first tweet: \"jj_iiu\"."
   ]
  },
  {
   "cell_type": "code",
   "execution_count": 109,
   "id": "60564c3d-70c4-4636-9cf4-2418be5a70cd",
   "metadata": {
    "execution": {
     "iopub.execute_input": "2025-01-29T04:20:47.748487Z",
     "iopub.status.busy": "2025-01-29T04:20:47.747941Z",
     "iopub.status.idle": "2025-01-29T04:20:47.756107Z",
     "shell.execute_reply": "2025-01-29T04:20:47.754924Z",
     "shell.execute_reply.started": "2025-01-29T04:20:47.748442Z"
    }
   },
   "outputs": [
    {
     "data": {
      "text/plain": [
       "'jj_iiu'"
      ]
     },
     "execution_count": 109,
     "metadata": {},
     "output_type": "execute_result"
    }
   ],
   "source": [
    "twitter_data[0]['user']['screen_name']"
   ]
  },
  {
   "cell_type": "markdown",
   "id": "41b69197-b347-476a-bd13-122daaa7e63e",
   "metadata": {},
   "source": [
    "<div style=\"border: 2px solid black; padding: 10px; border-radius: 5px;\">\n",
    "\n",
    "`twitter_data[0].keys()`\n",
    "* This line retrieves all the keys (attribute names) present in the first dictionary (`twitter_data[0]`).\n",
    "* The output displays a list of keys, representing the different attributes available for the first tweet in the dataset."
   ]
  },
  {
   "cell_type": "code",
   "execution_count": 110,
   "id": "49e03b61-1553-4572-902f-55721a32fb18",
   "metadata": {
    "execution": {
     "iopub.execute_input": "2025-01-29T04:21:54.891779Z",
     "iopub.status.busy": "2025-01-29T04:21:54.891273Z",
     "iopub.status.idle": "2025-01-29T04:21:54.899764Z",
     "shell.execute_reply": "2025-01-29T04:21:54.898525Z",
     "shell.execute_reply.started": "2025-01-29T04:21:54.891735Z"
    }
   },
   "outputs": [
    {
     "data": {
      "text/plain": [
       "dict_keys(['created_at', 'id', 'id_str', 'text', 'source', 'truncated', 'in_reply_to_status_id', 'in_reply_to_status_id_str', 'in_reply_to_user_id', 'in_reply_to_user_id_str', 'in_reply_to_screen_name', 'user', 'geo', 'coordinates', 'place', 'contributors', 'is_quote_status', 'quote_count', 'reply_count', 'retweet_count', 'favorite_count', 'entities', 'favorited', 'retweeted', 'filter_level', 'lang', 'timestamp_ms'])"
      ]
     },
     "execution_count": 110,
     "metadata": {},
     "output_type": "execute_result"
    }
   ],
   "source": [
    "twitter_data[0].keys()"
   ]
  },
  {
   "cell_type": "markdown",
   "id": "624b1efa-2c42-4aab-b514-9b301a39d2d4",
   "metadata": {},
   "source": [
    "<div style=\"border: 2px solid black; padding: 10px; border-radius: 5px;\">\n",
    "\n",
    "`twitter_data[0]['id']`\n",
    "* This line accesses the `id` key within the first dictionary (`twitter_data[0]`) and retrieves the unique identifier of the tweet."
   ]
  },
  {
   "cell_type": "code",
   "execution_count": 111,
   "id": "9d67fb03-64c7-499e-b8c1-abb4252d407b",
   "metadata": {
    "execution": {
     "iopub.execute_input": "2025-01-29T04:23:14.387275Z",
     "iopub.status.busy": "2025-01-29T04:23:14.386729Z",
     "iopub.status.idle": "2025-01-29T04:23:14.395106Z",
     "shell.execute_reply": "2025-01-29T04:23:14.393943Z",
     "shell.execute_reply.started": "2025-01-29T04:23:14.387228Z"
    }
   },
   "outputs": [
    {
     "data": {
      "text/plain": [
       "1010093038536757248"
      ]
     },
     "execution_count": 111,
     "metadata": {},
     "output_type": "execute_result"
    }
   ],
   "source": [
    "twitter_data[0]['id']"
   ]
  },
  {
   "cell_type": "markdown",
   "id": "964b88fc-5eb3-4298-b8ff-a9a3860fe7fc",
   "metadata": {},
   "source": [
    "<div style=\"border: 2px solid black; padding: 10px; border-radius: 5px;\">\n",
    "\n",
    "`twitter_data[0]['filter_level']`\n",
    "* This line accesses `the filter_level` key within the first dictionary (`twitter_data[0]`) and retrieves the filter level associated with the tweet."
   ]
  },
  {
   "cell_type": "code",
   "execution_count": 112,
   "id": "e0822880-c6cb-4347-b89e-608bee6ab60e",
   "metadata": {
    "execution": {
     "iopub.execute_input": "2025-01-29T04:24:26.272851Z",
     "iopub.status.busy": "2025-01-29T04:24:26.272319Z",
     "iopub.status.idle": "2025-01-29T04:24:26.280511Z",
     "shell.execute_reply": "2025-01-29T04:24:26.279329Z",
     "shell.execute_reply.started": "2025-01-29T04:24:26.272804Z"
    }
   },
   "outputs": [
    {
     "data": {
      "text/plain": [
       "'low'"
      ]
     },
     "execution_count": 112,
     "metadata": {},
     "output_type": "execute_result"
    }
   ],
   "source": [
    "twitter_data[0]['filter_level']"
   ]
  },
  {
   "cell_type": "markdown",
   "id": "fd4ec720-4157-4a13-b21e-7d56cf4606a2",
   "metadata": {},
   "source": [
    "<div style=\"border: 2px solid black; padding: 10px; border-radius: 5px;\">\n",
    "\n",
    "`twitter_data[0]['user'].keys()`\n",
    "* This line retrieves all the keys (attribute names) present in the `user` dictionary within the first tweet.\n",
    "* The output displays a list of keys, representing the different attributes available for the user associated with the first tweet."
   ]
  },
  {
   "cell_type": "code",
   "execution_count": 113,
   "id": "9a9c38ee-d308-4909-a23b-68290b0088ca",
   "metadata": {
    "execution": {
     "iopub.execute_input": "2025-01-29T04:26:33.690875Z",
     "iopub.status.busy": "2025-01-29T04:26:33.690362Z",
     "iopub.status.idle": "2025-01-29T04:26:33.699259Z",
     "shell.execute_reply": "2025-01-29T04:26:33.698066Z",
     "shell.execute_reply.started": "2025-01-29T04:26:33.690831Z"
    }
   },
   "outputs": [
    {
     "data": {
      "text/plain": [
       "dict_keys(['id', 'id_str', 'name', 'screen_name', 'location', 'url', 'description', 'translator_type', 'protected', 'verified', 'followers_count', 'friends_count', 'listed_count', 'favourites_count', 'statuses_count', 'created_at', 'utc_offset', 'time_zone', 'geo_enabled', 'lang', 'contributors_enabled', 'is_translator', 'profile_background_color', 'profile_background_image_url', 'profile_background_image_url_https', 'profile_background_tile', 'profile_link_color', 'profile_sidebar_border_color', 'profile_sidebar_fill_color', 'profile_text_color', 'profile_use_background_image', 'profile_image_url', 'profile_image_url_https', 'profile_banner_url', 'default_profile', 'default_profile_image', 'following', 'follow_request_sent', 'notifications'])"
      ]
     },
     "execution_count": 113,
     "metadata": {},
     "output_type": "execute_result"
    }
   ],
   "source": [
    "twitter_data[0]['user'].keys()"
   ]
  },
  {
   "cell_type": "markdown",
   "id": "3a64d458-ac4e-4e94-a32b-6679df738056",
   "metadata": {},
   "source": [
    "<div style=\"border: 2px solid black; padding: 10px; border-radius: 5px;\">\n",
    "\n",
    "`twitter_data[0]['user']['screen_name']`\n",
    "* **Action** : This line accesses the screen_name of the user associated with the first tweet.\n",
    "    * It first accesses the `user` key within the first dictionary (`twitter_data[0]`), which itself is a dictionary containing user information.\n",
    "    * Then, it accesses the `screen_name` key within the `user` dictionary.\n",
    "* **Output** : The output shows the screen name of the user associated with the first tweet: \"jj_iiu\"."
   ]
  },
  {
   "cell_type": "code",
   "execution_count": 114,
   "id": "2528bbc0-d87f-436d-8870-74938e966190",
   "metadata": {
    "execution": {
     "iopub.execute_input": "2025-01-29T04:29:19.543166Z",
     "iopub.status.busy": "2025-01-29T04:29:19.542626Z",
     "iopub.status.idle": "2025-01-29T04:29:19.551124Z",
     "shell.execute_reply": "2025-01-29T04:29:19.549936Z",
     "shell.execute_reply.started": "2025-01-29T04:29:19.543120Z"
    }
   },
   "outputs": [
    {
     "data": {
      "text/plain": [
       "'jj_iiu'"
      ]
     },
     "execution_count": 114,
     "metadata": {},
     "output_type": "execute_result"
    }
   ],
   "source": [
    "twitter_data[0]['user']['screen_name']"
   ]
  },
  {
   "cell_type": "markdown",
   "id": "4f7dd0f7-d9c1-4da6-8bdc-dcc3170c2ea3",
   "metadata": {},
   "source": [
    "<div style=\"border: 2px solid black; padding: 10px; border-radius: 5px;\">\n",
    " \n",
    "`twitter_data[0]['user']['friends_count']`\n",
    "* **Action**: This line accesses the `friends_count` of the user associated with the first tweet.\n",
    "    * Similar to the previous example, it first accesses the `user` dictionary and then the `friends_count` key within that dictionary.\n",
    "* **Output**: The output shows the number of friends the user has, which is 219 in this case."
   ]
  },
  {
   "cell_type": "code",
   "execution_count": 115,
   "id": "4d51ad9a-857e-45b9-8cd2-eaca05222aef",
   "metadata": {
    "execution": {
     "iopub.execute_input": "2025-01-29T04:32:41.737935Z",
     "iopub.status.busy": "2025-01-29T04:32:41.737420Z",
     "iopub.status.idle": "2025-01-29T04:32:41.745726Z",
     "shell.execute_reply": "2025-01-29T04:32:41.744568Z",
     "shell.execute_reply.started": "2025-01-29T04:32:41.737889Z"
    }
   },
   "outputs": [
    {
     "data": {
      "text/plain": [
       "219"
      ]
     },
     "execution_count": 115,
     "metadata": {},
     "output_type": "execute_result"
    }
   ],
   "source": [
    "twitter_data[0]['user']['friends_count']"
   ]
  },
  {
   "cell_type": "markdown",
   "id": "398d2a05-4db9-43ad-a6ae-4990e2315f1a",
   "metadata": {},
   "source": [
    "<div style=\"border: 2px solid black; padding: 10px; border-radius: 5px;\">\n",
    "\n",
    "`twitter_data[0]['user']['description']`\n",
    "\n",
    "* **Action** : This line accesses the `description` of the user associated with the first tweet.\n",
    "    * Again, it first accesses the user dictionary and then the description key within that dictionary.\n",
    "* **Output** : The output shows the user's description, which appears to be in Japanese."
   ]
  },
  {
   "cell_type": "code",
   "execution_count": 116,
   "id": "76e833d2-00f1-4143-995b-87b04ba71d6e",
   "metadata": {
    "execution": {
     "iopub.execute_input": "2025-01-29T04:34:10.044189Z",
     "iopub.status.busy": "2025-01-29T04:34:10.042901Z",
     "iopub.status.idle": "2025-01-29T04:34:10.051603Z",
     "shell.execute_reply": "2025-01-29T04:34:10.050435Z",
     "shell.execute_reply.started": "2025-01-29T04:34:10.044121Z"
    }
   },
   "outputs": [
    {
     "data": {
      "text/plain": [
       "'@nanjolno * @saito_nagisa * @yanaginagi * @maaya_taso* NEXT⇒6/17 イコラブダンスレッスン、6/24 NBC後夜祭、7/8 南條さんBD'"
      ]
     },
     "execution_count": 116,
     "metadata": {},
     "output_type": "execute_result"
    }
   ],
   "source": [
    "twitter_data[0]['user']['description']"
   ]
  },
  {
   "cell_type": "markdown",
   "id": "67b0b26e-9657-478e-b47e-c85d691021e9",
   "metadata": {},
   "source": [
    "<div style=\"border: 2px solid black; padding: 10px; border-radius: 5px;\">\n",
    "\n",
    "`with bz2.open(...) as f:`\n",
    "* This line opens the bzip2 compressed file located at `/mnt/data/public/twitter/sample/data-18062209.json.bz2` in read mode using the `bz2.open()` function.\n",
    "* The `with` statement ensures proper closing of the file even if errors occur within the indented block.\n",
    "* The file object is assigned to the variable `f` for further use.\n",
    "\n",
    "`twitter_data = [json.loads(line) for line in f]`\n",
    "* This line reads the entire file content and creates a list of Python dictionaries.\n",
    "* `f` acts as an iterator over the lines in the file.\n",
    "* For each line:\n",
    "    * `json.loads(line)` parses the JSON string (line) into a Python dictionary.\n",
    "* The resulting dictionaries are stored in the `twitter_data` list.\n",
    "\n",
    "`twitter_data[0]`\n",
    "* This line accesses the first element (index 0) of the `twitter_data` list.\n",
    "* Since `twitter_data` contains dictionaries, `twitter_data[0]` retrieves the first dictionary, representing the first tweet in the dataset.\n",
    "\n",
    "Output:\n",
    "* The output displays the content of the first dictionary in the `twitter_data` list.\n",
    "* This dictionary holds key-value pairs containing information about the first tweet, such as text, creation time, and user details.\n"
   ]
  },
  {
   "cell_type": "code",
   "execution_count": 117,
   "id": "2dd003a5-3a6c-4ef8-a90d-e6493d680acd",
   "metadata": {
    "execution": {
     "iopub.execute_input": "2025-01-29T04:41:08.963361Z",
     "iopub.status.busy": "2025-01-29T04:41:08.962831Z",
     "iopub.status.idle": "2025-01-29T04:41:26.677555Z",
     "shell.execute_reply": "2025-01-29T04:41:26.676737Z",
     "shell.execute_reply.started": "2025-01-29T04:41:08.963317Z"
    }
   },
   "outputs": [],
   "source": [
    "with bz2.open('/mnt/data/public/twitter/sample/data-18062209.json.bz2') as f:\n",
    "    twitter_data = [json.loads(line) for line in f]"
   ]
  },
  {
   "cell_type": "code",
   "execution_count": null,
   "id": "953025b1-a36a-46a8-a38e-b6217264377d",
   "metadata": {
    "execution": {
     "iopub.execute_input": "2025-01-29T04:42:13.205229Z",
     "iopub.status.busy": "2025-01-29T04:42:13.204793Z",
     "iopub.status.idle": "2025-01-29T04:42:13.212685Z",
     "shell.execute_reply": "2025-01-29T04:42:13.211637Z",
     "shell.execute_reply.started": "2025-01-29T04:42:13.205200Z"
    }
   },
   "outputs": [
    {
     "data": {
      "text/plain": [
       "{'created_at': 'Fri Jun 22 09:32:01 +0000 2018',\n",
       " 'id': 1010093038536757248,\n",
       " 'id_str': '1010093038536757248',\n",
       " 'text': '得点開示してもらお、それでもしトップ3入ってたら絶対訴える',\n",
       " 'source': '<a href=\"http://twitter.com/download/iphone\" rel=\"nofollow\">Twitter for iPhone</a>',\n",
       " 'truncated': False,\n",
       " 'in_reply_to_status_id': None,\n",
       " 'in_reply_to_status_id_str': None,\n",
       " 'in_reply_to_user_id': None,\n",
       " 'in_reply_to_user_id_str': None,\n",
       " 'in_reply_to_screen_name': None,\n",
       " 'user': {'id': 828743842237001728,\n",
       "  'id_str': '828743842237001728',\n",
       "  'name': 'じう🐶',\n",
       "  'screen_name': 'jj_iiu',\n",
       "  'location': 'Precious 世界 町',\n",
       "  'url': None,\n",
       "  'description': '@nanjolno * @saito_nagisa * @yanaginagi * @maaya_taso* NEXT⇒6/17 イコラブダンスレッスン、6/24 NBC後夜祭、7/8 南條さんBD',\n",
       "  'translator_type': 'none',\n",
       "  'protected': False,\n",
       "  'verified': False,\n",
       "  'followers_count': 192,\n",
       "  'friends_count': 219,\n",
       "  'listed_count': 13,\n",
       "  'favourites_count': 10089,\n",
       "  'statuses_count': 27986,\n",
       "  'created_at': 'Mon Feb 06 23:15:04 +0000 2017',\n",
       "  'utc_offset': None,\n",
       "  'time_zone': None,\n",
       "  'geo_enabled': False,\n",
       "  'lang': 'ja',\n",
       "  'contributors_enabled': False,\n",
       "  'is_translator': False,\n",
       "  'profile_background_color': 'F5F8FA',\n",
       "  'profile_background_image_url': '',\n",
       "  'profile_background_image_url_https': '',\n",
       "  'profile_background_tile': False,\n",
       "  'profile_link_color': '1DA1F2',\n",
       "  'profile_sidebar_border_color': 'C0DEED',\n",
       "  'profile_sidebar_fill_color': 'DDEEF6',\n",
       "  'profile_text_color': '333333',\n",
       "  'profile_use_background_image': True,\n",
       "  'profile_image_url': 'http://pbs.twimg.com/profile_images/957191452391440385/CJdcI6Nj_normal.jpg',\n",
       "  'profile_image_url_https': 'https://pbs.twimg.com/profile_images/957191452391440385/CJdcI6Nj_normal.jpg',\n",
       "  'profile_banner_url': 'https://pbs.twimg.com/profile_banners/828743842237001728/1506912239',\n",
       "  'default_profile': True,\n",
       "  'default_profile_image': False,\n",
       "  'following': None,\n",
       "  'follow_request_sent': None,\n",
       "  'notifications': None},\n",
       " 'geo': None,\n",
       " 'coordinates': None,\n",
       " 'place': None,\n",
       " 'contributors': None,\n",
       " 'is_quote_status': False,\n",
       " 'quote_count': 0,\n",
       " 'reply_count': 0,\n",
       " 'retweet_count': 0,\n",
       " 'favorite_count': 0,\n",
       " 'entities': {'hashtags': [], 'urls': [], 'user_mentions': [], 'symbols': []},\n",
       " 'favorited': False,\n",
       " 'retweeted': False,\n",
       " 'filter_level': 'low',\n",
       " 'lang': 'ja',\n",
       " 'timestamp_ms': '1529659921665'}"
      ]
     },
     "execution_count": 118,
     "metadata": {},
     "output_type": "execute_result"
    }
   ],
   "source": [
    "twitter_data[0]"
   ]
  },
  {
   "cell_type": "markdown",
   "id": "634f2267-fee7-4168-acf0-f869c36bf032",
   "metadata": {},
   "source": [
    "## Using the Pandas Library to Read JSON file"
   ]
  },
  {
   "cell_type": "code",
   "execution_count": null,
   "id": "b8437359-493a-4ab4-95ce-a7db1cd9b152",
   "metadata": {},
   "outputs": [],
   "source": [
    "<div style=\"border: 2px solid black; padding: 10px; border-radius: 5px;\">\n"
   ]
  },
  {
   "cell_type": "markdown",
   "id": "eb5e9e51-b906-47e8-bc10-aef6be1dc251",
   "metadata": {},
   "source": [
    "<div style=\"border: 2px solid black; padding: 10px; border-radius: 5px;\">\n",
    "\n",
    "`import pandas as pd`\n",
    "* This line imports the `pandas` library, which is a powerful and widely used library for data manipulation and analysis in Python.\n",
    "* It imports the library and gives it a shorter alias, `pd`, for easier use throughout the code."
   ]
  },
  {
   "cell_type": "code",
   "execution_count": 119,
   "id": "b38c8a1e-a40d-41f1-9530-6662bb111d05",
   "metadata": {
    "execution": {
     "iopub.execute_input": "2025-01-29T04:45:35.113518Z",
     "iopub.status.busy": "2025-01-29T04:45:35.113008Z",
     "iopub.status.idle": "2025-01-29T04:45:35.554594Z",
     "shell.execute_reply": "2025-01-29T04:45:35.553563Z",
     "shell.execute_reply.started": "2025-01-29T04:45:35.113477Z"
    }
   },
   "outputs": [],
   "source": [
    "import pandas as pd "
   ]
  },
  {
   "cell_type": "markdown",
   "id": "4f06cf00-79ed-44aa-b0bc-395653df9ded",
   "metadata": {},
   "source": [
    "<div style=\"border: 2px solid black; padding: 10px; border-radius: 5px;\">\n",
    "\n",
    "`df_twitter = pd.read_json('/mnt/data/public/twitter/sample/data-18062209.json.bz2', lines=True)`\n",
    "* This line reads a JSON file from the specified path (`'/mnt/data/public/twitter/sample/data-18062209.json.bz2'`) and creates a pandas DataFrame called `df_twitter`\n",
    "* `pd.read_json()` is a function from the pandas library that reads data from a JSON file.\n",
    "* The `lines=True` argument tells pandas that the JSON file contains multiple JSON objects, one per line. This allows pandas to efficiently read and parse the data."
   ]
  },
  {
   "cell_type": "code",
   "execution_count": 120,
   "id": "a7a263d6-6abd-4be6-8d2a-fbd1b811afbe",
   "metadata": {
    "execution": {
     "iopub.execute_input": "2025-01-29T04:47:19.474764Z",
     "iopub.status.busy": "2025-01-29T04:47:19.474273Z",
     "iopub.status.idle": "2025-01-29T04:47:36.580552Z",
     "shell.execute_reply": "2025-01-29T04:47:36.579559Z",
     "shell.execute_reply.started": "2025-01-29T04:47:19.474734Z"
    }
   },
   "outputs": [
    {
     "name": "stderr",
     "output_type": "stream",
     "text": [
      "/tmp/ipykernel_3478/4042793590.py:1: FutureWarning: The behavior of 'to_datetime' with 'unit' when parsing strings is deprecated. In a future version, strings will be parsed as datetime strings, matching the behavior without a 'unit'. To retain the old behavior, explicitly cast ints or floats to numeric type before calling to_datetime.\n",
      "  df_twitter = pd.read_json(\n",
      "/tmp/ipykernel_3478/4042793590.py:1: FutureWarning: The behavior of 'to_datetime' with 'unit' when parsing strings is deprecated. In a future version, strings will be parsed as datetime strings, matching the behavior without a 'unit'. To retain the old behavior, explicitly cast ints or floats to numeric type before calling to_datetime.\n",
      "  df_twitter = pd.read_json(\n"
     ]
    }
   ],
   "source": [
    "df_twitter = pd.read_json(\n",
    "    '/mnt/data/public/twitter/sample/data-18062209.json.bz2',\n",
    "    lines=True\n",
    ")"
   ]
  },
  {
   "cell_type": "markdown",
   "id": "32c49bad-a20b-49ba-9c5e-623d4a489334",
   "metadata": {
    "execution": {
     "iopub.execute_input": "2025-01-29T04:49:16.103129Z",
     "iopub.status.busy": "2025-01-29T04:49:16.102732Z",
     "iopub.status.idle": "2025-01-29T04:49:16.111197Z",
     "shell.execute_reply": "2025-01-29T04:49:16.109510Z",
     "shell.execute_reply.started": "2025-01-29T04:49:16.103094Z"
    }
   },
   "source": [
    "<div style=\"border: 2px solid black; padding: 10px; border-radius: 5px;\">\n",
    "\n",
    "`df_twitter`\n",
    "* This line simply displays the contents of the df_twitter DataFrame.\n",
    "* The output shows the first few rows of the DataFrame, including columns like `created_at`, `id`, and `id_str`.\n",
    "You can see that the `created_at` column contains datetime values, and there are some rows with missing values (indicated by `NaN`)."
   ]
  },
  {
   "cell_type": "code",
   "execution_count": 122,
   "id": "ffc4aaf9-41ba-46c3-bc7e-17ded09378e1",
   "metadata": {
    "execution": {
     "iopub.execute_input": "2025-01-29T04:49:40.981629Z",
     "iopub.status.busy": "2025-01-29T04:49:40.981100Z",
     "iopub.status.idle": "2025-01-29T04:49:41.121115Z",
     "shell.execute_reply": "2025-01-29T04:49:41.120004Z",
     "shell.execute_reply.started": "2025-01-29T04:49:40.981583Z"
    }
   },
   "outputs": [
    {
     "data": {
      "text/html": [
       "<div>\n",
       "<style scoped>\n",
       "    .dataframe tbody tr th:only-of-type {\n",
       "        vertical-align: middle;\n",
       "    }\n",
       "\n",
       "    .dataframe tbody tr th {\n",
       "        vertical-align: top;\n",
       "    }\n",
       "\n",
       "    .dataframe thead th {\n",
       "        text-align: right;\n",
       "    }\n",
       "</style>\n",
       "<table border=\"1\" class=\"dataframe\">\n",
       "  <thead>\n",
       "    <tr style=\"text-align: right;\">\n",
       "      <th></th>\n",
       "      <th>created_at</th>\n",
       "      <th>id</th>\n",
       "      <th>id_str</th>\n",
       "      <th>text</th>\n",
       "      <th>source</th>\n",
       "      <th>truncated</th>\n",
       "      <th>in_reply_to_status_id</th>\n",
       "      <th>in_reply_to_status_id_str</th>\n",
       "      <th>in_reply_to_user_id</th>\n",
       "      <th>in_reply_to_user_id_str</th>\n",
       "      <th>...</th>\n",
       "      <th>possibly_sensitive</th>\n",
       "      <th>delete</th>\n",
       "      <th>display_text_range</th>\n",
       "      <th>quoted_status_id</th>\n",
       "      <th>quoted_status_id_str</th>\n",
       "      <th>quoted_status</th>\n",
       "      <th>quoted_status_permalink</th>\n",
       "      <th>extended_entities</th>\n",
       "      <th>extended_tweet</th>\n",
       "      <th>withheld_in_countries</th>\n",
       "    </tr>\n",
       "  </thead>\n",
       "  <tbody>\n",
       "    <tr>\n",
       "      <th>0</th>\n",
       "      <td>2018-06-22 09:32:01+00:00</td>\n",
       "      <td>1.010093e+18</td>\n",
       "      <td>1.010093e+18</td>\n",
       "      <td>得点開示してもらお、それでもしトップ3入ってたら絶対訴える</td>\n",
       "      <td>&lt;a href=\"http://twitter.com/download/iphone\" r...</td>\n",
       "      <td>0.0</td>\n",
       "      <td>NaN</td>\n",
       "      <td>NaN</td>\n",
       "      <td>NaN</td>\n",
       "      <td>NaN</td>\n",
       "      <td>...</td>\n",
       "      <td>NaN</td>\n",
       "      <td>NaN</td>\n",
       "      <td>NaN</td>\n",
       "      <td>NaN</td>\n",
       "      <td>NaN</td>\n",
       "      <td>NaN</td>\n",
       "      <td>NaN</td>\n",
       "      <td>NaN</td>\n",
       "      <td>NaN</td>\n",
       "      <td>NaN</td>\n",
       "    </tr>\n",
       "    <tr>\n",
       "      <th>1</th>\n",
       "      <td>2018-06-22 09:32:01+00:00</td>\n",
       "      <td>1.010093e+18</td>\n",
       "      <td>1.010093e+18</td>\n",
       "      <td>RT @tatanakan: ？？？？？？？？？？？？？？？？？？？？？？？？？？？？？？？...</td>\n",
       "      <td>&lt;a href=\"http://twitter.com/download/android\" ...</td>\n",
       "      <td>0.0</td>\n",
       "      <td>NaN</td>\n",
       "      <td>NaN</td>\n",
       "      <td>NaN</td>\n",
       "      <td>NaN</td>\n",
       "      <td>...</td>\n",
       "      <td>NaN</td>\n",
       "      <td>NaN</td>\n",
       "      <td>NaN</td>\n",
       "      <td>NaN</td>\n",
       "      <td>NaN</td>\n",
       "      <td>NaN</td>\n",
       "      <td>NaN</td>\n",
       "      <td>NaN</td>\n",
       "      <td>NaN</td>\n",
       "      <td>NaN</td>\n",
       "    </tr>\n",
       "    <tr>\n",
       "      <th>2</th>\n",
       "      <td>2018-06-22 09:32:01+00:00</td>\n",
       "      <td>1.010093e+18</td>\n",
       "      <td>1.010093e+18</td>\n",
       "      <td>ふなっしー　チャーム付ボールペン 青【ふなっしーグッズ/文房具/筆記具/ボールペン/文具/可...</td>\n",
       "      <td>&lt;a href=\"https://twitter.com/funassyi_cafe\" re...</td>\n",
       "      <td>0.0</td>\n",
       "      <td>NaN</td>\n",
       "      <td>NaN</td>\n",
       "      <td>NaN</td>\n",
       "      <td>NaN</td>\n",
       "      <td>...</td>\n",
       "      <td>0.0</td>\n",
       "      <td>NaN</td>\n",
       "      <td>NaN</td>\n",
       "      <td>NaN</td>\n",
       "      <td>NaN</td>\n",
       "      <td>NaN</td>\n",
       "      <td>NaN</td>\n",
       "      <td>NaN</td>\n",
       "      <td>NaN</td>\n",
       "      <td>NaN</td>\n",
       "    </tr>\n",
       "    <tr>\n",
       "      <th>3</th>\n",
       "      <td>NaT</td>\n",
       "      <td>NaN</td>\n",
       "      <td>NaN</td>\n",
       "      <td>NaN</td>\n",
       "      <td>NaN</td>\n",
       "      <td>NaN</td>\n",
       "      <td>NaN</td>\n",
       "      <td>NaN</td>\n",
       "      <td>NaN</td>\n",
       "      <td>NaN</td>\n",
       "      <td>...</td>\n",
       "      <td>NaN</td>\n",
       "      <td>{'status': {'id': 1010092958819840005, 'id_str...</td>\n",
       "      <td>NaN</td>\n",
       "      <td>NaN</td>\n",
       "      <td>NaN</td>\n",
       "      <td>NaN</td>\n",
       "      <td>NaN</td>\n",
       "      <td>NaN</td>\n",
       "      <td>NaN</td>\n",
       "      <td>NaN</td>\n",
       "    </tr>\n",
       "    <tr>\n",
       "      <th>4</th>\n",
       "      <td>2018-06-22 09:32:01+00:00</td>\n",
       "      <td>1.010093e+18</td>\n",
       "      <td>1.010093e+18</td>\n",
       "      <td>RT @taejinsus: all the BTS outros deserve bett...</td>\n",
       "      <td>&lt;a href=\"http://twitter.com/download/android\" ...</td>\n",
       "      <td>0.0</td>\n",
       "      <td>NaN</td>\n",
       "      <td>NaN</td>\n",
       "      <td>NaN</td>\n",
       "      <td>NaN</td>\n",
       "      <td>...</td>\n",
       "      <td>NaN</td>\n",
       "      <td>NaN</td>\n",
       "      <td>NaN</td>\n",
       "      <td>NaN</td>\n",
       "      <td>NaN</td>\n",
       "      <td>NaN</td>\n",
       "      <td>NaN</td>\n",
       "      <td>NaN</td>\n",
       "      <td>NaN</td>\n",
       "      <td>NaN</td>\n",
       "    </tr>\n",
       "    <tr>\n",
       "      <th>...</th>\n",
       "      <td>...</td>\n",
       "      <td>...</td>\n",
       "      <td>...</td>\n",
       "      <td>...</td>\n",
       "      <td>...</td>\n",
       "      <td>...</td>\n",
       "      <td>...</td>\n",
       "      <td>...</td>\n",
       "      <td>...</td>\n",
       "      <td>...</td>\n",
       "      <td>...</td>\n",
       "      <td>...</td>\n",
       "      <td>...</td>\n",
       "      <td>...</td>\n",
       "      <td>...</td>\n",
       "      <td>...</td>\n",
       "      <td>...</td>\n",
       "      <td>...</td>\n",
       "      <td>...</td>\n",
       "      <td>...</td>\n",
       "      <td>...</td>\n",
       "    </tr>\n",
       "    <tr>\n",
       "      <th>72145</th>\n",
       "      <td>NaT</td>\n",
       "      <td>NaN</td>\n",
       "      <td>NaN</td>\n",
       "      <td>NaN</td>\n",
       "      <td>NaN</td>\n",
       "      <td>NaN</td>\n",
       "      <td>NaN</td>\n",
       "      <td>NaN</td>\n",
       "      <td>NaN</td>\n",
       "      <td>NaN</td>\n",
       "      <td>...</td>\n",
       "      <td>NaN</td>\n",
       "      <td>{'status': {'id': 1010100013668581377, 'id_str...</td>\n",
       "      <td>NaN</td>\n",
       "      <td>NaN</td>\n",
       "      <td>NaN</td>\n",
       "      <td>NaN</td>\n",
       "      <td>NaN</td>\n",
       "      <td>NaN</td>\n",
       "      <td>NaN</td>\n",
       "      <td>NaN</td>\n",
       "    </tr>\n",
       "    <tr>\n",
       "      <th>72146</th>\n",
       "      <td>2018-06-22 09:59:27+00:00</td>\n",
       "      <td>1.010100e+18</td>\n",
       "      <td>1.010100e+18</td>\n",
       "      <td>RT @kirakira555star: １５ｇ　２００個＋α　３・４・６・８・１０ｍｍ　コ...</td>\n",
       "      <td>&lt;a href=\"http://twitter.com\" rel=\"nofollow\"&gt;Tw...</td>\n",
       "      <td>0.0</td>\n",
       "      <td>NaN</td>\n",
       "      <td>NaN</td>\n",
       "      <td>NaN</td>\n",
       "      <td>NaN</td>\n",
       "      <td>...</td>\n",
       "      <td>0.0</td>\n",
       "      <td>NaN</td>\n",
       "      <td>NaN</td>\n",
       "      <td>NaN</td>\n",
       "      <td>NaN</td>\n",
       "      <td>NaN</td>\n",
       "      <td>NaN</td>\n",
       "      <td>NaN</td>\n",
       "      <td>NaN</td>\n",
       "      <td>NaN</td>\n",
       "    </tr>\n",
       "    <tr>\n",
       "      <th>72147</th>\n",
       "      <td>2018-06-22 09:59:27+00:00</td>\n",
       "      <td>1.010100e+18</td>\n",
       "      <td>1.010100e+18</td>\n",
       "      <td>@GRND_MAiRU まいるさんだから許した😡(ちょろいオタク)\\n地獄少女の曲良すぎない...</td>\n",
       "      <td>&lt;a href=\"http://twitter.com/download/iphone\" r...</td>\n",
       "      <td>0.0</td>\n",
       "      <td>1.010100e+18</td>\n",
       "      <td>1.010100e+18</td>\n",
       "      <td>7.519702e+17</td>\n",
       "      <td>7.519702e+17</td>\n",
       "      <td>...</td>\n",
       "      <td>NaN</td>\n",
       "      <td>NaN</td>\n",
       "      <td>[12, 84]</td>\n",
       "      <td>NaN</td>\n",
       "      <td>NaN</td>\n",
       "      <td>NaN</td>\n",
       "      <td>NaN</td>\n",
       "      <td>NaN</td>\n",
       "      <td>NaN</td>\n",
       "      <td>NaN</td>\n",
       "    </tr>\n",
       "    <tr>\n",
       "      <th>72148</th>\n",
       "      <td>2018-06-22 09:59:38+00:00</td>\n",
       "      <td>1.010100e+18</td>\n",
       "      <td>1.010100e+18</td>\n",
       "      <td>なんで人間は性行為の人数を自慢するんだ？失敗してきた数だろ？それか尻軽だと思われるべきだと思...</td>\n",
       "      <td>&lt;a href=\"http://makebot.sh\" rel=\"nofollow\"&gt;ナナシ...</td>\n",
       "      <td>0.0</td>\n",
       "      <td>NaN</td>\n",
       "      <td>NaN</td>\n",
       "      <td>NaN</td>\n",
       "      <td>NaN</td>\n",
       "      <td>...</td>\n",
       "      <td>NaN</td>\n",
       "      <td>NaN</td>\n",
       "      <td>NaN</td>\n",
       "      <td>NaN</td>\n",
       "      <td>NaN</td>\n",
       "      <td>NaN</td>\n",
       "      <td>NaN</td>\n",
       "      <td>NaN</td>\n",
       "      <td>NaN</td>\n",
       "      <td>NaN</td>\n",
       "    </tr>\n",
       "    <tr>\n",
       "      <th>72149</th>\n",
       "      <td>NaT</td>\n",
       "      <td>NaN</td>\n",
       "      <td>NaN</td>\n",
       "      <td>NaN</td>\n",
       "      <td>NaN</td>\n",
       "      <td>NaN</td>\n",
       "      <td>NaN</td>\n",
       "      <td>NaN</td>\n",
       "      <td>NaN</td>\n",
       "      <td>NaN</td>\n",
       "      <td>...</td>\n",
       "      <td>NaN</td>\n",
       "      <td>{'status': {'id': 839442919094288384, 'id_str'...</td>\n",
       "      <td>NaN</td>\n",
       "      <td>NaN</td>\n",
       "      <td>NaN</td>\n",
       "      <td>NaN</td>\n",
       "      <td>NaN</td>\n",
       "      <td>NaN</td>\n",
       "      <td>NaN</td>\n",
       "      <td>NaN</td>\n",
       "    </tr>\n",
       "  </tbody>\n",
       "</table>\n",
       "<p>72150 rows × 38 columns</p>\n",
       "</div>"
      ],
      "text/plain": [
       "                     created_at            id        id_str  \\\n",
       "0     2018-06-22 09:32:01+00:00  1.010093e+18  1.010093e+18   \n",
       "1     2018-06-22 09:32:01+00:00  1.010093e+18  1.010093e+18   \n",
       "2     2018-06-22 09:32:01+00:00  1.010093e+18  1.010093e+18   \n",
       "3                           NaT           NaN           NaN   \n",
       "4     2018-06-22 09:32:01+00:00  1.010093e+18  1.010093e+18   \n",
       "...                         ...           ...           ...   \n",
       "72145                       NaT           NaN           NaN   \n",
       "72146 2018-06-22 09:59:27+00:00  1.010100e+18  1.010100e+18   \n",
       "72147 2018-06-22 09:59:27+00:00  1.010100e+18  1.010100e+18   \n",
       "72148 2018-06-22 09:59:38+00:00  1.010100e+18  1.010100e+18   \n",
       "72149                       NaT           NaN           NaN   \n",
       "\n",
       "                                                    text  \\\n",
       "0                          得点開示してもらお、それでもしトップ3入ってたら絶対訴える   \n",
       "1      RT @tatanakan: ？？？？？？？？？？？？？？？？？？？？？？？？？？？？？？？...   \n",
       "2      ふなっしー　チャーム付ボールペン 青【ふなっしーグッズ/文房具/筆記具/ボールペン/文具/可...   \n",
       "3                                                    NaN   \n",
       "4      RT @taejinsus: all the BTS outros deserve bett...   \n",
       "...                                                  ...   \n",
       "72145                                                NaN   \n",
       "72146  RT @kirakira555star: １５ｇ　２００個＋α　３・４・６・８・１０ｍｍ　コ...   \n",
       "72147  @GRND_MAiRU まいるさんだから許した😡(ちょろいオタク)\\n地獄少女の曲良すぎない...   \n",
       "72148  なんで人間は性行為の人数を自慢するんだ？失敗してきた数だろ？それか尻軽だと思われるべきだと思...   \n",
       "72149                                                NaN   \n",
       "\n",
       "                                                  source  truncated  \\\n",
       "0      <a href=\"http://twitter.com/download/iphone\" r...        0.0   \n",
       "1      <a href=\"http://twitter.com/download/android\" ...        0.0   \n",
       "2      <a href=\"https://twitter.com/funassyi_cafe\" re...        0.0   \n",
       "3                                                    NaN        NaN   \n",
       "4      <a href=\"http://twitter.com/download/android\" ...        0.0   \n",
       "...                                                  ...        ...   \n",
       "72145                                                NaN        NaN   \n",
       "72146  <a href=\"http://twitter.com\" rel=\"nofollow\">Tw...        0.0   \n",
       "72147  <a href=\"http://twitter.com/download/iphone\" r...        0.0   \n",
       "72148  <a href=\"http://makebot.sh\" rel=\"nofollow\">ナナシ...        0.0   \n",
       "72149                                                NaN        NaN   \n",
       "\n",
       "       in_reply_to_status_id  in_reply_to_status_id_str  in_reply_to_user_id  \\\n",
       "0                        NaN                        NaN                  NaN   \n",
       "1                        NaN                        NaN                  NaN   \n",
       "2                        NaN                        NaN                  NaN   \n",
       "3                        NaN                        NaN                  NaN   \n",
       "4                        NaN                        NaN                  NaN   \n",
       "...                      ...                        ...                  ...   \n",
       "72145                    NaN                        NaN                  NaN   \n",
       "72146                    NaN                        NaN                  NaN   \n",
       "72147           1.010100e+18               1.010100e+18         7.519702e+17   \n",
       "72148                    NaN                        NaN                  NaN   \n",
       "72149                    NaN                        NaN                  NaN   \n",
       "\n",
       "       in_reply_to_user_id_str  ... possibly_sensitive  \\\n",
       "0                          NaN  ...                NaN   \n",
       "1                          NaN  ...                NaN   \n",
       "2                          NaN  ...                0.0   \n",
       "3                          NaN  ...                NaN   \n",
       "4                          NaN  ...                NaN   \n",
       "...                        ...  ...                ...   \n",
       "72145                      NaN  ...                NaN   \n",
       "72146                      NaN  ...                0.0   \n",
       "72147             7.519702e+17  ...                NaN   \n",
       "72148                      NaN  ...                NaN   \n",
       "72149                      NaN  ...                NaN   \n",
       "\n",
       "                                                  delete display_text_range  \\\n",
       "0                                                    NaN                NaN   \n",
       "1                                                    NaN                NaN   \n",
       "2                                                    NaN                NaN   \n",
       "3      {'status': {'id': 1010092958819840005, 'id_str...                NaN   \n",
       "4                                                    NaN                NaN   \n",
       "...                                                  ...                ...   \n",
       "72145  {'status': {'id': 1010100013668581377, 'id_str...                NaN   \n",
       "72146                                                NaN                NaN   \n",
       "72147                                                NaN           [12, 84]   \n",
       "72148                                                NaN                NaN   \n",
       "72149  {'status': {'id': 839442919094288384, 'id_str'...                NaN   \n",
       "\n",
       "      quoted_status_id quoted_status_id_str  quoted_status  \\\n",
       "0                  NaN                  NaN            NaN   \n",
       "1                  NaN                  NaN            NaN   \n",
       "2                  NaN                  NaN            NaN   \n",
       "3                  NaN                  NaN            NaN   \n",
       "4                  NaN                  NaN            NaN   \n",
       "...                ...                  ...            ...   \n",
       "72145              NaN                  NaN            NaN   \n",
       "72146              NaN                  NaN            NaN   \n",
       "72147              NaN                  NaN            NaN   \n",
       "72148              NaN                  NaN            NaN   \n",
       "72149              NaN                  NaN            NaN   \n",
       "\n",
       "       quoted_status_permalink  extended_entities  extended_tweet  \\\n",
       "0                          NaN                NaN             NaN   \n",
       "1                          NaN                NaN             NaN   \n",
       "2                          NaN                NaN             NaN   \n",
       "3                          NaN                NaN             NaN   \n",
       "4                          NaN                NaN             NaN   \n",
       "...                        ...                ...             ...   \n",
       "72145                      NaN                NaN             NaN   \n",
       "72146                      NaN                NaN             NaN   \n",
       "72147                      NaN                NaN             NaN   \n",
       "72148                      NaN                NaN             NaN   \n",
       "72149                      NaN                NaN             NaN   \n",
       "\n",
       "       withheld_in_countries  \n",
       "0                        NaN  \n",
       "1                        NaN  \n",
       "2                        NaN  \n",
       "3                        NaN  \n",
       "4                        NaN  \n",
       "...                      ...  \n",
       "72145                    NaN  \n",
       "72146                    NaN  \n",
       "72147                    NaN  \n",
       "72148                    NaN  \n",
       "72149                    NaN  \n",
       "\n",
       "[72150 rows x 38 columns]"
      ]
     },
     "execution_count": 122,
     "metadata": {},
     "output_type": "execute_result"
    }
   ],
   "source": [
    "df_twitter"
   ]
  },
  {
   "cell_type": "markdown",
   "id": "1f8d6e82-6d54-41e4-a944-5ed2cbc2d348",
   "metadata": {},
   "source": [
    "<div style=\"border: 2px solid black; padding: 10px; border-radius: 5px;\">\n",
    "\n",
    "`df_twitter.columns`\n",
    "* This line accesses the column names of the `df_twitter DataFrame`\n",
    "* The output displays a list of all the column names present in the DataFrame, which represent the different attributes or features associated with each tweet in the dataset."
   ]
  },
  {
   "cell_type": "code",
   "execution_count": 123,
   "id": "db8880da-ba99-453b-8c84-f94171d1f7a4",
   "metadata": {
    "execution": {
     "iopub.execute_input": "2025-01-29T04:51:37.082249Z",
     "iopub.status.busy": "2025-01-29T04:51:37.081853Z",
     "iopub.status.idle": "2025-01-29T04:51:37.089330Z",
     "shell.execute_reply": "2025-01-29T04:51:37.088128Z",
     "shell.execute_reply.started": "2025-01-29T04:51:37.082217Z"
    }
   },
   "outputs": [
    {
     "data": {
      "text/plain": [
       "Index(['created_at', 'id', 'id_str', 'text', 'source', 'truncated',\n",
       "       'in_reply_to_status_id', 'in_reply_to_status_id_str',\n",
       "       'in_reply_to_user_id', 'in_reply_to_user_id_str',\n",
       "       'in_reply_to_screen_name', 'user', 'geo', 'coordinates', 'place',\n",
       "       'contributors', 'is_quote_status', 'quote_count', 'reply_count',\n",
       "       'retweet_count', 'favorite_count', 'entities', 'favorited', 'retweeted',\n",
       "       'filter_level', 'lang', 'timestamp_ms', 'retweeted_status',\n",
       "       'possibly_sensitive', 'delete', 'display_text_range',\n",
       "       'quoted_status_id', 'quoted_status_id_str', 'quoted_status',\n",
       "       'quoted_status_permalink', 'extended_entities', 'extended_tweet',\n",
       "       'withheld_in_countries'],\n",
       "      dtype='object')"
      ]
     },
     "execution_count": 123,
     "metadata": {},
     "output_type": "execute_result"
    }
   ],
   "source": [
    "df_twitter.columns"
   ]
  },
  {
   "cell_type": "markdown",
   "id": "c951580a-9e5e-412a-adca-6c8a1e817d16",
   "metadata": {
    "execution": {
     "iopub.execute_input": "2025-01-29T04:52:24.678054Z",
     "iopub.status.busy": "2025-01-29T04:52:24.677508Z",
     "iopub.status.idle": "2025-01-29T04:52:24.686447Z",
     "shell.execute_reply": "2025-01-29T04:52:24.684827Z",
     "shell.execute_reply.started": "2025-01-29T04:52:24.678006Z"
    }
   },
   "source": [
    "<div style=\"border: 2px solid black; padding: 10px; border-radius: 5px;\">\n",
    "\n",
    "`df_twitter['user']`\n",
    "* This line selects the entire `user` column from the DataFrame.\n",
    "* The output shows a Series (a one-dimensional array-like object in pandas) containing the user information for each tweet.\n",
    "* Each element in this Series is a dictionary, representing the user object associated with that particular tweet."
   ]
  },
  {
   "cell_type": "code",
   "execution_count": 125,
   "id": "e23624e6-cad8-49d6-80c7-a8da5b1567b6",
   "metadata": {
    "execution": {
     "iopub.execute_input": "2025-01-29T04:52:34.898939Z",
     "iopub.status.busy": "2025-01-29T04:52:34.898393Z",
     "iopub.status.idle": "2025-01-29T04:52:34.913495Z",
     "shell.execute_reply": "2025-01-29T04:52:34.912253Z",
     "shell.execute_reply.started": "2025-01-29T04:52:34.898894Z"
    }
   },
   "outputs": [
    {
     "data": {
      "text/plain": [
       "0        {'id': 828743842237001728, 'id_str': '82874384...\n",
       "1        {'id': 783267905001562113, 'id_str': '78326790...\n",
       "2        {'id': 2791090622, 'id_str': '2791090622', 'na...\n",
       "3                                                      NaN\n",
       "4        {'id': 762235935631237120, 'id_str': '76223593...\n",
       "                               ...                        \n",
       "72145                                                  NaN\n",
       "72146    {'id': 728074227106996227, 'id_str': '72807422...\n",
       "72147    {'id': 930610682134802432, 'id_str': '93061068...\n",
       "72148    {'id': 1364190668, 'id_str': '1364190668', 'na...\n",
       "72149                                                  NaN\n",
       "Name: user, Length: 72150, dtype: object"
      ]
     },
     "execution_count": 125,
     "metadata": {},
     "output_type": "execute_result"
    }
   ],
   "source": [
    "df_twitter['user']"
   ]
  },
  {
   "cell_type": "markdown",
   "id": "ea700908-1b8d-4b34-8f2e-d3676eeb84ed",
   "metadata": {},
   "source": [
    "<div style=\"border: 2px solid black; padding: 10px; border-radius: 5px;\">\n",
    "\n",
    "`df_twitter['user']`\n",
    "* This selects the entire 'user' column from the DataFrame. The 'user' column likely contains dictionaries, where each dictionary represents information about the user who posted a specific tweet.\n",
    "\n",
    "`.str`\n",
    "* This method is used to access string-like methods on each element of the Series. Since the 'user' column contains dictionaries, the `.str` method is used to access attributes within those dictionaries.\n",
    "\n",
    "`['id']` This accesses the 'id' key within each user dictionary in the Series."
   ]
  },
  {
   "cell_type": "code",
   "execution_count": 126,
   "id": "c6c92a41-56e8-4360-8992-4b59daf0e7cd",
   "metadata": {
    "execution": {
     "iopub.execute_input": "2025-01-29T04:54:31.130586Z",
     "iopub.status.busy": "2025-01-29T04:54:31.130046Z",
     "iopub.status.idle": "2025-01-29T04:54:31.234339Z",
     "shell.execute_reply": "2025-01-29T04:54:31.233299Z",
     "shell.execute_reply.started": "2025-01-29T04:54:31.130542Z"
    }
   },
   "outputs": [
    {
     "data": {
      "text/plain": [
       "0        8.287438e+17\n",
       "1        7.832679e+17\n",
       "2        2.791091e+09\n",
       "3                 NaN\n",
       "4        7.622359e+17\n",
       "             ...     \n",
       "72145             NaN\n",
       "72146    7.280742e+17\n",
       "72147    9.306107e+17\n",
       "72148    1.364191e+09\n",
       "72149             NaN\n",
       "Name: user, Length: 72150, dtype: float64"
      ]
     },
     "execution_count": 126,
     "metadata": {},
     "output_type": "execute_result"
    }
   ],
   "source": [
    "df_twitter['user'].str['id']"
   ]
  }
 ],
 "metadata": {
  "kernelspec": {
   "display_name": "Python [conda env:base] *",
   "language": "python",
   "name": "conda-base-py"
  },
  "language_info": {
   "codemirror_mode": {
    "name": "ipython",
    "version": 3
   },
   "file_extension": ".py",
   "mimetype": "text/x-python",
   "name": "python",
   "nbconvert_exporter": "python",
   "pygments_lexer": "ipython3",
   "version": "3.12.8"
  }
 },
 "nbformat": 4,
 "nbformat_minor": 5
}
