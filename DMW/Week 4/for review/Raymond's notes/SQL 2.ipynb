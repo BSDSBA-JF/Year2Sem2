{
 "cells": [
  {
   "cell_type": "code",
   "execution_count": 18,
   "id": "7854d6c2-6041-4728-ba5b-44533990e614",
   "metadata": {
    "execution": {
     "iopub.execute_input": "2025-02-09T07:19:36.964031Z",
     "iopub.status.busy": "2025-02-09T07:19:36.963322Z",
     "iopub.status.idle": "2025-02-09T07:19:36.971036Z",
     "shell.execute_reply": "2025-02-09T07:19:36.969500Z",
     "shell.execute_reply.started": "2025-02-09T07:19:36.963973Z"
    }
   },
   "outputs": [],
   "source": [
    "import sqlite3"
   ]
  },
  {
   "cell_type": "code",
   "execution_count": 19,
   "id": "6c580bbb-c9d7-4dfd-8360-a44965fc308b",
   "metadata": {
    "execution": {
     "iopub.execute_input": "2025-02-09T07:19:37.266330Z",
     "iopub.status.busy": "2025-02-09T07:19:37.265648Z",
     "iopub.status.idle": "2025-02-09T07:19:37.273714Z",
     "shell.execute_reply": "2025-02-09T07:19:37.271916Z",
     "shell.execute_reply.started": "2025-02-09T07:19:37.266272Z"
    }
   },
   "outputs": [],
   "source": [
    "conn = sqlite3.connect(':memory:')"
   ]
  },
  {
   "cell_type": "code",
   "execution_count": 20,
   "id": "0d568e23-5b36-43b4-8f70-a88b3aa4e660",
   "metadata": {
    "execution": {
     "iopub.execute_input": "2025-02-09T07:19:37.392919Z",
     "iopub.status.busy": "2025-02-09T07:19:37.392281Z",
     "iopub.status.idle": "2025-02-09T07:19:37.399835Z",
     "shell.execute_reply": "2025-02-09T07:19:37.398288Z",
     "shell.execute_reply.started": "2025-02-09T07:19:37.392863Z"
    }
   },
   "outputs": [],
   "source": [
    "cursor = conn.cursor()"
   ]
  },
  {
   "cell_type": "code",
   "execution_count": 21,
   "id": "b89abce0-bf88-4a18-989b-78c08834e258",
   "metadata": {
    "execution": {
     "iopub.execute_input": "2025-02-09T07:19:37.529593Z",
     "iopub.status.busy": "2025-02-09T07:19:37.528476Z",
     "iopub.status.idle": "2025-02-09T07:19:37.539198Z",
     "shell.execute_reply": "2025-02-09T07:19:37.537578Z",
     "shell.execute_reply.started": "2025-02-09T07:19:37.529521Z"
    }
   },
   "outputs": [
    {
     "data": {
      "text/plain": [
       "<sqlite3.Cursor at 0x72f5600806c0>"
      ]
     },
     "execution_count": 21,
     "metadata": {},
     "output_type": "execute_result"
    }
   ],
   "source": [
    "cursor.executescript(\n",
    "    \"\"\"\n",
    "    CREATE TABLE IF NOT EXISTS mytable2 (\n",
    "        col1 TEXT NOT NULL,\n",
    "        col2 TEXT,\n",
    "        col3 INTEGER UNIQUE,\n",
    "        col4 REAL NOT NULL UNIQUE\n",
    "    );\n",
    "    \n",
    "    CREATE TABLE IF NOT EXISTS mytable2 (\n",
    "        col1 TEXT NOT NULL,\n",
    "        col2 TEXT,\n",
    "        col3 INTEGER UNIQUE,\n",
    "        col4 REAL NOT NULL UNIQUE\n",
    "    );\n",
    "    \"\"\"\n",
    ")"
   ]
  },
  {
   "cell_type": "markdown",
   "id": "a53f26ad-faef-40de-bba5-430623a6d7dc",
   "metadata": {
    "execution": {
     "iopub.execute_input": "2025-02-09T06:43:18.544785Z",
     "iopub.status.busy": "2025-02-09T06:43:18.543342Z",
     "iopub.status.idle": "2025-02-09T06:43:18.556012Z",
     "shell.execute_reply": "2025-02-09T06:43:18.553718Z",
     "shell.execute_reply.started": "2025-02-09T06:43:18.544723Z"
    }
   },
   "source": [
    "`cursor.executescript(...)` → Executes **multiple SQL statements** at once.\n",
    "\n",
    "`CREATE TABLE IF NOT EXISTS mytable2 (...)`:\n",
    "- Ensures that `mytable2` exists before creating it, preventing errors if it already exists.\n",
    "- Defines **4 columns**:\n",
    "    - `col1 TEXT NOT NULL` → Cannot be `NULL`, stores text.\n",
    "    - `col2 TEXT` → Optional text column.\n",
    "    - `col3 INTEGER UNIQUE` → Must be an **integer**, values must be **unique**.\n",
    "    - `col4 REAL NOT NULL UNIQUE` → Must be a **real (decimal) number**, must be **unique**, cannot be `NULL`.\n",
    "\n",
    "**The same table creation statement is duplicated** within `executescript()`, which is unnecessary.\n"
   ]
  },
  {
   "cell_type": "code",
   "execution_count": 22,
   "id": "d1cf44c5-dd70-4ae8-aaf0-84e4ea1664e1",
   "metadata": {
    "execution": {
     "iopub.execute_input": "2025-02-09T07:19:38.158626Z",
     "iopub.status.busy": "2025-02-09T07:19:38.157928Z",
     "iopub.status.idle": "2025-02-09T07:19:38.169618Z",
     "shell.execute_reply": "2025-02-09T07:19:38.168154Z",
     "shell.execute_reply.started": "2025-02-09T07:19:38.158548Z"
    }
   },
   "outputs": [
    {
     "data": {
      "text/plain": [
       "[(0, 'col1', 'TEXT', 1, None, 0),\n",
       " (1, 'col2', 'TEXT', 0, None, 0),\n",
       " (2, 'col3', 'INTEGER', 0, None, 0),\n",
       " (3, 'col4', 'REAL', 1, None, 0)]"
      ]
     },
     "execution_count": 22,
     "metadata": {},
     "output_type": "execute_result"
    }
   ],
   "source": [
    "cursor.execute('PRAGMA table_info(\"mytable2\")').fetchall()"
   ]
  },
  {
   "cell_type": "markdown",
   "id": "40cdc797-2d5c-44be-9b63-f85fa1de9335",
   "metadata": {},
   "source": [
    "`PRAGMA table_info(\"mytable2\")` → This **queries metadata** about the structure of the table `mytable2`, returning details about its columns.\n",
    "\n",
    "`.execute(...)` → Runs the SQL command using the SQLite cursor.\n",
    "\n",
    "`.fetchall()` → Retrieves **all rows** from the result, returning them as a **list of tuples**.`"
   ]
  },
  {
   "cell_type": "code",
   "execution_count": 23,
   "id": "2353ac66-b6a4-4b68-a1a1-e0a65c3cb495",
   "metadata": {
    "execution": {
     "iopub.execute_input": "2025-02-09T07:19:39.074253Z",
     "iopub.status.busy": "2025-02-09T07:19:39.073381Z",
     "iopub.status.idle": "2025-02-09T07:19:39.084515Z",
     "shell.execute_reply": "2025-02-09T07:19:39.082978Z",
     "shell.execute_reply.started": "2025-02-09T07:19:39.074191Z"
    }
   },
   "outputs": [
    {
     "data": {
      "text/plain": [
       "<sqlite3.Cursor at 0x72f560083140>"
      ]
     },
     "execution_count": 23,
     "metadata": {},
     "output_type": "execute_result"
    }
   ],
   "source": [
    "conn.execute(\"\"\"\n",
    "INSERT INTO mytable2\n",
    "VALUES ('hello', 'value', 123, 1.23)\n",
    "\"\"\")"
   ]
  },
  {
   "cell_type": "markdown",
   "id": "0514566d-37d9-4164-95b4-00830396c497",
   "metadata": {},
   "source": [
    "`INSERT INTO mytable2` → Specifies that a new row is being inserted into the `mytable2` table.  \n",
    "`VALUES ('hello', 'value', 123, 1.23)` → Provides **four values** that match the **columns** in `mytable2`:\n",
    "- `'hello'` → First column (`col1`, TEXT)\n",
    "- `'value'` → Second column (`col2`, TEXT)\n",
    "- `123` → Third column (`col3`, INTEGER)\n",
    "- `1.23` → Fourth column (`col4`, REAL)  \n",
    "\n",
    "`conn.execute(...)` → Executes the SQL command using the SQLite connection (conn)."
   ]
  },
  {
   "cell_type": "code",
   "execution_count": 24,
   "id": "e8c5f8e7-585a-410d-bf21-29ab78ccee3d",
   "metadata": {
    "execution": {
     "iopub.execute_input": "2025-02-09T07:19:40.913237Z",
     "iopub.status.busy": "2025-02-09T07:19:40.912548Z",
     "iopub.status.idle": "2025-02-09T07:19:40.923560Z",
     "shell.execute_reply": "2025-02-09T07:19:40.922099Z",
     "shell.execute_reply.started": "2025-02-09T07:19:40.913179Z"
    }
   },
   "outputs": [
    {
     "data": {
      "text/plain": [
       "[('hello', 'value', 123, 1.23)]"
      ]
     },
     "execution_count": 24,
     "metadata": {},
     "output_type": "execute_result"
    }
   ],
   "source": [
    "conn.execute(\"\"\"\n",
    "SELECT * FROM mytable2\n",
    "\"\"\").fetchall()"
   ]
  },
  {
   "cell_type": "markdown",
   "id": "8f54baf6-a0a4-42f8-9ea0-2d15abec44f9",
   "metadata": {},
   "source": [
    "This indicates that the table `mytable2` contains **one row**:  \n",
    "`'hello'` → First column (`col1`, TEXT)  \n",
    "`'value'` → Second column (`col2`, TEXT)  \n",
    "`123` → Third column (`col3`, INTEGER)  \n",
    "`1.23` → Fourth column (`col4`, REAL)  \n"
   ]
  },
  {
   "cell_type": "code",
   "execution_count": 27,
   "id": "d4a2d720-6b7c-47fa-87ef-2b7786546565",
   "metadata": {
    "execution": {
     "iopub.execute_input": "2025-02-09T07:35:07.837759Z",
     "iopub.status.busy": "2025-02-09T07:35:07.836557Z",
     "iopub.status.idle": "2025-02-09T07:35:07.848234Z",
     "shell.execute_reply": "2025-02-09T07:35:07.846976Z",
     "shell.execute_reply.started": "2025-02-09T07:35:07.837698Z"
    }
   },
   "outputs": [
    {
     "data": {
      "text/plain": [
       "<sqlite3.Cursor at 0x72f55b5a9040>"
      ]
     },
     "execution_count": 27,
     "metadata": {},
     "output_type": "execute_result"
    }
   ],
   "source": [
    "col1 = 'hello'\n",
    "col2 = 'value'\n",
    "col3 = 124\n",
    "col4 = 1.24\n",
    "conn.execute(f\"\"\"\n",
    "INSERT INTO mytable2\n",
    "VALUES ('{col1}', '{col2}', {col3}, {col4})\n",
    "\"\"\")"
   ]
  },
  {
   "attachments": {
    "bf35a9a8-779a-48c9-8ad3-beb0ac36cde9.png": {
     "image/png": "[encoded data removed]"
    }
   },
   "cell_type": "markdown",
   "id": "f0e9239e-9c42-4e19-a36e-16c1c6badaa6",
   "metadata": {},
   "source": [
    "This code inserts a new row into the SQLite table `mytable2` with the following values:\n",
    "![image.png](attachment:bf35a9a8-779a-48c9-8ad3-beb0ac36cde9.png)"
   ]
  },
  {
   "cell_type": "code",
   "execution_count": 28,
   "id": "7843a315-a99b-4864-8f0b-1687b5095541",
   "metadata": {
    "execution": {
     "iopub.execute_input": "2025-02-09T07:35:11.676133Z",
     "iopub.status.busy": "2025-02-09T07:35:11.674732Z",
     "iopub.status.idle": "2025-02-09T07:35:11.686023Z",
     "shell.execute_reply": "2025-02-09T07:35:11.684611Z",
     "shell.execute_reply.started": "2025-02-09T07:35:11.676076Z"
    }
   },
   "outputs": [
    {
     "data": {
      "text/plain": [
       "<sqlite3.Cursor at 0x72f55b5a9dc0>"
      ]
     },
     "execution_count": 28,
     "metadata": {},
     "output_type": "execute_result"
    }
   ],
   "source": [
    "conn.execute(f\"\"\"\n",
    "INSERT INTO mytable2\n",
    "VALUES ('hello', 'value', 42, 5.555)\n",
    "\"\"\")"
   ]
  },
  {
   "cell_type": "markdown",
   "id": "e477ca35-7bca-4a8a-b25d-2de79c28af97",
   "metadata": {},
   "source": [
    "- The `INSERT INTO mytable2` command is used to add a new row into the `mytable2` table.\n",
    "- The VALUES (`'hello'`, `'value'`, `42`, `5.555`) correspond to the table's columns."
   ]
  },
  {
   "cell_type": "code",
   "execution_count": 30,
   "id": "d616cffb-bf67-4632-a272-fc9da61e8187",
   "metadata": {
    "execution": {
     "iopub.execute_input": "2025-02-09T07:43:52.748307Z",
     "iopub.status.busy": "2025-02-09T07:43:52.747643Z",
     "iopub.status.idle": "2025-02-09T07:43:52.760051Z",
     "shell.execute_reply": "2025-02-09T07:43:52.757948Z",
     "shell.execute_reply.started": "2025-02-09T07:43:52.748250Z"
    }
   },
   "outputs": [
    {
     "data": {
      "text/plain": [
       "[('hello', 'value', 123, 1.23),\n",
       " ('hello', 'value', 124, 1.24),\n",
       " ('hello', 'value', 42, 5.555)]"
      ]
     },
     "execution_count": 30,
     "metadata": {},
     "output_type": "execute_result"
    }
   ],
   "source": [
    "conn.execute(\"\"\"\n",
    "SELECT * FROM mytable2\n",
    "\"\"\").fetchall()"
   ]
  },
  {
   "cell_type": "markdown",
   "id": "f8dd92f7-56f3-4188-8bb6-1ccbf9625785",
   "metadata": {},
   "source": [
    "The `SELECT * FROM mytable2` statement selects **all columns** (`*` means all) and **all rows** from the `mytable2` table.\n",
    "\n",
    "The `.fetchall()` method retrieves all the rows and stores them as a list of tuples."
   ]
  },
  {
   "cell_type": "code",
   "execution_count": 13,
   "id": "080b62aa-0075-43b2-bd1c-c64051a3871f",
   "metadata": {
    "execution": {
     "iopub.execute_input": "2025-02-09T07:11:57.701215Z",
     "iopub.status.busy": "2025-02-09T07:11:57.700528Z",
     "iopub.status.idle": "2025-02-09T07:11:57.713873Z",
     "shell.execute_reply": "2025-02-09T07:11:57.712011Z",
     "shell.execute_reply.started": "2025-02-09T07:11:57.701158Z"
    }
   },
   "outputs": [
    {
     "data": {
      "text/plain": [
       "<sqlite3.Cursor at 0x72f55bf155c0>"
      ]
     },
     "execution_count": 13,
     "metadata": {},
     "output_type": "execute_result"
    }
   ],
   "source": [
    "col1 = 'hello'\n",
    "col2 = 'value'\n",
    "col3 = 24234\n",
    "col4 = 322.2\n",
    "conn.execute(f\"\"\"\n",
    "INSERT INTO mytable2\n",
    "VALUES ('{col1}', '{col2}', {col3}, {col4})\n",
    "\"\"\")"
   ]
  },
  {
   "cell_type": "markdown",
   "id": "e409628b-da54-4ede-afc0-5b07a34ac43f",
   "metadata": {},
   "source": [
    "**Variable Assignment**  \n",
    "- `col1 = 'hello'` → First column (`TEXT`)\n",
    "- `col2 = 'value'` → Second column (`TEXT`)\n",
    "- `col3 = 24234` → Third column (`INTEGER`)\n",
    "- `col4 = 322.2` → Fourth column (`REAL`)\n",
    "\n",
    "**Formatted SQL Query**\n",
    "- The `f\"\"\"...\"\"\"` **f-string** dynamically inserts these values into the `INSERT INTO` statement.\n",
    "- This **adds a new row** into `mytable2` with the given values."
   ]
  },
  {
   "cell_type": "code",
   "execution_count": 31,
   "id": "72540f08-a072-4116-8adc-6fee244f98e2",
   "metadata": {
    "execution": {
     "iopub.execute_input": "2025-02-09T09:36:57.597026Z",
     "iopub.status.busy": "2025-02-09T09:36:57.596344Z",
     "iopub.status.idle": "2025-02-09T09:36:57.609594Z",
     "shell.execute_reply": "2025-02-09T09:36:57.607933Z",
     "shell.execute_reply.started": "2025-02-09T09:36:57.596971Z"
    }
   },
   "outputs": [
    {
     "data": {
      "text/plain": [
       "[('hello', 'value', 123, 1.23),\n",
       " ('hello', 'value', 124, 1.24),\n",
       " ('hello', 'value', 42, 5.555)]"
      ]
     },
     "execution_count": 31,
     "metadata": {},
     "output_type": "execute_result"
    }
   ],
   "source": [
    "conn.execute(\"\"\"\n",
    "SELECT * FROM mytable2\n",
    "\"\"\").fetchall()"
   ]
  },
  {
   "cell_type": "code",
   "execution_count": 21,
   "id": "63723a22-d3cb-4dc8-bc43-cefcbae352be",
   "metadata": {
    "execution": {
     "iopub.execute_input": "2025-02-03T08:03:43.199119Z",
     "iopub.status.busy": "2025-02-03T08:03:43.198419Z",
     "iopub.status.idle": "2025-02-03T08:03:43.208228Z",
     "shell.execute_reply": "2025-02-03T08:03:43.206672Z",
     "shell.execute_reply.started": "2025-02-03T08:03:43.199061Z"
    }
   },
   "outputs": [
    {
     "name": "stdout",
     "output_type": "stream",
     "text": [
      "\n",
      "INSERT INTO mytable2\n",
      "VALUES ('hello', 'world', 464, 454.3); DROP TABLE mytable2; --', 'value', 24234, 322.2)\n",
      "\n"
     ]
    }
   ],
   "source": [
    "col1 = \"hello', 'world', 464, 454.3); DROP TABLE mytable2; --\"\n",
    "col2 = 'value'\n",
    "col3 = 24234\n",
    "col4 = 322.2\n",
    "print(f\"\"\"\n",
    "INSERT INTO mytable2\n",
    "VALUES ('{col1}', '{col2}', {col3}, {col4})\n",
    "\"\"\")"
   ]
  },
  {
   "cell_type": "markdown",
   "id": "7a06fc8b-3370-4fd1-b01b-25ccdbf24da5",
   "metadata": {},
   "source": [
    "`SELECT * FROM mytable2` → This SQL query retrieves **all columns** (`*`) and **all rows** from the table mytable2.  \n",
    "`.fetchall()` → Retrieves all the rows returned by the query as a list of tuples."
   ]
  },
  {
   "cell_type": "code",
   "execution_count": 32,
   "id": "676ed3cd-7681-4945-b859-5b313c11c4fd",
   "metadata": {
    "execution": {
     "iopub.execute_input": "2025-02-10T01:18:10.338239Z",
     "iopub.status.busy": "2025-02-10T01:18:10.337547Z",
     "iopub.status.idle": "2025-02-10T01:18:10.349688Z",
     "shell.execute_reply": "2025-02-10T01:18:10.347997Z",
     "shell.execute_reply.started": "2025-02-10T01:18:10.338182Z"
    }
   },
   "outputs": [
    {
     "data": {
      "text/plain": [
       "<sqlite3.Cursor at 0x72f55b5a8cc0>"
      ]
     },
     "execution_count": 32,
     "metadata": {},
     "output_type": "execute_result"
    }
   ],
   "source": [
    "col1 = \"hello', 'world', 464, 454.3); DROP TABLE mytable2; --\"\n",
    "col2 = 'value'\n",
    "col3 = 24234\n",
    "col4 = 322.2\n",
    "conn.executescript(f\"\"\"\n",
    "INSERT INTO mytable2\n",
    "VALUES ('{col1}', '{col2}', {col3}, {col4})\n",
    "\"\"\")"
   ]
  },
  {
   "cell_type": "markdown",
   "id": "eaf52b8a-1d57-4672-9ef9-3f56199fb0bd",
   "metadata": {},
   "source": [
    "This code is an example of an **SQL Injection Attack**\n",
    "- Variable `col1` contains a malicious **SQL payload**:\n",
    "    - The input **closes the `VALUES` clause** of the `INSERT` statement.\n",
    "    - Appends **another SQL command**: `DROP TABLE mytable2;`\n",
    "        - This command **deletes the table**\n",
    "    - The `--` at the end **comments out** anything following it, preventing syntax errors.\n",
    "- **SQL Command Executed:** The `executescript(f\"\"\"...\"\"\")` function runs the following **dangerous SQL query**:  \n",
    "    `INSERT INTO mytable2 VALUES ('hello', 'world', 464, 454.3);`  \n",
    "    `DROP TABLE mytable2;`\n",
    "- The first command **inserts a row** into `mytable2`.  \n",
    "- The second command **deletes the entire table** `mytable2`."
   ]
  },
  {
   "cell_type": "code",
   "execution_count": 33,
   "id": "8f4fac92-9178-4b41-8fdf-14a602e1830e",
   "metadata": {
    "execution": {
     "iopub.execute_input": "2025-02-10T01:24:51.586825Z",
     "iopub.status.busy": "2025-02-10T01:24:51.586121Z",
     "iopub.status.idle": "2025-02-10T01:24:51.616173Z",
     "shell.execute_reply": "2025-02-10T01:24:51.615096Z",
     "shell.execute_reply.started": "2025-02-10T01:24:51.586767Z"
    }
   },
   "outputs": [
    {
     "ename": "OperationalError",
     "evalue": "no such table: mytable2",
     "output_type": "error",
     "traceback": [
      "\u001b[0;31m---------------------------------------------------------------------------\u001b[0m",
      "\u001b[0;31mOperationalError\u001b[0m                          Traceback (most recent call last)",
      "Cell \u001b[0;32mIn[33], line 1\u001b[0m\n\u001b[0;32m----> 1\u001b[0m \u001b[43mconn\u001b[49m\u001b[38;5;241;43m.\u001b[39;49m\u001b[43mexecute\u001b[49m\u001b[43m(\u001b[49m\u001b[38;5;124;43m\"\"\"\u001b[39;49m\n\u001b[1;32m      2\u001b[0m \u001b[38;5;124;43mSELECT * FROM mytable2\u001b[39;49m\n\u001b[1;32m      3\u001b[0m \u001b[38;5;124;43m\"\"\"\u001b[39;49m\u001b[43m)\u001b[49m\u001b[38;5;241m.\u001b[39mfetchall()\n",
      "\u001b[0;31mOperationalError\u001b[0m: no such table: mytable2"
     ]
    }
   ],
   "source": [
    "conn.execute(\"\"\"\n",
    "SELECT * FROM mytable2\n",
    "\"\"\").fetchall()"
   ]
  },
  {
   "cell_type": "markdown",
   "id": "e1310d75-b101-4e33-9b50-d591c5f6d843",
   "metadata": {},
   "source": [
    "The `OperationalError` proves that the table `mytable2` does not exist and was **deleted**"
   ]
  },
  {
   "cell_type": "code",
   "execution_count": 35,
   "id": "4d040e60-b059-41c1-9300-a4f473405ab7",
   "metadata": {
    "execution": {
     "iopub.execute_input": "2025-02-10T01:38:18.253194Z",
     "iopub.status.busy": "2025-02-10T01:38:18.252514Z",
     "iopub.status.idle": "2025-02-10T01:38:18.263514Z",
     "shell.execute_reply": "2025-02-10T01:38:18.261967Z",
     "shell.execute_reply.started": "2025-02-10T01:38:18.253139Z"
    }
   },
   "outputs": [
    {
     "data": {
      "text/plain": [
       "<sqlite3.Cursor at 0x72f5600806c0>"
      ]
     },
     "execution_count": 35,
     "metadata": {},
     "output_type": "execute_result"
    }
   ],
   "source": [
    "cursor.executescript(\n",
    "    \"\"\"\n",
    "    CREATE TABLE IF NOT EXISTS mytable2 (\n",
    "        col1 TEXT NOT NULL,\n",
    "        col2 TEXT,\n",
    "        col3 INTEGER UNIQUE,\n",
    "        col4 REAL NOT NULL UNIQUE\n",
    "    );\n",
    "    \n",
    "    CREATE TABLE IF NOT EXISTS mytable2 (\n",
    "        col1 TEXT NOT NULL,\n",
    "        col2 TEXT,\n",
    "        col3 INTEGER UNIQUE,\n",
    "        col4 REAL NOT NULL UNIQUE\n",
    "    );\n",
    "    \"\"\"\n",
    ")"
   ]
  },
  {
   "cell_type": "markdown",
   "id": "742a126d-8fcd-428d-87ca-b6e33bf9f956",
   "metadata": {},
   "source": [
    "`cursor.executescript(\"\"\" ... \"\"\")`:\n",
    "- This method executes multiple SQL statements at once.\n",
    "\n",
    "`CREATE TABLE IF NOT EXISTS mytable2 (...)`:\n",
    "- This statement **creates** `mytable2` **only if it does not already exist**.\n",
    "- It defines four columns:\n",
    "    - `col1` **(TEXT, NOT NULL)** → Cannot be empty.\n",
    "    - `col2` **(TEXT)** → Can store text, but is not required.\n",
    "    - `col3` **(INTEGER, UNIQUE)** → Must be a unique integer (no duplicates).\n",
    "    - `col4` **(REAL, NOT NULL, UNIQUE)** → Must be a unique floating-point number, cannot be empty.\n",
    "\n",
    "**Duplicate** `CREATE TABLE` **statement**:\n",
    "- The **second identical** `CREATE TABLE` **statement** is **redundant** because:\n",
    "    - The **first one already ensures** the table exists.  \n",
    "    - SQLite **ignores the second statement** since the table was already created.\n"
   ]
  },
  {
   "cell_type": "code",
   "execution_count": 36,
   "id": "d48a4d12-c56f-4460-a276-196da9fe3fad",
   "metadata": {
    "execution": {
     "iopub.execute_input": "2025-02-10T01:38:21.397516Z",
     "iopub.status.busy": "2025-02-10T01:38:21.396795Z",
     "iopub.status.idle": "2025-02-10T01:38:21.408683Z",
     "shell.execute_reply": "2025-02-10T01:38:21.407100Z",
     "shell.execute_reply.started": "2025-02-10T01:38:21.397457Z"
    }
   },
   "outputs": [
    {
     "data": {
      "text/plain": [
       "<sqlite3.Cursor at 0x72f55b5a9bc0>"
      ]
     },
     "execution_count": 36,
     "metadata": {},
     "output_type": "execute_result"
    }
   ],
   "source": [
    "col1 = \"hello\"\n",
    "col2 = 'value'\n",
    "col3 = 24234\n",
    "col4 = 322.2\n",
    "conn.execute(\"\"\"\n",
    "INSERT INTO mytable2\n",
    "VALUES (?, ?, ?, ?)\n",
    "\"\"\",\n",
    "            (col1, col2, col3, col4)\n",
    "            )"
   ]
  },
  {
   "cell_type": "code",
   "execution_count": 26,
   "id": "9f3308ae-2152-4f1b-aec1-1f82055c9ec3",
   "metadata": {
    "execution": {
     "iopub.execute_input": "2025-02-03T08:11:46.799094Z",
     "iopub.status.busy": "2025-02-03T08:11:46.798429Z",
     "iopub.status.idle": "2025-02-03T08:11:46.809299Z",
     "shell.execute_reply": "2025-02-03T08:11:46.807900Z",
     "shell.execute_reply.started": "2025-02-03T08:11:46.799038Z"
    }
   },
   "outputs": [
    {
     "data": {
      "text/plain": [
       "[('hello', 'value', 24234, 322.2)]"
      ]
     },
     "execution_count": 26,
     "metadata": {},
     "output_type": "execute_result"
    }
   ],
   "source": [
    "conn.execute(\"\"\"\n",
    "SELECT * FROM mytable2\n",
    "\"\"\").fetchall()"
   ]
  },
  {
   "cell_type": "code",
   "execution_count": 40,
   "id": "ad736ba3-9194-4365-8556-c0481b8a644c",
   "metadata": {
    "execution": {
     "iopub.execute_input": "2025-02-10T01:55:53.220791Z",
     "iopub.status.busy": "2025-02-10T01:55:53.220079Z",
     "iopub.status.idle": "2025-02-10T01:55:53.233035Z",
     "shell.execute_reply": "2025-02-10T01:55:53.231252Z",
     "shell.execute_reply.started": "2025-02-10T01:55:53.220732Z"
    }
   },
   "outputs": [
    {
     "data": {
      "text/plain": [
       "<sqlite3.Cursor at 0x72f55b5a9cc0>"
      ]
     },
     "execution_count": 40,
     "metadata": {},
     "output_type": "execute_result"
    }
   ],
   "source": [
    "col1 = \"hello', 'world', 464, 454.3); DROP TABLE mytable2; --\"\n",
    "col2 = 'value'\n",
    "col3 = 213\n",
    "col4 = 5676.21\n",
    "conn.execute(\"\"\"\n",
    "INSERT INTO mytable2\n",
    "VALUES (?, ?, ?, ?)\n",
    "\"\"\",\n",
    "            (col1, col2, col3, col4)\n",
    "            )"
   ]
  },
  {
   "cell_type": "markdown",
   "id": "9856b937-eca7-419d-9803-976ebdfadfd8",
   "metadata": {},
   "source": [
    "- `col1` contains a **malicious SQL injection attempt** (`DROP TABLE mytable2; --`).\n",
    "- The other columns contain **valid data types** (text, integer, real number).\n",
    "- **Parameterized query (`?` placeholders):**\n",
    "    - Instead of directly inserting variables into the SQL string, `?` placeholders are used.\n",
    "    - The **actual values** (`col1, col2, col3, col4`) are provided **separately as a tuple.**\n",
    "- **Prevents SQL injection:**\n",
    "    - If `col1` was directly formatted in the query, SQLite would **execute** `DROP TABLE mytable2; --`, deleting the table.\n",
    "    - **Using** `?` **ensures that** `col1` **is treated as a string**, not SQL code.\n",
    "        - Parameterized queries `?` **preserve the original data types** (INTEGER, REAL, TEXT, etc.)"
   ]
  },
  {
   "cell_type": "code",
   "execution_count": 41,
   "id": "b625a04c-8152-4a02-ba41-5e7336813afb",
   "metadata": {
    "execution": {
     "iopub.execute_input": "2025-02-10T01:55:58.751337Z",
     "iopub.status.busy": "2025-02-10T01:55:58.750663Z",
     "iopub.status.idle": "2025-02-10T01:55:58.762448Z",
     "shell.execute_reply": "2025-02-10T01:55:58.761044Z",
     "shell.execute_reply.started": "2025-02-10T01:55:58.751279Z"
    }
   },
   "outputs": [
    {
     "data": {
      "text/plain": [
       "[('hello', 'value', 24234, 322.2),\n",
       " (\"hello', 'world', 464, 454.3); DROP TABLE mytable2; --\",\n",
       "  'value',\n",
       "  213,\n",
       "  5676.21)]"
      ]
     },
     "execution_count": 41,
     "metadata": {},
     "output_type": "execute_result"
    }
   ],
   "source": [
    "conn.execute(\"\"\"\n",
    "SELECT * FROM mytable2\n",
    "\"\"\").fetchall()"
   ]
  },
  {
   "cell_type": "markdown",
   "id": "bb10df05-77dd-4ddc-b61e-2d8fef7d1e10",
   "metadata": {},
   "source": [
    "- `SELECT * FROM mytable2`:\n",
    "    - selects **all columns and all rows** from `mytable2`\n",
    "    - `*` → Selects **all columns** in the table.\n",
    "- `.fetchall()`: \n",
    "    - Retrieves all rows as a list of tuples."
   ]
  },
  {
   "cell_type": "code",
   "execution_count": null,
   "id": "fc316d71-4e71-4392-aa1a-120f14382a7a",
   "metadata": {
    "execution": {
     "iopub.execute_input": "2025-02-10T02:16:59.862885Z",
     "iopub.status.busy": "2025-02-10T02:16:59.862176Z",
     "iopub.status.idle": "2025-02-10T02:16:59.891414Z",
     "shell.execute_reply": "2025-02-10T02:16:59.890258Z",
     "shell.execute_reply.started": "2025-02-10T02:16:59.862828Z"
    }
   },
   "outputs": [],
   "source": [
    "conn.executemany(\n",
    "    \"\"\"\n",
    "    INSERT INTO mytable2\n",
    "    VALUES (?, ?, ?, ?)\n",
    "    \"\"\",\n",
    "    [(\"hello\", \"bsdsba\", 2027, 0.1), (\"hi\", \"dmw\", 2025, 23.3)],\n",
    ")"
   ]
  },
  {
   "cell_type": "markdown",
   "id": "4bf9cf44-7193-446e-8909-2c4c72a8640c",
   "metadata": {},
   "source": [
    "- The `executemany` method is used to **insert multiple rows at once** into `mytable2`.\n",
    "- The `VALUES (?, ?, ?, ?)` placeholders ensure that the provided **tuples of values** are inserted **safely.**\n",
    "- The **two tuples** in the list **each represent one row**, meaning **2 new rows** are inserted into `mytable2`."
   ]
  },
  {
   "cell_type": "code",
   "execution_count": 45,
   "id": "fdea02bb-c4b0-4bd5-bec1-3fdee80dce62",
   "metadata": {
    "execution": {
     "iopub.execute_input": "2025-02-10T02:17:07.706387Z",
     "iopub.status.busy": "2025-02-10T02:17:07.705705Z",
     "iopub.status.idle": "2025-02-10T02:17:07.717769Z",
     "shell.execute_reply": "2025-02-10T02:17:07.716227Z",
     "shell.execute_reply.started": "2025-02-10T02:17:07.706331Z"
    }
   },
   "outputs": [
    {
     "data": {
      "text/plain": [
       "[('hello', 'value', 24234, 322.2),\n",
       " (\"hello', 'world', 464, 454.3); DROP TABLE mytable2; --\",\n",
       "  'value',\n",
       "  213,\n",
       "  5676.21),\n",
       " ('hello', 'bsdsba', 2027, 0.1),\n",
       " ('hi', 'dmw', 2025, 23.3)]"
      ]
     },
     "execution_count": 45,
     "metadata": {},
     "output_type": "execute_result"
    }
   ],
   "source": [
    "conn.execute(\"\"\"\n",
    "SELECT * FROM mytable2\n",
    "\"\"\").fetchall()"
   ]
  },
  {
   "cell_type": "code",
   "execution_count": 46,
   "id": "05d2db76-583b-4b4a-9805-1ec4afafe0a4",
   "metadata": {
    "execution": {
     "iopub.execute_input": "2025-02-10T02:17:15.027563Z",
     "iopub.status.busy": "2025-02-10T02:17:15.026884Z",
     "iopub.status.idle": "2025-02-10T02:17:15.037859Z",
     "shell.execute_reply": "2025-02-10T02:17:15.036333Z",
     "shell.execute_reply.started": "2025-02-10T02:17:15.027506Z"
    }
   },
   "outputs": [
    {
     "data": {
      "text/plain": [
       "<sqlite3.Cursor at 0x72f55a18c2c0>"
      ]
     },
     "execution_count": 46,
     "metadata": {},
     "output_type": "execute_result"
    }
   ],
   "source": [
    "conn.execute(\"\"\"\n",
    "INSERT INTO mytable2\n",
    "VALUES (:col1, :col2, :col3, :col4)\n",
    "\"\"\",\n",
    "            {'col1': 'foo', 'col2': 'bar', 'col3': 32, 'col4': 34.8}\n",
    "            )"
   ]
  },
  {
   "cell_type": "markdown",
   "id": "397d1f85-3da9-4763-ba24-d0cc3acb77a5",
   "metadata": {},
   "source": [
    "- This tells SQLite to **insert values** into mytable2 where:\n",
    "    - `:col1` → Maps to a value for `col1`\n",
    "    - `:col2` → Maps to a value for `col2`\n",
    "    - `:col3` → Maps to a value for `col3`\n",
    "    - `:col4` → Maps to a value for `col4`\n",
    "- These **keys match** the named placeholders in the SQL query.\n",
    "- The values `('foo', 'bar', 32, 34.8)` will be **dynamically inserted** into `mytable2`."
   ]
  },
  {
   "cell_type": "code",
   "execution_count": 47,
   "id": "9f5d5539-a051-4671-aad4-7385f0049bbe",
   "metadata": {
    "execution": {
     "iopub.execute_input": "2025-02-10T02:17:17.952344Z",
     "iopub.status.busy": "2025-02-10T02:17:17.951650Z",
     "iopub.status.idle": "2025-02-10T02:17:17.963117Z",
     "shell.execute_reply": "2025-02-10T02:17:17.961612Z",
     "shell.execute_reply.started": "2025-02-10T02:17:17.952286Z"
    }
   },
   "outputs": [
    {
     "data": {
      "text/plain": [
       "[('hello', 'value', 24234, 322.2),\n",
       " (\"hello', 'world', 464, 454.3); DROP TABLE mytable2; --\",\n",
       "  'value',\n",
       "  213,\n",
       "  5676.21),\n",
       " ('hello', 'bsdsba', 2027, 0.1),\n",
       " ('hi', 'dmw', 2025, 23.3),\n",
       " ('foo', 'bar', 32, 34.8)]"
      ]
     },
     "execution_count": 47,
     "metadata": {},
     "output_type": "execute_result"
    }
   ],
   "source": [
    "conn.execute(\"\"\"\n",
    "SELECT * FROM mytable2\n",
    "\"\"\").fetchall()"
   ]
  },
  {
   "cell_type": "code",
   "execution_count": 48,
   "id": "2589df66-7ed7-4b69-b1a5-d506fdf48a31",
   "metadata": {
    "execution": {
     "iopub.execute_input": "2025-02-10T02:22:28.130935Z",
     "iopub.status.busy": "2025-02-10T02:22:28.130216Z",
     "iopub.status.idle": "2025-02-10T02:22:28.537007Z",
     "shell.execute_reply": "2025-02-10T02:22:28.535391Z",
     "shell.execute_reply.started": "2025-02-10T02:22:28.130876Z"
    }
   },
   "outputs": [],
   "source": [
    "import pandas as pd"
   ]
  },
  {
   "cell_type": "code",
   "execution_count": 10,
   "id": "0c6b6db2-7f68-4ac0-930e-7ccf980120b0",
   "metadata": {
    "execution": {
     "iopub.execute_input": "2025-02-03T09:16:33.430570Z",
     "iopub.status.busy": "2025-02-03T09:16:33.429090Z",
     "iopub.status.idle": "2025-02-03T09:16:33.579048Z",
     "shell.execute_reply": "2025-02-03T09:16:33.577433Z",
     "shell.execute_reply.started": "2025-02-03T09:16:33.430509Z"
    }
   },
   "outputs": [
    {
     "data": {
      "text/html": [
       "<div>\n",
       "<style scoped>\n",
       "    .dataframe tbody tr th:only-of-type {\n",
       "        vertical-align: middle;\n",
       "    }\n",
       "\n",
       "    .dataframe tbody tr th {\n",
       "        vertical-align: top;\n",
       "    }\n",
       "\n",
       "    .dataframe thead th {\n",
       "        text-align: right;\n",
       "    }\n",
       "</style>\n",
       "<table border=\"1\" class=\"dataframe\">\n",
       "  <thead>\n",
       "    <tr style=\"text-align: right;\">\n",
       "      <th></th>\n",
       "      <th>name</th>\n",
       "      <th>games_played</th>\n",
       "      <th>wins</th>\n",
       "      <th>total_score</th>\n",
       "    </tr>\n",
       "  </thead>\n",
       "  <tbody>\n",
       "    <tr>\n",
       "      <th>0</th>\n",
       "      <td>Gino B.</td>\n",
       "      <td>69</td>\n",
       "      <td>192</td>\n",
       "      <td>101</td>\n",
       "    </tr>\n",
       "    <tr>\n",
       "      <th>1</th>\n",
       "      <td>Big D</td>\n",
       "      <td>23</td>\n",
       "      <td>88</td>\n",
       "      <td>46</td>\n",
       "    </tr>\n",
       "    <tr>\n",
       "      <th>2</th>\n",
       "      <td>VD</td>\n",
       "      <td>18</td>\n",
       "      <td>49</td>\n",
       "      <td>57</td>\n",
       "    </tr>\n",
       "    <tr>\n",
       "      <th>3</th>\n",
       "      <td>Bossti</td>\n",
       "      <td>77</td>\n",
       "      <td>256</td>\n",
       "      <td>108</td>\n",
       "    </tr>\n",
       "  </tbody>\n",
       "</table>\n",
       "</div>"
      ],
      "text/plain": [
       "      name  games_played  wins  total_score\n",
       "0  Gino B.            69   192          101\n",
       "1    Big D            23    88           46\n",
       "2       VD            18    49           57\n",
       "3   Bossti            77   256          108"
      ]
     },
     "execution_count": 10,
     "metadata": {},
     "output_type": "execute_result"
    }
   ],
   "source": [
    "pd.read_sql_table('players', 'sqlite:///source/sql-exercises/exercises.db')"
   ]
  },
  {
   "cell_type": "markdown",
   "id": "b48d8686-89d2-4130-8dff-889e090b22a1",
   "metadata": {},
   "source": [
    "`pd.read_sql_table()`\n",
    "- This function reads an **entire SQL table** into a Pandas DataFrame.\n",
    "    \n",
    "**Arguments Used:**\n",
    "- `'players'` → Specifies the table **name** (`players`).  \n",
    "- `'sqlite:///source/sql-exercises/exercises.db'` → The **SQLite database file path** (`exercises.db`)."
   ]
  }
 ],
 "metadata": {
  "kernelspec": {
   "display_name": "Python [conda env:base] *",
   "language": "python",
   "name": "conda-base-py"
  },
  "language_info": {
   "codemirror_mode": {
    "name": "ipython",
    "version": 3
   },
   "file_extension": ".py",
   "mimetype": "text/x-python",
   "name": "python",
   "nbconvert_exporter": "python",
   "pygments_lexer": "ipython3",
   "version": "3.12.8"
  }
 },
 "nbformat": 4,
 "nbformat_minor": 5
}
