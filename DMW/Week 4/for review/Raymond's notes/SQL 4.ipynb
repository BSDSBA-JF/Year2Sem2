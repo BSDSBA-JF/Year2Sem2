{
 "cells": [
  {
   "cell_type": "code",
   "execution_count": 1,
   "id": "929738b6-c3e6-4434-8b11-8279ff8a62f2",
   "metadata": {
    "execution": {
     "iopub.execute_input": "2025-02-10T08:24:19.910427Z",
     "iopub.status.busy": "2025-02-10T08:24:19.909453Z",
     "iopub.status.idle": "2025-02-10T08:24:20.309208Z",
     "shell.execute_reply": "2025-02-10T08:24:20.308238Z",
     "shell.execute_reply.started": "2025-02-10T08:24:19.910324Z"
    }
   },
   "outputs": [],
   "source": [
    "import pandas as pd"
   ]
  },
  {
   "cell_type": "markdown",
   "id": "998eb7d5-1767-4ea4-85c9-ff213a099c5d",
   "metadata": {},
   "source": [
    "## Lecture Notes"
   ]
  },
  {
   "cell_type": "code",
   "execution_count": null,
   "id": "11d60f5a-b2b1-4e22-8172-f091bf0e5a70",
   "metadata": {},
   "outputs": [],
   "source": []
  },
  {
   "cell_type": "markdown",
   "id": "09d7cbaa-81c8-4faa-8f6d-8a9296763928",
   "metadata": {},
   "source": [
    "## Combining Tables"
   ]
  },
  {
   "cell_type": "code",
   "execution_count": null,
   "id": "cabb5664-a345-4e2b-b3a3-c4c0fe85dfb3",
   "metadata": {
    "execution": {
     "iopub.execute_input": "2025-02-10T08:25:58.034287Z",
     "iopub.status.busy": "2025-02-10T08:25:58.033727Z",
     "iopub.status.idle": "2025-02-10T08:25:58.541176Z",
     "shell.execute_reply": "2025-02-10T08:25:58.540282Z",
     "shell.execute_reply.started": "2025-02-10T08:25:58.034252Z"
    }
   },
   "outputs": [],
   "source": [
    "pd.read_sql(\n",
    "    \"\"\"\n",
    "    SELECT *\n",
    "    FROM products\n",
    "    JOIN departments\n",
    "    ON products.department_id = departments.department_id\n",
    "    \"\"\",\n",
    "    'sqlite:///source/sql-exercises/exercises.db'\n",
    ")"
   ]
  },
  {
   "cell_type": "markdown",
   "id": "0a833c5f-90fa-4237-ad98-01d12b431923",
   "metadata": {},
   "source": [
    "**Establishes a connection to a SQLite database:**\n",
    "- The database is located at `'sqlite:///source/sql-exercises/exercises.db'`.\n",
    "\n",
    "**Executes an SQL query to join two tables** (`products` **and** `departments`):\n",
    "- The query selects all columns (`SELECT *`).\n",
    "- It joins the `products` table with the `departments` table based on the `department_id` column.\n",
    "    \n",
    "**Fetches and loads the resulting data into a pandas DataFrame.**\n",
    "- The output DataFrame has **six columns:**\n",
    "    - `product_id`: Unique identifier for each product.\n",
    "    - `product_name`: Name of the product.\n",
    "    - `aisle_id`: The aisle where the product is located.\n",
    "    - `department_id`: The department identifier (repeated due to the join).\n",
    "    - `department`: The name of the department.\n",
    "- The DataFrame contains **49,688 rows.**"
   ]
  },
  {
   "cell_type": "code",
   "execution_count": null,
   "id": "78863b9c-5755-4c0f-9a3b-b2ff5297afb3",
   "metadata": {
    "execution": {
     "iopub.execute_input": "2025-02-10T08:26:36.071363Z",
     "iopub.status.busy": "2025-02-10T08:26:36.070220Z",
     "iopub.status.idle": "2025-02-10T08:26:36.287600Z",
     "shell.execute_reply": "2025-02-10T08:26:36.286596Z",
     "shell.execute_reply.started": "2025-02-10T08:26:36.071299Z"
    }
   },
   "outputs": [],
   "source": [
    "pd.read_sql(\n",
    "    \"\"\"\n",
    "    SELECT *\n",
    "    FROM products\n",
    "    INNER JOIN departments\n",
    "    ON products.department_id = departments.department_id\n",
    "    \"\"\",\n",
    "    'sqlite:///source/sql-exercises/exercises.db'\n",
    ")"
   ]
  },
  {
   "cell_type": "markdown",
   "id": "5aff418e-f319-4322-a62a-09a4527e47af",
   "metadata": {},
   "source": [
    "- **Connects to a SQLite database** located at `'sqlite:///source/sql-exercises/exercises.db'`.\n",
    "- **Executes an SQL query** that:\n",
    "    - Selects all columns (`SELECT *`).\n",
    "    - Joins the `products` table with the `departments` table using an **INNER JOIN**.\n",
    "    - Matches rows **where** `products.department_id` **is equal to** `departments.department_id`.\n",
    "- **Loads the results into a pandas DataFrame**, which contains:\n",
    "    - `product_id`: The unique ID for each product.\n",
    "    - `product_name`: The name of the product.\n",
    "    - `aisle_id`: The aisle where the product is located.\n",
    "    - `department_id`: The department identifier (appears twice due to the join).\n",
    "    - `department`: The actual department name.\n",
    "- What is an **INNER JOIN?**\n",
    "    - An **INNER JOIN** only keeps **rows where there is a match** in both tables.\n",
    "    - If a product has a `department_id` that doesn’t exist in the `departments` table, it **won’t appear** in the final DataFrame."
   ]
  },
  {
   "cell_type": "code",
   "execution_count": null,
   "id": "54b6f18e-88bc-46f1-8d87-c88570602b90",
   "metadata": {
    "execution": {
     "iopub.execute_input": "2025-02-10T08:26:43.092026Z",
     "iopub.status.busy": "2025-02-10T08:26:43.090755Z",
     "iopub.status.idle": "2025-02-10T08:26:43.338024Z",
     "shell.execute_reply": "2025-02-10T08:26:43.336824Z",
     "shell.execute_reply.started": "2025-02-10T08:26:43.091964Z"
    }
   },
   "outputs": [],
   "source": [
    "pd.read_sql(\n",
    "    \"\"\"\n",
    "    SELECT *\n",
    "    FROM products\n",
    "    LEFT JOIN departments\n",
    "    ON products.department_id = departments.department_id\n",
    "    \"\"\",\n",
    "    'sqlite:///source/sql-exercises/exercises.db'\n",
    ")"
   ]
  },
  {
   "cell_type": "markdown",
   "id": "d120f170-4498-4df0-92a3-1f3f3521cd4d",
   "metadata": {},
   "source": [
    "- **Connects to a SQLite database** located at `'sqlite:///source/sql-exercises/exercises.db'`.\n",
    "- **Executes an SQL query** that:\n",
    "    - Selects all columns (`SELECT *`).\n",
    "    - Joins the `products` table with the `departments` table using a **LEFT JOIN**.\n",
    "    - Matches rows **where** `products.department_id = departments.department_id`.\n",
    "- **Loads the results into a pandas DataFrame**, which contains:\n",
    "    - `product_id`: The unique ID for each product.\n",
    "    - `product_name`: The name of the product.\n",
    "    - `aisle_id`: The aisle where the product is located.\n",
    "    - `department_id`: The department identifier (appears twice due to the join).\n",
    "    - `department`: The actual department name (if available).\n",
    "- **LEFT JOIN**\n",
    "    - Keeps **all products**, even if they don’t have a matching department. If no match is found, the `department` column will be **NULL (NaN in pandas).**"
   ]
  },
  {
   "cell_type": "code",
   "execution_count": null,
   "id": "41def049-bb8b-4b4d-b026-0a3b82a76207",
   "metadata": {
    "execution": {
     "iopub.execute_input": "2025-02-10T08:26:48.243431Z",
     "iopub.status.busy": "2025-02-10T08:26:48.241937Z",
     "iopub.status.idle": "2025-02-10T08:26:48.531926Z",
     "shell.execute_reply": "2025-02-10T08:26:48.529258Z",
     "shell.execute_reply.started": "2025-02-10T08:26:48.243366Z"
    }
   },
   "outputs": [],
   "source": [
    "pd.read_sql(\n",
    "    \"\"\"\n",
    "    SELECT *\n",
    "    FROM products\n",
    "    RIGHT JOIN departments\n",
    "    ON products.department_id = departments.department_id\n",
    "    \"\"\",\n",
    "    'sqlite:///source/sql-exercises/exercises.db'\n",
    ")"
   ]
  },
  {
   "cell_type": "markdown",
   "id": "3a64b405-7108-42ab-bba1-cd576e9be6ea",
   "metadata": {},
   "source": [
    "- **Connects to a SQLite database** located at `'sqlite:///source/sql-exercises/exercises.db'`.\n",
    "- **Executes an SQL query** that:\n",
    "    - Selects all columns (`SELECT *`).\n",
    "    - Joins the `products` table with the `departments` table using a **RIGHT JOIN**.\n",
    "    - Matches rows **where** `products.department_id = departments.department_id`.\n",
    "- **Loads the results into a pandas DataFrame**, which contains:\n",
    "    - `product_id`: The unique ID for each product.\n",
    "    - `product_name`: The name of the product.\n",
    "    - `aisle_id`: The aisle where the product is located.\n",
    "    - `department_id`: The department identifier (appears twice due to the join).\n",
    "    - `department`: The actual department name.\n",
    "- **What is a RIGHT JOIN?**\n",
    "    - A **RIGHT JOIN** keeps **all rows from the `departments` table**, even if there are **no matching products** in the `products` table.\n",
    "    - If a department **does not have any products**, the `product_id`, `product_name`, and other product-related columns will show **NULL (NaN in pandas)**.\n",
    "    - This is different from an **INNER JOIN**, which only keeps rows where there is a match in both tables."
   ]
  },
  {
   "cell_type": "code",
   "execution_count": null,
   "id": "30d669da-6244-4bf1-83a7-4e85a228cb6e",
   "metadata": {
    "execution": {
     "iopub.execute_input": "2025-02-10T08:27:02.190665Z",
     "iopub.status.busy": "2025-02-10T08:27:02.189175Z",
     "iopub.status.idle": "2025-02-10T08:27:02.383382Z",
     "shell.execute_reply": "2025-02-10T08:27:02.382598Z",
     "shell.execute_reply.started": "2025-02-10T08:27:02.190599Z"
    }
   },
   "outputs": [],
   "source": [
    "pd.read_sql(\n",
    "    \"\"\"\n",
    "    SELECT *\n",
    "    FROM products\n",
    "    CROSS JOIN departments\n",
    "    ON products.department_id = departments.department_id\n",
    "    \"\"\",\n",
    "    'sqlite:///source/sql-exercises/exercises.db'\n",
    ")"
   ]
  },
  {
   "cell_type": "markdown",
   "id": "5ea1c0e8-ac04-4be8-bde5-9a28ec56395b",
   "metadata": {},
   "source": [
    "- **Connects to a SQLite database** located at `'sqlite:///source/sql-exercises/exercises.db'`.\n",
    "- **Executes an SQL query** that:\n",
    "    - Selects all columns (`SELECT *`).\n",
    "    - Attempts to perform a **CROSS JOIN** between `products` and `departments`.\n",
    "    - Includes an **ON condition** (`ON products.department_id = departments.department_id`), which is **incorrect for a CROSS JOIN.**\n",
    "- **Loads the results into a pandas DataFrame**, which contains:\n",
    "    - `product_id`: The unique ID for each product.\n",
    "    - `product_name`: The name of the product.\n",
    "    - `aisle_id`: The aisle where the product is located.\n",
    "    - `department_id`: The department identifier (appears twice due to the join).\n",
    "    - `department`: The actual department name."
   ]
  },
  {
   "cell_type": "code",
   "execution_count": null,
   "id": "6c713f70-c42f-4427-897d-3022e6443dd2",
   "metadata": {
    "execution": {
     "iopub.execute_input": "2025-02-17T01:19:11.189032Z",
     "iopub.status.busy": "2025-02-17T01:19:11.188294Z",
     "iopub.status.idle": "2025-02-17T01:19:11.366495Z",
     "shell.execute_reply": "2025-02-17T01:19:11.364898Z",
     "shell.execute_reply.started": "2025-02-17T01:19:11.188964Z"
    }
   },
   "outputs": [],
   "source": [
    "pd.read_sql(\n",
    "    \"\"\"\n",
    "    SELECT *\n",
    "    FROM products\n",
    "    FULL OUTER JOIN departments\n",
    "    ON products.department_id = departments.department_id\n",
    "    \"\"\",\n",
    "    'sqlite:///source/sql-exercises/exercises.db'\n",
    ")"
   ]
  },
  {
   "cell_type": "markdown",
   "id": "cede40e8-0eb4-4bc4-aae0-e3756269fde2",
   "metadata": {},
   "source": [
    "- **Connects to a SQLite database** located at `'sqlite:///source/sql-exercises/exercises.db'`.\n",
    "- **Executes an SQL query** that:\n",
    "    - Selects all columns (`SELECT *`).\n",
    "    - Uses **FULL OUTER JOIN** to combine **all rows from both** `products` **and** `departments`.\n",
    "    - Matches rows where `products.department_id = departments.department_id`.\n",
    "- **Attempts to load the results into a pandas DataFrame.**\n",
    "- **What is a FULL OUTER JOIN?**\n",
    "    - **Keeps all rows** from both `products` and `departments`.\n",
    "    - If a product **has no matching department**, it still appears, but `department` will be **NULL (NaN in pandas)**.\n",
    "    - If a department **has no matching product**, it still appears, but `product_id`, `product_name`, etc., will be **NULL (NaN in pandas)**."
   ]
  },
  {
   "cell_type": "code",
   "execution_count": null,
   "id": "32f00493-edc3-43e4-bbbd-c5221b9632de",
   "metadata": {
    "execution": {
     "iopub.execute_input": "2025-02-10T08:28:58.580882Z",
     "iopub.status.busy": "2025-02-10T08:28:58.580150Z",
     "iopub.status.idle": "2025-02-10T08:28:58.750820Z",
     "shell.execute_reply": "2025-02-10T08:28:58.749968Z",
     "shell.execute_reply.started": "2025-02-10T08:28:58.580815Z"
    }
   },
   "outputs": [],
   "source": [
    "pd.read_sql(\n",
    "    \"\"\"\n",
    "    SELECT *\n",
    "    FROM products\n",
    "    INNER JOIN departments\n",
    "    USING (department_id)\n",
    "    \"\"\",\n",
    "    'sqlite:///source/sql-exercises/exercises.db'\n",
    ")"
   ]
  },
  {
   "cell_type": "markdown",
   "id": "b8c88bf6-7ef7-49e2-96ac-139f6715f111",
   "metadata": {},
   "source": [
    "- **Connects to a SQLite database** located at `'sqlite:///source/sql-exercises/exercises.db'`.\n",
    "- **Executes an SQL query** that:\n",
    "    - Selects all columns (`SELECT *`).\n",
    "    - Performs an **INNER JOIN** between `products` and `departments`.\n",
    "    - Uses `USING (department_id)` instead of `ON products.department_id = departments.department_id`.\n",
    "- **Loads the results into a pandas DataFrame**, which contains:\n",
    "    - `product_id`: The unique ID for each product.\n",
    "    - `product_name`: The name of the product.\n",
    "    - `aisle_id`: The aisle where the product is located.\n",
    "    - `department_id`: The department identifier.\n",
    "    - `department`: The actual department name.\n",
    "- **What is the difference between USING and ON?**\n",
    "    - `ON`: Specifies the exact columns for the join condition. If both tables have a column with the same name, it keeps **both columns separately.**\n",
    "    - `USING`: Used when both tables share a column with the **same name**. Instead of keeping two separate `department_id` columns, **it merges them into one** in the result."
   ]
  },
  {
   "cell_type": "code",
   "execution_count": 11,
   "id": "d4e094a7-2bab-4553-9220-a0cbdda178f7",
   "metadata": {
    "execution": {
     "iopub.execute_input": "2025-02-10T08:31:21.041108Z",
     "iopub.status.busy": "2025-02-10T08:31:21.040423Z",
     "iopub.status.idle": "2025-02-10T08:31:21.150145Z",
     "shell.execute_reply": "2025-02-10T08:31:21.149368Z",
     "shell.execute_reply.started": "2025-02-10T08:31:21.041046Z"
    }
   },
   "outputs": [
    {
     "data": {
      "text/html": [
       "<div>\n",
       "<style scoped>\n",
       "    .dataframe tbody tr th:only-of-type {\n",
       "        vertical-align: middle;\n",
       "    }\n",
       "\n",
       "    .dataframe tbody tr th {\n",
       "        vertical-align: top;\n",
       "    }\n",
       "\n",
       "    .dataframe thead th {\n",
       "        text-align: right;\n",
       "    }\n",
       "</style>\n",
       "<table border=\"1\" class=\"dataframe\">\n",
       "  <thead>\n",
       "    <tr style=\"text-align: right;\">\n",
       "      <th></th>\n",
       "      <th>department_id</th>\n",
       "      <th>department</th>\n",
       "    </tr>\n",
       "  </thead>\n",
       "  <tbody>\n",
       "    <tr>\n",
       "      <th>0</th>\n",
       "      <td>19</td>\n",
       "      <td>snacks</td>\n",
       "    </tr>\n",
       "    <tr>\n",
       "      <th>1</th>\n",
       "      <td>13</td>\n",
       "      <td>pantry</td>\n",
       "    </tr>\n",
       "    <tr>\n",
       "      <th>2</th>\n",
       "      <td>7</td>\n",
       "      <td>beverages</td>\n",
       "    </tr>\n",
       "    <tr>\n",
       "      <th>3</th>\n",
       "      <td>1</td>\n",
       "      <td>frozen</td>\n",
       "    </tr>\n",
       "    <tr>\n",
       "      <th>4</th>\n",
       "      <td>13</td>\n",
       "      <td>pantry</td>\n",
       "    </tr>\n",
       "    <tr>\n",
       "      <th>...</th>\n",
       "      <td>...</td>\n",
       "      <td>...</td>\n",
       "    </tr>\n",
       "    <tr>\n",
       "      <th>49683</th>\n",
       "      <td>5</td>\n",
       "      <td>alcohol</td>\n",
       "    </tr>\n",
       "    <tr>\n",
       "      <th>49684</th>\n",
       "      <td>1</td>\n",
       "      <td>frozen</td>\n",
       "    </tr>\n",
       "    <tr>\n",
       "      <th>49685</th>\n",
       "      <td>3</td>\n",
       "      <td>bakery</td>\n",
       "    </tr>\n",
       "    <tr>\n",
       "      <th>49686</th>\n",
       "      <td>8</td>\n",
       "      <td>pets</td>\n",
       "    </tr>\n",
       "    <tr>\n",
       "      <th>49687</th>\n",
       "      <td>11</td>\n",
       "      <td>personal care</td>\n",
       "    </tr>\n",
       "  </tbody>\n",
       "</table>\n",
       "<p>49688 rows × 2 columns</p>\n",
       "</div>"
      ],
      "text/plain": [
       "       department_id     department\n",
       "0                 19         snacks\n",
       "1                 13         pantry\n",
       "2                  7      beverages\n",
       "3                  1         frozen\n",
       "4                 13         pantry\n",
       "...              ...            ...\n",
       "49683              5        alcohol\n",
       "49684              1         frozen\n",
       "49685              3         bakery\n",
       "49686              8           pets\n",
       "49687             11  personal care\n",
       "\n",
       "[49688 rows x 2 columns]"
      ]
     },
     "execution_count": 11,
     "metadata": {},
     "output_type": "execute_result"
    }
   ],
   "source": [
    "pd.read_sql(\n",
    "    \"\"\"\n",
    "    SELECT products.department_id, departments.department\n",
    "    FROM products\n",
    "    INNER JOIN departments\n",
    "    ON products.department_id = departments.department_id\n",
    "    \"\"\",\n",
    "    'sqlite:///source/sql-exercises/exercises.db'\n",
    ")"
   ]
  },
  {
   "cell_type": "markdown",
   "id": "cdce6d77-272d-4d9e-851d-e669ee131d36",
   "metadata": {},
   "source": [
    "- **Connects to a SQLite database** located at `'sqlite:///source/sql-exercises/exercises.db'`.\n",
    "- **Executes an SQL query** that:\n",
    "    - Selects `products.department_id` and `departments.department`.\n",
    "    - Performs an **INNER JOIN** between `products` and `departments`.\n",
    "    - Joins the tables **on** `department_id`, meaning only products with a matching department are included.\n",
    "- **Loads the results into a pandas DataFrame**, which contains:\n",
    "    - `department_id`: The ID representing a department.\n",
    "    - `department`: The name of the department."
   ]
  },
  {
   "cell_type": "code",
   "execution_count": 13,
   "id": "7f2c147d-e929-4aa4-b0c2-656b0e1cde77",
   "metadata": {
    "execution": {
     "iopub.execute_input": "2025-02-10T08:31:47.329191Z",
     "iopub.status.busy": "2025-02-10T08:31:47.327886Z",
     "iopub.status.idle": "2025-02-10T08:31:47.514742Z",
     "shell.execute_reply": "2025-02-10T08:31:47.513873Z",
     "shell.execute_reply.started": "2025-02-10T08:31:47.329122Z"
    }
   },
   "outputs": [
    {
     "data": {
      "text/html": [
       "<div>\n",
       "<style scoped>\n",
       "    .dataframe tbody tr th:only-of-type {\n",
       "        vertical-align: middle;\n",
       "    }\n",
       "\n",
       "    .dataframe tbody tr th {\n",
       "        vertical-align: top;\n",
       "    }\n",
       "\n",
       "    .dataframe thead th {\n",
       "        text-align: right;\n",
       "    }\n",
       "</style>\n",
       "<table border=\"1\" class=\"dataframe\">\n",
       "  <thead>\n",
       "    <tr style=\"text-align: right;\">\n",
       "      <th></th>\n",
       "      <th>department_id</th>\n",
       "      <th>department</th>\n",
       "    </tr>\n",
       "  </thead>\n",
       "  <tbody>\n",
       "    <tr>\n",
       "      <th>0</th>\n",
       "      <td>19</td>\n",
       "      <td>snacks</td>\n",
       "    </tr>\n",
       "    <tr>\n",
       "      <th>1</th>\n",
       "      <td>13</td>\n",
       "      <td>pantry</td>\n",
       "    </tr>\n",
       "    <tr>\n",
       "      <th>2</th>\n",
       "      <td>7</td>\n",
       "      <td>beverages</td>\n",
       "    </tr>\n",
       "    <tr>\n",
       "      <th>3</th>\n",
       "      <td>1</td>\n",
       "      <td>frozen</td>\n",
       "    </tr>\n",
       "    <tr>\n",
       "      <th>4</th>\n",
       "      <td>13</td>\n",
       "      <td>pantry</td>\n",
       "    </tr>\n",
       "    <tr>\n",
       "      <th>...</th>\n",
       "      <td>...</td>\n",
       "      <td>...</td>\n",
       "    </tr>\n",
       "    <tr>\n",
       "      <th>49683</th>\n",
       "      <td>5</td>\n",
       "      <td>alcohol</td>\n",
       "    </tr>\n",
       "    <tr>\n",
       "      <th>49684</th>\n",
       "      <td>1</td>\n",
       "      <td>frozen</td>\n",
       "    </tr>\n",
       "    <tr>\n",
       "      <th>49685</th>\n",
       "      <td>3</td>\n",
       "      <td>bakery</td>\n",
       "    </tr>\n",
       "    <tr>\n",
       "      <th>49686</th>\n",
       "      <td>8</td>\n",
       "      <td>pets</td>\n",
       "    </tr>\n",
       "    <tr>\n",
       "      <th>49687</th>\n",
       "      <td>11</td>\n",
       "      <td>personal care</td>\n",
       "    </tr>\n",
       "  </tbody>\n",
       "</table>\n",
       "<p>49688 rows × 2 columns</p>\n",
       "</div>"
      ],
      "text/plain": [
       "       department_id     department\n",
       "0                 19         snacks\n",
       "1                 13         pantry\n",
       "2                  7      beverages\n",
       "3                  1         frozen\n",
       "4                 13         pantry\n",
       "...              ...            ...\n",
       "49683              5        alcohol\n",
       "49684              1         frozen\n",
       "49685              3         bakery\n",
       "49686              8           pets\n",
       "49687             11  personal care\n",
       "\n",
       "[49688 rows x 2 columns]"
      ]
     },
     "execution_count": 13,
     "metadata": {},
     "output_type": "execute_result"
    }
   ],
   "source": [
    "pd.read_sql(\n",
    "    \"\"\"\n",
    "    SELECT p.department_id, d.department\n",
    "    FROM products p\n",
    "    INNER JOIN departments d\n",
    "    ON p.department_id = d.department_id\n",
    "    \"\"\",\n",
    "    'sqlite:///source/sql-exercises/exercises.db'\n",
    ")"
   ]
  },
  {
   "cell_type": "markdown",
   "id": "d64f6e63-9658-44dd-9ffd-dbabe1b06008",
   "metadata": {},
   "source": [
    "*Basically does the same as the code block above*\n",
    "- **Connects to a SQLite database** located at `'sqlite:///source/sql-exercises/exercises.db'`.\n",
    "- **Executes an SQL query** that:\n",
    "    - Selects `department_id` from the `products` table (`p.department_id`).\n",
    "    - Selects `department` name from the `departments` table (`d.department`).\n",
    "    - Uses **INNER JOIN** to combine rows where `p.department_id = d.department_id`.\n",
    "- **Loads the results into a pandas DataFrame**, which contains:\n",
    "    - `department_id`: The ID of the department.\n",
    "    - `department`: The department name.\n",
    "\n",
    "- Table Aliases (`p` for `products`, `d` for `departments`) are used to make the query more readable."
   ]
  },
  {
   "cell_type": "markdown",
   "id": "07fa84a6-a9ab-4782-bc5f-b768f4a691c3",
   "metadata": {},
   "source": [
    "## SQLAlchemy"
   ]
  },
  {
   "cell_type": "code",
   "execution_count": 2,
   "id": "c3764748-e053-470d-85c5-e0738cd4e7bc",
   "metadata": {
    "execution": {
     "iopub.execute_input": "2025-02-17T01:41:13.572201Z",
     "iopub.status.busy": "2025-02-17T01:41:13.571451Z",
     "iopub.status.idle": "2025-02-17T01:41:13.732103Z",
     "shell.execute_reply": "2025-02-17T01:41:13.731167Z",
     "shell.execute_reply.started": "2025-02-17T01:41:13.572138Z"
    }
   },
   "outputs": [],
   "source": [
    "from sqlalchemy import create_engine\n",
    "engine = create_engine('sqlite:///source/sql-exercises/exercises.db')"
   ]
  },
  {
   "cell_type": "markdown",
   "id": "c7beaf1f-9f6a-45c1-b7c5-01ad41200ef6",
   "metadata": {},
   "source": [
    "- **Imports** `create_engine` from SQLAlchemy.\n",
    "- **Creates a database engine** using:\n",
    "    - This tells Python to connect to an SQLite database located at `source/sql-exercises/exercises.db`.\n",
    "    - The `engine` object allows you to interact with the database using SQL queries."
   ]
  },
  {
   "cell_type": "code",
   "execution_count": null,
   "id": "abcecf3e-5647-4044-b397-82fb9150587a",
   "metadata": {
    "execution": {
     "iopub.execute_input": "2025-02-17T01:41:13.875872Z",
     "iopub.status.busy": "2025-02-17T01:41:13.875169Z",
     "iopub.status.idle": "2025-02-17T01:41:13.915613Z",
     "shell.execute_reply": "2025-02-17T01:41:13.914512Z",
     "shell.execute_reply.started": "2025-02-17T01:41:13.875812Z"
    }
   },
   "outputs": [],
   "source": [
    "pd.read_sql(\n",
    "    \"\"\"\n",
    "    SELECT p.department_id, d.department\n",
    "    FROM products p\n",
    "    INNER JOIN departments d\n",
    "    ON p.department_id = d.department_id\n",
    "    \"\"\",\n",
    "    engine\n",
    ")"
   ]
  },
  {
   "cell_type": "code",
   "execution_count": 4,
   "id": "cb8f6f81-d59e-43f4-8fe8-772c823f520c",
   "metadata": {
    "execution": {
     "iopub.execute_input": "2025-02-17T01:44:03.790328Z",
     "iopub.status.busy": "2025-02-17T01:44:03.789632Z",
     "iopub.status.idle": "2025-02-17T01:44:05.471103Z",
     "shell.execute_reply": "2025-02-17T01:44:05.470120Z",
     "shell.execute_reply.started": "2025-02-17T01:44:03.790271Z"
    }
   },
   "outputs": [],
   "source": [
    "%load_ext sql"
   ]
  },
  {
   "cell_type": "code",
   "execution_count": 5,
   "id": "6dc04272-a404-4071-83f5-60ff4b13df93",
   "metadata": {
    "execution": {
     "iopub.execute_input": "2025-02-17T01:44:07.067940Z",
     "iopub.status.busy": "2025-02-17T01:44:07.066813Z",
     "iopub.status.idle": "2025-02-17T01:44:07.103427Z",
     "shell.execute_reply": "2025-02-17T01:44:07.101844Z",
     "shell.execute_reply.started": "2025-02-17T01:44:07.067849Z"
    }
   },
   "outputs": [
    {
     "data": {
      "text/html": [
       "<span style=\"None\">Connecting to &#x27;sqlite:///sample.sqlite&#x27;</span>"
      ],
      "text/plain": [
       "Connecting to 'sqlite:///sample.sqlite'"
      ]
     },
     "metadata": {},
     "output_type": "display_data"
    }
   ],
   "source": [
    "%sql sqlite:///sample.sqlite"
   ]
  },
  {
   "cell_type": "code",
   "execution_count": 22,
   "id": "18867e07-735f-445e-b809-ad6ac2839217",
   "metadata": {
    "execution": {
     "iopub.execute_input": "2025-02-10T08:52:51.740967Z",
     "iopub.status.busy": "2025-02-10T08:52:51.739386Z",
     "iopub.status.idle": "2025-02-10T08:52:51.758549Z",
     "shell.execute_reply": "2025-02-10T08:52:51.757613Z",
     "shell.execute_reply.started": "2025-02-10T08:52:51.740899Z"
    }
   },
   "outputs": [
    {
     "data": {
      "text/html": [
       "<table>\n",
       "    <thead>\n",
       "        <tr>\n",
       "            <th>Name</th>\n",
       "        </tr>\n",
       "    </thead>\n",
       "    <tbody>\n",
       "        <tr>\n",
       "            <td>country_ids</td>\n",
       "        </tr>\n",
       "    </tbody>\n",
       "</table>"
      ],
      "text/plain": [
       "+-------------+\n",
       "|     Name    |\n",
       "+-------------+\n",
       "| country_ids |\n",
       "+-------------+"
      ]
     },
     "execution_count": 22,
     "metadata": {},
     "output_type": "execute_result"
    }
   ],
   "source": [
    "%sqlcmd tables"
   ]
  },
  {
   "cell_type": "code",
   "execution_count": 23,
   "id": "5a2b84d7-7627-4349-8915-62a83f771c24",
   "metadata": {
    "execution": {
     "iopub.execute_input": "2025-02-10T08:53:11.749123Z",
     "iopub.status.busy": "2025-02-10T08:53:11.747925Z",
     "iopub.status.idle": "2025-02-10T08:53:11.772681Z",
     "shell.execute_reply": "2025-02-10T08:53:11.771393Z",
     "shell.execute_reply.started": "2025-02-10T08:53:11.749057Z"
    }
   },
   "outputs": [
    {
     "data": {
      "text/html": [
       "<span style=\"None\">Running query in &#x27;sqlite:///sample.sqlite&#x27;</span>"
      ],
      "text/plain": [
       "Running query in 'sqlite:///sample.sqlite'"
      ]
     },
     "metadata": {},
     "output_type": "display_data"
    },
    {
     "data": {
      "text/html": [
       "<table>\n",
       "    <thead>\n",
       "        <tr>\n",
       "            <th>Country</th>\n",
       "            <th>CustomerID</th>\n",
       "        </tr>\n",
       "    </thead>\n",
       "    <tbody>\n",
       "        <tr>\n",
       "            <td>United Kingdom</td>\n",
       "            <td>17850.0</td>\n",
       "        </tr>\n",
       "        <tr>\n",
       "            <td>United Kingdom</td>\n",
       "            <td>17850.0</td>\n",
       "        </tr>\n",
       "        <tr>\n",
       "            <td>United Kingdom</td>\n",
       "            <td>17850.0</td>\n",
       "        </tr>\n",
       "        <tr>\n",
       "            <td>United Kingdom</td>\n",
       "            <td>17850.0</td>\n",
       "        </tr>\n",
       "        <tr>\n",
       "            <td>United Kingdom</td>\n",
       "            <td>17850.0</td>\n",
       "        </tr>\n",
       "        <tr>\n",
       "            <td>United Kingdom</td>\n",
       "            <td>17850.0</td>\n",
       "        </tr>\n",
       "        <tr>\n",
       "            <td>United Kingdom</td>\n",
       "            <td>17850.0</td>\n",
       "        </tr>\n",
       "        <tr>\n",
       "            <td>United Kingdom</td>\n",
       "            <td>17850.0</td>\n",
       "        </tr>\n",
       "        <tr>\n",
       "            <td>United Kingdom</td>\n",
       "            <td>17850.0</td>\n",
       "        </tr>\n",
       "        <tr>\n",
       "            <td>United Kingdom</td>\n",
       "            <td>13047.0</td>\n",
       "        </tr>\n",
       "    </tbody>\n",
       "</table>\n",
       "<span style=\"font-style:italic;text-align:center;\">Truncated to <a href=\"https://jupysql.ploomber.io/en/latest/api/configuration.html#displaylimit\">displaylimit</a> of 10.</span>"
      ],
      "text/plain": [
       "+----------------+------------+\n",
       "|    Country     | CustomerID |\n",
       "+----------------+------------+\n",
       "| United Kingdom |  17850.0   |\n",
       "| United Kingdom |  17850.0   |\n",
       "| United Kingdom |  17850.0   |\n",
       "| United Kingdom |  17850.0   |\n",
       "| United Kingdom |  17850.0   |\n",
       "| United Kingdom |  17850.0   |\n",
       "| United Kingdom |  17850.0   |\n",
       "| United Kingdom |  17850.0   |\n",
       "| United Kingdom |  17850.0   |\n",
       "| United Kingdom |  13047.0   |\n",
       "+----------------+------------+\n",
       "Truncated to displaylimit of 10."
      ]
     },
     "execution_count": 23,
     "metadata": {},
     "output_type": "execute_result"
    }
   ],
   "source": [
    "%%sql\n",
    "SELECT *\n",
    "FROM country_ids"
   ]
  },
  {
   "cell_type": "markdown",
   "id": "669feb28-d092-4c08-875e-ea369cb90922",
   "metadata": {},
   "source": [
    "- **Runs an SQL query** inside a Jupyter Notebook using the `%%sql` cell magic.\n",
    "- **Selects all columns** (`*`) **from the** `country_ids` **table**.\n",
    "- **Executes the query in an SQLite database** located at `'sqlite:///sample.sqlite'`.\n",
    "- **Displays the first 10 rows of the result.**"
   ]
  },
  {
   "cell_type": "code",
   "execution_count": 24,
   "id": "6fbfad46-e700-421e-b94b-4fc4d7d4e07b",
   "metadata": {
    "execution": {
     "iopub.execute_input": "2025-02-10T08:53:56.247433Z",
     "iopub.status.busy": "2025-02-10T08:53:56.246077Z",
     "iopub.status.idle": "2025-02-10T08:53:56.268965Z",
     "shell.execute_reply": "2025-02-10T08:53:56.267882Z",
     "shell.execute_reply.started": "2025-02-10T08:53:56.247371Z"
    }
   },
   "outputs": [
    {
     "data": {
      "text/html": [
       "<span style=\"None\">Running query in &#x27;sqlite:///sample.sqlite&#x27;</span>"
      ],
      "text/plain": [
       "Running query in 'sqlite:///sample.sqlite'"
      ]
     },
     "metadata": {},
     "output_type": "display_data"
    },
    {
     "data": {
      "text/html": [
       "<table>\n",
       "    <thead>\n",
       "        <tr>\n",
       "            <th>Country</th>\n",
       "            <th>COUNT(*)</th>\n",
       "        </tr>\n",
       "    </thead>\n",
       "    <tbody>\n",
       "        <tr>\n",
       "            <td>United Kingdom</td>\n",
       "            <td>10</td>\n",
       "        </tr>\n",
       "    </tbody>\n",
       "</table>"
      ],
      "text/plain": [
       "+----------------+----------+\n",
       "|    Country     | COUNT(*) |\n",
       "+----------------+----------+\n",
       "| United Kingdom |    10    |\n",
       "+----------------+----------+"
      ]
     },
     "execution_count": 24,
     "metadata": {},
     "output_type": "execute_result"
    }
   ],
   "source": [
    "%%sql\n",
    "SELECT Country, COUNT(*)\n",
    "FROM country_ids\n",
    "GROUP BY Country"
   ]
  },
  {
   "cell_type": "markdown",
   "id": "35464465-52e5-4391-aeb7-3e10780f5565",
   "metadata": {},
   "source": [
    "- **Runs an SQL query inside a Jupyter Notebook** using the `%%sql` magic command.\n",
    "- **Counts the number of rows per country** in the country_ids table.\n",
    "- **Groups the results by the** `Country` **column**.\n",
    "- **Displays the count of rows for each country**."
   ]
  },
  {
   "cell_type": "code",
   "execution_count": 26,
   "id": "dffec52d-eff1-476f-9f0c-200bda8ee547",
   "metadata": {
    "execution": {
     "iopub.execute_input": "2025-02-10T08:54:29.951087Z",
     "iopub.status.busy": "2025-02-10T08:54:29.949704Z",
     "iopub.status.idle": "2025-02-10T08:54:29.972028Z",
     "shell.execute_reply": "2025-02-10T08:54:29.970993Z",
     "shell.execute_reply.started": "2025-02-10T08:54:29.951022Z"
    }
   },
   "outputs": [
    {
     "data": {
      "text/html": [
       "<span style=\"None\">Running query in &#x27;sqlite:///sample.sqlite&#x27;</span>"
      ],
      "text/plain": [
       "Running query in 'sqlite:///sample.sqlite'"
      ]
     },
     "metadata": {},
     "output_type": "display_data"
    },
    {
     "data": {
      "text/html": [
       "<table>\n",
       "    <thead>\n",
       "        <tr>\n",
       "            <th>CustomerID</th>\n",
       "            <th>COUNT(*)</th>\n",
       "        </tr>\n",
       "    </thead>\n",
       "    <tbody>\n",
       "        <tr>\n",
       "            <td>13047.0</td>\n",
       "            <td>1</td>\n",
       "        </tr>\n",
       "        <tr>\n",
       "            <td>17850.0</td>\n",
       "            <td>9</td>\n",
       "        </tr>\n",
       "    </tbody>\n",
       "</table>"
      ],
      "text/plain": [
       "+------------+----------+\n",
       "| CustomerID | COUNT(*) |\n",
       "+------------+----------+\n",
       "|  13047.0   |    1     |\n",
       "|  17850.0   |    9     |\n",
       "+------------+----------+"
      ]
     },
     "execution_count": 26,
     "metadata": {},
     "output_type": "execute_result"
    }
   ],
   "source": [
    "%%sql\n",
    "SELECT CustomerID, COUNT(*)\n",
    "FROM country_ids\n",
    "GROUP BY CustomerID"
   ]
  },
  {
   "cell_type": "markdown",
   "id": "0ab64fa7-2cbc-4f52-b4c3-5b03ef1f56b5",
   "metadata": {},
   "source": [
    "- `SELECT CustomerID, COUNT(*)` → Retrieves the `CustomerID` and counts how many times each appears in the table.\n",
    "- `FROM country_ids` → Specifies the table from which to retrieve data.\n",
    "- `GROUP BY CustomerID` → Groups rows by `CustomerID`, ensuring each unique ID gets a separate count."
   ]
  },
  {
   "cell_type": "code",
   "execution_count": 27,
   "id": "8ff5a22b-95a2-46cd-9c20-698f7b6bf39c",
   "metadata": {
    "execution": {
     "iopub.execute_input": "2025-02-10T08:55:20.510484Z",
     "iopub.status.busy": "2025-02-10T08:55:20.509444Z",
     "iopub.status.idle": "2025-02-10T08:55:20.560853Z",
     "shell.execute_reply": "2025-02-10T08:55:20.555117Z",
     "shell.execute_reply.started": "2025-02-10T08:55:20.510418Z"
    }
   },
   "outputs": [
    {
     "data": {
      "text/html": [
       "<span style=\"None\">Running query in &#x27;sqlite:///sample.sqlite&#x27;</span>"
      ],
      "text/plain": [
       "Running query in 'sqlite:///sample.sqlite'"
      ]
     },
     "metadata": {},
     "output_type": "display_data"
    },
    {
     "data": {
      "text/html": [
       "<span style=\"color: green\">10 rows affected.</span>"
      ],
      "text/plain": [
       "10 rows affected."
      ]
     },
     "metadata": {},
     "output_type": "display_data"
    },
    {
     "data": {
      "text/html": [
       "<table>\n",
       "    <thead>\n",
       "        <tr>\n",
       "        </tr>\n",
       "    </thead>\n",
       "    <tbody>\n",
       "    </tbody>\n",
       "</table>"
      ],
      "text/plain": [
       "++\n",
       "||\n",
       "++\n",
       "++"
      ]
     },
     "execution_count": 27,
     "metadata": {},
     "output_type": "execute_result"
    }
   ],
   "source": [
    "%%sql\n",
    "UPDATE country_ids\n",
    "SET Country = 'Philippines'"
   ]
  },
  {
   "cell_type": "markdown",
   "id": "3bdbad6e-c955-4ac8-ad79-88dc26eba73d",
   "metadata": {},
   "source": [
    "- `UPDATE country_ids` → Targets the country_ids table.\n",
    "- `SET Country = 'Philippines'` → Replaces all existing values in the `Country` column with `'Philippines'`.\n",
    "- **No** `WHERE` **clause** → This means **all rows** in the table are affected.\n",
    "- **\"10 rows affected\"** → Confirms that 10 rows were updated."
   ]
  },
  {
   "cell_type": "code",
   "execution_count": 28,
   "id": "e1e524b6-261b-4ea1-9607-7bcfccf72728",
   "metadata": {
    "execution": {
     "iopub.execute_input": "2025-02-10T08:55:27.822206Z",
     "iopub.status.busy": "2025-02-10T08:55:27.821070Z",
     "iopub.status.idle": "2025-02-10T08:55:27.842424Z",
     "shell.execute_reply": "2025-02-10T08:55:27.841275Z",
     "shell.execute_reply.started": "2025-02-10T08:55:27.822140Z"
    }
   },
   "outputs": [
    {
     "data": {
      "text/html": [
       "<span style=\"None\">Running query in &#x27;sqlite:///sample.sqlite&#x27;</span>"
      ],
      "text/plain": [
       "Running query in 'sqlite:///sample.sqlite'"
      ]
     },
     "metadata": {},
     "output_type": "display_data"
    },
    {
     "data": {
      "text/html": [
       "<table>\n",
       "    <thead>\n",
       "        <tr>\n",
       "            <th>Country</th>\n",
       "            <th>CustomerID</th>\n",
       "        </tr>\n",
       "    </thead>\n",
       "    <tbody>\n",
       "        <tr>\n",
       "            <td>Philippines</td>\n",
       "            <td>17850.0</td>\n",
       "        </tr>\n",
       "        <tr>\n",
       "            <td>Philippines</td>\n",
       "            <td>17850.0</td>\n",
       "        </tr>\n",
       "        <tr>\n",
       "            <td>Philippines</td>\n",
       "            <td>17850.0</td>\n",
       "        </tr>\n",
       "        <tr>\n",
       "            <td>Philippines</td>\n",
       "            <td>17850.0</td>\n",
       "        </tr>\n",
       "        <tr>\n",
       "            <td>Philippines</td>\n",
       "            <td>17850.0</td>\n",
       "        </tr>\n",
       "        <tr>\n",
       "            <td>Philippines</td>\n",
       "            <td>17850.0</td>\n",
       "        </tr>\n",
       "        <tr>\n",
       "            <td>Philippines</td>\n",
       "            <td>17850.0</td>\n",
       "        </tr>\n",
       "        <tr>\n",
       "            <td>Philippines</td>\n",
       "            <td>17850.0</td>\n",
       "        </tr>\n",
       "        <tr>\n",
       "            <td>Philippines</td>\n",
       "            <td>17850.0</td>\n",
       "        </tr>\n",
       "        <tr>\n",
       "            <td>Philippines</td>\n",
       "            <td>13047.0</td>\n",
       "        </tr>\n",
       "    </tbody>\n",
       "</table>\n",
       "<span style=\"font-style:italic;text-align:center;\">Truncated to <a href=\"https://jupysql.ploomber.io/en/latest/api/configuration.html#displaylimit\">displaylimit</a> of 10.</span>"
      ],
      "text/plain": [
       "+-------------+------------+\n",
       "|   Country   | CustomerID |\n",
       "+-------------+------------+\n",
       "| Philippines |  17850.0   |\n",
       "| Philippines |  17850.0   |\n",
       "| Philippines |  17850.0   |\n",
       "| Philippines |  17850.0   |\n",
       "| Philippines |  17850.0   |\n",
       "| Philippines |  17850.0   |\n",
       "| Philippines |  17850.0   |\n",
       "| Philippines |  17850.0   |\n",
       "| Philippines |  17850.0   |\n",
       "| Philippines |  13047.0   |\n",
       "+-------------+------------+\n",
       "Truncated to displaylimit of 10."
      ]
     },
     "execution_count": 28,
     "metadata": {},
     "output_type": "execute_result"
    }
   ],
   "source": [
    "%%sql\n",
    "SELECT *\n",
    "FROM country_ids"
   ]
  },
  {
   "cell_type": "code",
   "execution_count": 31,
   "id": "b2c8174e-978b-40a7-ac54-bf0dbc4eeca6",
   "metadata": {
    "execution": {
     "iopub.execute_input": "2025-02-10T08:58:57.425726Z",
     "iopub.status.busy": "2025-02-10T08:58:57.424246Z",
     "iopub.status.idle": "2025-02-10T08:58:57.450655Z",
     "shell.execute_reply": "2025-02-10T08:58:57.449436Z",
     "shell.execute_reply.started": "2025-02-10T08:58:57.425660Z"
    }
   },
   "outputs": [
    {
     "data": {
      "text/html": [
       "<span style=\"None\">Running query in &#x27;sqlite:///sample.sqlite&#x27;</span>"
      ],
      "text/plain": [
       "Running query in 'sqlite:///sample.sqlite'"
      ]
     },
     "metadata": {},
     "output_type": "display_data"
    },
    {
     "data": {
      "text/html": [
       "<span style=\"color: green\">1 rows affected.</span>"
      ],
      "text/plain": [
       "1 rows affected."
      ]
     },
     "metadata": {},
     "output_type": "display_data"
    },
    {
     "data": {
      "text/html": [
       "<table>\n",
       "    <thead>\n",
       "        <tr>\n",
       "        </tr>\n",
       "    </thead>\n",
       "    <tbody>\n",
       "    </tbody>\n",
       "</table>"
      ],
      "text/plain": [
       "++\n",
       "||\n",
       "++\n",
       "++"
      ]
     },
     "execution_count": 31,
     "metadata": {},
     "output_type": "execute_result"
    }
   ],
   "source": [
    "%%sql\n",
    "UPDATE country_ids\n",
    "SET Country = 'US'\n",
    "WHERE CustomerID = 13047.0\t"
   ]
  },
  {
   "cell_type": "code",
   "execution_count": 32,
   "id": "97549db0-f206-47e5-a1bd-c1646597e328",
   "metadata": {
    "execution": {
     "iopub.execute_input": "2025-02-10T08:58:58.241894Z",
     "iopub.status.busy": "2025-02-10T08:58:58.240485Z",
     "iopub.status.idle": "2025-02-10T08:58:58.262186Z",
     "shell.execute_reply": "2025-02-10T08:58:58.260954Z",
     "shell.execute_reply.started": "2025-02-10T08:58:58.241829Z"
    }
   },
   "outputs": [
    {
     "data": {
      "text/html": [
       "<span style=\"None\">Running query in &#x27;sqlite:///sample.sqlite&#x27;</span>"
      ],
      "text/plain": [
       "Running query in 'sqlite:///sample.sqlite'"
      ]
     },
     "metadata": {},
     "output_type": "display_data"
    },
    {
     "data": {
      "text/html": [
       "<table>\n",
       "    <thead>\n",
       "        <tr>\n",
       "            <th>Country</th>\n",
       "            <th>CustomerID</th>\n",
       "        </tr>\n",
       "    </thead>\n",
       "    <tbody>\n",
       "        <tr>\n",
       "            <td>Philippines</td>\n",
       "            <td>17850.0</td>\n",
       "        </tr>\n",
       "        <tr>\n",
       "            <td>Philippines</td>\n",
       "            <td>17850.0</td>\n",
       "        </tr>\n",
       "        <tr>\n",
       "            <td>Philippines</td>\n",
       "            <td>17850.0</td>\n",
       "        </tr>\n",
       "        <tr>\n",
       "            <td>Philippines</td>\n",
       "            <td>17850.0</td>\n",
       "        </tr>\n",
       "        <tr>\n",
       "            <td>Philippines</td>\n",
       "            <td>17850.0</td>\n",
       "        </tr>\n",
       "        <tr>\n",
       "            <td>Philippines</td>\n",
       "            <td>17850.0</td>\n",
       "        </tr>\n",
       "        <tr>\n",
       "            <td>Philippines</td>\n",
       "            <td>17850.0</td>\n",
       "        </tr>\n",
       "        <tr>\n",
       "            <td>Philippines</td>\n",
       "            <td>17850.0</td>\n",
       "        </tr>\n",
       "        <tr>\n",
       "            <td>Philippines</td>\n",
       "            <td>17850.0</td>\n",
       "        </tr>\n",
       "        <tr>\n",
       "            <td>US</td>\n",
       "            <td>13047.0</td>\n",
       "        </tr>\n",
       "    </tbody>\n",
       "</table>\n",
       "<span style=\"font-style:italic;text-align:center;\">Truncated to <a href=\"https://jupysql.ploomber.io/en/latest/api/configuration.html#displaylimit\">displaylimit</a> of 10.</span>"
      ],
      "text/plain": [
       "+-------------+------------+\n",
       "|   Country   | CustomerID |\n",
       "+-------------+------------+\n",
       "| Philippines |  17850.0   |\n",
       "| Philippines |  17850.0   |\n",
       "| Philippines |  17850.0   |\n",
       "| Philippines |  17850.0   |\n",
       "| Philippines |  17850.0   |\n",
       "| Philippines |  17850.0   |\n",
       "| Philippines |  17850.0   |\n",
       "| Philippines |  17850.0   |\n",
       "| Philippines |  17850.0   |\n",
       "|      US     |  13047.0   |\n",
       "+-------------+------------+\n",
       "Truncated to displaylimit of 10."
      ]
     },
     "execution_count": 32,
     "metadata": {},
     "output_type": "execute_result"
    }
   ],
   "source": [
    "%%sql\n",
    "SELECT *\n",
    "FROM country_ids"
   ]
  },
  {
   "cell_type": "code",
   "execution_count": 34,
   "id": "64d6372e-a6f7-4112-8052-420e993e111b",
   "metadata": {
    "execution": {
     "iopub.execute_input": "2025-02-10T09:00:52.892958Z",
     "iopub.status.busy": "2025-02-10T09:00:52.891826Z",
     "iopub.status.idle": "2025-02-10T09:00:52.916032Z",
     "shell.execute_reply": "2025-02-10T09:00:52.915217Z",
     "shell.execute_reply.started": "2025-02-10T09:00:52.892893Z"
    }
   },
   "outputs": [
    {
     "data": {
      "text/html": [
       "<span style=\"None\">Running query in &#x27;sqlite:///sample.sqlite&#x27;</span>"
      ],
      "text/plain": [
       "Running query in 'sqlite:///sample.sqlite'"
      ]
     },
     "metadata": {},
     "output_type": "display_data"
    },
    {
     "data": {
      "text/html": [
       "<span style=\"color: green\">1 rows affected.</span>"
      ],
      "text/plain": [
       "1 rows affected."
      ]
     },
     "metadata": {},
     "output_type": "display_data"
    },
    {
     "data": {
      "text/html": [
       "<table>\n",
       "    <thead>\n",
       "        <tr>\n",
       "        </tr>\n",
       "    </thead>\n",
       "    <tbody>\n",
       "    </tbody>\n",
       "</table>"
      ],
      "text/plain": [
       "++\n",
       "||\n",
       "++\n",
       "++"
      ]
     },
     "execution_count": 34,
     "metadata": {},
     "output_type": "execute_result"
    }
   ],
   "source": [
    "%%sql\n",
    "DELETE FROM country_ids\n",
    "WHERE CustomerID = 13047.0\t"
   ]
  },
  {
   "cell_type": "code",
   "execution_count": 35,
   "id": "a59824c6-4a1c-4b7a-89ae-9ff606b79ad8",
   "metadata": {
    "execution": {
     "iopub.execute_input": "2025-02-10T09:00:57.551109Z",
     "iopub.status.busy": "2025-02-10T09:00:57.549665Z",
     "iopub.status.idle": "2025-02-10T09:00:57.569982Z",
     "shell.execute_reply": "2025-02-10T09:00:57.568918Z",
     "shell.execute_reply.started": "2025-02-10T09:00:57.551044Z"
    }
   },
   "outputs": [
    {
     "data": {
      "text/html": [
       "<span style=\"None\">Running query in &#x27;sqlite:///sample.sqlite&#x27;</span>"
      ],
      "text/plain": [
       "Running query in 'sqlite:///sample.sqlite'"
      ]
     },
     "metadata": {},
     "output_type": "display_data"
    },
    {
     "data": {
      "text/html": [
       "<table>\n",
       "    <thead>\n",
       "        <tr>\n",
       "            <th>Country</th>\n",
       "            <th>CustomerID</th>\n",
       "        </tr>\n",
       "    </thead>\n",
       "    <tbody>\n",
       "        <tr>\n",
       "            <td>Philippines</td>\n",
       "            <td>17850.0</td>\n",
       "        </tr>\n",
       "        <tr>\n",
       "            <td>Philippines</td>\n",
       "            <td>17850.0</td>\n",
       "        </tr>\n",
       "        <tr>\n",
       "            <td>Philippines</td>\n",
       "            <td>17850.0</td>\n",
       "        </tr>\n",
       "        <tr>\n",
       "            <td>Philippines</td>\n",
       "            <td>17850.0</td>\n",
       "        </tr>\n",
       "        <tr>\n",
       "            <td>Philippines</td>\n",
       "            <td>17850.0</td>\n",
       "        </tr>\n",
       "        <tr>\n",
       "            <td>Philippines</td>\n",
       "            <td>17850.0</td>\n",
       "        </tr>\n",
       "        <tr>\n",
       "            <td>Philippines</td>\n",
       "            <td>17850.0</td>\n",
       "        </tr>\n",
       "        <tr>\n",
       "            <td>Philippines</td>\n",
       "            <td>17850.0</td>\n",
       "        </tr>\n",
       "        <tr>\n",
       "            <td>Philippines</td>\n",
       "            <td>17850.0</td>\n",
       "        </tr>\n",
       "    </tbody>\n",
       "</table>"
      ],
      "text/plain": [
       "+-------------+------------+\n",
       "|   Country   | CustomerID |\n",
       "+-------------+------------+\n",
       "| Philippines |  17850.0   |\n",
       "| Philippines |  17850.0   |\n",
       "| Philippines |  17850.0   |\n",
       "| Philippines |  17850.0   |\n",
       "| Philippines |  17850.0   |\n",
       "| Philippines |  17850.0   |\n",
       "| Philippines |  17850.0   |\n",
       "| Philippines |  17850.0   |\n",
       "| Philippines |  17850.0   |\n",
       "+-------------+------------+"
      ]
     },
     "execution_count": 35,
     "metadata": {},
     "output_type": "execute_result"
    }
   ],
   "source": [
    "%%sql\n",
    "SELECT *\n",
    "FROM country_ids"
   ]
  },
  {
   "cell_type": "code",
   "execution_count": 36,
   "id": "1d881dcd-4c18-4366-b1cb-3dbd5ae47461",
   "metadata": {
    "execution": {
     "iopub.execute_input": "2025-02-10T09:01:13.292631Z",
     "iopub.status.busy": "2025-02-10T09:01:13.291333Z",
     "iopub.status.idle": "2025-02-10T09:01:13.312295Z",
     "shell.execute_reply": "2025-02-10T09:01:13.311483Z",
     "shell.execute_reply.started": "2025-02-10T09:01:13.292549Z"
    }
   },
   "outputs": [
    {
     "data": {
      "text/html": [
       "<span style=\"None\">Running query in &#x27;sqlite:///sample.sqlite&#x27;</span>"
      ],
      "text/plain": [
       "Running query in 'sqlite:///sample.sqlite'"
      ]
     },
     "metadata": {},
     "output_type": "display_data"
    },
    {
     "data": {
      "text/html": [
       "<span style=\"color: green\">9 rows affected.</span>"
      ],
      "text/plain": [
       "9 rows affected."
      ]
     },
     "metadata": {},
     "output_type": "display_data"
    },
    {
     "data": {
      "text/html": [
       "<table>\n",
       "    <thead>\n",
       "        <tr>\n",
       "        </tr>\n",
       "    </thead>\n",
       "    <tbody>\n",
       "    </tbody>\n",
       "</table>"
      ],
      "text/plain": [
       "++\n",
       "||\n",
       "++\n",
       "++"
      ]
     },
     "execution_count": 36,
     "metadata": {},
     "output_type": "execute_result"
    }
   ],
   "source": [
    "%%sql\n",
    "DELETE FROM country_ids"
   ]
  },
  {
   "cell_type": "code",
   "execution_count": 37,
   "id": "1aaca037-ecf1-4289-8c66-f549e2faaa86",
   "metadata": {
    "execution": {
     "iopub.execute_input": "2025-02-10T09:01:17.870419Z",
     "iopub.status.busy": "2025-02-10T09:01:17.869514Z",
     "iopub.status.idle": "2025-02-10T09:01:17.892953Z",
     "shell.execute_reply": "2025-02-10T09:01:17.891429Z",
     "shell.execute_reply.started": "2025-02-10T09:01:17.870352Z"
    }
   },
   "outputs": [
    {
     "data": {
      "text/html": [
       "<span style=\"None\">Running query in &#x27;sqlite:///sample.sqlite&#x27;</span>"
      ],
      "text/plain": [
       "Running query in 'sqlite:///sample.sqlite'"
      ]
     },
     "metadata": {},
     "output_type": "display_data"
    },
    {
     "data": {
      "text/html": [
       "<table>\n",
       "    <thead>\n",
       "        <tr>\n",
       "            <th>Country</th>\n",
       "            <th>CustomerID</th>\n",
       "        </tr>\n",
       "    </thead>\n",
       "    <tbody>\n",
       "    </tbody>\n",
       "</table>"
      ],
      "text/plain": [
       "+---------+------------+\n",
       "| Country | CustomerID |\n",
       "+---------+------------+\n",
       "+---------+------------+"
      ]
     },
     "execution_count": 37,
     "metadata": {},
     "output_type": "execute_result"
    }
   ],
   "source": [
    "%%sql\n",
    "SELECT *\n",
    "FROM country_ids"
   ]
  },
  {
   "cell_type": "code",
   "execution_count": null,
   "id": "17b4908f-a156-4036-be3a-03458981b104",
   "metadata": {},
   "outputs": [],
   "source": []
  }
 ],
 "metadata": {
  "kernelspec": {
   "display_name": "Python [conda env:base] *",
   "language": "python",
   "name": "conda-base-py"
  },
  "language_info": {
   "codemirror_mode": {
    "name": "ipython",
    "version": 3
   },
   "file_extension": ".py",
   "mimetype": "text/x-python",
   "name": "python",
   "nbconvert_exporter": "python",
   "pygments_lexer": "ipython3",
   "version": "3.12.8"
  }
 },
 "nbformat": 4,
 "nbformat_minor": 5
}
