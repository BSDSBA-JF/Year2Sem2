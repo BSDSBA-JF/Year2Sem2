{
 "cells": [
  {
   "cell_type": "code",
   "execution_count": 22,
   "id": "6ed15ffe-974b-4d7a-b0e1-819224aec4cc",
   "metadata": {
    "execution": {
     "iopub.execute_input": "2025-02-08T23:45:21.800447Z",
     "iopub.status.busy": "2025-02-08T23:45:21.799757Z",
     "iopub.status.idle": "2025-02-08T23:45:21.807451Z",
     "shell.execute_reply": "2025-02-08T23:45:21.805784Z",
     "shell.execute_reply.started": "2025-02-08T23:45:21.800389Z"
    }
   },
   "outputs": [],
   "source": [
    "import sqlite3"
   ]
  },
  {
   "cell_type": "markdown",
   "id": "9b76a768-38ea-48f9-b8fa-fa9e6fab32a0",
   "metadata": {},
   "source": [
    "- `sqlite3`:  \n",
    "    - An embedded, server-less relational **database management** system\n",
    "    - Used to create a database, define tables, insert and change rows, run queries and manage an SQLite database file\n"
   ]
  },
  {
   "cell_type": "code",
   "execution_count": 23,
   "id": "9bcb1c55-f222-4008-ad34-068e57a205e0",
   "metadata": {
    "execution": {
     "iopub.execute_input": "2025-02-08T23:45:23.709566Z",
     "iopub.status.busy": "2025-02-08T23:45:23.708870Z",
     "iopub.status.idle": "2025-02-08T23:45:23.716933Z",
     "shell.execute_reply": "2025-02-08T23:45:23.715504Z",
     "shell.execute_reply.started": "2025-02-08T23:45:23.709507Z"
    }
   },
   "outputs": [],
   "source": [
    "conn = sqlite3.connect(':memory:')"
   ]
  },
  {
   "cell_type": "markdown",
   "id": "b210a4ff-ec24-42dc-8bfb-22d43dae2b74",
   "metadata": {},
   "source": [
    "`sqlite3.connect(':memory:')`:  \n",
    "- Creates a temporary **in-memory** database that resides in RAM rather than being stored on disk\n",
    "- **No physical `.db` file** is created."
   ]
  },
  {
   "cell_type": "code",
   "execution_count": 24,
   "id": "31337668-e4de-4a6b-8cf7-970fe8e01526",
   "metadata": {
    "execution": {
     "iopub.execute_input": "2025-02-08T23:45:24.424655Z",
     "iopub.status.busy": "2025-02-08T23:45:24.423973Z",
     "iopub.status.idle": "2025-02-08T23:45:24.432237Z",
     "shell.execute_reply": "2025-02-08T23:45:24.430423Z",
     "shell.execute_reply.started": "2025-02-08T23:45:24.424598Z"
    }
   },
   "outputs": [],
   "source": [
    "conn = sqlite3.connect('sample.sqlite')"
   ]
  },
  {
   "cell_type": "markdown",
   "id": "130e3ac6-6ddf-4141-94d0-4f0a344a35a1",
   "metadata": {},
   "source": [
    "`sqlite3.connect('sample.sqlite')`:\n",
    "- **Connects to** an SQLite database file named `sample.sqlite`\n",
    "- If the file **already exists**, it will open the *existing database*\n",
    "- If the file **does not exist**, SQLite **creates a new file** automatically"
   ]
  },
  {
   "cell_type": "code",
   "execution_count": 16,
   "id": "17851c8f-11f0-4e7f-a603-119c3dcd79f7",
   "metadata": {
    "execution": {
     "iopub.execute_input": "2025-02-08T23:34:20.995153Z",
     "iopub.status.busy": "2025-02-08T23:34:20.994458Z",
     "iopub.status.idle": "2025-02-08T23:34:21.002406Z",
     "shell.execute_reply": "2025-02-08T23:34:21.000738Z",
     "shell.execute_reply.started": "2025-02-08T23:34:20.995095Z"
    }
   },
   "outputs": [],
   "source": [
    "conn.close()"
   ]
  },
  {
   "cell_type": "markdown",
   "id": "e0305af0-6c9d-4d67-a9fb-151330859202",
   "metadata": {},
   "source": [
    "`conn.close()`:\n",
    "- When you connect to an SQLite database using `sqlite3.connect()`, the connection **uses system resources** (e.g., memory, file handles)\n",
    "- `conn.close()` **frees up** these resources\n",
    "- **Changes** can be saved using `conn.commit()`"
   ]
  },
  {
   "cell_type": "code",
   "execution_count": 17,
   "id": "697667b3-8376-43d9-bd8c-653ff8d44992",
   "metadata": {
    "execution": {
     "iopub.execute_input": "2025-02-08T23:34:21.523729Z",
     "iopub.status.busy": "2025-02-08T23:34:21.523053Z",
     "iopub.status.idle": "2025-02-08T23:34:21.531107Z",
     "shell.execute_reply": "2025-02-08T23:34:21.529700Z",
     "shell.execute_reply.started": "2025-02-08T23:34:21.523672Z"
    }
   },
   "outputs": [],
   "source": [
    "with sqlite3.connect('sample.sqlite') as conn:\n",
    "    pass"
   ]
  },
  {
   "cell_type": "markdown",
   "id": "1dee6824-b1b2-42a5-a78c-355c62bd5aae",
   "metadata": {},
   "source": [
    "`sqlite3.connect('sample.sqlite')`:\n",
    "- Opens (or creates) a database file called sample.sqlite.\n",
    "- If the file **doesn't exist**, SQLite automatically creates it.\n",
    "\n",
    "`with` **Statement (Context Manager)**:\n",
    "- The with statement ensures that:\n",
    "    - The connection is **properly closed** when exiting the block.\n",
    "    - If any **changes** (like `INSERT`, `UPDATE`, `DELETE`) were made inside the block, **they are automatically committed**.\n",
    "    - If an **error occurs**, the connection **rolls back** changes.\n",
    "    \n",
    "`pass`:\n",
    "- This is a **placeholder** that does nothing.\n",
    "- The connection opens but **no operations are performed**."
   ]
  },
  {
   "cell_type": "code",
   "execution_count": 18,
   "id": "08b13b7f-d078-41c1-9b78-14b9400c0634",
   "metadata": {
    "execution": {
     "iopub.execute_input": "2025-02-08T23:34:21.914323Z",
     "iopub.status.busy": "2025-02-08T23:34:21.913670Z",
     "iopub.status.idle": "2025-02-08T23:34:21.921542Z",
     "shell.execute_reply": "2025-02-08T23:34:21.919893Z",
     "shell.execute_reply.started": "2025-02-08T23:34:21.914267Z"
    }
   },
   "outputs": [],
   "source": [
    "conn = sqlite3.connect(':memory:')"
   ]
  },
  {
   "cell_type": "markdown",
   "id": "3353de0d-e17b-40a4-a136-5b4a0a1528e6",
   "metadata": {},
   "source": [
    "- Same as code above"
   ]
  },
  {
   "cell_type": "code",
   "execution_count": 25,
   "id": "c14f213a-a1db-4848-9113-07a8a1f58da0",
   "metadata": {
    "execution": {
     "iopub.execute_input": "2025-02-08T23:45:29.495903Z",
     "iopub.status.busy": "2025-02-08T23:45:29.495209Z",
     "iopub.status.idle": "2025-02-08T23:45:29.502707Z",
     "shell.execute_reply": "2025-02-08T23:45:29.501280Z",
     "shell.execute_reply.started": "2025-02-08T23:45:29.495848Z"
    }
   },
   "outputs": [],
   "source": [
    "cursor = conn.cursor()"
   ]
  },
  {
   "cell_type": "markdown",
   "id": "91431472-c46b-4220-a8ec-ed6183ba3cb1",
   "metadata": {},
   "source": [
    "`conn.cursor()`:  \n",
    "- This method creates a **cursor object**.\n",
    "- The cursor allows interaction with the database:  \n",
    "    ✅ Running **SQL queries** (`SELECT`, `INSERT`, `UPDATE`, `DELETE`, etc.).  \n",
    "    ✅ Fetching results from a **query**.\n",
    "\n",
    "Assigning to `cursor`  \n",
    "- The cursor object is stored in the variable `cursor`.\n",
    "- You can now use `cursor.execute(...)` to send SQL commands.\n"
   ]
  },
  {
   "cell_type": "markdown",
   "id": "2e206284-1dba-4b6f-93bf-c3068938df32",
   "metadata": {
    "execution": {
     "iopub.execute_input": "2025-01-30T08:40:10.574150Z",
     "iopub.status.busy": "2025-01-30T08:40:10.573471Z",
     "iopub.status.idle": "2025-01-30T08:40:10.592512Z",
     "shell.execute_reply": "2025-01-30T08:40:10.590680Z",
     "shell.execute_reply.started": "2025-01-30T08:40:10.574094Z"
    }
   },
   "source": [
    "cursor.execute(\"\"\"\n",
    "CREATE TABLE mytable (\n",
    "    col1 TEXT,\n",
    "    col2 INTEGER,\n",
    "    col3 REAL,\n",
    "    col4 TEXT\n",
    ");\n",
    "\"\"\")"
   ]
  },
  {
   "attachments": {
    "1da10da9-22d2-49e4-9612-e0aaf0f5d66a.png": {
     "image/png": "[encoded data removed]"
    }
   },
   "cell_type": "markdown",
   "id": "d6aada41-2f78-43ac-8fcb-94a352a1db53",
   "metadata": {},
   "source": [
    "`cursor.execute(...)`\n",
    "- This **executes** the SQL command using the cursor.\n",
    "- It sends the SQL statement to the **SQLite database** to create the table.\n",
    "    \n",
    "`CREATE TABLE mytable`\n",
    "- This **creates a table** named `mytable` if it does not already exist.\n",
    "- **Table structure** will look like this:\n",
    "![image.png](attachment:1da10da9-22d2-49e4-9612-e0aaf0f5d66a.png)"
   ]
  },
  {
   "cell_type": "code",
   "execution_count": 26,
   "id": "1f3db8f1-04b4-482a-a22e-2c4abb567667",
   "metadata": {
    "execution": {
     "iopub.execute_input": "2025-02-08T23:45:32.056338Z",
     "iopub.status.busy": "2025-02-08T23:45:32.055674Z",
     "iopub.status.idle": "2025-02-08T23:45:32.066838Z",
     "shell.execute_reply": "2025-02-08T23:45:32.065788Z",
     "shell.execute_reply.started": "2025-02-08T23:45:32.056283Z"
    }
   },
   "outputs": [
    {
     "name": "stdout",
     "output_type": "stream",
     "text": [
      "(0, 'col1', 'TEXT', 0, None, 0)\n",
      "(1, 'col2', 'INTEGER', 0, None, 0)\n",
      "(2, 'col3', 'REAL', 0, None, 0)\n",
      "(3, 'col4', 'TEXT', 0, None, 0)\n"
     ]
    }
   ],
   "source": [
    "result = conn.execute(\n",
    "    \"\"\"\n",
    "    PRAGMA table_info('mytable')\n",
    "    \"\"\"\n",
    ")\n",
    "for row in result:\n",
    "    print(row)"
   ]
  },
  {
   "attachments": {},
   "cell_type": "markdown",
   "id": "e8c7b214-aa80-4c04-82b6-25fdfe7067cb",
   "metadata": {},
   "source": [
    "`PRAGMA table_info('mytable')`:  \n",
    "- is an SQLite command that returns information about all the **columns** of a given table (`mytable`). \n",
    "\n",
    "`result = conn.execute(...)`:  \n",
    "- runs the query.  \n",
    "    \n",
    "`for row in result: print(row)`:  \n",
    "- iterates through the results and prints each column's metadata."
   ]
  },
  {
   "cell_type": "code",
   "execution_count": 27,
   "id": "ac48090b-c215-4d41-9528-edb1ad4804ef",
   "metadata": {
    "execution": {
     "iopub.execute_input": "2025-02-08T23:45:34.529845Z",
     "iopub.status.busy": "2025-02-08T23:45:34.528680Z",
     "iopub.status.idle": "2025-02-08T23:45:34.541484Z",
     "shell.execute_reply": "2025-02-08T23:45:34.539954Z",
     "shell.execute_reply.started": "2025-02-08T23:45:34.529783Z"
    }
   },
   "outputs": [
    {
     "data": {
      "text/plain": [
       "[(0, 'col1', 'TEXT', 0, None, 0),\n",
       " (1, 'col2', 'INTEGER', 0, None, 0),\n",
       " (2, 'col3', 'REAL', 0, None, 0),\n",
       " (3, 'col4', 'TEXT', 0, None, 0)]"
      ]
     },
     "execution_count": 27,
     "metadata": {},
     "output_type": "execute_result"
    }
   ],
   "source": [
    "result = conn.execute(\n",
    "    \"\"\"\n",
    "    PRAGMA table_info('mytable')\n",
    "    \"\"\"\n",
    ")\n",
    "result.fetchall()"
   ]
  },
  {
   "cell_type": "markdown",
   "id": "f4bcd6fe-7e28-4ded-a3a4-69871ce61c00",
   "metadata": {},
   "source": [
    "`conn.execute(\"\"\" PRAGMA table_info('mytable') \"\"\")`:  \n",
    "- This **executes** the SQLite **PRAGMA** command to get the **schema information** (*=Metadata \"data about data\"*) for the table mytable.\n",
    "- It returns details about all the **columns** in the table.\n",
    "\n",
    "`result.fetchall()`:  \n",
    "- **Fetches all rows** from the result of the `PRAGMA table_info('mytable')` query.\n",
    "- This returns a **list of tuples**, where each tuple represents a **column** in the table.\n"
   ]
  },
  {
   "cell_type": "code",
   "execution_count": 12,
   "id": "d9360e40-947b-4c35-8589-1b5fabcf8796",
   "metadata": {
    "execution": {
     "iopub.execute_input": "2025-01-30T08:49:13.967379Z",
     "iopub.status.busy": "2025-01-30T08:49:13.966671Z",
     "iopub.status.idle": "2025-01-30T08:49:13.980642Z",
     "shell.execute_reply": "2025-01-30T08:49:13.978525Z",
     "shell.execute_reply.started": "2025-01-30T08:49:13.967321Z"
    }
   },
   "outputs": [
    {
     "data": {
      "text/plain": [
       "(0, 'col1', 'TEXT', 0, None, 0)"
      ]
     },
     "execution_count": 12,
     "metadata": {},
     "output_type": "execute_result"
    }
   ],
   "source": [
    "result = conn.execute(\n",
    "    \"\"\"\n",
    "    PRAGMA table_info('mytable')\n",
    "    \"\"\"\n",
    ")\n",
    "result.fetchone()"
   ]
  },
  {
   "attachments": {
    "3833f653-9daf-480c-9456-3702571a7eb5.png": {
     "image/png": "[encoded data removed]"
    }
   },
   "cell_type": "markdown",
   "id": "263754ff-e1ba-4235-a04d-9e4939135292",
   "metadata": {},
   "source": [
    "`conn.execute(\"PRAGMA table_info('mytable')\")`:  \n",
    "- Runs an SQLite **PRAGMA** command to get metadata about the table **\"mytable\"**.\n",
    "- Returns details about all **columns** in the table.\n",
    "    \n",
    "`result.fetchone()`:  \n",
    "- Retrieves **only the first row** from the query result.\n",
    "\n",
    "![image.png](attachment:3833f653-9daf-480c-9456-3702571a7eb5.png)"
   ]
  },
  {
   "cell_type": "code",
   "execution_count": null,
   "id": "1292d1cb-752e-4514-b8d2-9f0c937e6f70",
   "metadata": {
    "execution": {
     "iopub.execute_input": "2025-02-09T01:33:42.490408Z",
     "iopub.status.busy": "2025-02-09T01:33:42.489744Z",
     "iopub.status.idle": "2025-02-09T01:33:42.524657Z",
     "shell.execute_reply": "2025-02-09T01:33:42.523869Z",
     "shell.execute_reply.started": "2025-02-09T01:33:42.490352Z"
    }
   },
   "outputs": [],
   "source": [
    "cursor.execute(\"\"\"\n",
    "CREATE TABLE mytable (\n",
    "    col1 TEXT,\n",
    "    col2 INTEGER,\n",
    "    col3 REAL,\n",
    "    col4 TEXT\n",
    ");\n",
    "\"\"\")"
   ]
  },
  {
   "cell_type": "markdown",
   "id": "fff0fc6d-c0f1-4d40-b600-951c0ad65bc1",
   "metadata": {},
   "source": [
    "- The `cursor.execute(\"\"\"...\"\"\")` function executes the provided SQL statement.\n",
    "- The `CREATE TABLE` statement defines a new table named `\"mytable\"`.\n",
    "- Each column has a specific data type:\n",
    "    - `TEXT`: Stores text values (strings).\n",
    "    - `INTEGER`: Stores whole numbers.\n",
    "    - `REAL`: Stores floating-point numbers.\n",
    "- The semicolon (`;`) marks the end of the SQL command."
   ]
  },
  {
   "cell_type": "code",
   "execution_count": 29,
   "id": "f1fcc760-5820-4145-96f8-2470af9714f8",
   "metadata": {
    "execution": {
     "iopub.execute_input": "2025-02-09T01:33:59.469199Z",
     "iopub.status.busy": "2025-02-09T01:33:59.467448Z",
     "iopub.status.idle": "2025-02-09T01:33:59.480988Z",
     "shell.execute_reply": "2025-02-09T01:33:59.479406Z",
     "shell.execute_reply.started": "2025-02-09T01:33:59.469130Z"
    }
   },
   "outputs": [
    {
     "data": {
      "text/plain": [
       "[]"
      ]
     },
     "execution_count": 29,
     "metadata": {},
     "output_type": "execute_result"
    }
   ],
   "source": [
    "cursor.execute(\"\"\"\n",
    "CREATE TABLE IF NOT EXISTS mytable (\n",
    "    col1 TEXT,\n",
    "    col2 INTEGER,\n",
    "    col3 REAL,\n",
    "    col4 TEXT\n",
    ");\n",
    "\"\"\").fetchall()"
   ]
  },
  {
   "cell_type": "markdown",
   "id": "bf578918-3329-4b68-955f-e0464c924c08",
   "metadata": {},
   "source": [
    "`CREATE TABLE IF NOT EXISTS mytable (...)`:  \n",
    "- This **creates a new table** named `mytable` if it does not already exist.\n",
    "- If `mytable` **already exists**, the statement does **nothing** (prevents an error).\n",
    "\n",
    "`.fetchall()`:  \n",
    "- `.fetchall()` is used to retrieve **query results** (e.g., from `SELECT` statements).\n",
    "- However, `CREATE TABLE` **does not return a result set**, so `.fetchall()` is **unnecessary**."
   ]
  },
  {
   "cell_type": "code",
   "execution_count": 30,
   "id": "c81ecb0d-95bd-42c1-af19-7a2d098aefa3",
   "metadata": {
    "execution": {
     "iopub.execute_input": "2025-02-09T01:34:01.568859Z",
     "iopub.status.busy": "2025-02-09T01:34:01.568142Z",
     "iopub.status.idle": "2025-02-09T01:34:01.581188Z",
     "shell.execute_reply": "2025-02-09T01:34:01.579641Z",
     "shell.execute_reply.started": "2025-02-09T01:34:01.568801Z"
    }
   },
   "outputs": [
    {
     "data": {
      "text/plain": [
       "[(0, 'col1', 'TEXT', 0, None, 0),\n",
       " (1, 'col2', 'INTEGER', 0, None, 0),\n",
       " (2, 'col3', 'REAL', 0, None, 0),\n",
       " (3, 'col4', 'TEXT', 0, None, 0)]"
      ]
     },
     "execution_count": 30,
     "metadata": {},
     "output_type": "execute_result"
    }
   ],
   "source": [
    "result = conn.execute(\n",
    "    \"\"\"\n",
    "    PRAGMA table_info('mytable')\n",
    "    \"\"\"\n",
    ")\n",
    "result.fetchall()"
   ]
  },
  {
   "cell_type": "code",
   "execution_count": 22,
   "id": "908bb558-f478-4f4a-aaa5-5079cce91a9c",
   "metadata": {
    "execution": {
     "iopub.execute_input": "2025-01-30T08:54:30.357769Z",
     "iopub.status.busy": "2025-01-30T08:54:30.357036Z",
     "iopub.status.idle": "2025-01-30T08:54:30.368144Z",
     "shell.execute_reply": "2025-01-30T08:54:30.366484Z",
     "shell.execute_reply.started": "2025-01-30T08:54:30.357709Z"
    }
   },
   "outputs": [
    {
     "data": {
      "text/plain": [
       "<sqlite3.Cursor at 0x76585035e240>"
      ]
     },
     "execution_count": 22,
     "metadata": {},
     "output_type": "execute_result"
    }
   ],
   "source": [
    "cursor.execute(\"\"\"\n",
    "CREATE TABLE IF NOT EXISTS mytable2 (\n",
    "    col1 TEXT NOT NULL,\n",
    "    col2 INTEGER NOT NULL UNIQUE,\n",
    "    col3 REAL,\n",
    "    col4 TEXT UNIQUE\n",
    ");\n",
    "\"\"\")"
   ]
  },
  {
   "cell_type": "markdown",
   "id": "fb54f883-d9e6-4a5e-b6a7-5f99f3a7f7b8",
   "metadata": {},
   "source": [
    "`CREATE TABLE IF NOT EXISTS mytable2 (...)`:  \n",
    "- This **creates a new table** named `mytable2` **if it does not already exist**.\n",
    "- If `mytable2` **already exists**, the command does **nothing** (prevents an error)."
   ]
  },
  {
   "cell_type": "code",
   "execution_count": 24,
   "id": "0a4f11d3-35c4-4f79-881f-01ba815599af",
   "metadata": {
    "execution": {
     "iopub.execute_input": "2025-01-30T08:54:56.172059Z",
     "iopub.status.busy": "2025-01-30T08:54:56.171393Z",
     "iopub.status.idle": "2025-01-30T08:54:56.186772Z",
     "shell.execute_reply": "2025-01-30T08:54:56.185588Z",
     "shell.execute_reply.started": "2025-01-30T08:54:56.172002Z"
    }
   },
   "outputs": [
    {
     "data": {
      "text/plain": [
       "[(0, 'col1', 'TEXT', 1, None, 0),\n",
       " (1, 'col2', 'INTEGER', 1, None, 0),\n",
       " (2, 'col3', 'REAL', 0, None, 0),\n",
       " (3, 'col4', 'TEXT', 0, None, 0)]"
      ]
     },
     "execution_count": 24,
     "metadata": {},
     "output_type": "execute_result"
    }
   ],
   "source": [
    "cursor.execute(\"\"\"\n",
    "PRAGMA table_info('mytable2')\n",
    "\"\"\").fetchall()"
   ]
  },
  {
   "cell_type": "code",
   "execution_count": 31,
   "id": "c3a63441-1ca9-4ee6-9074-512324b39d54",
   "metadata": {
    "execution": {
     "iopub.execute_input": "2025-02-09T01:34:05.913800Z",
     "iopub.status.busy": "2025-02-09T01:34:05.913070Z",
     "iopub.status.idle": "2025-02-09T01:34:05.924150Z",
     "shell.execute_reply": "2025-02-09T01:34:05.923200Z",
     "shell.execute_reply.started": "2025-02-09T01:34:05.913742Z"
    }
   },
   "outputs": [
    {
     "data": {
      "text/plain": [
       "<sqlite3.Cursor at 0x770580051ec0>"
      ]
     },
     "execution_count": 31,
     "metadata": {},
     "output_type": "execute_result"
    }
   ],
   "source": [
    "cursor.executescript(\n",
    "    \"\"\"\n",
    "    CREATE TABLE IF NOT EXISTS mytable2 (\n",
    "        col1 TEXT NOT NULL,\n",
    "        col2 TEXT,\n",
    "        col3 INTEGER UNIQUE,\n",
    "        col4 REAL NOT NULL UNIQUE\n",
    "    );\n",
    "    \n",
    "    CREATE TABLE IF NOT EXISTS mytable2 (\n",
    "        col1 TEXT NOT NULL,\n",
    "        col2 TEXT,\n",
    "        col3 INTEGER UNIQUE,\n",
    "        col4 REAL NOT NULL UNIQUE\n",
    "    );\n",
    "    \"\"\"\n",
    ")"
   ]
  },
  {
   "attachments": {
    "86abde21-b4bb-4a7e-81b4-cce27209df94.png": {
     "image/png": "[encoded data removed]"
    }
   },
   "cell_type": "markdown",
   "id": "9cfbde3f-5595-4f3d-88d1-74dcaefc6aa1",
   "metadata": {},
   "source": [
    "1️⃣` executescript()`:  \n",
    "- This method allows **executing multiple SQL commands** in a single call.\n",
    "- Unlike `execute()`, it does **not support parameterized queries**. \n",
    "    \n",
    "2️⃣ `CREATE TABLE IF NOT EXISTS mytable2 (...)`:  \n",
    "- **Creates a table named** `mytable2` **only if it does not exist**.\n",
    "The second identical `CREATE TABLE` statement has **no effect** because the table already exists.\n",
    "\n",
    "![image.png](attachment:86abde21-b4bb-4a7e-81b4-cce27209df94.png)\n",
    "\n",
    "`UNIQUE` means **no duplicate values** in a column"
   ]
  }
 ],
 "metadata": {
  "kernelspec": {
   "display_name": "Python [conda env:base] *",
   "language": "python",
   "name": "conda-base-py"
  },
  "language_info": {
   "codemirror_mode": {
    "name": "ipython",
    "version": 3
   },
   "file_extension": ".py",
   "mimetype": "text/x-python",
   "name": "python",
   "nbconvert_exporter": "python",
   "pygments_lexer": "ipython3",
   "version": "3.12.8"
  }
 },
 "nbformat": 4,
 "nbformat_minor": 5
}
